{
 "cells": [
  {
   "cell_type": "code",
   "execution_count": 1,
   "metadata": {
    "collapsed": true
   },
   "outputs": [],
   "source": [
    "import networkx as nx\n",
    "import matplotlib.pyplot as plt\n",
    "import urllib.request\n",
    "import gzip\n",
    "from collections import defaultdict, Counter\n",
    "import pandas as pd\n",
    "import csv\n",
    "import requests\n",
    "import itertools\n",
    "import numpy as np\n",
    "import json\n",
    "import random as rd\n",
    "import math\n",
    "import pickle as pk\n",
    "\n",
    "import plotly.graph_objects as go\n",
    "from plotly.offline import init_notebook_mode, iplot"
   ]
  },
  {
   "attachments": {},
   "cell_type": "markdown",
   "metadata": {},
   "source": [
    "### Network generation and edge-filtering techniques\n",
    "\n",
    "\n",
    "In this notebook, we will be on exploring different techniques for edge filtering and community detection in networks, as well as introducing additional layout options for visualizing networks effectively.\n",
    "\n",
    "We will walk through three popular approaches for edge filtering in networks. By applying these techniques, we can highlight or remove specific edges based on various criteria, leading to a refined and focused network representation.\n"
   ]
  },
  {
   "attachments": {},
   "cell_type": "markdown",
   "metadata": {},
   "source": [
    "### Human Protein Atlas data\n",
    "\n",
    "The Human Protein Atlas is a comprehensive resouce mapping proteins in cells, tissues, and organs through the whole range of -omics data.\n",
    "\n",
    "Today we will use the \"Tissue\" section which provides the protein expression profiles in 44 different human tissues based on immunohistochemistry data.\n",
    "\n",
    "The tab separated file includes several columns:\n",
    "1. **Gene** -- the Ensembl gene identifier\n",
    "2. **Tissue** -- the name of the tissue\n",
    "3. **Cell type** -- the annotated cell type.\n",
    "4. **Level** -- the expression level\n",
    "5. **Reliability** -- the confidence of value in the \"Level\" column.\n",
    "\n",
    "The data is based on The Human Protein Atlas version 22.0 and Ensembl version 103.38.\n",
    "\n",
    "(source file 'normal_tissue.tsv' can be downloaded here: `www.proteinatlas.org/about/download`)"
   ]
  },
  {
   "cell_type": "code",
   "execution_count": 2,
   "metadata": {},
   "outputs": [
    {
     "name": "stdout",
     "output_type": "stream",
     "text": [
      "# rows:  1194479\n",
      "# rows after filtering:  516276\n",
      "There are 63 different tissues and 143 different cell types remaining after filtering.\n"
     ]
    }
   ],
   "source": [
    "# Define the URL path where the file is located\n",
    "path = 'https://www.proteinatlas.org/download/'\n",
    "\n",
    "# Download and convert the data file into a DataFrame\n",
    "data = pd.read_csv(path + 'normal_tissue.tsv.zip', sep='\\t', compression='zip')\n",
    "# Extract the 'Gene name' column values as gene symbols\n",
    "gene_symbols = data['Gene name'].values\n",
    "\n",
    "# Print the number of rows in the gene_symbols array\n",
    "print('#total rows:', len(gene_symbols))\n",
    "\n",
    "# Filter out rows where 'Reliability' is 'Uncertain'\n",
    "data = data[data['Reliability'] != 'Uncertain']\n",
    "# Define the values to exclude from the 'Level' column\n",
    "exclude_values = [float('nan'), 'Not representative', 'Not detected']\n",
    "# Filter out rows with excluded values in the 'Level' column\n",
    "data = data[~data['Level'].isin(exclude_values)]\n",
    "\n",
    "\n",
    "# Update variables with filtered column values\n",
    "gene_symbols = data['Gene name'].values\n",
    "tissue = data['Tissue'].values\n",
    "celltype = data['Cell type'].values\n",
    "explevel = data['Level'].values\n",
    "reliab = data['Reliability'].values\n",
    "\n",
    "# Print the number of rows after filtering and the count of unique tissues and cell types\n",
    "print('# rows after filtering:', len(gene_symbols))\n",
    "print('There are %s different tissues and %s different cell types remaining after filtering.' %\n",
    "      (len(set(tissue)), len(set(celltype))))\n",
    "\n",
    "# Create a dictionary to connect gene names with cell types\n",
    "gene_celltype_dict = data.groupby('Gene name')['Cell type'].apply(list).to_dict()\n",
    "# Create a dictionary where each gene name is associated with a set of unique cell types\n",
    "gene_celltypeunique_dict = {k: set(v) for k, v in gene_celltype_dict.items()}\n",
    "\n",
    "# Create a dictionary to connect cell types with genes\n",
    "celltype_genes_dict = defaultdict(list)\n",
    "for gene, celltypes in gene_celltypeunique_dict.items():\n",
    "    for ct in celltypes:\n",
    "        celltype_genes_dict[ct].append(gene)\n",
    "\n",
    "# Create a dictionary where each cell type is associated with a set of unique genes\n",
    "celltype_genesunique_dict = {k: set(v) for k, v in celltype_genes_dict.items()}\n",
    "# Create a dictionary to connect cell types with tissues\n",
    "celltype_tissue_dict = data.groupby('Cell type')['Tissue'].apply(list).to_dict()\n",
    "# Create a dictionary where each cell type is associated with a set of unique tissues\n",
    "celltype_tissueunique_dict = {k: set(v) for k, v in celltype_tissue_dict.items()}\n"
   ]
  },
  {
   "attachments": {},
   "cell_type": "markdown",
   "metadata": {},
   "source": [
    "### Functions for preprocessing "
   ]
  },
  {
   "cell_type": "code",
   "execution_count": 3,
   "metadata": {},
   "outputs": [],
   "source": [
    "def jaccard_index(set1, set2):\n",
    "    \"\"\"\n",
    "    Calculates the Jaccard index between two sets.\n",
    "    The Jaccard index measures the similarity between two sets of genes\n",
    "    by dividing the size of their intersection by the size of their union.\n",
    "\n",
    "    Returns:\n",
    "        float: The Jaccard index value, which represents the similarity between the two sets.\n",
    "    \"\"\"\n",
    "\n",
    "    intersection = len(set1.intersection(set2))\n",
    "    union = len(set1.union(set2))\n",
    "    jaccard_index = intersection / union if union != 0 else 0\n",
    "    return jaccard_index\n",
    "\n",
    "\n",
    "def remove_low_ranked_edges(network, ranking_dict):\n",
    "    \"\"\"\n",
    "    Filter procedure \n",
    "    Filters edges of a given network based on a dictionary \n",
    "    (ranking_dict) which contains edges with a score/weight\n",
    "    The edge-removal stops at the breaking point of the network \n",
    "    -> number of components > 1. \n",
    "\n",
    "    Returns:\n",
    "        nx.Graph: new network with a minimal set of edges\n",
    "    \"\"\"\n",
    "\n",
    "    # Sort edges based on the ranking score in ascending order\n",
    "    sorted_edges = sorted(ranking_dict.items(), key=lambda x: x[1])\n",
    "\n",
    "    # Create a copy of the original network\n",
    "    updated_network = network.copy()\n",
    "\n",
    "    # Iterate through the sorted edges and remove low-ranked edges until the network becomes disconnected\n",
    "    for edge, _ in sorted_edges:\n",
    "        updated_network.remove_edge(*edge)  # Remove the edge from the network\n",
    "\n",
    "        # Check if the network becomes disconnected\n",
    "        if not nx.is_connected(updated_network):\n",
    "            updated_network.add_edge(*edge)  # Add the edge back\n",
    "        else:\n",
    "            network = updated_network.copy()  # Update the network\n",
    "\n",
    "    return updated_network\n",
    "\n",
    "\n",
    "def make_json(name, network, positions, node_color = '#40b9d4', link_color = '#999999', annotations = 'None', communities = 'None'): \n",
    "    \"\"\"\n",
    "    Generates a JSON file from a given network graph using the specified parameters.\n",
    "\n",
    "    Args:\n",
    "        name (str, optional): Name of the graph.\n",
    "        network (networkx.Graph): Network graph object.\n",
    "        positions (dict): Dictionary mapping node IDs to their positions.\n",
    "        node_color (dict): Dictionary mapping node IDs to their (hex-)colors.\n",
    "        link_color (str or dict): (Hex-)color value for all links in the graph or dict with node tuple as key and hex color as value.\n",
    "        communities (dict): 'None' for no communities (default) or dictionary mapping node IDs to their corresponding community ID.  \n",
    "        annotations (dict): Dictionary mapping node IDs to a list of annotations.\n",
    "\n",
    "    Returns:\n",
    "        None\n",
    "\n",
    "    \"\"\"\n",
    "\n",
    "    # --------------------------\n",
    "    # Generate VR GRAPH \n",
    "    # --------------------------\n",
    "    GVR = nx.Graph()\n",
    "    GVR.graph['name'] = name\n",
    "\n",
    "    # --------------------------------------\n",
    "    # LOOKUP FOR NODE NAMES INTO IDs and vv\n",
    "    # --------------------------------------\n",
    "    d_idx_node = {}\n",
    "    d_node_idx = {}\n",
    "    for i, node in enumerate(sorted(network.nodes())):\n",
    "        d_idx_node[i] = node\n",
    "        d_node_idx[node] = i\n",
    "    GVR.add_nodes_from(d_idx_node.keys())\n",
    "\n",
    "    for edge in network.edges()(data=True):\n",
    "        GVR.add_edge(d_node_idx[edge[0]],d_node_idx[edge[1]])\n",
    "\n",
    "    # --------------------------\n",
    "    # POS \n",
    "    # --------------------------\n",
    "    if isinstance(positions[next(iter(positions))], list):\n",
    "        pass\n",
    "    else:\n",
    "        for key in positions:\n",
    "            positions[key] = positions[key].tolist()\n",
    "\n",
    "    posG = {d_node_idx[node]: list(xyz) for node, xyz in positions.items()}\n",
    "    nx.set_node_attributes(GVR, posG, name=\"pos\")\n",
    "\n",
    "    # # --------------------------\n",
    "    # # CLUSTER \n",
    "    # # --------------------------\n",
    "    if communities == 'None':\n",
    "        d_VRids_cluster = dict(zip(d_idx_node.keys(), [0 for _ in d_idx_node.keys()]))\n",
    "    else:\n",
    "        d_VRids_cluster = {d_node_idx[node]: str(cl_id) for node, cl_id in communities.items()}        \n",
    "    nx.set_node_attributes(GVR, d_VRids_cluster, name=\"cluster\")\n",
    "\n",
    "\n",
    "    # --------------------------\n",
    "    # NODE COLOR\n",
    "    # --------------------------\n",
    "    d_node_colors={}\n",
    "\n",
    "    if isinstance(node_color, dict):\n",
    "        for nodeid in GVR.nodes():\n",
    "            d_node_colors[nodeid] = node_color[d_idx_node[nodeid]] \n",
    "    else:\n",
    "        for nodeid in GVR.nodes():\n",
    "            d_node_colors[nodeid] = node_color\n",
    "\n",
    "    nx.set_node_attributes(GVR, d_node_colors, name=\"nodecolor\")\n",
    "\n",
    "    # --------------------------\n",
    "    # LINK COLOR\n",
    "    # --------------------------\n",
    "    if isinstance(link_color, dict):\n",
    "        # for different link colors\n",
    "        d_edge_color = {}\n",
    "        for a,b in GVR.edges():\n",
    "            try:\n",
    "                color = link_color[(d_idx_node[a],d_idx_node[b])]\n",
    "            except KeyError: \n",
    "                color = link_color[(d_idx_node[b],d_idx_node[a])]\n",
    "            d_edge_color[(a,b)] = color\n",
    "    else:\n",
    "        # for unique link colors\n",
    "        d_edge_color = {}\n",
    "        for a,b in GVR.edges():\n",
    "            d_edge_color[(a,b)] = link_color\n",
    "\n",
    "    nx.set_edge_attributes(GVR, d_edge_color, name=\"linkcolor\")\n",
    "\n",
    "    # --------------------------\n",
    "    # NODE ANNOTATION\n",
    "    # --------------------------\n",
    "    if isinstance(annotations, dict):\n",
    "\n",
    "        l_annotations = [[str(d_idx_node[nodeid])] + [ annotation for annotation in annotations[d_idx_node[nodeid]]] for nodeid in sorted(GVR.nodes())]\n",
    "        d_annotations = dict(zip(sorted(GVR.nodes()), l_annotations))\n",
    "    else:\n",
    "        d_annotations = {nodeid: [str(d_idx_node[nodeid])] for nodeid in GVR.nodes()}\n",
    "\n",
    "    nx.set_node_attributes(GVR, d_annotations, name=\"annotation\")\n",
    "\n",
    "    # --------------------------\n",
    "    # MAKE JSON fo uploader\n",
    "    # --------------------------\n",
    "\n",
    "    G_json = json.dumps(nx.node_link_data(GVR))\n",
    "\n",
    "    with open(GVR.name+\".json\", \"w\") as outfile:\n",
    "        outfile.write(G_json)\n",
    "\n",
    "\n",
    "\n",
    "def plotly_preview(G, pos, node_colors=None, edge_colors=None):\n",
    "\n",
    "    \"\"\"\n",
    "    Generate a 3D network visualization using Plotly.\n",
    "\n",
    "    Parameters:\n",
    "        - G (networkx.Graph): The graph object representing the network.\n",
    "        - pos3D (dict): A dictionary mapping each node to its 3D coordinates (x, y, z).\n",
    "        - node_colors (dict, optional): A dictionary mapping nodes to custom hex colors.\n",
    "                                        If not provided, the default color is '#40b9d4'.\n",
    "        - edge_colors (dict, optional): A dictionary mapping edges to custom hex colors.\n",
    "                                        If not provided, the default color is 'gray'.\n",
    "\n",
    "    Output:\n",
    "        - An HTML file named 'network_visualization.html' is generated, which opens in a web browser.\n",
    "\n",
    "    Example usage:\n",
    "        node_colors = {1: '#ff0000', 2: '#00ff00', 3: '#0000ff'}\n",
    "        edge_colors = {(1, 2): '#ff00ff', (2, 3): '#ffff00'}\n",
    "        pos = nx.spring_layout(G,dim=3)\n",
    "        plotly_review_2(G, pos, node_colors, edge_colors)\n",
    "    \"\"\"\n",
    "\n",
    "    # Create a Plotly figure\n",
    "    fig = go.Figure()\n",
    "\n",
    "    # Add nodes to the figure\n",
    "    for node in G.nodes():\n",
    "        x, y, z = pos[node]\n",
    "        color = node_colors[node] if node_colors and node in node_colors else '#40b9d4'\n",
    "        fig.add_trace(go.Scatter3d(\n",
    "            x=[x],\n",
    "            y=[y],\n",
    "            z=[z],\n",
    "            mode='markers',\n",
    "            marker=dict(\n",
    "                size=5,\n",
    "                color=color,\n",
    "            ),\n",
    "            name=str(node),\n",
    "            text=str(node),\n",
    "            hovertemplate=None,\n",
    "        ))\n",
    "\n",
    "    # Add edges to the figure\n",
    "    for edge in G.edges():\n",
    "        x0, y0, z0 = pos[edge[0]]\n",
    "        x1, y1, z1 = pos[edge[1]]\n",
    "        edge_color = edge_colors[edge] if edge_colors and edge in edge_colors else 'gray'\n",
    "        fig.add_trace(go.Scatter3d(\n",
    "            x=[x0, x1],\n",
    "            y=[y0, y1],\n",
    "            z=[z0, z1],\n",
    "            mode='lines',\n",
    "            line=dict(\n",
    "                color=edge_color,\n",
    "                width=1,\n",
    "            ),\n",
    "            hoverinfo='none',\n",
    "        ))\n",
    "\n",
    "    # Set layout options\n",
    "    fig.update_layout(\n",
    "        scene=dict(\n",
    "            xaxis=dict(visible=False),\n",
    "            yaxis=dict(visible=False),\n",
    "            zaxis=dict(visible=False),\n",
    "        ),\n",
    "        showlegend=False,\n",
    "        hovermode='closest',\n",
    "        margin=dict(l=0, r=0, b=0, t=0),\n",
    "    )\n",
    "\n",
    "    # # Save the figure as an HTML file\n",
    "    # fig.write_html('network_preview.html', auto_open=True)\n",
    "\n",
    "    # Display the plot inline in the notebook\n",
    "    iplot(fig)"
   ]
  },
  {
   "attachments": {},
   "cell_type": "markdown",
   "metadata": {},
   "source": [
    "### Cell type expression similarity network\n",
    "\n",
    "Let's build a network where the **nodes** are cell types (ex. neuronal cells, endothelian cells, macrophages, ...) and **links** represent the similarity of genes expressed between two cell types.\n",
    "\n",
    "We use the Jaccard index to assign a number to the similarity between two sets of genes.  The Jaccard index will range from [0,1], where 0 means that there aren't any shared genes, and 1 means all the genes are shared.\n",
    "\n",
    "Later, we can choose a cut-off value to filter edges.  While we can choose a cut off arbitrarily, another way could be by inspecting the distribution of Jaccard indices.\n",
    "\n",
    "At this point, we will just generate the network using all available edges, each with its respective similarity value (no cutoff)."
   ]
  },
  {
   "cell_type": "code",
   "execution_count": 4,
   "metadata": {},
   "outputs": [
    {
     "name": "stdout",
     "output_type": "stream",
     "text": [
      "# nodes:  143\n",
      "# edges:  7948\n",
      "# of connected components:  1\n",
      "network density (# present links divided by all possible links):  0.782822810991825\n"
     ]
    }
   ],
   "source": [
    "pairwise_celltype_combinations = list(itertools.combinations(celltype_genesunique_dict.keys(), 2))\n",
    "sim_cutoff = 0.0\n",
    "\n",
    "G_celltype = nx.Graph()\n",
    "l_sim_scores = []\n",
    "for t1, t2 in pairwise_celltype_combinations:\n",
    "    sim_score = jaccard_index(celltype_genesunique_dict[t1],celltype_genesunique_dict[t2])\n",
    "    l_sim_scores.append(sim_score)\n",
    "    if sim_score > sim_cutoff:\n",
    "        G_celltype.add_edge(t1,t2,weight = sim_score)\n",
    "\n",
    "print('# nodes: ', G_celltype.number_of_nodes())\n",
    "print('# edges: ', G_celltype.number_of_edges())\n",
    "print('# of connected components: ', nx.number_connected_components(G_celltype))\n",
    "print('network density (# present links divided by all possible links): ', nx.density(G_celltype))\n",
    "\n",
    "\n",
    "# OPTIONAL:\n",
    "# consider the distribution of jaccard indices \n",
    "# plt.figure(figsize=(5,4))\n",
    "# plt.hist(l_sim_scores, bins='auto', alpha=0.7, rwidth=0.85)\n",
    "# plt.grid(axis='y', alpha=0.75)\n",
    "# plt.xlabel('Jaccard index')\n",
    "# plt.ylabel('Frequency')"
   ]
  },
  {
   "attachments": {},
   "cell_type": "markdown",
   "metadata": {},
   "source": [
    "### Filtering edges\n",
    "\n",
    "#### Edge weights\n",
    "\n",
    "The most obvious approach is to directly consider the weights on the network edges in order to find a criterion that allows us to determine a minimum value for the weights. Below this minimum, all edges would be neglected."
   ]
  },
  {
   "cell_type": "code",
   "execution_count": 14,
   "metadata": {},
   "outputs": [
    {
     "data": {
      "text/plain": [
       "Text(0.32, 2000.0, 'Cutoff value at 0.3')"
      ]
     },
     "execution_count": 14,
     "metadata": {},
     "output_type": "execute_result"
    },
    {
     "data": {
      "image/png": "[encoded data removed]",
      "text/plain": [
       "<Figure size 360x288 with 1 Axes>"
      ]
     },
     "metadata": {
      "needs_background": "light"
     },
     "output_type": "display_data"
    }
   ],
   "source": [
    "\n",
    "# consider the distribution of jaccard indices \n",
    "plt.figure(figsize=(5,4))\n",
    "plt.hist(l_sim_scores, bins='auto', alpha=0.7, rwidth=0.85)\n",
    "plt.grid(axis='y', alpha=0.75)\n",
    "plt.xlabel('Jaccard index')\n",
    "plt.ylabel('Frequency')\n",
    "plt.yscale('log')\n",
    "\n",
    "plt.axvline(x=0.3, color='red')\n",
    "plt.text(0.32, 2e3, 'Cutoff value at 0.3', color='k')"
   ]
  },
  {
   "cell_type": "code",
   "execution_count": 15,
   "metadata": {},
   "outputs": [
    {
     "name": "stdout",
     "output_type": "stream",
     "text": [
      "# nodes:  119\n",
      "# edges:  1085\n",
      "# of connected components:  18\n",
      "network density (# present links divided by all possible links):  0.15453639082751744\n"
     ]
    }
   ],
   "source": [
    "min_weight = 0.3\n",
    "G_filteredweights = nx.Graph()\n",
    "\n",
    "# Iterate over the edges and add edges with weights above the threshold to the filtered graph\n",
    "for u, v, weight in G_celltype.edges.data('weight'):\n",
    "    if weight >= min_weight:\n",
    "        G_filteredweights.add_edge(u, v, weight=weight)\n",
    "\n",
    "print('# nodes: ', G_filteredweights.number_of_nodes())\n",
    "print('# edges: ', G_filteredweights.number_of_edges())\n",
    "print('# of connected components: ', nx.number_connected_components(G_filteredweights))\n",
    "print('network density (# present links divided by all possible links): ', nx.density(G_filteredweights))\n"
   ]
  },
  {
   "attachments": {},
   "cell_type": "markdown",
   "metadata": {},
   "source": [
    "In this specific example, it is evident that the network gets easily fragmented when edges are filtered using the weights directly. \n",
    "\n",
    "It becomes divided into numerous disconnected components, even though the total number of edges remains substantial."
   ]
  },
  {
   "attachments": {},
   "cell_type": "markdown",
   "metadata": {},
   "source": [
    "To avoid early fragmentation one could filter edges based on edge centrality measures. \n",
    "\n",
    "In this case, we utilize the betweenness centrality measure.\n",
    "\n",
    "(`https://networkx.org/documentation/stable/reference/algorithms/generated/networkx.algorithms.centrality.edge_betweenness_centrality.html`)"
   ]
  },
  {
   "cell_type": "code",
   "execution_count": 18,
   "metadata": {},
   "outputs": [
    {
     "data": {
      "image/png": "[encoded data removed]",
      "text/plain": [
       "<Figure size 360x288 with 1 Axes>"
      ]
     },
     "metadata": {
      "needs_background": "light"
     },
     "output_type": "display_data"
    }
   ],
   "source": [
    "# generate dictionary with edges as keys and centrality as value\n",
    "d_edge_btw = dict(nx.edge_betweenness_centrality(G_celltype, weight=sim_score))\n",
    "\n",
    "# optional: consider distribution of betweenness values\n",
    "plt.figure(figsize=(5,4))\n",
    "plt.hist(d_edge_btw.values(), bins='auto', alpha=0.7, rwidth=0.85)\n",
    "plt.grid(axis='y', alpha=0.75)\n",
    "plt.xlabel('edge betweeness')\n",
    "plt.ylabel('Frequency')\n",
    "plt.yscale('log')\n"
   ]
  },
  {
   "attachments": {},
   "cell_type": "markdown",
   "metadata": {},
   "source": [
    "\n",
    "To reach the extreme case, we will progressively filter edges based on this centrality measure until the network approaches the point of fragmentation. \n",
    "\n",
    "As a result, the maximum number of edges will be filtered out, adhering to the fragmentation criterion.\n",
    "\n",
    "This filtering step may take a minute."
   ]
  },
  {
   "cell_type": "code",
   "execution_count": 19,
   "metadata": {},
   "outputs": [
    {
     "name": "stdout",
     "output_type": "stream",
     "text": [
      "# nodes:  143\n",
      "# edges:  142\n",
      "# of connected components:  1\n",
      "network density (# present links divided by all possible links):  0.013986013986013986\n"
     ]
    }
   ],
   "source": [
    "G_celltype_filteredbtw = remove_low_ranked_edges(G_celltype, d_edge_btw)\n",
    "\n",
    "print('# nodes: ', G_celltype_filteredbtw.number_of_nodes())\n",
    "print('# edges: ', G_celltype_filteredbtw.number_of_edges())\n",
    "print('# of connected components: ', nx.number_connected_components(G_celltype_filteredbtw))\n",
    "print('network density (# present links divided by all possible links): ', nx.density(G_celltype_filteredbtw))"
   ]
  },
  {
   "attachments": {},
   "cell_type": "markdown",
   "metadata": {},
   "source": [
    "### basic layout\n",
    "\n",
    "For positioning the nodes in 3D space, we use the spring layout, which is considered the most popular method. \n",
    "\n",
    "However, for larger networks, this approach has certain drawbacks. It often results in a somewhat pointless layout known as \"hairball,\" which is difficult for the human eye to comprehend and tends to obscure structural patterns.\n",
    "\n",
    "We will discuss some other network layouts in the notebook: `protein_atlas_celltypenetwork.ipynb`"
   ]
  },
  {
   "cell_type": "code",
   "execution_count": 20,
   "metadata": {},
   "outputs": [],
   "source": [
    "\n",
    "pos3D_spg = nx.spring_layout(G_celltype_filteredbtw, dim=3, iterations=200)\n",
    "\n",
    "plotly_preview(G_celltype_filteredbtw, pos = pos3D_spg)"
   ]
  },
  {
   "cell_type": "code",
   "execution_count": 140,
   "metadata": {},
   "outputs": [
    {
     "name": "stdout",
     "output_type": "stream",
     "text": [
      "# nodes:  143\n",
      "# edges:  142\n",
      "# of connected components:  1\n",
      "network density (# present links divided by all possible links):  0.013986013986013986\n"
     ]
    }
   ],
   "source": [
    "\n",
    "# Pickle the object\n",
    "# with open('G_celltype_filtered.pkl', 'wb') as file:\n",
    "#     pk.dump(G_celltype_filtered, file)\n",
    "\n",
    "# # Load the pickled object\n",
    "with open('G_celltype_filtered.pkl', 'rb') as file:\n",
    "    G_celltype_filtered = pk.load(file)\n",
    "\n",
    "print('# nodes: ', G_celltype_filtered.number_of_nodes())\n",
    "print('# edges: ', G_celltype_filtered.number_of_edges())\n",
    "print('# of connected components: ', nx.number_connected_components(G_celltype_filtered))\n",
    "print('network density (# present links divided by all possible links): ', nx.density(G_celltype_filtered))\n"
   ]
  },
  {
   "attachments": {},
   "cell_type": "markdown",
   "metadata": {},
   "source": [
    "For larger networks centrality calculation can take lot of cpu time.\n",
    "\n",
    "The disparity filter (or backboning method) is a fast and reliable alternative.\n",
    "\n",
    "(`https://doi.org/10.1073/pnas.08089041`)\n",
    "\n"
   ]
  },
  {
   "cell_type": "code",
   "execution_count": 32,
   "metadata": {},
   "outputs": [],
   "source": [
    "def backbone(G, alpha = 0.05):\n",
    "    \"\"\"\n",
    "    Computes the backbone of a graph based on a disparity condition.\n",
    "    The backbone of a graph is obtained by removing edges that do not satisfy\n",
    "    the disparity condition based on the given alpha value.\n",
    "\n",
    "    Parameters:\n",
    "    - G (networkx.Graph): The input graph.\n",
    "    - alpha (float): The threshold value for the disparity condition.\n",
    "\n",
    "    Returns:\n",
    "    - G_filtered (networkx.Graph): The backbone graph obtained by removing edges\n",
    "      that violate the disparity condition.\n",
    "    \"\"\"\n",
    "\n",
    "    # Calculate nodes' weights\n",
    "    d_node_s = {node: sum(G[node][nn]['weight'] for nn in G.neighbors(node)) for node in G.nodes()}\n",
    "\n",
    "    # Create a new graph for the result\n",
    "    G_filtered = nx.Graph()\n",
    "\n",
    "    # Iterate through edges and test the disparity condition\n",
    "    for a, b in G.edges():\n",
    "        w = G[a][b]['weight']\n",
    "        pa = w / d_node_s[a]\n",
    "        ka = G.degree(a)\n",
    "        alpha1 = pa + (1.0 - pa) ** (ka - 1)\n",
    "        pb = w / d_node_s[b]\n",
    "        kb = G.degree(b)\n",
    "        alpha2 = pb + (1.0 - pb) ** (kb - 1)\n",
    "\n",
    "        if alpha1 < alpha or alpha2 < alpha:\n",
    "            G_filtered.add_edge(a, b, weight=w)\n",
    "\n",
    "    return G_filtered\n"
   ]
  },
  {
   "attachments": {},
   "cell_type": "markdown",
   "metadata": {},
   "source": [
    "This method usually eliminates a few nodes rapidly while keeping the largest connected component intact.\n",
    "\n",
    "To find a suitable value for alpha, we assess the number of removed edges, aiming to maximize it, and compare it to the largest connected component, which should remain unaltered."
   ]
  },
  {
   "cell_type": "code",
   "execution_count": 35,
   "metadata": {},
   "outputs": [
    {
     "data": {
      "image/png": "[encoded data removed]",
      "text/plain": [
       "<Figure size 576x432 with 2 Axes>"
      ]
     },
     "metadata": {
      "needs_background": "light"
     },
     "output_type": "display_data"
    }
   ],
   "source": [
    "l_t = []\n",
    "l_lcc = []\n",
    "l_Nedges = []\n",
    "for alpha in np.arange(.35,.05,-.025):\n",
    "    l_t.append(alpha)\n",
    "    G_bbone = backbone(G_celltype,alpha)\n",
    "    G_lcc_set = max(nx.connected_components(G_bbone), key=len)\n",
    "    l_lcc.append(1.*len(G_lcc_set)/G_celltype.number_of_nodes())\n",
    "    l_Nedges.append(G_bbone.number_of_edges())\n",
    "\n",
    "plt.figure(figsize=(8,6))\n",
    "ax1 = plt.gca()\n",
    "ax2 = ax1.twinx()\n",
    "ax1.plot(l_t,l_Nedges , 'k-')\n",
    "ax2.plot(l_t,l_lcc, 'r-')\n",
    "ax1.set_xlabel('alpha value', fontsize=18)\n",
    "ax2.set_ylabel('fraction of nodes in lcc (red)', fontsize=18)\n",
    "ax1.set_ylabel('# edges (black)', fontsize=18)\n",
    "tick_color_left = 'k'\n",
    "tick_color_right = 'r'\n",
    "ax1.tick_params(axis='both', which='major', colors=tick_color_left,labelsize=16)\n",
    "ax2.tick_params(axis='both', which='major', colors=tick_color_right,labelsize=16)\n",
    "ax1.xaxis.label.set_color(tick_color_left)\n",
    "ax1.yaxis.label.set_color(tick_color_left)\n",
    "ax2.yaxis.label.set_color(tick_color_right)"
   ]
  },
  {
   "cell_type": "code",
   "execution_count": 42,
   "metadata": {},
   "outputs": [
    {
     "name": "stdout",
     "output_type": "stream",
     "text": [
      "# nodes:  136\n",
      "# edges:  1456\n",
      "# of connected components:  1\n",
      "network density (# present links divided by all possible links):  0.15860566448801744\n"
     ]
    }
   ],
   "source": [
    "alpha = 0.15\n",
    "G_bbone = backbone(G_celltype,alpha)\n",
    "\n",
    "print('# nodes: ', G_bbone.number_of_nodes())\n",
    "print('# edges: ', G_bbone.number_of_edges())\n",
    "print('# of connected components: ', nx.number_connected_components(G_bbone))\n",
    "print('network density (# present links divided by all possible links): ', nx.density(G_bbone))"
   ]
  },
  {
   "cell_type": "code",
   "execution_count": 43,
   "metadata": {},
   "outputs": [],
   "source": [
    "pos3D_spg = nx.spring_layout(G_bbone, dim=3, iterations=200)\n",
    "\n",
    "plotly_preview(G_bbone, pos = pos3D_spg)"
   ]
  },
  {
   "cell_type": "code",
   "execution_count": null,
   "metadata": {},
   "outputs": [],
   "source": []
  }
 ],
 "metadata": {
  "interpreter": {
   "hash": "aee8b7b246df8f9039afb4144a1f6fd8d2ca17a180786b69acc140d282b71a49"
  },
  "kernelspec": {
   "display_name": "Python 3.7.0 64-bit",
   "name": "python3"
  },
  "language_info": {
   "codemirror_mode": {
    "name": "ipython",
    "version": 3
   },
   "file_extension": ".py",
   "mimetype": "text/x-python",
   "name": "python",
   "nbconvert_exporter": "python",
   "pygments_lexer": "ipython3",
   "version": "3.7.0"
  }
 },
 "nbformat": 4,
 "nbformat_minor": 2
}
