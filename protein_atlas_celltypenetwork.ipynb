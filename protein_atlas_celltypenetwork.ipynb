{
 "cells": [
  {
   "cell_type": "code",
   "execution_count": 3,
   "metadata": {
    "collapsed": true
   },
   "outputs": [],
   "source": [
    "import networkx as nx\n",
    "import matplotlib.pyplot as plt\n",
    "import urllib.request\n",
    "import gzip\n",
    "from collections import defaultdict, Counter\n",
    "import pandas as pd\n",
    "import csv\n",
    "import requests\n",
    "import itertools\n",
    "import numpy as np\n",
    "import json\n",
    "import random as rd\n",
    "import math\n",
    "import pickle as pk\n",
    "\n",
    "import plotly.graph_objects as go\n",
    "from plotly.offline import init_notebook_mode, iplot"
   ]
  },
  {
   "attachments": {},
   "cell_type": "markdown",
   "metadata": {},
   "source": [
    "### Network Analysis and Visualization\n",
    "\n",
    "Welcome to the \"Network Analysis and Visualization\" notebook!\n",
    "\n",
    "In this notebook, we will be introducing basic and advanced layout options for visualizing networks effectively. \n",
    "Another way to improve visualization is to color the nodes in an informative way; in this notebook we will also introduce how to color nodes by communities and node annotations.\n",
    "\n",
    "The following key topics will be covered:\n",
    "\n",
    "1. Generate a network from expression profile data, perform edge filtering and run a basic layout algorithm to quickly produce content for VR.\n",
    "\n",
    "2. Community Detection and Node Coloring: Communities are densely interconnected groups of nodes within a network. We will use a well-known algorithm to assign distinct colors to nodes belonging to the same community. This visualization enhancement helps identify cohesive groups and their relationships within the network.\n",
    "\n",
    "3. Advanced Network Layouts: While the traditional force-directed layout (such as the Fruchterman-Reingold algorithm) is commonly used, we will introduce additional layout options that offer different visual perspectives of the network. These layouts can reveal hidden patterns, optimize node placement, or emphasize specific structural characteristics.\n",
    "\n",
    "\n",
    "\n"
   ]
  },
  {
   "attachments": {},
   "cell_type": "markdown",
   "metadata": {},
   "source": [
    "### Human Protein Atlas data\n",
    "\n",
    "The Human Protein Atlas is a comprehensive resouce mapping proteins in cells, tissues, and organs through the whole range of -omics data.\n",
    "\n",
    "Today we will use the \"Tissue\" section which provides the protein expression profiles in 44 different human tissues based on immunohistochemistry data.\n",
    "\n",
    "The tab separated file includes several columns:\n",
    "1. **Gene** -- the Ensembl gene identifier\n",
    "2. **Tissue** -- the name of the tissue\n",
    "3. **Cell type** -- the annotated cell type.\n",
    "4. **Level** -- the expression level\n",
    "5. **Reliability** -- the confidence of value in the \"Level\" column.\n",
    "\n",
    "The data is based on The Human Protein Atlas version 22.0 and Ensembl version 103.38.\n",
    "\n",
    "(source file 'normal_tissue.tsv' can be downloaded here: `www.proteinatlas.org/about/download`)"
   ]
  },
  {
   "cell_type": "code",
   "execution_count": 2,
   "metadata": {},
   "outputs": [
    {
     "name": "stdout",
     "output_type": "stream",
     "text": [
      "# rows:  1197500\n",
      "# rows after filtering:  517598\n",
      "There are 63 different tissues and 143 different cell types remaining after filtering.\n"
     ]
    }
   ],
   "source": [
    "# Define the URL path where the file is located\n",
    "path = 'https://www.proteinatlas.org/download/'\n",
    "\n",
    "# Download and convert the data file into a DataFrame\n",
    "data = pd.read_csv(path + 'normal_tissue.tsv.zip', sep='\\t', compression='zip')\n",
    "# Extract the 'Gene name' column values as gene symbols\n",
    "gene_symbols = data['Gene name'].values\n",
    "\n",
    "# Print the number of rows in the gene_symbols array\n",
    "print('#total rows:', len(gene_symbols))\n",
    "\n",
    "# Filter out rows where 'Reliability' is 'Uncertain'\n",
    "data = data[data['Reliability'] != 'Uncertain']\n",
    "# Define the values to exclude from the 'Level' column\n",
    "exclude_values = [float('nan'), 'Not representative', 'Not detected']\n",
    "# Filter out rows with excluded values in the 'Level' column\n",
    "data = data[~data['Level'].isin(exclude_values)]\n",
    "\n",
    "\n",
    "# Update variables with filtered column values\n",
    "gene_symbols = data['Gene name'].values\n",
    "tissue = data['Tissue'].values\n",
    "celltype = data['Cell type'].values\n",
    "explevel = data['Level'].values\n",
    "reliab = data['Reliability'].values\n",
    "\n",
    "# Print the number of rows after filtering and the count of unique tissues and cell types\n",
    "print('# rows after filtering:', len(gene_symbols))\n",
    "print('There are %s different tissues and %s different cell types remaining after filtering.' %\n",
    "      (len(set(tissue)), len(set(celltype))))\n",
    "\n",
    "# Create a dictionary to connect gene names with cell types\n",
    "gene_celltype_dict = data.groupby('Gene name')['Cell type'].apply(list).to_dict()\n",
    "# Create a dictionary where each gene name is associated with a set of unique cell types\n",
    "gene_celltypeunique_dict = {k: set(v) for k, v in gene_celltype_dict.items()}\n",
    "\n",
    "# Create a dictionary to connect cell types with genes\n",
    "celltype_genes_dict = defaultdict(list)\n",
    "for gene, celltypes in gene_celltypeunique_dict.items():\n",
    "    for ct in celltypes:\n",
    "        celltype_genes_dict[ct].append(gene)\n",
    "\n",
    "# Create a dictionary where each cell type is associated with a set of unique genes\n",
    "celltype_genesunique_dict = {k: set(v) for k, v in celltype_genes_dict.items()}\n",
    "# Create a dictionary to connect cell types with tissues\n",
    "celltype_tissue_dict = data.groupby('Cell type')['Tissue'].apply(list).to_dict()\n",
    "# Create a dictionary where each cell type is associated with a set of unique tissues\n",
    "celltype_tissueunique_dict = {k: set(v) for k, v in celltype_tissue_dict.items()}\n"
   ]
  },
  {
   "attachments": {},
   "cell_type": "markdown",
   "metadata": {},
   "source": [
    "### Functions for preprocessing "
   ]
  },
  {
   "cell_type": "code",
   "execution_count": 13,
   "metadata": {},
   "outputs": [],
   "source": [
    "def jaccard_index(set1, set2):\n",
    "    \"\"\"\n",
    "    Calculates the Jaccard index between two sets.\n",
    "    The Jaccard index measures the similarity between two sets of genes\n",
    "    by dividing the size of their intersection by the size of their union.\n",
    "\n",
    "    Returns:\n",
    "        float: The Jaccard index value, which represents the similarity between the two sets.\n",
    "    \"\"\"\n",
    "\n",
    "    intersection = len(set1.intersection(set2))\n",
    "    union = len(set1.union(set2))\n",
    "    jaccard_index = intersection / union if union != 0 else 0\n",
    "    return jaccard_index\n",
    "\n",
    "\n",
    "def remove_low_ranked_edges(network, ranking_dict):\n",
    "    \"\"\"\n",
    "    Filter procedure \n",
    "    Filters edges of a given network based on a dictionary \n",
    "    (ranking_dict) which contains edges with a score/weight\n",
    "    The edge-removal stops at the breaking point of the network \n",
    "    -> number of components > 1. \n",
    "\n",
    "    Returns:\n",
    "        nx.Graph: new network with a minimal set of edges\n",
    "    \"\"\"\n",
    "\n",
    "    # Sort edges based on the ranking score in ascending order\n",
    "    sorted_edges = sorted(ranking_dict.items(), key=lambda x: x[1])\n",
    "\n",
    "    # Create a copy of the original network\n",
    "    updated_network = network.copy()\n",
    "\n",
    "    # Iterate through the sorted edges and remove low-ranked edges until the network becomes disconnected\n",
    "    for edge, _ in sorted_edges:\n",
    "        updated_network.remove_edge(*edge)  # Remove the edge from the network\n",
    "\n",
    "        # Check if the network becomes disconnected\n",
    "        if not nx.is_connected(updated_network):\n",
    "            updated_network.add_edge(*edge)  # Add the edge back\n",
    "        else:\n",
    "            network = updated_network.copy()  # Update the network\n",
    "\n",
    "    return updated_network\n",
    "\n",
    "\n",
    "def make_json(name, network, positions, node_color = '#40b9d4', link_color = '#999999', annotations = 'None', communities = 'None'): \n",
    "    \"\"\"\n",
    "    Generates a JSON file from a given network graph using the specified parameters.\n",
    "\n",
    "    Args:\n",
    "        name (str, optional): Name of the graph.\n",
    "        network (networkx.Graph): Network graph object.\n",
    "        positions (dict): Dictionary mapping node IDs to their positions.\n",
    "        node_color (dict): Dictionary mapping node IDs to their (hex-)colors.\n",
    "        link_color (str or dict): (Hex-)color value for all links in the graph or dict with node tuple as key and hex color as value.\n",
    "        communities (dict): 'None' for no communities (default) or dictionary mapping node IDs to their corresponding community ID.  \n",
    "        annotations (dict): Dictionary mapping node IDs to a list of annotations.\n",
    "\n",
    "    Returns:\n",
    "        None\n",
    "\n",
    "    \"\"\"\n",
    "\n",
    "    # --------------------------\n",
    "    # Generate VR GRAPH \n",
    "    # --------------------------\n",
    "    GVR = nx.Graph()\n",
    "    GVR.graph['name'] = name\n",
    "\n",
    "    # --------------------------------------\n",
    "    # LOOKUP FOR NODE NAMES INTO IDs and vv\n",
    "    # --------------------------------------\n",
    "    d_idx_node = {}\n",
    "    d_node_idx = {}\n",
    "    for i, node in enumerate(sorted(network.nodes())):\n",
    "        d_idx_node[i] = node\n",
    "        d_node_idx[node] = i\n",
    "    GVR.add_nodes_from(d_idx_node.keys())\n",
    "\n",
    "    for edge in network.edges()(data=True):\n",
    "        GVR.add_edge(d_node_idx[edge[0]],d_node_idx[edge[1]])\n",
    "\n",
    "    # --------------------------\n",
    "    # POS \n",
    "    # --------------------------\n",
    "    if isinstance(positions[next(iter(positions))], list):\n",
    "        pass\n",
    "    else:\n",
    "        for key in positions:\n",
    "            positions[key] = positions[key].tolist()\n",
    "\n",
    "    posG = {d_node_idx[node]: list(xyz) for node, xyz in positions.items()}\n",
    "    nx.set_node_attributes(GVR, posG, name=\"pos\")\n",
    "\n",
    "    # # --------------------------\n",
    "    # # CLUSTER \n",
    "    # # --------------------------\n",
    "    if communities == 'None':\n",
    "        d_VRids_cluster = dict(zip(d_idx_node.keys(), [0 for _ in d_idx_node.keys()]))\n",
    "    else:\n",
    "        d_VRids_cluster = {d_node_idx[node]: str(cl_id) for node, cl_id in communities.items()}        \n",
    "    nx.set_node_attributes(GVR, d_VRids_cluster, name=\"cluster\")\n",
    "\n",
    "\n",
    "    # --------------------------\n",
    "    # NODE COLOR\n",
    "    # --------------------------\n",
    "    d_node_colors={}\n",
    "\n",
    "    if isinstance(node_color, dict):\n",
    "        for nodeid in GVR.nodes():\n",
    "            d_node_colors[nodeid] = node_color[d_idx_node[nodeid]] \n",
    "    else:\n",
    "        for nodeid in GVR.nodes():\n",
    "            d_node_colors[nodeid] = node_color\n",
    "\n",
    "    nx.set_node_attributes(GVR, d_node_colors, name=\"nodecolor\")\n",
    "\n",
    "    # --------------------------\n",
    "    # LINK COLOR\n",
    "    # --------------------------\n",
    "    if isinstance(link_color, dict):\n",
    "        # for different link colors\n",
    "        d_edge_color = {}\n",
    "        for a,b in GVR.edges():\n",
    "            try:\n",
    "                color = link_color[(d_idx_node[a],d_idx_node[b])]\n",
    "            except KeyError: \n",
    "                color = link_color[(d_idx_node[b],d_idx_node[a])]\n",
    "            d_edge_color[(a,b)] = color\n",
    "    else:\n",
    "        # for unique link colors\n",
    "        d_edge_color = {}\n",
    "        for a,b in GVR.edges():\n",
    "            d_edge_color[(a,b)] = link_color\n",
    "\n",
    "    nx.set_edge_attributes(GVR, d_edge_color, name=\"linkcolor\")\n",
    "\n",
    "    # --------------------------\n",
    "    # NODE ANNOTATION\n",
    "    # --------------------------\n",
    "    if isinstance(annotations, dict):\n",
    "\n",
    "        l_annotations = [[str(d_idx_node[nodeid])] + [ annotation for annotation in annotations[d_idx_node[nodeid]]] for nodeid in sorted(GVR.nodes())]\n",
    "        d_annotations = dict(zip(sorted(GVR.nodes()), l_annotations))\n",
    "    else:\n",
    "        d_annotations = {nodeid: [str(d_idx_node[nodeid])] for nodeid in GVR.nodes()}\n",
    "\n",
    "    nx.set_node_attributes(GVR, d_annotations, name=\"annotation\")\n",
    "\n",
    "    # --------------------------\n",
    "    # MAKE JSON fo uploader\n",
    "    # --------------------------\n",
    "\n",
    "    G_json = json.dumps(nx.node_link_data(GVR))\n",
    "\n",
    "    with open(GVR.name+\".json\", \"w\") as outfile:\n",
    "        outfile.write(G_json)\n",
    "\n",
    "\n",
    "\n",
    "def plotly_preview(G, pos, node_colors=None, edge_colors=None):\n",
    "\n",
    "    \"\"\"\n",
    "    Generate a 3D network visualization using Plotly.\n",
    "\n",
    "    Parameters:\n",
    "        - G (networkx.Graph): The graph object representing the network.\n",
    "        - pos3D (dict): A dictionary mapping each node to its 3D coordinates (x, y, z).\n",
    "        - node_colors (dict, optional): A dictionary mapping nodes to custom hex colors.\n",
    "                                        If not provided, the default color is '#40b9d4'.\n",
    "        - edge_colors (dict, optional): A dictionary mapping edges to custom hex colors.\n",
    "                                        If not provided, the default color is 'gray'.\n",
    "\n",
    "    Output:\n",
    "        - An HTML file named 'network_visualization.html' is generated, which opens in a web browser.\n",
    "\n",
    "    Example usage:\n",
    "        node_colors = {1: '#ff0000', 2: '#00ff00', 3: '#0000ff'}\n",
    "        edge_colors = {(1, 2): '#ff00ff', (2, 3): '#ffff00'}\n",
    "        pos = nx.spring_layout(G,dim=3)\n",
    "        plotly_review_2(G, pos, node_colors, edge_colors)\n",
    "    \"\"\"\n",
    "\n",
    "    # Create a Plotly figure\n",
    "    fig = go.Figure()\n",
    "\n",
    "    # Add nodes to the figure\n",
    "    for node in G.nodes():\n",
    "        x, y, z = pos[node]\n",
    "        color = node_colors[node] if node_colors and node in node_colors else '#40b9d4'\n",
    "        fig.add_trace(go.Scatter3d(\n",
    "            x=[x],\n",
    "            y=[y],\n",
    "            z=[z],\n",
    "            mode='markers',\n",
    "            marker=dict(\n",
    "                size=5,\n",
    "                color=color,\n",
    "            ),\n",
    "            name=str(node),\n",
    "            text=str(node),\n",
    "            hovertemplate=None,\n",
    "        ))\n",
    "\n",
    "    # Add edges to the figure\n",
    "    for edge in G.edges():\n",
    "        x0, y0, z0 = pos[edge[0]]\n",
    "        x1, y1, z1 = pos[edge[1]]\n",
    "        edge_color = edge_colors[edge] if edge_colors and edge in edge_colors else 'gray'\n",
    "        fig.add_trace(go.Scatter3d(\n",
    "            x=[x0, x1],\n",
    "            y=[y0, y1],\n",
    "            z=[z0, z1],\n",
    "            mode='lines',\n",
    "            line=dict(\n",
    "                color=edge_color,\n",
    "                width=1,\n",
    "            ),\n",
    "            hoverinfo='none',\n",
    "        ))\n",
    "\n",
    "    # Set layout options\n",
    "    fig.update_layout(\n",
    "        scene=dict(\n",
    "            xaxis=dict(visible=False),\n",
    "            yaxis=dict(visible=False),\n",
    "            zaxis=dict(visible=False),\n",
    "        ),\n",
    "        showlegend=False,\n",
    "        hovermode='closest',\n",
    "        margin=dict(l=0, r=0, b=0, t=0),\n",
    "    )\n",
    "\n",
    "    # # Save the figure as an HTML file\n",
    "    # fig.write_html('network_preview.html', auto_open=True)\n",
    "\n",
    "    # Display the plot inline in the notebook\n",
    "    iplot(fig)"
   ]
  },
  {
   "attachments": {},
   "cell_type": "markdown",
   "metadata": {},
   "source": [
    "### Cell type expression similarity network\n",
    "\n",
    "Let's build a network where the **nodes** are cell types (ex. neuronal cells, endothelian cells, macrophages, ...) and **links** represent the similarity of genes expressed between two cell types.\n",
    "\n",
    "We use the Jaccard index to assign a number to the similarity between two sets of genes.  The Jaccard index will range from [0,1], where 0 means that there aren't any shared genes, and 1 means all the genes are shared.\n",
    "\n",
    "Later, we can choose a cut-off value to filter edges.  While we can choose a cut off arbitrarily, another way could be by inspecting the distribution of Jaccard indices.\n",
    "\n",
    "At this point, we will just generate the network using all available edges, each with its respective similarity value (no cutoff)."
   ]
  },
  {
   "cell_type": "code",
   "execution_count": 14,
   "metadata": {},
   "outputs": [
    {
     "name": "stdout",
     "output_type": "stream",
     "text": [
      "# nodes:  143\n",
      "# edges:  7948\n",
      "# of connected components:  1\n",
      "network density (# present links divided by all possible links):  0.782822810991825\n"
     ]
    }
   ],
   "source": [
    "pairwise_celltype_combinations = list(itertools.combinations(celltype_genesunique_dict.keys(), 2))\n",
    "sim_cutoff = 0.0\n",
    "\n",
    "G_celltype = nx.Graph()\n",
    "l_sim_scores = []\n",
    "for t1, t2 in pairwise_celltype_combinations:\n",
    "    sim_score = jaccard_index(celltype_genesunique_dict[t1],celltype_genesunique_dict[t2])\n",
    "    l_sim_scores.append(sim_score)\n",
    "    if sim_score > sim_cutoff:\n",
    "        G_celltype.add_edge(t1,t2,weight = sim_score)\n",
    "\n",
    "print('# nodes: ', G_celltype.number_of_nodes())\n",
    "print('# edges: ', G_celltype.number_of_edges())\n",
    "print('# of connected components: ', nx.number_connected_components(G_celltype))\n",
    "print('network density (# present links divided by all possible links): ', nx.density(G_celltype))\n"
   ]
  },
  {
   "attachments": {},
   "cell_type": "markdown",
   "metadata": {},
   "source": [
    "### Filtering edges\n",
    "\n",
    "It's often difficult to gain insight from a network that is too dense -- everything is just connected to everything!  In this case, it might be useful to filter some less influencial edges.\n",
    "\n",
    "One possible way to filter edges is based on edge centrality measures.  In the following block we demonstrate this using the betweenness cetnrality measure.\n",
    "\n",
    "https://networkx.org/documentation/stable/reference/algorithms/generated/networkx.algorithms.centrality.edge_betweenness_centrality.html\n",
    "\n",
    "For more filtering techniques please refer to the following notebook: `protein_atlas_celltypenetwork_edgefiltering.ipynb`"
   ]
  },
  {
   "cell_type": "code",
   "execution_count": 40,
   "metadata": {},
   "outputs": [],
   "source": [
    "d_edge_btw = dict(nx.edge_betweenness_centrality(G_celltype, weight=sim_score))\n",
    "\n",
    "# optional: look at the betweenness distribution\n",
    "# plt.figure(figsize=(5,4))\n",
    "# plt.hist(d_edge_btw.values(), bins='auto', alpha=0.7, rwidth=0.85)\n",
    "# plt.grid(axis='y', alpha=0.75)\n",
    "# plt.xlabel('edge betweeness')\n",
    "# plt.ylabel('Frequency')\n",
    "# plt.xscale('log')\n"
   ]
  },
  {
   "attachments": {},
   "cell_type": "markdown",
   "metadata": {},
   "source": [
    "The next filtering step may take a minute or two to compute..."
   ]
  },
  {
   "cell_type": "code",
   "execution_count": 9,
   "metadata": {},
   "outputs": [
    {
     "name": "stdout",
     "output_type": "stream",
     "text": [
      "# nodes:  143\n",
      "# edges:  142\n",
      "# of connected components:  1\n",
      "network density (# present links divided by all possible links):  0.013986013986013986\n"
     ]
    }
   ],
   "source": [
    "G_celltype_filtered = remove_low_ranked_edges(G_celltype, d_edge_btw)\n",
    "\n",
    "print('# nodes: ', G_celltype_filtered.number_of_nodes())\n",
    "print('# edges: ', G_celltype_filtered.number_of_edges())\n",
    "print('# of connected components: ', nx.number_connected_components(G_celltype_filtered))\n",
    "print('network density (# present links divided by all possible links): ', nx.density(G_celltype_filtered))"
   ]
  },
  {
   "attachments": {},
   "cell_type": "markdown",
   "metadata": {},
   "source": [
    "Since generating the filtered version of the network requires some time, it would be advisable to save the result as a pickle for future use."
   ]
  },
  {
   "cell_type": "code",
   "execution_count": 15,
   "metadata": {},
   "outputs": [
    {
     "name": "stdout",
     "output_type": "stream",
     "text": [
      "# nodes:  143\n",
      "# edges:  142\n",
      "# of connected components:  1\n",
      "network density (# present links divided by all possible links):  0.013986013986013986\n"
     ]
    }
   ],
   "source": [
    "### OPTIONAL ###\n",
    "\n",
    "# Pickle the object\n",
    "# with open('G_celltype_filtered.pkl', 'wb') as file:\n",
    "#     pk.dump(G_celltype_filtered, file)\n",
    "\n",
    "# # Load the pickled object\n",
    "with open('G_celltype_filtered.pkl', 'rb') as file:\n",
    "    G_celltype_filtered = pk.load(file)\n",
    "\n",
    "print('# nodes: ', G_celltype_filtered.number_of_nodes())\n",
    "print('# edges: ', G_celltype_filtered.number_of_edges())\n",
    "print('# of connected components: ', nx.number_connected_components(G_celltype_filtered))\n",
    "print('network density (# present links divided by all possible links): ', nx.density(G_celltype_filtered))\n"
   ]
  },
  {
   "attachments": {},
   "cell_type": "markdown",
   "metadata": {},
   "source": [
    "Now we have our network!  The next step for visualizing a network is to assign some positions for the nodes, aka creating a layout.\n",
    "\n",
    "### Basic layout\n",
    "\n",
    "There are a lot of different layout tools.  We will use the ```spring_layout``` which is of the most popular layout method.  \n",
    "\n",
    "However, this approach has some limitations, especially for larger networks -- it often results in a not very helpful \"hairball\".  We'll show you some alternative layouts later!"
   ]
  },
  {
   "cell_type": "code",
   "execution_count": 16,
   "metadata": {},
   "outputs": [],
   "source": [
    "pos3D_rnd = nx.random_layout(G_celltype_filtered, dim=3)\n",
    "\n",
    "pos3D_spg = nx.spring_layout(G_celltype_filtered, dim=3, iterations=200)\n",
    "\n",
    "plotly_preview(G_celltype_filtered, pos = pos3D_spg)"
   ]
  },
  {
   "attachments": {},
   "cell_type": "markdown",
   "metadata": {},
   "source": [
    "### Node annotations\n",
    "\n",
    "The VR platform requires the user to provide the networkx object and the 3D position of nodes.  However, it might also be useful to annotate nodes (i.e. label them).  These annotations can be displayed on the network or searched for from the VR interface.\n",
    "\n",
    "Now we'll annotate each node (a cell type) with the list of tissues in which this cell type appears.  Earlier when importing the data, we created a dictionary ```celltype_tissueunique_dict``` that contains the celltypes (nodes) as keys and the tissues as values.  We can hand the dictionary along with the networkx object and node positions to the ```make_json``` function."
   ]
  },
  {
   "cell_type": "code",
   "execution_count": 17,
   "metadata": {},
   "outputs": [],
   "source": [
    "\n",
    "# JSON files required for the VR uploader\n",
    "# make random layout\n",
    "make_json(name = '01_celltype_rnd', network=G_celltype_filtered, positions=pos3D_rnd, annotations = celltype_tissueunique_dict)\n",
    "# make spring layout\n",
    "make_json(name = '02_celltype_spg', network=G_celltype_filtered, positions=pos3D_spg, annotations = celltype_tissueunique_dict)\n"
   ]
  },
  {
   "attachments": {},
   "cell_type": "markdown",
   "metadata": {},
   "source": [
    "### Communities\n",
    "Another thing we can do to improve our network visualization is to color the nodes in an informative way.  Here we will find communities in the network and color the network by their community membership.\n",
    "\n",
    "Communities (loosely speaking) are collections of nodes that are more densely connected with each other than the rest of the network.\n",
    "\n",
    "We'll use a modularity approach to demonstrate the procedure.  For the official documentation check out the following link:\n",
    "\n",
    "[https://python-louvain.readthedocs.io/en/latest/api.html](https://python-louvain.readthedocs.io/en/latest/api.html)"
   ]
  },
  {
   "cell_type": "code",
   "execution_count": 18,
   "metadata": {},
   "outputs": [],
   "source": [
    "# ! pip install python-louvain\n",
    "from community import community_louvain\n",
    "import matplotlib.colors as mcolors\n",
    "\n",
    "random_seed = 42\n",
    "partition = community_louvain.best_partition(G_celltype_filtered, random_state=random_seed)\n",
    "n_coms = len(set(partition.values()))\n",
    "\n",
    "# generate colors\n",
    "cmap = plt.get_cmap('tab10')  # Choose a colormap (e.g., 'tab10', 'Set3', 'Dark2', etc.)\n",
    "colors = [mcolors.to_hex(cmap(i)) for i in range(n_coms)]\n",
    "\n",
    "#  dictionary to assign colors to nodes\n",
    "d_node_color = {node: colors[comm] for node, comm in partition.items()}\n"
   ]
  },
  {
   "cell_type": "code",
   "execution_count": 19,
   "metadata": {},
   "outputs": [],
   "source": [
    "plotly_preview(G_celltype_filtered, pos = pos3D_spg, node_colors = d_node_color)"
   ]
  },
  {
   "attachments": {},
   "cell_type": "markdown",
   "metadata": {},
   "source": [
    "The following cluster labels have been generated by ChatGPT for illustrative purposes"
   ]
  },
  {
   "cell_type": "code",
   "execution_count": 20,
   "metadata": {},
   "outputs": [],
   "source": [
    "d_cluster_labels = { 0: 'Epithelial and Neural Cells', 1: 'Tissues and Nerves',2: 'Tissues and Secretory Systems',\n",
    "                        3: 'Glands, Nervous Tissue, and Supportive Structures.',4: 'Epithelial and Supportive Cells',\n",
    "                        5: 'Connective and Tubular Structures.',6: 'Glands, Tissues, and Reproductive Systems',\n",
    "                        7: 'Glands, Tubules, and Neural Structures',8: 'Various Tissues and Functional Regions',\n",
    "                        9: 'Epithelial and Connective Tissues.',10: 'Processes in Neural Tissues',\n",
    "                        11: 'Neurological, Reproductive, and Exocrine Systems',12: 'Nervous, Reproductive, and Supporting Tissues',\n",
    "                        13: 'Diverse Specialized Cells'}\n",
    "\n",
    "communities_with_labels_dict = {}\n",
    "for node, clid in partition.items():\n",
    "    communities_with_labels_dict[node] = d_cluster_labels[clid]"
   ]
  },
  {
   "attachments": {},
   "cell_type": "markdown",
   "metadata": {},
   "source": [
    "Two new arguments can now be given to the `make_json`\n",
    "\n",
    "1. different colors for nodes according to communities\n",
    "\n",
    "2. community labels that can be seen in VR\n"
   ]
  },
  {
   "cell_type": "code",
   "execution_count": 21,
   "metadata": {},
   "outputs": [],
   "source": [
    "\n",
    "make_json(name = '03_celltype_spg_communs', network=G_celltype_filtered, positions=pos3D_spg, annotations = celltype_tissueunique_dict, node_color = d_node_color, communities = communities_with_labels_dict)"
   ]
  },
  {
   "attachments": {},
   "cell_type": "markdown",
   "metadata": {},
   "source": [
    "For larger networks with a greater number of edges, applying edge colors within a community can enhance the visual appeal of the visualization."
   ]
  },
  {
   "cell_type": "code",
   "execution_count": 22,
   "metadata": {},
   "outputs": [],
   "source": [
    "edge_colors = {}\n",
    "# Iterate over edges and assign colors\n",
    "for edge in G_celltype.edges():\n",
    "    source, target = edge\n",
    "    if partition[source] == partition[target]:\n",
    "        edge_colors[edge] = d_node_color[source]  # or node_colors[target]\n",
    "    else: \n",
    "        edge_colors[edge] = '#aaaaaa'\n",
    "\n",
    "\n",
    "plotly_preview(G_celltype_filtered,pos3D_spg,node_colors = d_node_color,edge_colors = edge_colors)"
   ]
  },
  {
   "cell_type": "code",
   "execution_count": 23,
   "metadata": {},
   "outputs": [],
   "source": [
    "make_json(name = '04_celltype_spg_communs', network=G_celltype_filtered, positions=pos3D_spg, annotations = celltype_tissueunique_dict, node_color = d_node_color,link_color=edge_colors, communities = communities_with_labels_dict)"
   ]
  },
  {
   "attachments": {},
   "cell_type": "markdown",
   "metadata": {},
   "source": [
    "### Advanced layouts\n",
    "\n",
    "As an alternative to ```spring_layout``` we will go through some more use cases from this paper:\n",
    "\n",
    "[Cartographs enable interpretation of complex network visualizations](https://www.nature.com/articles/s43588-022-00203-6)\n",
    "Nature Computational Science **2**, 76–77 (2022)\n",
    "\n",
    "We will be experimenting with two CartoGraph-layouts:\n",
    "\n",
    "1. **global**\n",
    "\n",
    "The \"global\" layout employs a random walk with restart algorithm and calculates visiting probabilities for each node, which then serve as features. The feature vectors are compared pairwise using cosine similarity and projected into a latent 3D space using UMAP.\n",
    "\n",
    "2. **importance**\n",
    "\n",
    "The \"importance\" layout calculates four features: degree, closeness, betweenness, and eigenvector centrality.\n",
    "These features are further reduced to three dimensions using UMAP.\n",
    "(For this method you could also use more or different network features)\n"
   ]
  },
  {
   "cell_type": "code",
   "execution_count": 10,
   "metadata": {},
   "outputs": [],
   "source": [
    "# ! pip install cartoGRAPHs\n",
    "# ! pip install pymysql\n",
    "\n",
    "from cartoGRAPHs import *"
   ]
  },
  {
   "cell_type": "code",
   "execution_count": 24,
   "metadata": {},
   "outputs": [
    {
     "name": "stderr",
     "output_type": "stream",
     "text": [
      "/Library/Frameworks/Python.framework/Versions/3.10/lib/python3.10/site-packages/umap/spectral.py:260: UserWarning:\n",
      "\n",
      "WARNING: spectral initialisation failed! The eigenvector solver\n",
      "failed. This is likely due to too small an eigengap. Consider\n",
      "adding some noise or jitter to your data.\n",
      "\n",
      "Falling back to random initialisation!\n",
      "\n"
     ]
    }
   ],
   "source": [
    "\n",
    "posG3D_global = generate_layout(G_celltype_filtered, \n",
    "                        dim = 3,\n",
    "                        layoutmethod = 'global',\n",
    "                        dimred_method='umap'\n",
    "                        )\n",
    "\n",
    "plotly_preview(G_celltype_filtered,posG3D_global,node_colors = d_node_color)"
   ]
  },
  {
   "attachments": {},
   "cell_type": "markdown",
   "metadata": {},
   "source": [
    "In certain layouts or small networks, it is possible for points to be located very close to each other, resulting in clumps. \n",
    "\n",
    "To mitigate this, we can introduce a small amount of noise to the coordinates, which helps disentangle their positions.\n",
    "\n",
    "However, it is important to experiment with the displacement factor cautiously to ensure that the underlying network structure is not inadvertently compromised or distorted."
   ]
  },
  {
   "cell_type": "code",
   "execution_count": 25,
   "metadata": {},
   "outputs": [],
   "source": [
    "def adjust_point_positions(points, displacement_factor):\n",
    "    return {key: [coord + rd.gauss(0, displacement_factor) for coord in coords]\n",
    "            for key, coords in points.items()}\n",
    "\n",
    "posG3D_global_jitter = adjust_point_positions(posG3D_global, 3e-2 )\n",
    "\n",
    "plotly_preview(G_celltype_filtered,posG3D_global_jitter,node_colors = d_node_color)\n",
    "\n",
    "make_json(name = '04_celltype_global', network=G_celltype_filtered, positions=posG3D_global_jitter, node_color = d_node_color, annotations = celltype_tissueunique_dict, communities = partition)"
   ]
  },
  {
   "cell_type": "code",
   "execution_count": 26,
   "metadata": {},
   "outputs": [],
   "source": [
    "posG3D_importance = generate_layout(G_celltype_filtered, \n",
    "                        dim = 3, \n",
    "                        layoutmethod = 'importance',\n",
    "                        dimred_method='umap'\n",
    "                        )\n",
    "\n",
    "# add some noise\n",
    "posG3D_importance_jitter = adjust_point_positions(posG3D_importance, 2e-2 )\n",
    "plotly_preview(G_celltype_filtered,posG3D_importance_jitter,node_colors = d_node_color)\n",
    "make_json(name = '05_celltype_importance', network=G_celltype_filtered, positions=posG3D_importance_jitter, node_color = d_node_color, annotations = celltype_tissueunique_dict, communities = partition)"
   ]
  },
  {
   "attachments": {},
   "cell_type": "markdown",
   "metadata": {},
   "source": [
    "### Use z-axis for annotation data \n",
    "\n",
    "In the next step only the x- and y-axes will be used to represent the structural information of a network displayed through a spring layout. \n",
    "\n",
    "The z-axis, however, is available for other purposes. In this case, we want to utilize the z-axis to indicate the number of genes associated with a specific cell type."
   ]
  },
  {
   "cell_type": "code",
   "execution_count": 27,
   "metadata": {},
   "outputs": [],
   "source": [
    "# Make 2D spring layout and set z variable to zero\n",
    "\n",
    "pos2D_spg = nx.spring_layout(G_celltype_filtered, dim=2, iterations=200)\n",
    "\n",
    "pos3D_flatspg = {}\n",
    "for k, value in pos2D_spg.items():\n",
    "    new_value = np.zeros(3) \n",
    "    new_value[:2] = value    \n",
    "    pos3D_flatspg[k] = new_value\n",
    "\n",
    "plotly_preview(G_celltype_filtered,pos3D_flatspg,node_colors = d_node_color)\n",
    "make_json(name = '06_celltype_flatspg', network=G_celltype_filtered, positions=pos3D_flatspg, node_color = d_node_color, annotations = celltype_tissueunique_dict, communities = partition)"
   ]
  },
  {
   "cell_type": "code",
   "execution_count": 28,
   "metadata": {},
   "outputs": [],
   "source": [
    "# Give the z-axes a custom value (here the number of associated tissues)\n",
    "pos3D_customz = {}\n",
    "for k, value in pos2D_spg.items():\n",
    "    new_value = np.zeros(3)  \n",
    "    new_value[:2] = value    \n",
    "    new_value[2] = len(celltype_tissueunique_dict[k])\n",
    "    pos3D_customz[k] = new_value\n",
    "\n",
    "plotly_preview(G_celltype_filtered,pos3D_customz,node_colors = d_node_color)\n",
    "make_json(name = '07_celltype_customz', network=G_celltype_filtered, positions=pos3D_customz, node_color = d_node_color, link_color = '#aaaaaa', annotations = celltype_tissueunique_dict, communities = partition)"
   ]
  },
  {
   "cell_type": "code",
   "execution_count": null,
   "metadata": {},
   "outputs": [],
   "source": []
  }
 ],
 "metadata": {
  "interpreter": {
   "hash": "aee8b7b246df8f9039afb4144a1f6fd8d2ca17a180786b69acc140d282b71a49"
  },
  "kernelspec": {
   "display_name": "Python 3.7.0 64-bit",
   "name": "python3"
  },
  "language_info": {
   "codemirror_mode": {
    "name": "ipython",
    "version": 3
   },
   "file_extension": ".py",
   "mimetype": "text/x-python",
   "name": "python",
   "nbconvert_exporter": "python",
   "pygments_lexer": "ipython3",
   "version": "3.7.0"
  }
 },
 "nbformat": 4,
 "nbformat_minor": 2
}
