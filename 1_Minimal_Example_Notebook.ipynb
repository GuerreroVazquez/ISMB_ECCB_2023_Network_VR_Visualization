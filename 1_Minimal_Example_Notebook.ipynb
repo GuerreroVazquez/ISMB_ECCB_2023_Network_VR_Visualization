{
 "cells": [
  {
   "cell_type": "code",
   "execution_count": null,
   "metadata": {},
   "outputs": [],
   "source": [
    "pip install networkx"
   ]
  },
  {
   "cell_type": "code",
   "execution_count": null,
   "metadata": {},
   "outputs": [],
   "source": [
    "! pip uninstall networkx"
   ]
  },
  {
   "cell_type": "code",
   "execution_count": 37,
   "metadata": {},
   "outputs": [
    {
     "data": {
      "text/plain": [
       "'3.1'"
      ]
     },
     "execution_count": 37,
     "metadata": {},
     "output_type": "execute_result"
    }
   ],
   "source": [
    "nx.__version__"
   ]
  },
  {
   "cell_type": "code",
   "execution_count": 1,
   "metadata": {
    "executionInfo": {
     "elapsed": 398,
     "status": "ok",
     "timestamp": 1689878676179,
     "user": {
      "displayName": "Joel Hancock",
      "userId": "16189644458263281336"
     },
     "user_tz": -120
    },
    "id": "r1Uax4xUW0Is"
   },
   "outputs": [],
   "source": [
    "from collections import defaultdict, Counter\n",
    "import itertools\n",
    "import numpy as np\n",
    "import json\n",
    "import random as rd\n",
    "import networkx as nx\n",
    "import matplotlib.pyplot as plt\n",
    "import plotly.graph_objects as go\n",
    "from plotly.offline import init_notebook_mode, iplot\n",
    "import cytoscape as ct\n"
   ]
  },
  {
   "cell_type": "markdown",
   "metadata": {
    "id": "oFn3J7DUW01H"
   },
   "source": [
    "## Load an Example Network"
   ]
  },
  {
   "cell_type": "code",
   "execution_count": 3,
   "metadata": {},
   "outputs": [],
   "source": [
    "def get_cytoscape_network(file_name):\n",
    "    cytoscape_json = ct.read_cytoscape_json(cytoscape_file=file_name)\n",
    "    nodes, edges_metadata, relationship = ct.format_cytoscape_json(cytoscape_json=cytoscape_json)\n",
    "    the_network = create_graph_from_dictionaries(nodes=nodes, edges=edges_metadata, relationship=relationship)\n",
    "    return the_network\n",
    "from cytoscape.enum_network_sources import NetworkSource\n",
    "def create_graph_from_dictionaries(nodes, relationship, edges, type=\"gene\"):\n",
    "    \"\"\"\n",
    "    This function will receive a list of genes and mirnas and create the network of them\n",
    "    :param edges: List of dictionaries with the metadata of each relationship\n",
    "    :param mirnas: List of dictionary with the mirna names\n",
    "    :param genes: List of string with the gene names\n",
    "    :param relationsip: List of tuple of string with the node names\n",
    "    \"\"\"\n",
    "    source = NetworkSource.GENE_MANIA\n",
    "    protein_name = source.get_main_name()\n",
    "    G = nx.Graph()\n",
    "    for element in nodes:\n",
    "        try:\n",
    "            node = element['data'][protein_name]\n",
    "            new_values ={}\n",
    "            for key, value in element['data'].items():\n",
    "                if key in source.get_desired_data():\n",
    "                    new_values[key]=value\n",
    "            new_values[source.get_type_label()] = type\n",
    "            element[\"data\"] = new_values\n",
    "            element[\"data\"][\"id\"] = element[\"data\"][source.get_main_name()]\n",
    "            element[\"id\"]= element[\"data\"][source.get_main_name()]\n",
    "            if node not in G._node:\n",
    "                G.add_node(node, **element)\n",
    "            else:\n",
    "                G.remove_node(node)\n",
    "                G.add_node(node, **element)\n",
    "        except Exception as e:\n",
    "            pass\n",
    "    for edge in edges:\n",
    "        new_values = {}\n",
    "        for key, value in edge['data'].items():\n",
    "            if key in source.get_desired_data():\n",
    "                new_values[key] = value\n",
    "        edge[\"data\"] = new_values\n",
    "        try:\n",
    "            print(edge['data']['target'], edge['data']['source'])\n",
    "            G.add_edge(edge['data']['source'], edge['data']['target'], **edge)\n",
    "        except Exception as e:\n",
    "            print(\"Edge not added: \",e.message)\n",
    "\n",
    "    # is_bipartite(G)\n",
    "\n",
    "    return G\n",
    "\n"
   ]
  },
  {
   "cell_type": "code",
   "execution_count": 4,
   "metadata": {},
   "outputs": [],
   "source": [
    "import cytoscape as ct\n",
    "file = \"network_files/graph1_mo_GeneMania_Base_cutoff_0.cyjs\"\n"
   ]
  },
  {
   "cell_type": "code",
   "execution_count": 5,
   "metadata": {},
   "outputs": [
    {
     "name": "stdout",
     "output_type": "stream",
     "text": [
      "NOOOO\n",
      "NOOOO\n",
      "NOOOO\n",
      "NOOOO\n",
      "30543 30545\n",
      "30533 30545\n",
      "30545 30541\n",
      "30545 30537\n",
      "30545 30527\n",
      "30545 30525\n",
      "30545 30521\n",
      "30545 30519\n",
      "30545 30515\n",
      "30545 30505\n",
      "30545 30503\n",
      "30545 30499\n",
      "30545 30495\n",
      "30543 30541\n",
      "30543 30505\n",
      "30539 30541\n",
      "30541 30537\n",
      "30541 30527\n",
      "30541 30525\n",
      "30541 30521\n",
      "30541 30515\n",
      "30541 30505\n",
      "30541 30503\n",
      "30541 30501\n",
      "30541 30499\n",
      "30541 30495\n",
      "30539 30537\n",
      "30539 30529\n",
      "30539 30521\n",
      "30539 30519\n",
      "30539 30503\n",
      "30539 30501\n",
      "30537 30505\n",
      "30537 30495\n",
      "30533 30535\n",
      "30535 30529\n",
      "30533 30531\n",
      "30533 30529\n",
      "30533 30523\n",
      "30533 30521\n",
      "30533 30517\n",
      "30533 30509\n",
      "30533 30507\n",
      "30533 30499\n",
      "30533 30497\n",
      "30531 30529\n",
      "30529 30499\n",
      "30529 30497\n",
      "30527 30507\n",
      "30521 30497\n",
      "30519 30503\n",
      "30519 30497\n",
      "30487 30517\n",
      "30487 30517\n",
      "30487 30517\n",
      "30487 30517\n",
      "30493 30515\n",
      "30511 30513\n",
      "30509 30507\n",
      "30507 30505\n",
      "30493 30497\n"
     ]
    }
   ],
   "source": [
    "#%%capture\n",
    "G = get_cytoscape_network(file)"
   ]
  },
  {
   "cell_type": "code",
   "execution_count": null,
   "metadata": {},
   "outputs": [],
   "source": [
    "G = nx.read_graphml(gml)"
   ]
  },
  {
   "cell_type": "code",
   "execution_count": 6,
   "metadata": {
    "colab": {
     "base_uri": "https://localhost:8080/"
    },
    "executionInfo": {
     "elapsed": 6,
     "status": "ok",
     "timestamp": 1689881892721,
     "user": {
      "displayName": "Joel Hancock",
      "userId": "16189644458263281336"
     },
     "user_tz": -120
    },
    "id": "GJmk2wjqN-mh",
    "outputId": "9a3e50b5-5375-47e7-f18a-cbdf33b55f1e"
   },
   "outputs": [
    {
     "name": "stdout",
     "output_type": "stream",
     "text": [
      "GTPBP4\n",
      "TMX2\n",
      "NARS1\n",
      "CLIC4\n",
      "CARS1\n",
      "BRWD3\n",
      "PRR14L\n",
      "AASDH\n",
      "PTAR1\n",
      "KRR1\n",
      "SDAD1\n",
      "TAAR6\n",
      "CCT5\n",
      "IPO7\n",
      "LIN28B\n",
      "TYW1\n",
      "SLX1A\n",
      "APEX2\n",
      "UBN2\n",
      "ZNF587B\n",
      "LSG1\n",
      "FASTKD2\n",
      "RIPK2\n",
      "DMXL1\n",
      "TAOK1\n",
      "EIF2S2\n",
      "CYRIA\n",
      "PRSS58\n",
      "AC140504.1\n",
      "KIR3DL1\n",
      "30545\n",
      "30543\n",
      "30533\n",
      "30541\n",
      "30537\n",
      "30527\n",
      "30525\n",
      "30521\n",
      "30519\n",
      "30515\n",
      "30505\n",
      "30503\n",
      "30499\n",
      "30495\n",
      "30539\n",
      "30501\n",
      "30529\n",
      "30535\n",
      "30531\n",
      "30523\n",
      "30517\n",
      "30509\n",
      "30507\n",
      "30497\n",
      "30487\n",
      "30493\n",
      "30513\n",
      "30511\n"
     ]
    }
   ],
   "source": [
    "# list all the nodes in the network\n",
    "for i in G.nodes():\n",
    "  print(i)"
   ]
  },
  {
   "cell_type": "code",
   "execution_count": 61,
   "metadata": {
    "colab": {
     "base_uri": "https://localhost:8080/"
    },
    "executionInfo": {
     "elapsed": 4,
     "status": "ok",
     "timestamp": 1689881911630,
     "user": {
      "displayName": "Joel Hancock",
      "userId": "16189644458263281336"
     },
     "user_tz": -120
    },
    "id": "w6UZBy8yOBwF",
    "outputId": "9ca5a2ed-9c6e-4a6a-f8ae-be92638e5c6f"
   },
   "outputs": [
    {
     "name": "stdout",
     "output_type": "stream",
     "text": [
      "('30545', '30543')\n",
      "('30545', '30533')\n",
      "('30545', '30541')\n",
      "('30545', '30537')\n",
      "('30545', '30527')\n",
      "('30545', '30525')\n",
      "('30545', '30521')\n",
      "('30545', '30519')\n",
      "('30545', '30515')\n",
      "('30545', '30505')\n",
      "('30545', '30503')\n",
      "('30545', '30499')\n",
      "('30545', '30495')\n",
      "('30543', '30541')\n",
      "('30543', '30505')\n",
      "('30533', '30535')\n",
      "('30533', '30531')\n",
      "('30533', '30529')\n",
      "('30533', '30523')\n",
      "('30533', '30521')\n",
      "('30533', '30517')\n",
      "('30533', '30509')\n",
      "('30533', '30507')\n",
      "('30533', '30499')\n",
      "('30533', '30497')\n",
      "('30541', '30539')\n",
      "('30541', '30537')\n",
      "('30541', '30527')\n",
      "('30541', '30525')\n",
      "('30541', '30521')\n",
      "('30541', '30515')\n",
      "('30541', '30505')\n",
      "('30541', '30503')\n",
      "('30541', '30501')\n",
      "('30541', '30499')\n",
      "('30541', '30495')\n",
      "('30537', '30539')\n",
      "('30537', '30505')\n",
      "('30537', '30495')\n",
      "('30527', '30507')\n",
      "('30521', '30539')\n",
      "('30521', '30497')\n",
      "('30519', '30539')\n",
      "('30519', '30503')\n",
      "('30519', '30497')\n",
      "('30515', '30493')\n",
      "('30505', '30507')\n",
      "('30503', '30539')\n",
      "('30499', '30529')\n",
      "('30539', '30529')\n",
      "('30539', '30501')\n",
      "('30529', '30535')\n",
      "('30529', '30531')\n",
      "('30529', '30497')\n",
      "('30517', '30487')\n",
      "('30509', '30507')\n",
      "('30497', '30493')\n",
      "('30513', '30511')\n"
     ]
    }
   ],
   "source": [
    "# list all the edges\n",
    "for i in G.edges():\n",
    "  print(i)"
   ]
  },
  {
   "cell_type": "markdown",
   "metadata": {
    "id": "7fWF2_XHXH3n"
   },
   "source": [
    "\n",
    "## Generic Network Layout\n",
    "\n",
    "The sprnng layout is the most commonly used layout."
   ]
  },
  {
   "cell_type": "code",
   "execution_count": 8,
   "metadata": {},
   "outputs": [
    {
     "name": "stdout",
     "output_type": "stream",
     "text": [
      "Defaulting to user installation because normal site-packages is not writeable\n",
      "Requirement already satisfied: CartoGRAPHs in /home/karen/.local/lib/python3.10/site-packages (1.0.1)\n",
      "Requirement already satisfied: numpy in /home/karen/.local/lib/python3.10/site-packages (from CartoGRAPHs) (1.22.0)\n",
      "Requirement already satisfied: seaborn in /home/karen/.local/lib/python3.10/site-packages (from CartoGRAPHs) (0.12.2)\n",
      "Requirement already satisfied: networkx in /home/karen/.local/lib/python3.10/site-packages (from CartoGRAPHs) (3.1)\n",
      "Requirement already satisfied: biopython in /home/karen/.local/lib/python3.10/site-packages (from CartoGRAPHs) (1.81)\n",
      "Requirement already satisfied: umap-learn in /home/karen/.local/lib/python3.10/site-packages (from CartoGRAPHs) (0.5.3)\n",
      "Requirement already satisfied: plotly in /home/karen/.local/lib/python3.10/site-packages (from CartoGRAPHs) (5.15.0)\n",
      "Requirement already satisfied: colormath in /home/karen/.local/lib/python3.10/site-packages (from CartoGRAPHs) (3.0.0)\n",
      "Requirement already satisfied: matplotlib in /home/karen/.local/lib/python3.10/site-packages (from CartoGRAPHs) (3.7.2)\n",
      "Requirement already satisfied: scipy in /home/karen/.local/lib/python3.10/site-packages (from CartoGRAPHs) (1.11.1)\n",
      "Requirement already satisfied: scikit-learn in /home/karen/.local/lib/python3.10/site-packages (from CartoGRAPHs) (1.3.0)\n",
      "Requirement already satisfied: pandas in /home/karen/.local/lib/python3.10/site-packages (from CartoGRAPHs) (2.0.3)\n",
      "Requirement already satisfied: contourpy>=1.0.1 in /home/karen/.local/lib/python3.10/site-packages (from matplotlib->CartoGRAPHs) (1.1.0)\n",
      "Requirement already satisfied: pillow>=6.2.0 in /usr/lib/python3/dist-packages (from matplotlib->CartoGRAPHs) (9.0.1)\n",
      "Requirement already satisfied: kiwisolver>=1.0.1 in /home/karen/.local/lib/python3.10/site-packages (from matplotlib->CartoGRAPHs) (1.4.4)\n",
      "Requirement already satisfied: fonttools>=4.22.0 in /home/karen/.local/lib/python3.10/site-packages (from matplotlib->CartoGRAPHs) (4.41.1)\n",
      "Requirement already satisfied: cycler>=0.10 in /home/karen/.local/lib/python3.10/site-packages (from matplotlib->CartoGRAPHs) (0.11.0)\n",
      "Requirement already satisfied: pyparsing<3.1,>=2.3.1 in /usr/lib/python3/dist-packages (from matplotlib->CartoGRAPHs) (2.4.7)\n",
      "Requirement already satisfied: python-dateutil>=2.7 in /home/karen/.local/lib/python3.10/site-packages (from matplotlib->CartoGRAPHs) (2.8.2)\n",
      "Requirement already satisfied: packaging>=20.0 in /home/karen/.local/lib/python3.10/site-packages (from matplotlib->CartoGRAPHs) (23.1)\n",
      "Requirement already satisfied: pytz>=2020.1 in /usr/lib/python3/dist-packages (from pandas->CartoGRAPHs) (2022.1)\n",
      "Requirement already satisfied: tzdata>=2022.1 in /home/karen/.local/lib/python3.10/site-packages (from pandas->CartoGRAPHs) (2023.3)\n",
      "Requirement already satisfied: tenacity>=6.2.0 in /home/karen/.local/lib/python3.10/site-packages (from plotly->CartoGRAPHs) (8.2.2)\n",
      "Requirement already satisfied: joblib>=1.1.1 in /home/karen/.local/lib/python3.10/site-packages (from scikit-learn->CartoGRAPHs) (1.3.1)\n",
      "Requirement already satisfied: threadpoolctl>=2.0.0 in /home/karen/.local/lib/python3.10/site-packages (from scikit-learn->CartoGRAPHs) (3.2.0)\n",
      "Requirement already satisfied: numba>=0.49 in /home/karen/.local/lib/python3.10/site-packages (from umap-learn->CartoGRAPHs) (0.57.1)\n",
      "Requirement already satisfied: pynndescent>=0.5 in /home/karen/.local/lib/python3.10/site-packages (from umap-learn->CartoGRAPHs) (0.5.10)\n",
      "Requirement already satisfied: tqdm in /home/karen/.local/lib/python3.10/site-packages (from umap-learn->CartoGRAPHs) (4.65.0)\n",
      "Requirement already satisfied: llvmlite<0.41,>=0.40.0dev0 in /home/karen/.local/lib/python3.10/site-packages (from numba>=0.49->umap-learn->CartoGRAPHs) (0.40.1)\n",
      "Requirement already satisfied: six>=1.5 in /usr/lib/python3/dist-packages (from python-dateutil>=2.7->matplotlib->CartoGRAPHs) (1.16.0)\n",
      "Note: you may need to restart the kernel to use updated packages.\n"
     ]
    }
   ],
   "source": [
    "pip install CartoGRAPHs"
   ]
  },
  {
   "cell_type": "code",
   "execution_count": 10,
   "metadata": {},
   "outputs": [
    {
     "name": "stdout",
     "output_type": "stream",
     "text": [
      "Defaulting to user installation because normal site-packages is not writeable\n",
      "Requirement already satisfied: pymysql in /home/karen/.local/lib/python3.10/site-packages (1.1.0)\n",
      "Note: you may need to restart the kernel to use updated packages.\n"
     ]
    }
   ],
   "source": [
    "pip install pymysql"
   ]
  },
  {
   "cell_type": "code",
   "execution_count": 13,
   "metadata": {},
   "outputs": [
    {
     "name": "stderr",
     "output_type": "stream",
     "text": [
      "/home/karen/.local/lib/python3.10/site-packages/umap/distances.py:1063: NumbaDeprecationWarning:\n",
      "\n",
      "\u001b[1mThe 'nopython' keyword argument was not supplied to the 'numba.jit' decorator. The implicit default value for this argument is currently False, but it will be changed to True in Numba 0.59.0. See https://numba.readthedocs.io/en/stable/reference/deprecation.html#deprecation-of-object-mode-fall-back-behaviour-when-using-jit for details.\u001b[0m\n",
      "\n",
      "/home/karen/.local/lib/python3.10/site-packages/umap/distances.py:1071: NumbaDeprecationWarning:\n",
      "\n",
      "\u001b[1mThe 'nopython' keyword argument was not supplied to the 'numba.jit' decorator. The implicit default value for this argument is currently False, but it will be changed to True in Numba 0.59.0. See https://numba.readthedocs.io/en/stable/reference/deprecation.html#deprecation-of-object-mode-fall-back-behaviour-when-using-jit for details.\u001b[0m\n",
      "\n",
      "/home/karen/.local/lib/python3.10/site-packages/umap/distances.py:1086: NumbaDeprecationWarning:\n",
      "\n",
      "\u001b[1mThe 'nopython' keyword argument was not supplied to the 'numba.jit' decorator. The implicit default value for this argument is currently False, but it will be changed to True in Numba 0.59.0. See https://numba.readthedocs.io/en/stable/reference/deprecation.html#deprecation-of-object-mode-fall-back-behaviour-when-using-jit for details.\u001b[0m\n",
      "\n",
      "/home/karen/.local/lib/python3.10/site-packages/tqdm/auto.py:21: TqdmWarning:\n",
      "\n",
      "IProgress not found. Please update jupyter and ipywidgets. See https://ipywidgets.readthedocs.io/en/stable/user_install.html\n",
      "\n",
      "/home/karen/.local/lib/python3.10/site-packages/umap/umap_.py:660: NumbaDeprecationWarning:\n",
      "\n",
      "\u001b[1mThe 'nopython' keyword argument was not supplied to the 'numba.jit' decorator. The implicit default value for this argument is currently False, but it will be changed to True in Numba 0.59.0. See https://numba.readthedocs.io/en/stable/reference/deprecation.html#deprecation-of-object-mode-fall-back-behaviour-when-using-jit for details.\u001b[0m\n",
      "\n"
     ]
    }
   ],
   "source": [
    "import cartoGRAPHs"
   ]
  },
  {
   "cell_type": "code",
   "execution_count": 14,
   "metadata": {},
   "outputs": [],
   "source": [
    "pos = cartoGRAPHs.generate_layout(G, \n",
    "                        dim = 3, \n",
    "                        layoutmethod = 'global',\n",
    "                        dimred_method='umap'\n",
    "                        )"
   ]
  },
  {
   "cell_type": "code",
   "execution_count": 7,
   "metadata": {
    "executionInfo": {
     "elapsed": 389,
     "status": "ok",
     "timestamp": 1689882187962,
     "user": {
      "displayName": "Joel Hancock",
      "userId": "16189644458263281336"
     },
     "user_tz": -120
    },
    "id": "lOZtYBDMXY7v"
   },
   "outputs": [
    {
     "ename": "TypeError",
     "evalue": "shell_layout() got an unexpected keyword argument 'k'",
     "output_type": "error",
     "traceback": [
      "\u001b[0;31m---------------------------------------------------------------------------\u001b[0m",
      "\u001b[0;31mTypeError\u001b[0m                                 Traceback (most recent call last)",
      "Cell \u001b[0;32mIn[7], line 2\u001b[0m\n\u001b[1;32m      1\u001b[0m \u001b[38;5;66;03m# Spring Layout - the most generic layout\u001b[39;00m\n\u001b[0;32m----> 2\u001b[0m pos \u001b[38;5;241m=\u001b[39m \u001b[43mnx\u001b[49m\u001b[38;5;241;43m.\u001b[39;49m\u001b[43mshell_layout\u001b[49m\u001b[43m(\u001b[49m\u001b[43mG\u001b[49m\u001b[43m,\u001b[49m\u001b[43m \u001b[49m\u001b[43mdim\u001b[49m\u001b[38;5;241;43m=\u001b[39;49m\u001b[38;5;241;43m3\u001b[39;49m\u001b[43m,\u001b[49m\u001b[43m \u001b[49m\u001b[43mk\u001b[49m\u001b[43m \u001b[49m\u001b[38;5;241;43m=\u001b[39;49m\u001b[43m \u001b[49m\u001b[38;5;241;43m0.5\u001b[39;49m\u001b[43m)\u001b[49m\n",
      "\u001b[0;31mTypeError\u001b[0m: shell_layout() got an unexpected keyword argument 'k'"
     ]
    }
   ],
   "source": [
    "# Spring Layout - the most generic layout\n",
    "pos = nx.shell_layout(G, dim=3, k = 0.5)"
   ]
  },
  {
   "cell_type": "code",
   "execution_count": null,
   "metadata": {
    "colab": {
     "base_uri": "https://localhost:8080/"
    },
    "executionInfo": {
     "elapsed": 256,
     "status": "ok",
     "timestamp": 1689882189160,
     "user": {
      "displayName": "Joel Hancock",
      "userId": "16189644458263281336"
     },
     "user_tz": -120
    },
    "id": "iy3rahwDNthD",
    "outputId": "048fc6d1-a5b3-4576-e0d1-62e9553c0896"
   },
   "outputs": [],
   "source": [
    "pos"
   ]
  },
  {
   "cell_type": "markdown",
   "metadata": {
    "id": "eOOkSpm7XJk2"
   },
   "source": [
    "\n",
    "## Plotly Preview\n"
   ]
  },
  {
   "cell_type": "markdown",
   "metadata": {
    "id": "ND8yDgAyYvtM"
   },
   "source": [
    "### Define The Function `plotly_preview`"
   ]
  },
  {
   "cell_type": "code",
   "execution_count": 24,
   "metadata": {
    "executionInfo": {
     "elapsed": 256,
     "status": "ok",
     "timestamp": 1689882289269,
     "user": {
      "displayName": "Joel Hancock",
      "userId": "16189644458263281336"
     },
     "user_tz": -120
    },
    "id": "2vuVEKW0X90a"
   },
   "outputs": [],
   "source": [
    "def plotly_preview(G, pos, node_colors=None, edge_colors=None):\n",
    "\n",
    "    \"\"\"\n",
    "    Generate a 3D network visualization using Plotly.\n",
    "\n",
    "    Parameters:\n",
    "        - G (networkx.Graph): The graph object representing the network.\n",
    "        - pos3D (dict): A dictionary mapping each node to its 3D coordinates (x, y, z).\n",
    "        - node_colors (dict, optional): A dictionary mapping nodes to custom hex colors.\n",
    "                                        If not provided, the default color is '#40b9d4'.\n",
    "        - edge_colors (dict, optional): A dictionary mapping edges to custom hex colors.\n",
    "                                        If not provided, the default color is 'gray'.\n",
    "\n",
    "    Output:\n",
    "        - An HTML file named 'network_visualization.html' is generated, which opens in a web browser.\n",
    "\n",
    "    Example usage:\n",
    "        node_colors = {1: '#ff0000', 2: '#00ff00', 3: '#0000ff'}\n",
    "        edge_colors = {(1, 2): '#ff00ff', (2, 3): '#ffff00'}\n",
    "        pos = nx.spring_layout(G,dim=3)\n",
    "        plotly_review_2(G, pos, node_colors, edge_colors)\n",
    "    \"\"\"\n",
    "\n",
    "    # Create a Plotly figure\n",
    "    fig = go.Figure()\n",
    "\n",
    "    # Add nodes to the figure\n",
    "    for node in G.nodes():\n",
    "        x, y, z = pos[node]\n",
    "        color = node_colors[node] if node_colors and node in node_colors else '#40b9d4'\n",
    "        fig.add_trace(go.Scatter3d(\n",
    "            x=[x],\n",
    "            y=[y],\n",
    "            z=[z],\n",
    "            mode='markers',\n",
    "            marker=dict(\n",
    "                size=5,\n",
    "                color=color,\n",
    "            ),\n",
    "            name=str(node),\n",
    "            text=str(node),\n",
    "            hovertemplate=None,\n",
    "        ))\n",
    "\n",
    "    # Add edges to the figure\n",
    "    for edge in G.edges():\n",
    "        x0, y0, z0 = pos[edge[0]]\n",
    "        x1, y1, z1 = pos[edge[1]]\n",
    "        edge_color = edge_colors[edge] if edge_colors and edge in edge_colors else 'gray'\n",
    "        fig.add_trace(go.Scatter3d(\n",
    "            x=[x0, x1],\n",
    "            y=[y0, y1],\n",
    "            z=[z0, z1],\n",
    "            mode='lines',\n",
    "            line=dict(\n",
    "                color=edge_color,\n",
    "                width=1,\n",
    "            ),\n",
    "            hoverinfo='none',\n",
    "        ))\n",
    "\n",
    "    # Set layout options\n",
    "    fig.update_layout(\n",
    "        scene=dict(\n",
    "            xaxis=dict(visible=False),\n",
    "            yaxis=dict(visible=False),\n",
    "            zaxis=dict(visible=False),\n",
    "        ),\n",
    "        showlegend=False,\n",
    "        hovermode='closest',\n",
    "        margin=dict(l=0, r=0, b=0, t=0),\n",
    "    )\n",
    "\n",
    "    # Display the plot inline in the notebook\n",
    "    iplot(fig)\n",
    "    plotly.offline.plot(fig, filename='plotly_plot.html')"
   ]
  },
  {
   "cell_type": "markdown",
   "metadata": {
    "id": "X4AATgPxY0by"
   },
   "source": [
    "### Use the Function"
   ]
  },
  {
   "cell_type": "code",
   "execution_count": 63,
   "metadata": {
    "colab": {
     "base_uri": "https://localhost:8080/",
     "height": 562
    },
    "executionInfo": {
     "elapsed": 1269,
     "status": "ok",
     "timestamp": 1689882292247,
     "user": {
      "displayName": "Joel Hancock",
      "userId": "16189644458263281336"
     },
     "user_tz": -120
    },
    "id": "Le6JM40dY5sp",
    "outputId": "e53c6361-2eee-4afa-ed7e-415393677e91"
   },
   "outputs": [
    {
     "data": {
      "application/vnd.plotly.v1+json": {
       "config": {
        "linkText": "Export to plot.ly",
        "plotlyServerURL": "https://plot.ly",
        "showLink": false
       },
       "data": [
        {
         "marker": {
          "color": "#40b9d4",
          "size": 5
         },
         "mode": "markers",
         "name": "GTPBP4",
         "text": "GTPBP4",
         "type": "scatter3d",
         "x": [
          -0.6773948031670666
         ],
         "y": [
          0.7510285895541053
         ],
         "z": [
          -0.3322815261934436
         ]
        },
        {
         "marker": {
          "color": "#40b9d4",
          "size": 5
         },
         "mode": "markers",
         "name": "TMX2",
         "text": "TMX2",
         "type": "scatter3d",
         "x": [
          -0.3990482799099915
         ],
         "y": [
          -0.6495102982049191
         ],
         "z": [
          -0.6942752538173642
         ]
        },
        {
         "marker": {
          "color": "#40b9d4",
          "size": 5
         },
         "mode": "markers",
         "name": "NARS1",
         "text": "NARS1",
         "type": "scatter3d",
         "x": [
          0.28407202270453535
         ],
         "y": [
          -0.8374197045312294
         ],
         "z": [
          0.21361586374050182
         ]
        },
        {
         "marker": {
          "color": "#40b9d4",
          "size": 5
         },
         "mode": "markers",
         "name": "CLIC4",
         "text": "CLIC4",
         "type": "scatter3d",
         "x": [
          0.7799516670942191
         ],
         "y": [
          0.4934377628351547
         ],
         "z": [
          0.28139959167872824
         ]
        },
        {
         "marker": {
          "color": "#40b9d4",
          "size": 5
         },
         "mode": "markers",
         "name": "CARS1",
         "text": "CARS1",
         "type": "scatter3d",
         "x": [
          0.13182421186504817
         ],
         "y": [
          -0.8398987798675714
         ],
         "z": [
          -0.35983528181234176
         ]
        },
        {
         "marker": {
          "color": "#40b9d4",
          "size": 5
         },
         "mode": "markers",
         "name": "BRWD3",
         "text": "BRWD3",
         "type": "scatter3d",
         "x": [
          0.9694177448847281
         ],
         "y": [
          -0.05180629721346495
         ],
         "z": [
          -0.11733364389928833
         ]
        },
        {
         "marker": {
          "color": "#40b9d4",
          "size": 5
         },
         "mode": "markers",
         "name": "PRR14L",
         "text": "PRR14L",
         "type": "scatter3d",
         "x": [
          -0.265470155950465
         ],
         "y": [
          0.8403159028019995
         ],
         "z": [
          0.49647093697373607
         ]
        },
        {
         "marker": {
          "color": "#40b9d4",
          "size": 5
         },
         "mode": "markers",
         "name": "AASDH",
         "text": "AASDH",
         "type": "scatter3d",
         "x": [
          -0.4835709770334216
         ],
         "y": [
          -0.7208988247790535
         ],
         "z": [
          0.29899561218384935
         ]
        },
        {
         "marker": {
          "color": "#40b9d4",
          "size": 5
         },
         "mode": "markers",
         "name": "PTAR1",
         "text": "PTAR1",
         "type": "scatter3d",
         "x": [
          -0.8256136965368867
         ],
         "y": [
          -0.45030856260258195
         ],
         "z": [
          -0.037587408729828034
         ]
        },
        {
         "marker": {
          "color": "#40b9d4",
          "size": 5
         },
         "mode": "markers",
         "name": "KRR1",
         "text": "KRR1",
         "type": "scatter3d",
         "x": [
          0.696996085336721
         ],
         "y": [
          -0.5699436654136526
         ],
         "z": [
          0.5202060171600207
         ]
        },
        {
         "marker": {
          "color": "#40b9d4",
          "size": 5
         },
         "mode": "markers",
         "name": "SDAD1",
         "text": "SDAD1",
         "type": "scatter3d",
         "x": [
          -0.03613249486158648
         ],
         "y": [
          -0.8073821881723875
         ],
         "z": [
          0.420026830686042
         ]
        },
        {
         "marker": {
          "color": "#40b9d4",
          "size": 5
         },
         "mode": "markers",
         "name": "TAAR6",
         "text": "TAAR6",
         "type": "scatter3d",
         "x": [
          -0.502802583279006
         ],
         "y": [
          0.2881437221658169
         ],
         "z": [
          0.829239759021342
         ]
        },
        {
         "marker": {
          "color": "#40b9d4",
          "size": 5
         },
         "mode": "markers",
         "name": "CCT5",
         "text": "CCT5",
         "type": "scatter3d",
         "x": [
          0.7935781270169096
         ],
         "y": [
          -0.5232624697549306
         ],
         "z": [
          -0.014883411448266168
         ]
        },
        {
         "marker": {
          "color": "#40b9d4",
          "size": 5
         },
         "mode": "markers",
         "name": "IPO7",
         "text": "IPO7",
         "type": "scatter3d",
         "x": [
          -0.058427561508348644
         ],
         "y": [
          0.8991198969844529
         ],
         "z": [
          -0.1480286904938402
         ]
        },
        {
         "marker": {
          "color": "#40b9d4",
          "size": 5
         },
         "mode": "markers",
         "name": "LIN28B",
         "text": "LIN28B",
         "type": "scatter3d",
         "x": [
          0.35592257561702906
         ],
         "y": [
          -0.2621735178733565
         ],
         "z": [
          -0.7942424318669017
         ]
        },
        {
         "marker": {
          "color": "#40b9d4",
          "size": 5
         },
         "mode": "markers",
         "name": "TYW1",
         "text": "TYW1",
         "type": "scatter3d",
         "x": [
          0.3866123044699727
         ],
         "y": [
          -0.3260385766051666
         ],
         "z": [
          0.780188327986102
         ]
        },
        {
         "marker": {
          "color": "#40b9d4",
          "size": 5
         },
         "mode": "markers",
         "name": "SLX1A",
         "text": "SLX1A",
         "type": "scatter3d",
         "x": [
          -0.6270021125619242
         ],
         "y": [
          -0.31326514886425033
         ],
         "z": [
          -0.7286652782578579
         ]
        },
        {
         "marker": {
          "color": "#40b9d4",
          "size": 5
         },
         "mode": "markers",
         "name": "APEX2",
         "text": "APEX2",
         "type": "scatter3d",
         "x": [
          0.5966097749077793
         ],
         "y": [
          0.5273050462331517
         ],
         "z": [
          -0.6662521873516869
         ]
        },
        {
         "marker": {
          "color": "#40b9d4",
          "size": 5
         },
         "mode": "markers",
         "name": "UBN2",
         "text": "UBN2",
         "type": "scatter3d",
         "x": [
          -0.9355374623390044
         ],
         "y": [
          0.09725448912390355
         ],
         "z": [
          0.26068312416752
         ]
        },
        {
         "marker": {
          "color": "#40b9d4",
          "size": 5
         },
         "mode": "markers",
         "name": "ZNF587B",
         "text": "ZNF587B",
         "type": "scatter3d",
         "x": [
          0.6803262194842055
         ],
         "y": [
          -0.2072326811207995
         ],
         "z": [
          -0.7223655208382002
         ]
        },
        {
         "marker": {
          "color": "#40b9d4",
          "size": 5
         },
         "mode": "markers",
         "name": "LSG1",
         "text": "LSG1",
         "type": "scatter3d",
         "x": [
          -0.09766908824935207
         ],
         "y": [
          1
         ],
         "z": [
          0.11728861788358465
         ]
        },
        {
         "marker": {
          "color": "#40b9d4",
          "size": 5
         },
         "mode": "markers",
         "name": "FASTKD2",
         "text": "FASTKD2",
         "type": "scatter3d",
         "x": [
          0.7643926881458086
         ],
         "y": [
          -0.5415378519424445
         ],
         "z": [
          -0.3885218150933588
         ]
        },
        {
         "marker": {
          "color": "#40b9d4",
          "size": 5
         },
         "mode": "markers",
         "name": "RIPK2",
         "text": "RIPK2",
         "type": "scatter3d",
         "x": [
          0.6841529502567673
         ],
         "y": [
          0.31372494661115474
         ],
         "z": [
          -0.569307101158175
         ]
        },
        {
         "marker": {
          "color": "#40b9d4",
          "size": 5
         },
         "mode": "markers",
         "name": "DMXL1",
         "text": "DMXL1",
         "type": "scatter3d",
         "x": [
          0.456767000979808
         ],
         "y": [
          0.6904124468549406
         ],
         "z": [
          0.7160642116407876
         ]
        },
        {
         "marker": {
          "color": "#40b9d4",
          "size": 5
         },
         "mode": "markers",
         "name": "TAOK1",
         "text": "TAOK1",
         "type": "scatter3d",
         "x": [
          -0.6374845090121188
         ],
         "y": [
          -0.7358688461507337
         ],
         "z": [
          -0.2050687308506848
         ]
        },
        {
         "marker": {
          "color": "#40b9d4",
          "size": 5
         },
         "mode": "markers",
         "name": "EIF2S2",
         "text": "EIF2S2",
         "type": "scatter3d",
         "x": [
          0.023776819742465653
         ],
         "y": [
          -0.2749582997315873
         ],
         "z": [
          0.8582420045988017
         ]
        },
        {
         "marker": {
          "color": "#40b9d4",
          "size": 5
         },
         "mode": "markers",
         "name": "CYRIA",
         "text": "CYRIA",
         "type": "scatter3d",
         "x": [
          -0.6261843309016438
         ],
         "y": [
          -0.26865643791268146
         ],
         "z": [
          0.7623372315376754
         ]
        },
        {
         "marker": {
          "color": "#40b9d4",
          "size": 5
         },
         "mode": "markers",
         "name": "PRSS58",
         "text": "PRSS58",
         "type": "scatter3d",
         "x": [
          0.04628983662122589
         ],
         "y": [
          -0.06935655793319749
         ],
         "z": [
          -0.9478176882597819
         ]
        },
        {
         "marker": {
          "color": "#40b9d4",
          "size": 5
         },
         "mode": "markers",
         "name": "AC140504.1",
         "text": "AC140504.1",
         "type": "scatter3d",
         "x": [
          0.6568461359925667
         ],
         "y": [
          0.7906896269328829
         ],
         "z": [
          0.29825188862226915
         ]
        },
        {
         "marker": {
          "color": "#40b9d4",
          "size": 5
         },
         "mode": "markers",
         "name": "KIR3DL1",
         "text": "KIR3DL1",
         "type": "scatter3d",
         "x": [
          -0.6780587148638749
         ],
         "y": [
          -0.008274621535574239
         ],
         "z": [
          -0.686077545773068
         ]
        },
        {
         "marker": {
          "color": "#40b9d4",
          "size": 5
         },
         "mode": "markers",
         "name": "30545",
         "text": "30545",
         "type": "scatter3d",
         "x": [
          0.031080283249032177
         ],
         "y": [
          0.05161240237511019
         ],
         "z": [
          -0.015216335423300883
         ]
        },
        {
         "marker": {
          "color": "#40b9d4",
          "size": 5
         },
         "mode": "markers",
         "name": "30543",
         "text": "30543",
         "type": "scatter3d",
         "x": [
          0.034290856765918476
         ],
         "y": [
          -0.015754218704056484
         ],
         "z": [
          -0.05521044972618455
         ]
        },
        {
         "marker": {
          "color": "#40b9d4",
          "size": 5
         },
         "mode": "markers",
         "name": "30533",
         "text": "30533",
         "type": "scatter3d",
         "x": [
          -0.052216706185806754
         ],
         "y": [
          0.14232226033356393
         ],
         "z": [
          -0.021332158015549132
         ]
        },
        {
         "marker": {
          "color": "#40b9d4",
          "size": 5
         },
         "mode": "markers",
         "name": "30541",
         "text": "30541",
         "type": "scatter3d",
         "x": [
          0.03580340147156799
         ],
         "y": [
          0.02930860190709129
         ],
         "z": [
          0.00046956647879544663
         ]
        },
        {
         "marker": {
          "color": "#40b9d4",
          "size": 5
         },
         "mode": "markers",
         "name": "30537",
         "text": "30537",
         "type": "scatter3d",
         "x": [
          0.05590428359330566
         ],
         "y": [
          0.011617922705840755
         ],
         "z": [
          -0.016868676923380774
         ]
        },
        {
         "marker": {
          "color": "#40b9d4",
          "size": 5
         },
         "mode": "markers",
         "name": "30527",
         "text": "30527",
         "type": "scatter3d",
         "x": [
          -0.027375221457463926
         ],
         "y": [
          0.021625633952962648
         ],
         "z": [
          -0.04377404066380722
         ]
        },
        {
         "marker": {
          "color": "#40b9d4",
          "size": 5
         },
         "mode": "markers",
         "name": "30525",
         "text": "30525",
         "type": "scatter3d",
         "x": [
          0.052229727598703556
         ],
         "y": [
          -0.031111159801244872
         ],
         "z": [
          0.010457369712835523
         ]
        },
        {
         "marker": {
          "color": "#40b9d4",
          "size": 5
         },
         "mode": "markers",
         "name": "30521",
         "text": "30521",
         "type": "scatter3d",
         "x": [
          0.012745836792831042
         ],
         "y": [
          0.10114374637401023
         ],
         "z": [
          0.0026763816907900122
         ]
        },
        {
         "marker": {
          "color": "#40b9d4",
          "size": 5
         },
         "mode": "markers",
         "name": "30519",
         "text": "30519",
         "type": "scatter3d",
         "x": [
          0.06409063899936703
         ],
         "y": [
          0.09894715485771839
         ],
         "z": [
          0.04237036323233049
         ]
        },
        {
         "marker": {
          "color": "#40b9d4",
          "size": 5
         },
         "mode": "markers",
         "name": "30515",
         "text": "30515",
         "type": "scatter3d",
         "x": [
          0.09679536813974031
         ],
         "y": [
          0.0910602865367529
         ],
         "z": [
          -0.01744570344102699
         ]
        },
        {
         "marker": {
          "color": "#40b9d4",
          "size": 5
         },
         "mode": "markers",
         "name": "30505",
         "text": "30505",
         "type": "scatter3d",
         "x": [
          0.00980851223481658
         ],
         "y": [
          0.020808754490285523
         ],
         "z": [
          -0.060918707338682765
         ]
        },
        {
         "marker": {
          "color": "#40b9d4",
          "size": 5
         },
         "mode": "markers",
         "name": "30503",
         "text": "30503",
         "type": "scatter3d",
         "x": [
          0.07371378729669474
         ],
         "y": [
          0.04767919267725197
         ],
         "z": [
          0.04331246735080346
         ]
        },
        {
         "marker": {
          "color": "#40b9d4",
          "size": 5
         },
         "mode": "markers",
         "name": "30499",
         "text": "30499",
         "type": "scatter3d",
         "x": [
          -0.024076717827419974
         ],
         "y": [
          0.08508815617573467
         ],
         "z": [
          0.004287784785916636
         ]
        },
        {
         "marker": {
          "color": "#40b9d4",
          "size": 5
         },
         "mode": "markers",
         "name": "30495",
         "text": "30495",
         "type": "scatter3d",
         "x": [
          0.091644984488375
         ],
         "y": [
          0.002684919918073228
         ],
         "z": [
          -0.03381987585688231
         ]
        },
        {
         "marker": {
          "color": "#40b9d4",
          "size": 5
         },
         "mode": "markers",
         "name": "30539",
         "text": "30539",
         "type": "scatter3d",
         "x": [
          0.028437693008096974
         ],
         "y": [
          0.06153350072394458
         ],
         "z": [
          0.0443628678821816
         ]
        },
        {
         "marker": {
          "color": "#40b9d4",
          "size": 5
         },
         "mode": "markers",
         "name": "30501",
         "text": "30501",
         "type": "scatter3d",
         "x": [
          0.03510361132719733
         ],
         "y": [
          0.003068178253394963
         ],
         "z": [
          0.0811585769559376
         ]
        },
        {
         "marker": {
          "color": "#40b9d4",
          "size": 5
         },
         "mode": "markers",
         "name": "30529",
         "text": "30529",
         "type": "scatter3d",
         "x": [
          -0.030693336463389165
         ],
         "y": [
          0.14149382959355897
         ],
         "z": [
          0.033940311256866064
         ]
        },
        {
         "marker": {
          "color": "#40b9d4",
          "size": 5
         },
         "mode": "markers",
         "name": "30535",
         "text": "30535",
         "type": "scatter3d",
         "x": [
          -0.058575812623734146
         ],
         "y": [
          0.20266513175645876
         ],
         "z": [
          0.023134840016548676
         ]
        },
        {
         "marker": {
          "color": "#40b9d4",
          "size": 5
         },
         "mode": "markers",
         "name": "30531",
         "text": "30531",
         "type": "scatter3d",
         "x": [
          -0.09028698836390425
         ],
         "y": [
          0.16885265113027945
         ],
         "z": [
          0.040396440901175903
         ]
        },
        {
         "marker": {
          "color": "#40b9d4",
          "size": 5
         },
         "mode": "markers",
         "name": "30523",
         "text": "30523",
         "type": "scatter3d",
         "x": [
          -0.1359101650580627
         ],
         "y": [
          0.18024425402061295
         ],
         "z": [
          -0.03322951161419301
         ]
        },
        {
         "marker": {
          "color": "#40b9d4",
          "size": 5
         },
         "mode": "markers",
         "name": "30517",
         "text": "30517",
         "type": "scatter3d",
         "x": [
          -0.10806418366440831
         ],
         "y": [
          0.24013822776683497
         ],
         "z": [
          -0.06908704038980662
         ]
        },
        {
         "marker": {
          "color": "#40b9d4",
          "size": 5
         },
         "mode": "markers",
         "name": "30509",
         "text": "30509",
         "type": "scatter3d",
         "x": [
          -0.09924507896943739
         ],
         "y": [
          0.11889728839533517
         ],
         "z": [
          -0.08565451807070791
         ]
        },
        {
         "marker": {
          "color": "#40b9d4",
          "size": 5
         },
         "mode": "markers",
         "name": "30507",
         "text": "30507",
         "type": "scatter3d",
         "x": [
          -0.057015887568695446
         ],
         "y": [
          0.07161759825302637
         ],
         "z": [
          -0.0725181020276586
         ]
        },
        {
         "marker": {
          "color": "#40b9d4",
          "size": 5
         },
         "mode": "markers",
         "name": "30497",
         "text": "30497",
         "type": "scatter3d",
         "x": [
          0.029240076448733304
         ],
         "y": [
          0.1557265153831193
         ],
         "z": [
          0.012896939499474777
         ]
        },
        {
         "marker": {
          "color": "#40b9d4",
          "size": 5
         },
         "mode": "markers",
         "name": "30487",
         "text": "30487",
         "type": "scatter3d",
         "x": [
          -0.14813209292730145
         ],
         "y": [
          0.30737366662647947
         ],
         "z": [
          -0.10025301510808396
         ]
        },
        {
         "marker": {
          "color": "#40b9d4",
          "size": 5
         },
         "mode": "markers",
         "name": "30493",
         "text": "30493",
         "type": "scatter3d",
         "x": [
          0.1091750104928628
         ],
         "y": [
          0.16680503628992033
         ],
         "z": [
          -0.0035916259330220288
         ]
        },
        {
         "marker": {
          "color": "#40b9d4",
          "size": 5
         },
         "mode": "markers",
         "name": "30513",
         "text": "30513",
         "type": "scatter3d",
         "x": [
          -0.6835906097415606
         ],
         "y": [
          -0.36843126197386517
         ],
         "z": [
          0.43778325545756486
         ]
        },
        {
         "marker": {
          "color": "#40b9d4",
          "size": 5
         },
         "mode": "markers",
         "name": "30511",
         "text": "30511",
         "type": "scatter3d",
         "x": [
          -0.7020206660011559
         ],
         "y": [
          -0.3406573699061758
         ],
         "z": [
          0.41120609327419266
         ]
        },
        {
         "hoverinfo": "none",
         "line": {
          "color": "gray",
          "width": 1
         },
         "mode": "lines",
         "type": "scatter3d",
         "x": [
          0.031080283249032177,
          0.034290856765918476
         ],
         "y": [
          0.05161240237511019,
          -0.015754218704056484
         ],
         "z": [
          -0.015216335423300883,
          -0.05521044972618455
         ]
        },
        {
         "hoverinfo": "none",
         "line": {
          "color": "gray",
          "width": 1
         },
         "mode": "lines",
         "type": "scatter3d",
         "x": [
          0.031080283249032177,
          -0.052216706185806754
         ],
         "y": [
          0.05161240237511019,
          0.14232226033356393
         ],
         "z": [
          -0.015216335423300883,
          -0.021332158015549132
         ]
        },
        {
         "hoverinfo": "none",
         "line": {
          "color": "gray",
          "width": 1
         },
         "mode": "lines",
         "type": "scatter3d",
         "x": [
          0.031080283249032177,
          0.03580340147156799
         ],
         "y": [
          0.05161240237511019,
          0.02930860190709129
         ],
         "z": [
          -0.015216335423300883,
          0.00046956647879544663
         ]
        },
        {
         "hoverinfo": "none",
         "line": {
          "color": "gray",
          "width": 1
         },
         "mode": "lines",
         "type": "scatter3d",
         "x": [
          0.031080283249032177,
          0.05590428359330566
         ],
         "y": [
          0.05161240237511019,
          0.011617922705840755
         ],
         "z": [
          -0.015216335423300883,
          -0.016868676923380774
         ]
        },
        {
         "hoverinfo": "none",
         "line": {
          "color": "gray",
          "width": 1
         },
         "mode": "lines",
         "type": "scatter3d",
         "x": [
          0.031080283249032177,
          -0.027375221457463926
         ],
         "y": [
          0.05161240237511019,
          0.021625633952962648
         ],
         "z": [
          -0.015216335423300883,
          -0.04377404066380722
         ]
        },
        {
         "hoverinfo": "none",
         "line": {
          "color": "gray",
          "width": 1
         },
         "mode": "lines",
         "type": "scatter3d",
         "x": [
          0.031080283249032177,
          0.052229727598703556
         ],
         "y": [
          0.05161240237511019,
          -0.031111159801244872
         ],
         "z": [
          -0.015216335423300883,
          0.010457369712835523
         ]
        },
        {
         "hoverinfo": "none",
         "line": {
          "color": "gray",
          "width": 1
         },
         "mode": "lines",
         "type": "scatter3d",
         "x": [
          0.031080283249032177,
          0.012745836792831042
         ],
         "y": [
          0.05161240237511019,
          0.10114374637401023
         ],
         "z": [
          -0.015216335423300883,
          0.0026763816907900122
         ]
        },
        {
         "hoverinfo": "none",
         "line": {
          "color": "gray",
          "width": 1
         },
         "mode": "lines",
         "type": "scatter3d",
         "x": [
          0.031080283249032177,
          0.06409063899936703
         ],
         "y": [
          0.05161240237511019,
          0.09894715485771839
         ],
         "z": [
          -0.015216335423300883,
          0.04237036323233049
         ]
        },
        {
         "hoverinfo": "none",
         "line": {
          "color": "gray",
          "width": 1
         },
         "mode": "lines",
         "type": "scatter3d",
         "x": [
          0.031080283249032177,
          0.09679536813974031
         ],
         "y": [
          0.05161240237511019,
          0.0910602865367529
         ],
         "z": [
          -0.015216335423300883,
          -0.01744570344102699
         ]
        },
        {
         "hoverinfo": "none",
         "line": {
          "color": "gray",
          "width": 1
         },
         "mode": "lines",
         "type": "scatter3d",
         "x": [
          0.031080283249032177,
          0.00980851223481658
         ],
         "y": [
          0.05161240237511019,
          0.020808754490285523
         ],
         "z": [
          -0.015216335423300883,
          -0.060918707338682765
         ]
        },
        {
         "hoverinfo": "none",
         "line": {
          "color": "gray",
          "width": 1
         },
         "mode": "lines",
         "type": "scatter3d",
         "x": [
          0.031080283249032177,
          0.07371378729669474
         ],
         "y": [
          0.05161240237511019,
          0.04767919267725197
         ],
         "z": [
          -0.015216335423300883,
          0.04331246735080346
         ]
        },
        {
         "hoverinfo": "none",
         "line": {
          "color": "gray",
          "width": 1
         },
         "mode": "lines",
         "type": "scatter3d",
         "x": [
          0.031080283249032177,
          -0.024076717827419974
         ],
         "y": [
          0.05161240237511019,
          0.08508815617573467
         ],
         "z": [
          -0.015216335423300883,
          0.004287784785916636
         ]
        },
        {
         "hoverinfo": "none",
         "line": {
          "color": "gray",
          "width": 1
         },
         "mode": "lines",
         "type": "scatter3d",
         "x": [
          0.031080283249032177,
          0.091644984488375
         ],
         "y": [
          0.05161240237511019,
          0.002684919918073228
         ],
         "z": [
          -0.015216335423300883,
          -0.03381987585688231
         ]
        },
        {
         "hoverinfo": "none",
         "line": {
          "color": "gray",
          "width": 1
         },
         "mode": "lines",
         "type": "scatter3d",
         "x": [
          0.034290856765918476,
          0.03580340147156799
         ],
         "y": [
          -0.015754218704056484,
          0.02930860190709129
         ],
         "z": [
          -0.05521044972618455,
          0.00046956647879544663
         ]
        },
        {
         "hoverinfo": "none",
         "line": {
          "color": "gray",
          "width": 1
         },
         "mode": "lines",
         "type": "scatter3d",
         "x": [
          0.034290856765918476,
          0.00980851223481658
         ],
         "y": [
          -0.015754218704056484,
          0.020808754490285523
         ],
         "z": [
          -0.05521044972618455,
          -0.060918707338682765
         ]
        },
        {
         "hoverinfo": "none",
         "line": {
          "color": "gray",
          "width": 1
         },
         "mode": "lines",
         "type": "scatter3d",
         "x": [
          -0.052216706185806754,
          -0.058575812623734146
         ],
         "y": [
          0.14232226033356393,
          0.20266513175645876
         ],
         "z": [
          -0.021332158015549132,
          0.023134840016548676
         ]
        },
        {
         "hoverinfo": "none",
         "line": {
          "color": "gray",
          "width": 1
         },
         "mode": "lines",
         "type": "scatter3d",
         "x": [
          -0.052216706185806754,
          -0.09028698836390425
         ],
         "y": [
          0.14232226033356393,
          0.16885265113027945
         ],
         "z": [
          -0.021332158015549132,
          0.040396440901175903
         ]
        },
        {
         "hoverinfo": "none",
         "line": {
          "color": "gray",
          "width": 1
         },
         "mode": "lines",
         "type": "scatter3d",
         "x": [
          -0.052216706185806754,
          -0.030693336463389165
         ],
         "y": [
          0.14232226033356393,
          0.14149382959355897
         ],
         "z": [
          -0.021332158015549132,
          0.033940311256866064
         ]
        },
        {
         "hoverinfo": "none",
         "line": {
          "color": "gray",
          "width": 1
         },
         "mode": "lines",
         "type": "scatter3d",
         "x": [
          -0.052216706185806754,
          -0.1359101650580627
         ],
         "y": [
          0.14232226033356393,
          0.18024425402061295
         ],
         "z": [
          -0.021332158015549132,
          -0.03322951161419301
         ]
        },
        {
         "hoverinfo": "none",
         "line": {
          "color": "gray",
          "width": 1
         },
         "mode": "lines",
         "type": "scatter3d",
         "x": [
          -0.052216706185806754,
          0.012745836792831042
         ],
         "y": [
          0.14232226033356393,
          0.10114374637401023
         ],
         "z": [
          -0.021332158015549132,
          0.0026763816907900122
         ]
        },
        {
         "hoverinfo": "none",
         "line": {
          "color": "gray",
          "width": 1
         },
         "mode": "lines",
         "type": "scatter3d",
         "x": [
          -0.052216706185806754,
          -0.10806418366440831
         ],
         "y": [
          0.14232226033356393,
          0.24013822776683497
         ],
         "z": [
          -0.021332158015549132,
          -0.06908704038980662
         ]
        },
        {
         "hoverinfo": "none",
         "line": {
          "color": "gray",
          "width": 1
         },
         "mode": "lines",
         "type": "scatter3d",
         "x": [
          -0.052216706185806754,
          -0.09924507896943739
         ],
         "y": [
          0.14232226033356393,
          0.11889728839533517
         ],
         "z": [
          -0.021332158015549132,
          -0.08565451807070791
         ]
        },
        {
         "hoverinfo": "none",
         "line": {
          "color": "gray",
          "width": 1
         },
         "mode": "lines",
         "type": "scatter3d",
         "x": [
          -0.052216706185806754,
          -0.057015887568695446
         ],
         "y": [
          0.14232226033356393,
          0.07161759825302637
         ],
         "z": [
          -0.021332158015549132,
          -0.0725181020276586
         ]
        },
        {
         "hoverinfo": "none",
         "line": {
          "color": "gray",
          "width": 1
         },
         "mode": "lines",
         "type": "scatter3d",
         "x": [
          -0.052216706185806754,
          -0.024076717827419974
         ],
         "y": [
          0.14232226033356393,
          0.08508815617573467
         ],
         "z": [
          -0.021332158015549132,
          0.004287784785916636
         ]
        },
        {
         "hoverinfo": "none",
         "line": {
          "color": "gray",
          "width": 1
         },
         "mode": "lines",
         "type": "scatter3d",
         "x": [
          -0.052216706185806754,
          0.029240076448733304
         ],
         "y": [
          0.14232226033356393,
          0.1557265153831193
         ],
         "z": [
          -0.021332158015549132,
          0.012896939499474777
         ]
        },
        {
         "hoverinfo": "none",
         "line": {
          "color": "gray",
          "width": 1
         },
         "mode": "lines",
         "type": "scatter3d",
         "x": [
          0.03580340147156799,
          0.028437693008096974
         ],
         "y": [
          0.02930860190709129,
          0.06153350072394458
         ],
         "z": [
          0.00046956647879544663,
          0.0443628678821816
         ]
        },
        {
         "hoverinfo": "none",
         "line": {
          "color": "gray",
          "width": 1
         },
         "mode": "lines",
         "type": "scatter3d",
         "x": [
          0.03580340147156799,
          0.05590428359330566
         ],
         "y": [
          0.02930860190709129,
          0.011617922705840755
         ],
         "z": [
          0.00046956647879544663,
          -0.016868676923380774
         ]
        },
        {
         "hoverinfo": "none",
         "line": {
          "color": "gray",
          "width": 1
         },
         "mode": "lines",
         "type": "scatter3d",
         "x": [
          0.03580340147156799,
          -0.027375221457463926
         ],
         "y": [
          0.02930860190709129,
          0.021625633952962648
         ],
         "z": [
          0.00046956647879544663,
          -0.04377404066380722
         ]
        },
        {
         "hoverinfo": "none",
         "line": {
          "color": "gray",
          "width": 1
         },
         "mode": "lines",
         "type": "scatter3d",
         "x": [
          0.03580340147156799,
          0.052229727598703556
         ],
         "y": [
          0.02930860190709129,
          -0.031111159801244872
         ],
         "z": [
          0.00046956647879544663,
          0.010457369712835523
         ]
        },
        {
         "hoverinfo": "none",
         "line": {
          "color": "gray",
          "width": 1
         },
         "mode": "lines",
         "type": "scatter3d",
         "x": [
          0.03580340147156799,
          0.012745836792831042
         ],
         "y": [
          0.02930860190709129,
          0.10114374637401023
         ],
         "z": [
          0.00046956647879544663,
          0.0026763816907900122
         ]
        },
        {
         "hoverinfo": "none",
         "line": {
          "color": "gray",
          "width": 1
         },
         "mode": "lines",
         "type": "scatter3d",
         "x": [
          0.03580340147156799,
          0.09679536813974031
         ],
         "y": [
          0.02930860190709129,
          0.0910602865367529
         ],
         "z": [
          0.00046956647879544663,
          -0.01744570344102699
         ]
        },
        {
         "hoverinfo": "none",
         "line": {
          "color": "gray",
          "width": 1
         },
         "mode": "lines",
         "type": "scatter3d",
         "x": [
          0.03580340147156799,
          0.00980851223481658
         ],
         "y": [
          0.02930860190709129,
          0.020808754490285523
         ],
         "z": [
          0.00046956647879544663,
          -0.060918707338682765
         ]
        },
        {
         "hoverinfo": "none",
         "line": {
          "color": "gray",
          "width": 1
         },
         "mode": "lines",
         "type": "scatter3d",
         "x": [
          0.03580340147156799,
          0.07371378729669474
         ],
         "y": [
          0.02930860190709129,
          0.04767919267725197
         ],
         "z": [
          0.00046956647879544663,
          0.04331246735080346
         ]
        },
        {
         "hoverinfo": "none",
         "line": {
          "color": "gray",
          "width": 1
         },
         "mode": "lines",
         "type": "scatter3d",
         "x": [
          0.03580340147156799,
          0.03510361132719733
         ],
         "y": [
          0.02930860190709129,
          0.003068178253394963
         ],
         "z": [
          0.00046956647879544663,
          0.0811585769559376
         ]
        },
        {
         "hoverinfo": "none",
         "line": {
          "color": "gray",
          "width": 1
         },
         "mode": "lines",
         "type": "scatter3d",
         "x": [
          0.03580340147156799,
          -0.024076717827419974
         ],
         "y": [
          0.02930860190709129,
          0.08508815617573467
         ],
         "z": [
          0.00046956647879544663,
          0.004287784785916636
         ]
        },
        {
         "hoverinfo": "none",
         "line": {
          "color": "gray",
          "width": 1
         },
         "mode": "lines",
         "type": "scatter3d",
         "x": [
          0.03580340147156799,
          0.091644984488375
         ],
         "y": [
          0.02930860190709129,
          0.002684919918073228
         ],
         "z": [
          0.00046956647879544663,
          -0.03381987585688231
         ]
        },
        {
         "hoverinfo": "none",
         "line": {
          "color": "gray",
          "width": 1
         },
         "mode": "lines",
         "type": "scatter3d",
         "x": [
          0.05590428359330566,
          0.028437693008096974
         ],
         "y": [
          0.011617922705840755,
          0.06153350072394458
         ],
         "z": [
          -0.016868676923380774,
          0.0443628678821816
         ]
        },
        {
         "hoverinfo": "none",
         "line": {
          "color": "gray",
          "width": 1
         },
         "mode": "lines",
         "type": "scatter3d",
         "x": [
          0.05590428359330566,
          0.00980851223481658
         ],
         "y": [
          0.011617922705840755,
          0.020808754490285523
         ],
         "z": [
          -0.016868676923380774,
          -0.060918707338682765
         ]
        },
        {
         "hoverinfo": "none",
         "line": {
          "color": "gray",
          "width": 1
         },
         "mode": "lines",
         "type": "scatter3d",
         "x": [
          0.05590428359330566,
          0.091644984488375
         ],
         "y": [
          0.011617922705840755,
          0.002684919918073228
         ],
         "z": [
          -0.016868676923380774,
          -0.03381987585688231
         ]
        },
        {
         "hoverinfo": "none",
         "line": {
          "color": "gray",
          "width": 1
         },
         "mode": "lines",
         "type": "scatter3d",
         "x": [
          -0.027375221457463926,
          -0.057015887568695446
         ],
         "y": [
          0.021625633952962648,
          0.07161759825302637
         ],
         "z": [
          -0.04377404066380722,
          -0.0725181020276586
         ]
        },
        {
         "hoverinfo": "none",
         "line": {
          "color": "gray",
          "width": 1
         },
         "mode": "lines",
         "type": "scatter3d",
         "x": [
          0.012745836792831042,
          0.028437693008096974
         ],
         "y": [
          0.10114374637401023,
          0.06153350072394458
         ],
         "z": [
          0.0026763816907900122,
          0.0443628678821816
         ]
        },
        {
         "hoverinfo": "none",
         "line": {
          "color": "gray",
          "width": 1
         },
         "mode": "lines",
         "type": "scatter3d",
         "x": [
          0.012745836792831042,
          0.029240076448733304
         ],
         "y": [
          0.10114374637401023,
          0.1557265153831193
         ],
         "z": [
          0.0026763816907900122,
          0.012896939499474777
         ]
        },
        {
         "hoverinfo": "none",
         "line": {
          "color": "gray",
          "width": 1
         },
         "mode": "lines",
         "type": "scatter3d",
         "x": [
          0.06409063899936703,
          0.028437693008096974
         ],
         "y": [
          0.09894715485771839,
          0.06153350072394458
         ],
         "z": [
          0.04237036323233049,
          0.0443628678821816
         ]
        },
        {
         "hoverinfo": "none",
         "line": {
          "color": "gray",
          "width": 1
         },
         "mode": "lines",
         "type": "scatter3d",
         "x": [
          0.06409063899936703,
          0.07371378729669474
         ],
         "y": [
          0.09894715485771839,
          0.04767919267725197
         ],
         "z": [
          0.04237036323233049,
          0.04331246735080346
         ]
        },
        {
         "hoverinfo": "none",
         "line": {
          "color": "gray",
          "width": 1
         },
         "mode": "lines",
         "type": "scatter3d",
         "x": [
          0.06409063899936703,
          0.029240076448733304
         ],
         "y": [
          0.09894715485771839,
          0.1557265153831193
         ],
         "z": [
          0.04237036323233049,
          0.012896939499474777
         ]
        },
        {
         "hoverinfo": "none",
         "line": {
          "color": "gray",
          "width": 1
         },
         "mode": "lines",
         "type": "scatter3d",
         "x": [
          0.09679536813974031,
          0.1091750104928628
         ],
         "y": [
          0.0910602865367529,
          0.16680503628992033
         ],
         "z": [
          -0.01744570344102699,
          -0.0035916259330220288
         ]
        },
        {
         "hoverinfo": "none",
         "line": {
          "color": "gray",
          "width": 1
         },
         "mode": "lines",
         "type": "scatter3d",
         "x": [
          0.00980851223481658,
          -0.057015887568695446
         ],
         "y": [
          0.020808754490285523,
          0.07161759825302637
         ],
         "z": [
          -0.060918707338682765,
          -0.0725181020276586
         ]
        },
        {
         "hoverinfo": "none",
         "line": {
          "color": "gray",
          "width": 1
         },
         "mode": "lines",
         "type": "scatter3d",
         "x": [
          0.07371378729669474,
          0.028437693008096974
         ],
         "y": [
          0.04767919267725197,
          0.06153350072394458
         ],
         "z": [
          0.04331246735080346,
          0.0443628678821816
         ]
        },
        {
         "hoverinfo": "none",
         "line": {
          "color": "gray",
          "width": 1
         },
         "mode": "lines",
         "type": "scatter3d",
         "x": [
          -0.024076717827419974,
          -0.030693336463389165
         ],
         "y": [
          0.08508815617573467,
          0.14149382959355897
         ],
         "z": [
          0.004287784785916636,
          0.033940311256866064
         ]
        },
        {
         "hoverinfo": "none",
         "line": {
          "color": "gray",
          "width": 1
         },
         "mode": "lines",
         "type": "scatter3d",
         "x": [
          0.028437693008096974,
          -0.030693336463389165
         ],
         "y": [
          0.06153350072394458,
          0.14149382959355897
         ],
         "z": [
          0.0443628678821816,
          0.033940311256866064
         ]
        },
        {
         "hoverinfo": "none",
         "line": {
          "color": "gray",
          "width": 1
         },
         "mode": "lines",
         "type": "scatter3d",
         "x": [
          0.028437693008096974,
          0.03510361132719733
         ],
         "y": [
          0.06153350072394458,
          0.003068178253394963
         ],
         "z": [
          0.0443628678821816,
          0.0811585769559376
         ]
        },
        {
         "hoverinfo": "none",
         "line": {
          "color": "gray",
          "width": 1
         },
         "mode": "lines",
         "type": "scatter3d",
         "x": [
          -0.030693336463389165,
          -0.058575812623734146
         ],
         "y": [
          0.14149382959355897,
          0.20266513175645876
         ],
         "z": [
          0.033940311256866064,
          0.023134840016548676
         ]
        },
        {
         "hoverinfo": "none",
         "line": {
          "color": "gray",
          "width": 1
         },
         "mode": "lines",
         "type": "scatter3d",
         "x": [
          -0.030693336463389165,
          -0.09028698836390425
         ],
         "y": [
          0.14149382959355897,
          0.16885265113027945
         ],
         "z": [
          0.033940311256866064,
          0.040396440901175903
         ]
        },
        {
         "hoverinfo": "none",
         "line": {
          "color": "gray",
          "width": 1
         },
         "mode": "lines",
         "type": "scatter3d",
         "x": [
          -0.030693336463389165,
          0.029240076448733304
         ],
         "y": [
          0.14149382959355897,
          0.1557265153831193
         ],
         "z": [
          0.033940311256866064,
          0.012896939499474777
         ]
        },
        {
         "hoverinfo": "none",
         "line": {
          "color": "gray",
          "width": 1
         },
         "mode": "lines",
         "type": "scatter3d",
         "x": [
          -0.10806418366440831,
          -0.14813209292730145
         ],
         "y": [
          0.24013822776683497,
          0.30737366662647947
         ],
         "z": [
          -0.06908704038980662,
          -0.10025301510808396
         ]
        },
        {
         "hoverinfo": "none",
         "line": {
          "color": "gray",
          "width": 1
         },
         "mode": "lines",
         "type": "scatter3d",
         "x": [
          -0.09924507896943739,
          -0.057015887568695446
         ],
         "y": [
          0.11889728839533517,
          0.07161759825302637
         ],
         "z": [
          -0.08565451807070791,
          -0.0725181020276586
         ]
        },
        {
         "hoverinfo": "none",
         "line": {
          "color": "gray",
          "width": 1
         },
         "mode": "lines",
         "type": "scatter3d",
         "x": [
          0.029240076448733304,
          0.1091750104928628
         ],
         "y": [
          0.1557265153831193,
          0.16680503628992033
         ],
         "z": [
          0.012896939499474777,
          -0.0035916259330220288
         ]
        },
        {
         "hoverinfo": "none",
         "line": {
          "color": "gray",
          "width": 1
         },
         "mode": "lines",
         "type": "scatter3d",
         "x": [
          -0.6835906097415606,
          -0.7020206660011559
         ],
         "y": [
          -0.36843126197386517,
          -0.3406573699061758
         ],
         "z": [
          0.43778325545756486,
          0.41120609327419266
         ]
        }
       ],
       "layout": {
        "hovermode": "closest",
        "margin": {
         "b": 0,
         "l": 0,
         "r": 0,
         "t": 0
        },
        "scene": {
         "xaxis": {
          "visible": false
         },
         "yaxis": {
          "visible": false
         },
         "zaxis": {
          "visible": false
         }
        },
        "showlegend": false,
        "template": {
         "data": {
          "bar": [
           {
            "error_x": {
             "color": "#2a3f5f"
            },
            "error_y": {
             "color": "#2a3f5f"
            },
            "marker": {
             "line": {
              "color": "#E5ECF6",
              "width": 0.5
             },
             "pattern": {
              "fillmode": "overlay",
              "size": 10,
              "solidity": 0.2
             }
            },
            "type": "bar"
           }
          ],
          "barpolar": [
           {
            "marker": {
             "line": {
              "color": "#E5ECF6",
              "width": 0.5
             },
             "pattern": {
              "fillmode": "overlay",
              "size": 10,
              "solidity": 0.2
             }
            },
            "type": "barpolar"
           }
          ],
          "carpet": [
           {
            "aaxis": {
             "endlinecolor": "#2a3f5f",
             "gridcolor": "white",
             "linecolor": "white",
             "minorgridcolor": "white",
             "startlinecolor": "#2a3f5f"
            },
            "baxis": {
             "endlinecolor": "#2a3f5f",
             "gridcolor": "white",
             "linecolor": "white",
             "minorgridcolor": "white",
             "startlinecolor": "#2a3f5f"
            },
            "type": "carpet"
           }
          ],
          "choropleth": [
           {
            "colorbar": {
             "outlinewidth": 0,
             "ticks": ""
            },
            "type": "choropleth"
           }
          ],
          "contour": [
           {
            "colorbar": {
             "outlinewidth": 0,
             "ticks": ""
            },
            "colorscale": [
             [
              0,
              "#0d0887"
             ],
             [
              0.1111111111111111,
              "#46039f"
             ],
             [
              0.2222222222222222,
              "#7201a8"
             ],
             [
              0.3333333333333333,
              "#9c179e"
             ],
             [
              0.4444444444444444,
              "#bd3786"
             ],
             [
              0.5555555555555556,
              "#d8576b"
             ],
             [
              0.6666666666666666,
              "#ed7953"
             ],
             [
              0.7777777777777778,
              "#fb9f3a"
             ],
             [
              0.8888888888888888,
              "#fdca26"
             ],
             [
              1,
              "#f0f921"
             ]
            ],
            "type": "contour"
           }
          ],
          "contourcarpet": [
           {
            "colorbar": {
             "outlinewidth": 0,
             "ticks": ""
            },
            "type": "contourcarpet"
           }
          ],
          "heatmap": [
           {
            "colorbar": {
             "outlinewidth": 0,
             "ticks": ""
            },
            "colorscale": [
             [
              0,
              "#0d0887"
             ],
             [
              0.1111111111111111,
              "#46039f"
             ],
             [
              0.2222222222222222,
              "#7201a8"
             ],
             [
              0.3333333333333333,
              "#9c179e"
             ],
             [
              0.4444444444444444,
              "#bd3786"
             ],
             [
              0.5555555555555556,
              "#d8576b"
             ],
             [
              0.6666666666666666,
              "#ed7953"
             ],
             [
              0.7777777777777778,
              "#fb9f3a"
             ],
             [
              0.8888888888888888,
              "#fdca26"
             ],
             [
              1,
              "#f0f921"
             ]
            ],
            "type": "heatmap"
           }
          ],
          "heatmapgl": [
           {
            "colorbar": {
             "outlinewidth": 0,
             "ticks": ""
            },
            "colorscale": [
             [
              0,
              "#0d0887"
             ],
             [
              0.1111111111111111,
              "#46039f"
             ],
             [
              0.2222222222222222,
              "#7201a8"
             ],
             [
              0.3333333333333333,
              "#9c179e"
             ],
             [
              0.4444444444444444,
              "#bd3786"
             ],
             [
              0.5555555555555556,
              "#d8576b"
             ],
             [
              0.6666666666666666,
              "#ed7953"
             ],
             [
              0.7777777777777778,
              "#fb9f3a"
             ],
             [
              0.8888888888888888,
              "#fdca26"
             ],
             [
              1,
              "#f0f921"
             ]
            ],
            "type": "heatmapgl"
           }
          ],
          "histogram": [
           {
            "marker": {
             "pattern": {
              "fillmode": "overlay",
              "size": 10,
              "solidity": 0.2
             }
            },
            "type": "histogram"
           }
          ],
          "histogram2d": [
           {
            "colorbar": {
             "outlinewidth": 0,
             "ticks": ""
            },
            "colorscale": [
             [
              0,
              "#0d0887"
             ],
             [
              0.1111111111111111,
              "#46039f"
             ],
             [
              0.2222222222222222,
              "#7201a8"
             ],
             [
              0.3333333333333333,
              "#9c179e"
             ],
             [
              0.4444444444444444,
              "#bd3786"
             ],
             [
              0.5555555555555556,
              "#d8576b"
             ],
             [
              0.6666666666666666,
              "#ed7953"
             ],
             [
              0.7777777777777778,
              "#fb9f3a"
             ],
             [
              0.8888888888888888,
              "#fdca26"
             ],
             [
              1,
              "#f0f921"
             ]
            ],
            "type": "histogram2d"
           }
          ],
          "histogram2dcontour": [
           {
            "colorbar": {
             "outlinewidth": 0,
             "ticks": ""
            },
            "colorscale": [
             [
              0,
              "#0d0887"
             ],
             [
              0.1111111111111111,
              "#46039f"
             ],
             [
              0.2222222222222222,
              "#7201a8"
             ],
             [
              0.3333333333333333,
              "#9c179e"
             ],
             [
              0.4444444444444444,
              "#bd3786"
             ],
             [
              0.5555555555555556,
              "#d8576b"
             ],
             [
              0.6666666666666666,
              "#ed7953"
             ],
             [
              0.7777777777777778,
              "#fb9f3a"
             ],
             [
              0.8888888888888888,
              "#fdca26"
             ],
             [
              1,
              "#f0f921"
             ]
            ],
            "type": "histogram2dcontour"
           }
          ],
          "mesh3d": [
           {
            "colorbar": {
             "outlinewidth": 0,
             "ticks": ""
            },
            "type": "mesh3d"
           }
          ],
          "parcoords": [
           {
            "line": {
             "colorbar": {
              "outlinewidth": 0,
              "ticks": ""
             }
            },
            "type": "parcoords"
           }
          ],
          "pie": [
           {
            "automargin": true,
            "type": "pie"
           }
          ],
          "scatter": [
           {
            "fillpattern": {
             "fillmode": "overlay",
             "size": 10,
             "solidity": 0.2
            },
            "type": "scatter"
           }
          ],
          "scatter3d": [
           {
            "line": {
             "colorbar": {
              "outlinewidth": 0,
              "ticks": ""
             }
            },
            "marker": {
             "colorbar": {
              "outlinewidth": 0,
              "ticks": ""
             }
            },
            "type": "scatter3d"
           }
          ],
          "scattercarpet": [
           {
            "marker": {
             "colorbar": {
              "outlinewidth": 0,
              "ticks": ""
             }
            },
            "type": "scattercarpet"
           }
          ],
          "scattergeo": [
           {
            "marker": {
             "colorbar": {
              "outlinewidth": 0,
              "ticks": ""
             }
            },
            "type": "scattergeo"
           }
          ],
          "scattergl": [
           {
            "marker": {
             "colorbar": {
              "outlinewidth": 0,
              "ticks": ""
             }
            },
            "type": "scattergl"
           }
          ],
          "scattermapbox": [
           {
            "marker": {
             "colorbar": {
              "outlinewidth": 0,
              "ticks": ""
             }
            },
            "type": "scattermapbox"
           }
          ],
          "scatterpolar": [
           {
            "marker": {
             "colorbar": {
              "outlinewidth": 0,
              "ticks": ""
             }
            },
            "type": "scatterpolar"
           }
          ],
          "scatterpolargl": [
           {
            "marker": {
             "colorbar": {
              "outlinewidth": 0,
              "ticks": ""
             }
            },
            "type": "scatterpolargl"
           }
          ],
          "scatterternary": [
           {
            "marker": {
             "colorbar": {
              "outlinewidth": 0,
              "ticks": ""
             }
            },
            "type": "scatterternary"
           }
          ],
          "surface": [
           {
            "colorbar": {
             "outlinewidth": 0,
             "ticks": ""
            },
            "colorscale": [
             [
              0,
              "#0d0887"
             ],
             [
              0.1111111111111111,
              "#46039f"
             ],
             [
              0.2222222222222222,
              "#7201a8"
             ],
             [
              0.3333333333333333,
              "#9c179e"
             ],
             [
              0.4444444444444444,
              "#bd3786"
             ],
             [
              0.5555555555555556,
              "#d8576b"
             ],
             [
              0.6666666666666666,
              "#ed7953"
             ],
             [
              0.7777777777777778,
              "#fb9f3a"
             ],
             [
              0.8888888888888888,
              "#fdca26"
             ],
             [
              1,
              "#f0f921"
             ]
            ],
            "type": "surface"
           }
          ],
          "table": [
           {
            "cells": {
             "fill": {
              "color": "#EBF0F8"
             },
             "line": {
              "color": "white"
             }
            },
            "header": {
             "fill": {
              "color": "#C8D4E3"
             },
             "line": {
              "color": "white"
             }
            },
            "type": "table"
           }
          ]
         },
         "layout": {
          "annotationdefaults": {
           "arrowcolor": "#2a3f5f",
           "arrowhead": 0,
           "arrowwidth": 1
          },
          "autotypenumbers": "strict",
          "coloraxis": {
           "colorbar": {
            "outlinewidth": 0,
            "ticks": ""
           }
          },
          "colorscale": {
           "diverging": [
            [
             0,
             "#8e0152"
            ],
            [
             0.1,
             "#c51b7d"
            ],
            [
             0.2,
             "#de77ae"
            ],
            [
             0.3,
             "#f1b6da"
            ],
            [
             0.4,
             "#fde0ef"
            ],
            [
             0.5,
             "#f7f7f7"
            ],
            [
             0.6,
             "#e6f5d0"
            ],
            [
             0.7,
             "#b8e186"
            ],
            [
             0.8,
             "#7fbc41"
            ],
            [
             0.9,
             "#4d9221"
            ],
            [
             1,
             "#276419"
            ]
           ],
           "sequential": [
            [
             0,
             "#0d0887"
            ],
            [
             0.1111111111111111,
             "#46039f"
            ],
            [
             0.2222222222222222,
             "#7201a8"
            ],
            [
             0.3333333333333333,
             "#9c179e"
            ],
            [
             0.4444444444444444,
             "#bd3786"
            ],
            [
             0.5555555555555556,
             "#d8576b"
            ],
            [
             0.6666666666666666,
             "#ed7953"
            ],
            [
             0.7777777777777778,
             "#fb9f3a"
            ],
            [
             0.8888888888888888,
             "#fdca26"
            ],
            [
             1,
             "#f0f921"
            ]
           ],
           "sequentialminus": [
            [
             0,
             "#0d0887"
            ],
            [
             0.1111111111111111,
             "#46039f"
            ],
            [
             0.2222222222222222,
             "#7201a8"
            ],
            [
             0.3333333333333333,
             "#9c179e"
            ],
            [
             0.4444444444444444,
             "#bd3786"
            ],
            [
             0.5555555555555556,
             "#d8576b"
            ],
            [
             0.6666666666666666,
             "#ed7953"
            ],
            [
             0.7777777777777778,
             "#fb9f3a"
            ],
            [
             0.8888888888888888,
             "#fdca26"
            ],
            [
             1,
             "#f0f921"
            ]
           ]
          },
          "colorway": [
           "#636efa",
           "#EF553B",
           "#00cc96",
           "#ab63fa",
           "#FFA15A",
           "#19d3f3",
           "#FF6692",
           "#B6E880",
           "#FF97FF",
           "#FECB52"
          ],
          "font": {
           "color": "#2a3f5f"
          },
          "geo": {
           "bgcolor": "white",
           "lakecolor": "white",
           "landcolor": "#E5ECF6",
           "showlakes": true,
           "showland": true,
           "subunitcolor": "white"
          },
          "hoverlabel": {
           "align": "left"
          },
          "hovermode": "closest",
          "mapbox": {
           "style": "light"
          },
          "paper_bgcolor": "white",
          "plot_bgcolor": "#E5ECF6",
          "polar": {
           "angularaxis": {
            "gridcolor": "white",
            "linecolor": "white",
            "ticks": ""
           },
           "bgcolor": "#E5ECF6",
           "radialaxis": {
            "gridcolor": "white",
            "linecolor": "white",
            "ticks": ""
           }
          },
          "scene": {
           "xaxis": {
            "backgroundcolor": "#E5ECF6",
            "gridcolor": "white",
            "gridwidth": 2,
            "linecolor": "white",
            "showbackground": true,
            "ticks": "",
            "zerolinecolor": "white"
           },
           "yaxis": {
            "backgroundcolor": "#E5ECF6",
            "gridcolor": "white",
            "gridwidth": 2,
            "linecolor": "white",
            "showbackground": true,
            "ticks": "",
            "zerolinecolor": "white"
           },
           "zaxis": {
            "backgroundcolor": "#E5ECF6",
            "gridcolor": "white",
            "gridwidth": 2,
            "linecolor": "white",
            "showbackground": true,
            "ticks": "",
            "zerolinecolor": "white"
           }
          },
          "shapedefaults": {
           "line": {
            "color": "#2a3f5f"
           }
          },
          "ternary": {
           "aaxis": {
            "gridcolor": "white",
            "linecolor": "white",
            "ticks": ""
           },
           "baxis": {
            "gridcolor": "white",
            "linecolor": "white",
            "ticks": ""
           },
           "bgcolor": "#E5ECF6",
           "caxis": {
            "gridcolor": "white",
            "linecolor": "white",
            "ticks": ""
           }
          },
          "title": {
           "x": 0.05
          },
          "xaxis": {
           "automargin": true,
           "gridcolor": "white",
           "linecolor": "white",
           "ticks": "",
           "title": {
            "standoff": 15
           },
           "zerolinecolor": "white",
           "zerolinewidth": 2
          },
          "yaxis": {
           "automargin": true,
           "gridcolor": "white",
           "linecolor": "white",
           "ticks": "",
           "title": {
            "standoff": 15
           },
           "zerolinecolor": "white",
           "zerolinewidth": 2
          }
         }
        }
       }
      },
      "text/html": [
       "<div>                            <div id=\"5c45bb69-b794-4474-9b50-14df0b3d77c7\" class=\"plotly-graph-div\" style=\"height:525px; width:100%;\"></div>            <script type=\"text/javascript\">                require([\"plotly\"], function(Plotly) {                    window.PLOTLYENV=window.PLOTLYENV || {};                                    if (document.getElementById(\"5c45bb69-b794-4474-9b50-14df0b3d77c7\")) {                    Plotly.newPlot(                        \"5c45bb69-b794-4474-9b50-14df0b3d77c7\",                        [{\"marker\":{\"color\":\"#40b9d4\",\"size\":5},\"mode\":\"markers\",\"name\":\"GTPBP4\",\"text\":\"GTPBP4\",\"x\":[-0.6773948031670666],\"y\":[0.7510285895541053],\"z\":[-0.3322815261934436],\"type\":\"scatter3d\"},{\"marker\":{\"color\":\"#40b9d4\",\"size\":5},\"mode\":\"markers\",\"name\":\"TMX2\",\"text\":\"TMX2\",\"x\":[-0.3990482799099915],\"y\":[-0.6495102982049191],\"z\":[-0.6942752538173642],\"type\":\"scatter3d\"},{\"marker\":{\"color\":\"#40b9d4\",\"size\":5},\"mode\":\"markers\",\"name\":\"NARS1\",\"text\":\"NARS1\",\"x\":[0.28407202270453535],\"y\":[-0.8374197045312294],\"z\":[0.21361586374050182],\"type\":\"scatter3d\"},{\"marker\":{\"color\":\"#40b9d4\",\"size\":5},\"mode\":\"markers\",\"name\":\"CLIC4\",\"text\":\"CLIC4\",\"x\":[0.7799516670942191],\"y\":[0.4934377628351547],\"z\":[0.28139959167872824],\"type\":\"scatter3d\"},{\"marker\":{\"color\":\"#40b9d4\",\"size\":5},\"mode\":\"markers\",\"name\":\"CARS1\",\"text\":\"CARS1\",\"x\":[0.13182421186504817],\"y\":[-0.8398987798675714],\"z\":[-0.35983528181234176],\"type\":\"scatter3d\"},{\"marker\":{\"color\":\"#40b9d4\",\"size\":5},\"mode\":\"markers\",\"name\":\"BRWD3\",\"text\":\"BRWD3\",\"x\":[0.9694177448847281],\"y\":[-0.05180629721346495],\"z\":[-0.11733364389928833],\"type\":\"scatter3d\"},{\"marker\":{\"color\":\"#40b9d4\",\"size\":5},\"mode\":\"markers\",\"name\":\"PRR14L\",\"text\":\"PRR14L\",\"x\":[-0.265470155950465],\"y\":[0.8403159028019995],\"z\":[0.49647093697373607],\"type\":\"scatter3d\"},{\"marker\":{\"color\":\"#40b9d4\",\"size\":5},\"mode\":\"markers\",\"name\":\"AASDH\",\"text\":\"AASDH\",\"x\":[-0.4835709770334216],\"y\":[-0.7208988247790535],\"z\":[0.29899561218384935],\"type\":\"scatter3d\"},{\"marker\":{\"color\":\"#40b9d4\",\"size\":5},\"mode\":\"markers\",\"name\":\"PTAR1\",\"text\":\"PTAR1\",\"x\":[-0.8256136965368867],\"y\":[-0.45030856260258195],\"z\":[-0.037587408729828034],\"type\":\"scatter3d\"},{\"marker\":{\"color\":\"#40b9d4\",\"size\":5},\"mode\":\"markers\",\"name\":\"KRR1\",\"text\":\"KRR1\",\"x\":[0.696996085336721],\"y\":[-0.5699436654136526],\"z\":[0.5202060171600207],\"type\":\"scatter3d\"},{\"marker\":{\"color\":\"#40b9d4\",\"size\":5},\"mode\":\"markers\",\"name\":\"SDAD1\",\"text\":\"SDAD1\",\"x\":[-0.03613249486158648],\"y\":[-0.8073821881723875],\"z\":[0.420026830686042],\"type\":\"scatter3d\"},{\"marker\":{\"color\":\"#40b9d4\",\"size\":5},\"mode\":\"markers\",\"name\":\"TAAR6\",\"text\":\"TAAR6\",\"x\":[-0.502802583279006],\"y\":[0.2881437221658169],\"z\":[0.829239759021342],\"type\":\"scatter3d\"},{\"marker\":{\"color\":\"#40b9d4\",\"size\":5},\"mode\":\"markers\",\"name\":\"CCT5\",\"text\":\"CCT5\",\"x\":[0.7935781270169096],\"y\":[-0.5232624697549306],\"z\":[-0.014883411448266168],\"type\":\"scatter3d\"},{\"marker\":{\"color\":\"#40b9d4\",\"size\":5},\"mode\":\"markers\",\"name\":\"IPO7\",\"text\":\"IPO7\",\"x\":[-0.058427561508348644],\"y\":[0.8991198969844529],\"z\":[-0.1480286904938402],\"type\":\"scatter3d\"},{\"marker\":{\"color\":\"#40b9d4\",\"size\":5},\"mode\":\"markers\",\"name\":\"LIN28B\",\"text\":\"LIN28B\",\"x\":[0.35592257561702906],\"y\":[-0.2621735178733565],\"z\":[-0.7942424318669017],\"type\":\"scatter3d\"},{\"marker\":{\"color\":\"#40b9d4\",\"size\":5},\"mode\":\"markers\",\"name\":\"TYW1\",\"text\":\"TYW1\",\"x\":[0.3866123044699727],\"y\":[-0.3260385766051666],\"z\":[0.780188327986102],\"type\":\"scatter3d\"},{\"marker\":{\"color\":\"#40b9d4\",\"size\":5},\"mode\":\"markers\",\"name\":\"SLX1A\",\"text\":\"SLX1A\",\"x\":[-0.6270021125619242],\"y\":[-0.31326514886425033],\"z\":[-0.7286652782578579],\"type\":\"scatter3d\"},{\"marker\":{\"color\":\"#40b9d4\",\"size\":5},\"mode\":\"markers\",\"name\":\"APEX2\",\"text\":\"APEX2\",\"x\":[0.5966097749077793],\"y\":[0.5273050462331517],\"z\":[-0.6662521873516869],\"type\":\"scatter3d\"},{\"marker\":{\"color\":\"#40b9d4\",\"size\":5},\"mode\":\"markers\",\"name\":\"UBN2\",\"text\":\"UBN2\",\"x\":[-0.9355374623390044],\"y\":[0.09725448912390355],\"z\":[0.26068312416752],\"type\":\"scatter3d\"},{\"marker\":{\"color\":\"#40b9d4\",\"size\":5},\"mode\":\"markers\",\"name\":\"ZNF587B\",\"text\":\"ZNF587B\",\"x\":[0.6803262194842055],\"y\":[-0.2072326811207995],\"z\":[-0.7223655208382002],\"type\":\"scatter3d\"},{\"marker\":{\"color\":\"#40b9d4\",\"size\":5},\"mode\":\"markers\",\"name\":\"LSG1\",\"text\":\"LSG1\",\"x\":[-0.09766908824935207],\"y\":[1.0],\"z\":[0.11728861788358465],\"type\":\"scatter3d\"},{\"marker\":{\"color\":\"#40b9d4\",\"size\":5},\"mode\":\"markers\",\"name\":\"FASTKD2\",\"text\":\"FASTKD2\",\"x\":[0.7643926881458086],\"y\":[-0.5415378519424445],\"z\":[-0.3885218150933588],\"type\":\"scatter3d\"},{\"marker\":{\"color\":\"#40b9d4\",\"size\":5},\"mode\":\"markers\",\"name\":\"RIPK2\",\"text\":\"RIPK2\",\"x\":[0.6841529502567673],\"y\":[0.31372494661115474],\"z\":[-0.569307101158175],\"type\":\"scatter3d\"},{\"marker\":{\"color\":\"#40b9d4\",\"size\":5},\"mode\":\"markers\",\"name\":\"DMXL1\",\"text\":\"DMXL1\",\"x\":[0.456767000979808],\"y\":[0.6904124468549406],\"z\":[0.7160642116407876],\"type\":\"scatter3d\"},{\"marker\":{\"color\":\"#40b9d4\",\"size\":5},\"mode\":\"markers\",\"name\":\"TAOK1\",\"text\":\"TAOK1\",\"x\":[-0.6374845090121188],\"y\":[-0.7358688461507337],\"z\":[-0.2050687308506848],\"type\":\"scatter3d\"},{\"marker\":{\"color\":\"#40b9d4\",\"size\":5},\"mode\":\"markers\",\"name\":\"EIF2S2\",\"text\":\"EIF2S2\",\"x\":[0.023776819742465653],\"y\":[-0.2749582997315873],\"z\":[0.8582420045988017],\"type\":\"scatter3d\"},{\"marker\":{\"color\":\"#40b9d4\",\"size\":5},\"mode\":\"markers\",\"name\":\"CYRIA\",\"text\":\"CYRIA\",\"x\":[-0.6261843309016438],\"y\":[-0.26865643791268146],\"z\":[0.7623372315376754],\"type\":\"scatter3d\"},{\"marker\":{\"color\":\"#40b9d4\",\"size\":5},\"mode\":\"markers\",\"name\":\"PRSS58\",\"text\":\"PRSS58\",\"x\":[0.04628983662122589],\"y\":[-0.06935655793319749],\"z\":[-0.9478176882597819],\"type\":\"scatter3d\"},{\"marker\":{\"color\":\"#40b9d4\",\"size\":5},\"mode\":\"markers\",\"name\":\"AC140504.1\",\"text\":\"AC140504.1\",\"x\":[0.6568461359925667],\"y\":[0.7906896269328829],\"z\":[0.29825188862226915],\"type\":\"scatter3d\"},{\"marker\":{\"color\":\"#40b9d4\",\"size\":5},\"mode\":\"markers\",\"name\":\"KIR3DL1\",\"text\":\"KIR3DL1\",\"x\":[-0.6780587148638749],\"y\":[-0.008274621535574239],\"z\":[-0.686077545773068],\"type\":\"scatter3d\"},{\"marker\":{\"color\":\"#40b9d4\",\"size\":5},\"mode\":\"markers\",\"name\":\"30545\",\"text\":\"30545\",\"x\":[0.031080283249032177],\"y\":[0.05161240237511019],\"z\":[-0.015216335423300883],\"type\":\"scatter3d\"},{\"marker\":{\"color\":\"#40b9d4\",\"size\":5},\"mode\":\"markers\",\"name\":\"30543\",\"text\":\"30543\",\"x\":[0.034290856765918476],\"y\":[-0.015754218704056484],\"z\":[-0.05521044972618455],\"type\":\"scatter3d\"},{\"marker\":{\"color\":\"#40b9d4\",\"size\":5},\"mode\":\"markers\",\"name\":\"30533\",\"text\":\"30533\",\"x\":[-0.052216706185806754],\"y\":[0.14232226033356393],\"z\":[-0.021332158015549132],\"type\":\"scatter3d\"},{\"marker\":{\"color\":\"#40b9d4\",\"size\":5},\"mode\":\"markers\",\"name\":\"30541\",\"text\":\"30541\",\"x\":[0.03580340147156799],\"y\":[0.02930860190709129],\"z\":[0.00046956647879544663],\"type\":\"scatter3d\"},{\"marker\":{\"color\":\"#40b9d4\",\"size\":5},\"mode\":\"markers\",\"name\":\"30537\",\"text\":\"30537\",\"x\":[0.05590428359330566],\"y\":[0.011617922705840755],\"z\":[-0.016868676923380774],\"type\":\"scatter3d\"},{\"marker\":{\"color\":\"#40b9d4\",\"size\":5},\"mode\":\"markers\",\"name\":\"30527\",\"text\":\"30527\",\"x\":[-0.027375221457463926],\"y\":[0.021625633952962648],\"z\":[-0.04377404066380722],\"type\":\"scatter3d\"},{\"marker\":{\"color\":\"#40b9d4\",\"size\":5},\"mode\":\"markers\",\"name\":\"30525\",\"text\":\"30525\",\"x\":[0.052229727598703556],\"y\":[-0.031111159801244872],\"z\":[0.010457369712835523],\"type\":\"scatter3d\"},{\"marker\":{\"color\":\"#40b9d4\",\"size\":5},\"mode\":\"markers\",\"name\":\"30521\",\"text\":\"30521\",\"x\":[0.012745836792831042],\"y\":[0.10114374637401023],\"z\":[0.0026763816907900122],\"type\":\"scatter3d\"},{\"marker\":{\"color\":\"#40b9d4\",\"size\":5},\"mode\":\"markers\",\"name\":\"30519\",\"text\":\"30519\",\"x\":[0.06409063899936703],\"y\":[0.09894715485771839],\"z\":[0.04237036323233049],\"type\":\"scatter3d\"},{\"marker\":{\"color\":\"#40b9d4\",\"size\":5},\"mode\":\"markers\",\"name\":\"30515\",\"text\":\"30515\",\"x\":[0.09679536813974031],\"y\":[0.0910602865367529],\"z\":[-0.01744570344102699],\"type\":\"scatter3d\"},{\"marker\":{\"color\":\"#40b9d4\",\"size\":5},\"mode\":\"markers\",\"name\":\"30505\",\"text\":\"30505\",\"x\":[0.00980851223481658],\"y\":[0.020808754490285523],\"z\":[-0.060918707338682765],\"type\":\"scatter3d\"},{\"marker\":{\"color\":\"#40b9d4\",\"size\":5},\"mode\":\"markers\",\"name\":\"30503\",\"text\":\"30503\",\"x\":[0.07371378729669474],\"y\":[0.04767919267725197],\"z\":[0.04331246735080346],\"type\":\"scatter3d\"},{\"marker\":{\"color\":\"#40b9d4\",\"size\":5},\"mode\":\"markers\",\"name\":\"30499\",\"text\":\"30499\",\"x\":[-0.024076717827419974],\"y\":[0.08508815617573467],\"z\":[0.004287784785916636],\"type\":\"scatter3d\"},{\"marker\":{\"color\":\"#40b9d4\",\"size\":5},\"mode\":\"markers\",\"name\":\"30495\",\"text\":\"30495\",\"x\":[0.091644984488375],\"y\":[0.002684919918073228],\"z\":[-0.03381987585688231],\"type\":\"scatter3d\"},{\"marker\":{\"color\":\"#40b9d4\",\"size\":5},\"mode\":\"markers\",\"name\":\"30539\",\"text\":\"30539\",\"x\":[0.028437693008096974],\"y\":[0.06153350072394458],\"z\":[0.0443628678821816],\"type\":\"scatter3d\"},{\"marker\":{\"color\":\"#40b9d4\",\"size\":5},\"mode\":\"markers\",\"name\":\"30501\",\"text\":\"30501\",\"x\":[0.03510361132719733],\"y\":[0.003068178253394963],\"z\":[0.0811585769559376],\"type\":\"scatter3d\"},{\"marker\":{\"color\":\"#40b9d4\",\"size\":5},\"mode\":\"markers\",\"name\":\"30529\",\"text\":\"30529\",\"x\":[-0.030693336463389165],\"y\":[0.14149382959355897],\"z\":[0.033940311256866064],\"type\":\"scatter3d\"},{\"marker\":{\"color\":\"#40b9d4\",\"size\":5},\"mode\":\"markers\",\"name\":\"30535\",\"text\":\"30535\",\"x\":[-0.058575812623734146],\"y\":[0.20266513175645876],\"z\":[0.023134840016548676],\"type\":\"scatter3d\"},{\"marker\":{\"color\":\"#40b9d4\",\"size\":5},\"mode\":\"markers\",\"name\":\"30531\",\"text\":\"30531\",\"x\":[-0.09028698836390425],\"y\":[0.16885265113027945],\"z\":[0.040396440901175903],\"type\":\"scatter3d\"},{\"marker\":{\"color\":\"#40b9d4\",\"size\":5},\"mode\":\"markers\",\"name\":\"30523\",\"text\":\"30523\",\"x\":[-0.1359101650580627],\"y\":[0.18024425402061295],\"z\":[-0.03322951161419301],\"type\":\"scatter3d\"},{\"marker\":{\"color\":\"#40b9d4\",\"size\":5},\"mode\":\"markers\",\"name\":\"30517\",\"text\":\"30517\",\"x\":[-0.10806418366440831],\"y\":[0.24013822776683497],\"z\":[-0.06908704038980662],\"type\":\"scatter3d\"},{\"marker\":{\"color\":\"#40b9d4\",\"size\":5},\"mode\":\"markers\",\"name\":\"30509\",\"text\":\"30509\",\"x\":[-0.09924507896943739],\"y\":[0.11889728839533517],\"z\":[-0.08565451807070791],\"type\":\"scatter3d\"},{\"marker\":{\"color\":\"#40b9d4\",\"size\":5},\"mode\":\"markers\",\"name\":\"30507\",\"text\":\"30507\",\"x\":[-0.057015887568695446],\"y\":[0.07161759825302637],\"z\":[-0.0725181020276586],\"type\":\"scatter3d\"},{\"marker\":{\"color\":\"#40b9d4\",\"size\":5},\"mode\":\"markers\",\"name\":\"30497\",\"text\":\"30497\",\"x\":[0.029240076448733304],\"y\":[0.1557265153831193],\"z\":[0.012896939499474777],\"type\":\"scatter3d\"},{\"marker\":{\"color\":\"#40b9d4\",\"size\":5},\"mode\":\"markers\",\"name\":\"30487\",\"text\":\"30487\",\"x\":[-0.14813209292730145],\"y\":[0.30737366662647947],\"z\":[-0.10025301510808396],\"type\":\"scatter3d\"},{\"marker\":{\"color\":\"#40b9d4\",\"size\":5},\"mode\":\"markers\",\"name\":\"30493\",\"text\":\"30493\",\"x\":[0.1091750104928628],\"y\":[0.16680503628992033],\"z\":[-0.0035916259330220288],\"type\":\"scatter3d\"},{\"marker\":{\"color\":\"#40b9d4\",\"size\":5},\"mode\":\"markers\",\"name\":\"30513\",\"text\":\"30513\",\"x\":[-0.6835906097415606],\"y\":[-0.36843126197386517],\"z\":[0.43778325545756486],\"type\":\"scatter3d\"},{\"marker\":{\"color\":\"#40b9d4\",\"size\":5},\"mode\":\"markers\",\"name\":\"30511\",\"text\":\"30511\",\"x\":[-0.7020206660011559],\"y\":[-0.3406573699061758],\"z\":[0.41120609327419266],\"type\":\"scatter3d\"},{\"hoverinfo\":\"none\",\"line\":{\"color\":\"gray\",\"width\":1},\"mode\":\"lines\",\"x\":[0.031080283249032177,0.034290856765918476],\"y\":[0.05161240237511019,-0.015754218704056484],\"z\":[-0.015216335423300883,-0.05521044972618455],\"type\":\"scatter3d\"},{\"hoverinfo\":\"none\",\"line\":{\"color\":\"gray\",\"width\":1},\"mode\":\"lines\",\"x\":[0.031080283249032177,-0.052216706185806754],\"y\":[0.05161240237511019,0.14232226033356393],\"z\":[-0.015216335423300883,-0.021332158015549132],\"type\":\"scatter3d\"},{\"hoverinfo\":\"none\",\"line\":{\"color\":\"gray\",\"width\":1},\"mode\":\"lines\",\"x\":[0.031080283249032177,0.03580340147156799],\"y\":[0.05161240237511019,0.02930860190709129],\"z\":[-0.015216335423300883,0.00046956647879544663],\"type\":\"scatter3d\"},{\"hoverinfo\":\"none\",\"line\":{\"color\":\"gray\",\"width\":1},\"mode\":\"lines\",\"x\":[0.031080283249032177,0.05590428359330566],\"y\":[0.05161240237511019,0.011617922705840755],\"z\":[-0.015216335423300883,-0.016868676923380774],\"type\":\"scatter3d\"},{\"hoverinfo\":\"none\",\"line\":{\"color\":\"gray\",\"width\":1},\"mode\":\"lines\",\"x\":[0.031080283249032177,-0.027375221457463926],\"y\":[0.05161240237511019,0.021625633952962648],\"z\":[-0.015216335423300883,-0.04377404066380722],\"type\":\"scatter3d\"},{\"hoverinfo\":\"none\",\"line\":{\"color\":\"gray\",\"width\":1},\"mode\":\"lines\",\"x\":[0.031080283249032177,0.052229727598703556],\"y\":[0.05161240237511019,-0.031111159801244872],\"z\":[-0.015216335423300883,0.010457369712835523],\"type\":\"scatter3d\"},{\"hoverinfo\":\"none\",\"line\":{\"color\":\"gray\",\"width\":1},\"mode\":\"lines\",\"x\":[0.031080283249032177,0.012745836792831042],\"y\":[0.05161240237511019,0.10114374637401023],\"z\":[-0.015216335423300883,0.0026763816907900122],\"type\":\"scatter3d\"},{\"hoverinfo\":\"none\",\"line\":{\"color\":\"gray\",\"width\":1},\"mode\":\"lines\",\"x\":[0.031080283249032177,0.06409063899936703],\"y\":[0.05161240237511019,0.09894715485771839],\"z\":[-0.015216335423300883,0.04237036323233049],\"type\":\"scatter3d\"},{\"hoverinfo\":\"none\",\"line\":{\"color\":\"gray\",\"width\":1},\"mode\":\"lines\",\"x\":[0.031080283249032177,0.09679536813974031],\"y\":[0.05161240237511019,0.0910602865367529],\"z\":[-0.015216335423300883,-0.01744570344102699],\"type\":\"scatter3d\"},{\"hoverinfo\":\"none\",\"line\":{\"color\":\"gray\",\"width\":1},\"mode\":\"lines\",\"x\":[0.031080283249032177,0.00980851223481658],\"y\":[0.05161240237511019,0.020808754490285523],\"z\":[-0.015216335423300883,-0.060918707338682765],\"type\":\"scatter3d\"},{\"hoverinfo\":\"none\",\"line\":{\"color\":\"gray\",\"width\":1},\"mode\":\"lines\",\"x\":[0.031080283249032177,0.07371378729669474],\"y\":[0.05161240237511019,0.04767919267725197],\"z\":[-0.015216335423300883,0.04331246735080346],\"type\":\"scatter3d\"},{\"hoverinfo\":\"none\",\"line\":{\"color\":\"gray\",\"width\":1},\"mode\":\"lines\",\"x\":[0.031080283249032177,-0.024076717827419974],\"y\":[0.05161240237511019,0.08508815617573467],\"z\":[-0.015216335423300883,0.004287784785916636],\"type\":\"scatter3d\"},{\"hoverinfo\":\"none\",\"line\":{\"color\":\"gray\",\"width\":1},\"mode\":\"lines\",\"x\":[0.031080283249032177,0.091644984488375],\"y\":[0.05161240237511019,0.002684919918073228],\"z\":[-0.015216335423300883,-0.03381987585688231],\"type\":\"scatter3d\"},{\"hoverinfo\":\"none\",\"line\":{\"color\":\"gray\",\"width\":1},\"mode\":\"lines\",\"x\":[0.034290856765918476,0.03580340147156799],\"y\":[-0.015754218704056484,0.02930860190709129],\"z\":[-0.05521044972618455,0.00046956647879544663],\"type\":\"scatter3d\"},{\"hoverinfo\":\"none\",\"line\":{\"color\":\"gray\",\"width\":1},\"mode\":\"lines\",\"x\":[0.034290856765918476,0.00980851223481658],\"y\":[-0.015754218704056484,0.020808754490285523],\"z\":[-0.05521044972618455,-0.060918707338682765],\"type\":\"scatter3d\"},{\"hoverinfo\":\"none\",\"line\":{\"color\":\"gray\",\"width\":1},\"mode\":\"lines\",\"x\":[-0.052216706185806754,-0.058575812623734146],\"y\":[0.14232226033356393,0.20266513175645876],\"z\":[-0.021332158015549132,0.023134840016548676],\"type\":\"scatter3d\"},{\"hoverinfo\":\"none\",\"line\":{\"color\":\"gray\",\"width\":1},\"mode\":\"lines\",\"x\":[-0.052216706185806754,-0.09028698836390425],\"y\":[0.14232226033356393,0.16885265113027945],\"z\":[-0.021332158015549132,0.040396440901175903],\"type\":\"scatter3d\"},{\"hoverinfo\":\"none\",\"line\":{\"color\":\"gray\",\"width\":1},\"mode\":\"lines\",\"x\":[-0.052216706185806754,-0.030693336463389165],\"y\":[0.14232226033356393,0.14149382959355897],\"z\":[-0.021332158015549132,0.033940311256866064],\"type\":\"scatter3d\"},{\"hoverinfo\":\"none\",\"line\":{\"color\":\"gray\",\"width\":1},\"mode\":\"lines\",\"x\":[-0.052216706185806754,-0.1359101650580627],\"y\":[0.14232226033356393,0.18024425402061295],\"z\":[-0.021332158015549132,-0.03322951161419301],\"type\":\"scatter3d\"},{\"hoverinfo\":\"none\",\"line\":{\"color\":\"gray\",\"width\":1},\"mode\":\"lines\",\"x\":[-0.052216706185806754,0.012745836792831042],\"y\":[0.14232226033356393,0.10114374637401023],\"z\":[-0.021332158015549132,0.0026763816907900122],\"type\":\"scatter3d\"},{\"hoverinfo\":\"none\",\"line\":{\"color\":\"gray\",\"width\":1},\"mode\":\"lines\",\"x\":[-0.052216706185806754,-0.10806418366440831],\"y\":[0.14232226033356393,0.24013822776683497],\"z\":[-0.021332158015549132,-0.06908704038980662],\"type\":\"scatter3d\"},{\"hoverinfo\":\"none\",\"line\":{\"color\":\"gray\",\"width\":1},\"mode\":\"lines\",\"x\":[-0.052216706185806754,-0.09924507896943739],\"y\":[0.14232226033356393,0.11889728839533517],\"z\":[-0.021332158015549132,-0.08565451807070791],\"type\":\"scatter3d\"},{\"hoverinfo\":\"none\",\"line\":{\"color\":\"gray\",\"width\":1},\"mode\":\"lines\",\"x\":[-0.052216706185806754,-0.057015887568695446],\"y\":[0.14232226033356393,0.07161759825302637],\"z\":[-0.021332158015549132,-0.0725181020276586],\"type\":\"scatter3d\"},{\"hoverinfo\":\"none\",\"line\":{\"color\":\"gray\",\"width\":1},\"mode\":\"lines\",\"x\":[-0.052216706185806754,-0.024076717827419974],\"y\":[0.14232226033356393,0.08508815617573467],\"z\":[-0.021332158015549132,0.004287784785916636],\"type\":\"scatter3d\"},{\"hoverinfo\":\"none\",\"line\":{\"color\":\"gray\",\"width\":1},\"mode\":\"lines\",\"x\":[-0.052216706185806754,0.029240076448733304],\"y\":[0.14232226033356393,0.1557265153831193],\"z\":[-0.021332158015549132,0.012896939499474777],\"type\":\"scatter3d\"},{\"hoverinfo\":\"none\",\"line\":{\"color\":\"gray\",\"width\":1},\"mode\":\"lines\",\"x\":[0.03580340147156799,0.028437693008096974],\"y\":[0.02930860190709129,0.06153350072394458],\"z\":[0.00046956647879544663,0.0443628678821816],\"type\":\"scatter3d\"},{\"hoverinfo\":\"none\",\"line\":{\"color\":\"gray\",\"width\":1},\"mode\":\"lines\",\"x\":[0.03580340147156799,0.05590428359330566],\"y\":[0.02930860190709129,0.011617922705840755],\"z\":[0.00046956647879544663,-0.016868676923380774],\"type\":\"scatter3d\"},{\"hoverinfo\":\"none\",\"line\":{\"color\":\"gray\",\"width\":1},\"mode\":\"lines\",\"x\":[0.03580340147156799,-0.027375221457463926],\"y\":[0.02930860190709129,0.021625633952962648],\"z\":[0.00046956647879544663,-0.04377404066380722],\"type\":\"scatter3d\"},{\"hoverinfo\":\"none\",\"line\":{\"color\":\"gray\",\"width\":1},\"mode\":\"lines\",\"x\":[0.03580340147156799,0.052229727598703556],\"y\":[0.02930860190709129,-0.031111159801244872],\"z\":[0.00046956647879544663,0.010457369712835523],\"type\":\"scatter3d\"},{\"hoverinfo\":\"none\",\"line\":{\"color\":\"gray\",\"width\":1},\"mode\":\"lines\",\"x\":[0.03580340147156799,0.012745836792831042],\"y\":[0.02930860190709129,0.10114374637401023],\"z\":[0.00046956647879544663,0.0026763816907900122],\"type\":\"scatter3d\"},{\"hoverinfo\":\"none\",\"line\":{\"color\":\"gray\",\"width\":1},\"mode\":\"lines\",\"x\":[0.03580340147156799,0.09679536813974031],\"y\":[0.02930860190709129,0.0910602865367529],\"z\":[0.00046956647879544663,-0.01744570344102699],\"type\":\"scatter3d\"},{\"hoverinfo\":\"none\",\"line\":{\"color\":\"gray\",\"width\":1},\"mode\":\"lines\",\"x\":[0.03580340147156799,0.00980851223481658],\"y\":[0.02930860190709129,0.020808754490285523],\"z\":[0.00046956647879544663,-0.060918707338682765],\"type\":\"scatter3d\"},{\"hoverinfo\":\"none\",\"line\":{\"color\":\"gray\",\"width\":1},\"mode\":\"lines\",\"x\":[0.03580340147156799,0.07371378729669474],\"y\":[0.02930860190709129,0.04767919267725197],\"z\":[0.00046956647879544663,0.04331246735080346],\"type\":\"scatter3d\"},{\"hoverinfo\":\"none\",\"line\":{\"color\":\"gray\",\"width\":1},\"mode\":\"lines\",\"x\":[0.03580340147156799,0.03510361132719733],\"y\":[0.02930860190709129,0.003068178253394963],\"z\":[0.00046956647879544663,0.0811585769559376],\"type\":\"scatter3d\"},{\"hoverinfo\":\"none\",\"line\":{\"color\":\"gray\",\"width\":1},\"mode\":\"lines\",\"x\":[0.03580340147156799,-0.024076717827419974],\"y\":[0.02930860190709129,0.08508815617573467],\"z\":[0.00046956647879544663,0.004287784785916636],\"type\":\"scatter3d\"},{\"hoverinfo\":\"none\",\"line\":{\"color\":\"gray\",\"width\":1},\"mode\":\"lines\",\"x\":[0.03580340147156799,0.091644984488375],\"y\":[0.02930860190709129,0.002684919918073228],\"z\":[0.00046956647879544663,-0.03381987585688231],\"type\":\"scatter3d\"},{\"hoverinfo\":\"none\",\"line\":{\"color\":\"gray\",\"width\":1},\"mode\":\"lines\",\"x\":[0.05590428359330566,0.028437693008096974],\"y\":[0.011617922705840755,0.06153350072394458],\"z\":[-0.016868676923380774,0.0443628678821816],\"type\":\"scatter3d\"},{\"hoverinfo\":\"none\",\"line\":{\"color\":\"gray\",\"width\":1},\"mode\":\"lines\",\"x\":[0.05590428359330566,0.00980851223481658],\"y\":[0.011617922705840755,0.020808754490285523],\"z\":[-0.016868676923380774,-0.060918707338682765],\"type\":\"scatter3d\"},{\"hoverinfo\":\"none\",\"line\":{\"color\":\"gray\",\"width\":1},\"mode\":\"lines\",\"x\":[0.05590428359330566,0.091644984488375],\"y\":[0.011617922705840755,0.002684919918073228],\"z\":[-0.016868676923380774,-0.03381987585688231],\"type\":\"scatter3d\"},{\"hoverinfo\":\"none\",\"line\":{\"color\":\"gray\",\"width\":1},\"mode\":\"lines\",\"x\":[-0.027375221457463926,-0.057015887568695446],\"y\":[0.021625633952962648,0.07161759825302637],\"z\":[-0.04377404066380722,-0.0725181020276586],\"type\":\"scatter3d\"},{\"hoverinfo\":\"none\",\"line\":{\"color\":\"gray\",\"width\":1},\"mode\":\"lines\",\"x\":[0.012745836792831042,0.028437693008096974],\"y\":[0.10114374637401023,0.06153350072394458],\"z\":[0.0026763816907900122,0.0443628678821816],\"type\":\"scatter3d\"},{\"hoverinfo\":\"none\",\"line\":{\"color\":\"gray\",\"width\":1},\"mode\":\"lines\",\"x\":[0.012745836792831042,0.029240076448733304],\"y\":[0.10114374637401023,0.1557265153831193],\"z\":[0.0026763816907900122,0.012896939499474777],\"type\":\"scatter3d\"},{\"hoverinfo\":\"none\",\"line\":{\"color\":\"gray\",\"width\":1},\"mode\":\"lines\",\"x\":[0.06409063899936703,0.028437693008096974],\"y\":[0.09894715485771839,0.06153350072394458],\"z\":[0.04237036323233049,0.0443628678821816],\"type\":\"scatter3d\"},{\"hoverinfo\":\"none\",\"line\":{\"color\":\"gray\",\"width\":1},\"mode\":\"lines\",\"x\":[0.06409063899936703,0.07371378729669474],\"y\":[0.09894715485771839,0.04767919267725197],\"z\":[0.04237036323233049,0.04331246735080346],\"type\":\"scatter3d\"},{\"hoverinfo\":\"none\",\"line\":{\"color\":\"gray\",\"width\":1},\"mode\":\"lines\",\"x\":[0.06409063899936703,0.029240076448733304],\"y\":[0.09894715485771839,0.1557265153831193],\"z\":[0.04237036323233049,0.012896939499474777],\"type\":\"scatter3d\"},{\"hoverinfo\":\"none\",\"line\":{\"color\":\"gray\",\"width\":1},\"mode\":\"lines\",\"x\":[0.09679536813974031,0.1091750104928628],\"y\":[0.0910602865367529,0.16680503628992033],\"z\":[-0.01744570344102699,-0.0035916259330220288],\"type\":\"scatter3d\"},{\"hoverinfo\":\"none\",\"line\":{\"color\":\"gray\",\"width\":1},\"mode\":\"lines\",\"x\":[0.00980851223481658,-0.057015887568695446],\"y\":[0.020808754490285523,0.07161759825302637],\"z\":[-0.060918707338682765,-0.0725181020276586],\"type\":\"scatter3d\"},{\"hoverinfo\":\"none\",\"line\":{\"color\":\"gray\",\"width\":1},\"mode\":\"lines\",\"x\":[0.07371378729669474,0.028437693008096974],\"y\":[0.04767919267725197,0.06153350072394458],\"z\":[0.04331246735080346,0.0443628678821816],\"type\":\"scatter3d\"},{\"hoverinfo\":\"none\",\"line\":{\"color\":\"gray\",\"width\":1},\"mode\":\"lines\",\"x\":[-0.024076717827419974,-0.030693336463389165],\"y\":[0.08508815617573467,0.14149382959355897],\"z\":[0.004287784785916636,0.033940311256866064],\"type\":\"scatter3d\"},{\"hoverinfo\":\"none\",\"line\":{\"color\":\"gray\",\"width\":1},\"mode\":\"lines\",\"x\":[0.028437693008096974,-0.030693336463389165],\"y\":[0.06153350072394458,0.14149382959355897],\"z\":[0.0443628678821816,0.033940311256866064],\"type\":\"scatter3d\"},{\"hoverinfo\":\"none\",\"line\":{\"color\":\"gray\",\"width\":1},\"mode\":\"lines\",\"x\":[0.028437693008096974,0.03510361132719733],\"y\":[0.06153350072394458,0.003068178253394963],\"z\":[0.0443628678821816,0.0811585769559376],\"type\":\"scatter3d\"},{\"hoverinfo\":\"none\",\"line\":{\"color\":\"gray\",\"width\":1},\"mode\":\"lines\",\"x\":[-0.030693336463389165,-0.058575812623734146],\"y\":[0.14149382959355897,0.20266513175645876],\"z\":[0.033940311256866064,0.023134840016548676],\"type\":\"scatter3d\"},{\"hoverinfo\":\"none\",\"line\":{\"color\":\"gray\",\"width\":1},\"mode\":\"lines\",\"x\":[-0.030693336463389165,-0.09028698836390425],\"y\":[0.14149382959355897,0.16885265113027945],\"z\":[0.033940311256866064,0.040396440901175903],\"type\":\"scatter3d\"},{\"hoverinfo\":\"none\",\"line\":{\"color\":\"gray\",\"width\":1},\"mode\":\"lines\",\"x\":[-0.030693336463389165,0.029240076448733304],\"y\":[0.14149382959355897,0.1557265153831193],\"z\":[0.033940311256866064,0.012896939499474777],\"type\":\"scatter3d\"},{\"hoverinfo\":\"none\",\"line\":{\"color\":\"gray\",\"width\":1},\"mode\":\"lines\",\"x\":[-0.10806418366440831,-0.14813209292730145],\"y\":[0.24013822776683497,0.30737366662647947],\"z\":[-0.06908704038980662,-0.10025301510808396],\"type\":\"scatter3d\"},{\"hoverinfo\":\"none\",\"line\":{\"color\":\"gray\",\"width\":1},\"mode\":\"lines\",\"x\":[-0.09924507896943739,-0.057015887568695446],\"y\":[0.11889728839533517,0.07161759825302637],\"z\":[-0.08565451807070791,-0.0725181020276586],\"type\":\"scatter3d\"},{\"hoverinfo\":\"none\",\"line\":{\"color\":\"gray\",\"width\":1},\"mode\":\"lines\",\"x\":[0.029240076448733304,0.1091750104928628],\"y\":[0.1557265153831193,0.16680503628992033],\"z\":[0.012896939499474777,-0.0035916259330220288],\"type\":\"scatter3d\"},{\"hoverinfo\":\"none\",\"line\":{\"color\":\"gray\",\"width\":1},\"mode\":\"lines\",\"x\":[-0.6835906097415606,-0.7020206660011559],\"y\":[-0.36843126197386517,-0.3406573699061758],\"z\":[0.43778325545756486,0.41120609327419266],\"type\":\"scatter3d\"}],                        {\"hovermode\":\"closest\",\"margin\":{\"b\":0,\"l\":0,\"r\":0,\"t\":0},\"scene\":{\"xaxis\":{\"visible\":false},\"yaxis\":{\"visible\":false},\"zaxis\":{\"visible\":false}},\"showlegend\":false,\"template\":{\"data\":{\"barpolar\":[{\"marker\":{\"line\":{\"color\":\"#E5ECF6\",\"width\":0.5},\"pattern\":{\"fillmode\":\"overlay\",\"size\":10,\"solidity\":0.2}},\"type\":\"barpolar\"}],\"bar\":[{\"error_x\":{\"color\":\"#2a3f5f\"},\"error_y\":{\"color\":\"#2a3f5f\"},\"marker\":{\"line\":{\"color\":\"#E5ECF6\",\"width\":0.5},\"pattern\":{\"fillmode\":\"overlay\",\"size\":10,\"solidity\":0.2}},\"type\":\"bar\"}],\"carpet\":[{\"aaxis\":{\"endlinecolor\":\"#2a3f5f\",\"gridcolor\":\"white\",\"linecolor\":\"white\",\"minorgridcolor\":\"white\",\"startlinecolor\":\"#2a3f5f\"},\"baxis\":{\"endlinecolor\":\"#2a3f5f\",\"gridcolor\":\"white\",\"linecolor\":\"white\",\"minorgridcolor\":\"white\",\"startlinecolor\":\"#2a3f5f\"},\"type\":\"carpet\"}],\"choropleth\":[{\"colorbar\":{\"outlinewidth\":0,\"ticks\":\"\"},\"type\":\"choropleth\"}],\"contourcarpet\":[{\"colorbar\":{\"outlinewidth\":0,\"ticks\":\"\"},\"type\":\"contourcarpet\"}],\"contour\":[{\"colorbar\":{\"outlinewidth\":0,\"ticks\":\"\"},\"colorscale\":[[0.0,\"#0d0887\"],[0.1111111111111111,\"#46039f\"],[0.2222222222222222,\"#7201a8\"],[0.3333333333333333,\"#9c179e\"],[0.4444444444444444,\"#bd3786\"],[0.5555555555555556,\"#d8576b\"],[0.6666666666666666,\"#ed7953\"],[0.7777777777777778,\"#fb9f3a\"],[0.8888888888888888,\"#fdca26\"],[1.0,\"#f0f921\"]],\"type\":\"contour\"}],\"heatmapgl\":[{\"colorbar\":{\"outlinewidth\":0,\"ticks\":\"\"},\"colorscale\":[[0.0,\"#0d0887\"],[0.1111111111111111,\"#46039f\"],[0.2222222222222222,\"#7201a8\"],[0.3333333333333333,\"#9c179e\"],[0.4444444444444444,\"#bd3786\"],[0.5555555555555556,\"#d8576b\"],[0.6666666666666666,\"#ed7953\"],[0.7777777777777778,\"#fb9f3a\"],[0.8888888888888888,\"#fdca26\"],[1.0,\"#f0f921\"]],\"type\":\"heatmapgl\"}],\"heatmap\":[{\"colorbar\":{\"outlinewidth\":0,\"ticks\":\"\"},\"colorscale\":[[0.0,\"#0d0887\"],[0.1111111111111111,\"#46039f\"],[0.2222222222222222,\"#7201a8\"],[0.3333333333333333,\"#9c179e\"],[0.4444444444444444,\"#bd3786\"],[0.5555555555555556,\"#d8576b\"],[0.6666666666666666,\"#ed7953\"],[0.7777777777777778,\"#fb9f3a\"],[0.8888888888888888,\"#fdca26\"],[1.0,\"#f0f921\"]],\"type\":\"heatmap\"}],\"histogram2dcontour\":[{\"colorbar\":{\"outlinewidth\":0,\"ticks\":\"\"},\"colorscale\":[[0.0,\"#0d0887\"],[0.1111111111111111,\"#46039f\"],[0.2222222222222222,\"#7201a8\"],[0.3333333333333333,\"#9c179e\"],[0.4444444444444444,\"#bd3786\"],[0.5555555555555556,\"#d8576b\"],[0.6666666666666666,\"#ed7953\"],[0.7777777777777778,\"#fb9f3a\"],[0.8888888888888888,\"#fdca26\"],[1.0,\"#f0f921\"]],\"type\":\"histogram2dcontour\"}],\"histogram2d\":[{\"colorbar\":{\"outlinewidth\":0,\"ticks\":\"\"},\"colorscale\":[[0.0,\"#0d0887\"],[0.1111111111111111,\"#46039f\"],[0.2222222222222222,\"#7201a8\"],[0.3333333333333333,\"#9c179e\"],[0.4444444444444444,\"#bd3786\"],[0.5555555555555556,\"#d8576b\"],[0.6666666666666666,\"#ed7953\"],[0.7777777777777778,\"#fb9f3a\"],[0.8888888888888888,\"#fdca26\"],[1.0,\"#f0f921\"]],\"type\":\"histogram2d\"}],\"histogram\":[{\"marker\":{\"pattern\":{\"fillmode\":\"overlay\",\"size\":10,\"solidity\":0.2}},\"type\":\"histogram\"}],\"mesh3d\":[{\"colorbar\":{\"outlinewidth\":0,\"ticks\":\"\"},\"type\":\"mesh3d\"}],\"parcoords\":[{\"line\":{\"colorbar\":{\"outlinewidth\":0,\"ticks\":\"\"}},\"type\":\"parcoords\"}],\"pie\":[{\"automargin\":true,\"type\":\"pie\"}],\"scatter3d\":[{\"line\":{\"colorbar\":{\"outlinewidth\":0,\"ticks\":\"\"}},\"marker\":{\"colorbar\":{\"outlinewidth\":0,\"ticks\":\"\"}},\"type\":\"scatter3d\"}],\"scattercarpet\":[{\"marker\":{\"colorbar\":{\"outlinewidth\":0,\"ticks\":\"\"}},\"type\":\"scattercarpet\"}],\"scattergeo\":[{\"marker\":{\"colorbar\":{\"outlinewidth\":0,\"ticks\":\"\"}},\"type\":\"scattergeo\"}],\"scattergl\":[{\"marker\":{\"colorbar\":{\"outlinewidth\":0,\"ticks\":\"\"}},\"type\":\"scattergl\"}],\"scattermapbox\":[{\"marker\":{\"colorbar\":{\"outlinewidth\":0,\"ticks\":\"\"}},\"type\":\"scattermapbox\"}],\"scatterpolargl\":[{\"marker\":{\"colorbar\":{\"outlinewidth\":0,\"ticks\":\"\"}},\"type\":\"scatterpolargl\"}],\"scatterpolar\":[{\"marker\":{\"colorbar\":{\"outlinewidth\":0,\"ticks\":\"\"}},\"type\":\"scatterpolar\"}],\"scatter\":[{\"fillpattern\":{\"fillmode\":\"overlay\",\"size\":10,\"solidity\":0.2},\"type\":\"scatter\"}],\"scatterternary\":[{\"marker\":{\"colorbar\":{\"outlinewidth\":0,\"ticks\":\"\"}},\"type\":\"scatterternary\"}],\"surface\":[{\"colorbar\":{\"outlinewidth\":0,\"ticks\":\"\"},\"colorscale\":[[0.0,\"#0d0887\"],[0.1111111111111111,\"#46039f\"],[0.2222222222222222,\"#7201a8\"],[0.3333333333333333,\"#9c179e\"],[0.4444444444444444,\"#bd3786\"],[0.5555555555555556,\"#d8576b\"],[0.6666666666666666,\"#ed7953\"],[0.7777777777777778,\"#fb9f3a\"],[0.8888888888888888,\"#fdca26\"],[1.0,\"#f0f921\"]],\"type\":\"surface\"}],\"table\":[{\"cells\":{\"fill\":{\"color\":\"#EBF0F8\"},\"line\":{\"color\":\"white\"}},\"header\":{\"fill\":{\"color\":\"#C8D4E3\"},\"line\":{\"color\":\"white\"}},\"type\":\"table\"}]},\"layout\":{\"annotationdefaults\":{\"arrowcolor\":\"#2a3f5f\",\"arrowhead\":0,\"arrowwidth\":1},\"autotypenumbers\":\"strict\",\"coloraxis\":{\"colorbar\":{\"outlinewidth\":0,\"ticks\":\"\"}},\"colorscale\":{\"diverging\":[[0,\"#8e0152\"],[0.1,\"#c51b7d\"],[0.2,\"#de77ae\"],[0.3,\"#f1b6da\"],[0.4,\"#fde0ef\"],[0.5,\"#f7f7f7\"],[0.6,\"#e6f5d0\"],[0.7,\"#b8e186\"],[0.8,\"#7fbc41\"],[0.9,\"#4d9221\"],[1,\"#276419\"]],\"sequential\":[[0.0,\"#0d0887\"],[0.1111111111111111,\"#46039f\"],[0.2222222222222222,\"#7201a8\"],[0.3333333333333333,\"#9c179e\"],[0.4444444444444444,\"#bd3786\"],[0.5555555555555556,\"#d8576b\"],[0.6666666666666666,\"#ed7953\"],[0.7777777777777778,\"#fb9f3a\"],[0.8888888888888888,\"#fdca26\"],[1.0,\"#f0f921\"]],\"sequentialminus\":[[0.0,\"#0d0887\"],[0.1111111111111111,\"#46039f\"],[0.2222222222222222,\"#7201a8\"],[0.3333333333333333,\"#9c179e\"],[0.4444444444444444,\"#bd3786\"],[0.5555555555555556,\"#d8576b\"],[0.6666666666666666,\"#ed7953\"],[0.7777777777777778,\"#fb9f3a\"],[0.8888888888888888,\"#fdca26\"],[1.0,\"#f0f921\"]]},\"colorway\":[\"#636efa\",\"#EF553B\",\"#00cc96\",\"#ab63fa\",\"#FFA15A\",\"#19d3f3\",\"#FF6692\",\"#B6E880\",\"#FF97FF\",\"#FECB52\"],\"font\":{\"color\":\"#2a3f5f\"},\"geo\":{\"bgcolor\":\"white\",\"lakecolor\":\"white\",\"landcolor\":\"#E5ECF6\",\"showlakes\":true,\"showland\":true,\"subunitcolor\":\"white\"},\"hoverlabel\":{\"align\":\"left\"},\"hovermode\":\"closest\",\"mapbox\":{\"style\":\"light\"},\"paper_bgcolor\":\"white\",\"plot_bgcolor\":\"#E5ECF6\",\"polar\":{\"angularaxis\":{\"gridcolor\":\"white\",\"linecolor\":\"white\",\"ticks\":\"\"},\"bgcolor\":\"#E5ECF6\",\"radialaxis\":{\"gridcolor\":\"white\",\"linecolor\":\"white\",\"ticks\":\"\"}},\"scene\":{\"xaxis\":{\"backgroundcolor\":\"#E5ECF6\",\"gridcolor\":\"white\",\"gridwidth\":2,\"linecolor\":\"white\",\"showbackground\":true,\"ticks\":\"\",\"zerolinecolor\":\"white\"},\"yaxis\":{\"backgroundcolor\":\"#E5ECF6\",\"gridcolor\":\"white\",\"gridwidth\":2,\"linecolor\":\"white\",\"showbackground\":true,\"ticks\":\"\",\"zerolinecolor\":\"white\"},\"zaxis\":{\"backgroundcolor\":\"#E5ECF6\",\"gridcolor\":\"white\",\"gridwidth\":2,\"linecolor\":\"white\",\"showbackground\":true,\"ticks\":\"\",\"zerolinecolor\":\"white\"}},\"shapedefaults\":{\"line\":{\"color\":\"#2a3f5f\"}},\"ternary\":{\"aaxis\":{\"gridcolor\":\"white\",\"linecolor\":\"white\",\"ticks\":\"\"},\"baxis\":{\"gridcolor\":\"white\",\"linecolor\":\"white\",\"ticks\":\"\"},\"bgcolor\":\"#E5ECF6\",\"caxis\":{\"gridcolor\":\"white\",\"linecolor\":\"white\",\"ticks\":\"\"}},\"title\":{\"x\":0.05},\"xaxis\":{\"automargin\":true,\"gridcolor\":\"white\",\"linecolor\":\"white\",\"ticks\":\"\",\"title\":{\"standoff\":15},\"zerolinecolor\":\"white\",\"zerolinewidth\":2},\"yaxis\":{\"automargin\":true,\"gridcolor\":\"white\",\"linecolor\":\"white\",\"ticks\":\"\",\"title\":{\"standoff\":15},\"zerolinecolor\":\"white\",\"zerolinewidth\":2}}}},                        {\"responsive\": true}                    ).then(function(){\n",
       "                            \n",
       "var gd = document.getElementById('5c45bb69-b794-4474-9b50-14df0b3d77c7');\n",
       "var x = new MutationObserver(function (mutations, observer) {{\n",
       "        var display = window.getComputedStyle(gd).display;\n",
       "        if (!display || display === 'none') {{\n",
       "            console.log([gd, 'removed!']);\n",
       "            Plotly.purge(gd);\n",
       "            observer.disconnect();\n",
       "        }}\n",
       "}});\n",
       "\n",
       "// Listen for the removal of the full notebook cells\n",
       "var notebookContainer = gd.closest('#notebook-container');\n",
       "if (notebookContainer) {{\n",
       "    x.observe(notebookContainer, {childList: true});\n",
       "}}\n",
       "\n",
       "// Listen for the clearing of the current output cell\n",
       "var outputEl = gd.closest('.output');\n",
       "if (outputEl) {{\n",
       "    x.observe(outputEl, {childList: true});\n",
       "}}\n",
       "\n",
       "                        })                };                });            </script>        </div>"
      ]
     },
     "metadata": {},
     "output_type": "display_data"
    }
   ],
   "source": [
    "plotly_preview(G, pos)"
   ]
  },
  {
   "cell_type": "markdown",
   "metadata": {
    "id": "bIM_x9bwXOE0"
   },
   "source": [
    "\n",
    "## Export JSON\n",
    "\n",
    "\n"
   ]
  },
  {
   "cell_type": "markdown",
   "metadata": {
    "id": "rC0PuutWYTA8"
   },
   "source": [
    "### Define Function `make_json`"
   ]
  },
  {
   "cell_type": "code",
   "execution_count": 19,
   "metadata": {
    "id": "kXzJbyopXB2H"
   },
   "outputs": [],
   "source": [
    "\n",
    "def make_json(name, network, positions,\n",
    "              node_color = '#40b9d4',\n",
    "              link_color = '#999999',\n",
    "              annotations = 'None',\n",
    "              communities = 'None'):\n",
    "    \"\"\"\n",
    "    Generates a JSON file from a given network graph using the specified parameters.\n",
    "\n",
    "    Args:\n",
    "        name (str, optional): Name of the graph.\n",
    "        network (networkx.Graph): Network graph object.\n",
    "        positions (dict): Dictionary mapping node IDs to their positions.\n",
    "        node_color (dict): Dictionary mapping node IDs to their (hex-)colors.\n",
    "        link_color (str or dict): (Hex-)color value for all links in the graph or\n",
    "                                   dict with node tuple as key and hex color as value.\n",
    "        communities (dict): 'None' for no communities (default) or dictionary mapping\n",
    "                            node IDs to their corresponding community ID.\n",
    "        annotations (dict): Dictionary mapping node IDs to a list of annotations.\n",
    "\n",
    "    Returns:\n",
    "        None\n",
    "\n",
    "    \"\"\"\n",
    "\n",
    "    # --------------------------\n",
    "    # Generate VR GRAPH\n",
    "    # --------------------------\n",
    "    GVR = nx.Graph()\n",
    "    GVR.graph['name'] = name\n",
    "\n",
    "    # --------------------------------------\n",
    "    # LOOKUP FOR NODE NAMES INTO IDs and vv\n",
    "    # --------------------------------------\n",
    "    d_idx_node = {}\n",
    "    d_node_idx = {}\n",
    "    for i, node in enumerate(sorted(network.nodes())):\n",
    "        d_idx_node[i] = node\n",
    "        d_node_idx[node] = i\n",
    "    GVR.add_nodes_from(d_idx_node.keys())\n",
    "\n",
    "    for edge in network.edges()(data=True):\n",
    "        GVR.add_edge(d_node_idx[edge[0]],d_node_idx[edge[1]])\n",
    "\n",
    "    # --------------------------\n",
    "    # POS\n",
    "    # --------------------------\n",
    "    if isinstance(positions[next(iter(positions))], list):\n",
    "        pass\n",
    "    else:\n",
    "        for key in positions:\n",
    "            positions[key] = np.array(positions[key]).tolist()\n",
    "\n",
    "\n",
    "    posG = {d_node_idx[node]: list(xyz) for node, xyz in positions.items()}\n",
    "    nx.set_node_attributes(GVR, posG, name=\"pos\")\n",
    "\n",
    "    # # --------------------------\n",
    "    # # CLUSTER\n",
    "    # # --------------------------\n",
    "    if communities == 'None':\n",
    "        dict_for_cluster = dict(zip(d_idx_node.keys(), [0 for _ in d_idx_node.keys()]))\n",
    "    else:\n",
    "        d_VRids_cluster = {d_node_idx[node]: str(cl_id) for node, cl_id in communities.items()}\n",
    "        nx.set_node_attributes(GVR, d_VRids_cluster, name=\"cluster\")\n",
    "\n",
    "\n",
    "    # --------------------------\n",
    "    # NODE COLOR\n",
    "    # --------------------------\n",
    "    d_node_colors={}\n",
    "\n",
    "    if isinstance(node_color, dict):\n",
    "        for nodeid in GVR.nodes():\n",
    "            d_node_colors[nodeid] = node_color[d_idx_node[nodeid]]\n",
    "    else:\n",
    "        for nodeid in GVR.nodes():\n",
    "            d_node_colors[nodeid] = node_color\n",
    "\n",
    "    nx.set_node_attributes(GVR, d_node_colors, name=\"nodecolor\")\n",
    "\n",
    "    # --------------------------\n",
    "    # LINK COLOR\n",
    "    # --------------------------\n",
    "    if isinstance(link_color, dict):\n",
    "        # for different link colors\n",
    "        d_edge_color = {}\n",
    "        for a,b in GVR.edges():\n",
    "            try:\n",
    "                color = link_color[(d_idx_node[a],d_idx_node[b])]\n",
    "            except KeyError:\n",
    "                color = link_color[(d_idx_node[b],d_idx_node[a])]\n",
    "            d_edge_color[(a,b)] = color\n",
    "    else:\n",
    "        # for unique link colors\n",
    "        d_edge_color = {}\n",
    "        for a,b in GVR.edges():\n",
    "            d_edge_color[(a,b)] = link_color\n",
    "\n",
    "    nx.set_edge_attributes(GVR, d_edge_color, name=\"linkcolor\")\n",
    "\n",
    "    # --------------------------\n",
    "    # NODE ANNOTATION\n",
    "    # --------------------------\n",
    "    if isinstance(annotations, dict):\n",
    "\n",
    "        l_annotations = [[str(d_idx_node[nodeid])] + [ annotation for annotation in annotations[d_idx_node[nodeid]]] for nodeid in sorted(GVR.nodes())]\n",
    "        d_annotations = dict(zip(sorted(GVR.nodes()), l_annotations))\n",
    "    else:\n",
    "        d_annotations = {nodeid: [str(d_idx_node[nodeid])] for nodeid in GVR.nodes()}\n",
    "\n",
    "    nx.set_node_attributes(GVR, d_annotations, name=\"annotation\")\n",
    "\n",
    "    # --------------------------\n",
    "    # MAKE JSON for uploader\n",
    "    # --------------------------\n",
    "\n",
    "    G_json = json.dumps(nx.node_link_data(GVR))\n",
    "\n",
    "    with open(GVR.name, \"w\") as outfile:\n",
    "        outfile.write(G_json)\n"
   ]
  },
  {
   "cell_type": "markdown",
   "metadata": {
    "id": "e_-V-xmjYalO"
   },
   "source": [
    "### Run the Function\n",
    "\n"
   ]
  },
  {
   "cell_type": "code",
   "execution_count": 15,
   "metadata": {},
   "outputs": [],
   "source": [
    "network_name = \"OYGenemania_carto.json\""
   ]
  },
  {
   "cell_type": "code",
   "execution_count": 20,
   "metadata": {
    "id": "68Jv0wy-YY2R"
   },
   "outputs": [],
   "source": [
    "make_json(network_name, G, pos)"
   ]
  },
  {
   "cell_type": "code",
   "execution_count": null,
   "metadata": {
    "colab": {
     "base_uri": "https://localhost:8080/",
     "height": 17
    },
    "executionInfo": {
     "elapsed": 13,
     "status": "ok",
     "timestamp": 1689414498024,
     "user": {
      "displayName": "Joel Hancock",
      "userId": "16189644458263281336"
     },
     "user_tz": -120
    },
    "id": "aG_fvHr5Z3Z_",
    "outputId": "8c0d2f21-08ba-49d2-ac79-71b74a46c6a8"
   },
   "outputs": [],
   "source": [
    "import google.colab.files\n",
    "google.colab.files.download(\"minimal_example.json\")"
   ]
  },
  {
   "cell_type": "code",
   "execution_count": null,
   "metadata": {},
   "outputs": [],
   "source": []
  }
 ],
 "metadata": {
  "@webio": {
   "lastCommId": null,
   "lastKernelId": null
  },
  "colab": {
   "authorship_tag": "ABX9TyO4RJdiN0SI4yPV4hIEsu2S",
   "provenance": []
  },
  "kernelspec": {
   "display_name": "Python 3 (ipykernel)",
   "language": "python",
   "name": "python3"
  },
  "language_info": {
   "codemirror_mode": {
    "name": "ipython",
    "version": 3
   },
   "file_extension": ".py",
   "mimetype": "text/x-python",
   "name": "python",
   "nbconvert_exporter": "python",
   "pygments_lexer": "ipython3",
   "version": "3.10.6"
  }
 },
 "nbformat": 4,
 "nbformat_minor": 4
}
