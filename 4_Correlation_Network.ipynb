{
 "cells": [
  {
   "cell_type": "code",
   "execution_count": null,
   "metadata": {
    "id": "r1Uax4xUW0Is"
   },
   "outputs": [],
   "source": [
    "from collections import defaultdict, Counter\n",
    "import itertools\n",
    "import numpy as np\n",
    "import json\n",
    "import random as rd\n",
    "import networkx as nx\n",
    "import pandas as pd\n",
    "import matplotlib.pyplot as plt\n",
    "import plotly.graph_objects as go\n",
    "from plotly.offline import init_notebook_mode, iplot"
   ]
  },
  {
   "cell_type": "markdown",
   "metadata": {
    "id": "oFn3J7DUW01H"
   },
   "source": [
    "## Make a dataframe\n"
   ]
  },
  {
   "cell_type": "code",
   "execution_count": null,
   "metadata": {
    "colab": {
     "base_uri": "https://localhost:8080/",
     "height": 73
    },
    "executionInfo": {
     "elapsed": 77054,
     "status": "ok",
     "timestamp": 1689429624161,
     "user": {
      "displayName": "Joel Hancock",
      "userId": "16189644458263281336"
     },
     "user_tz": -120
    },
    "id": "x5l4NHBIXPr3",
    "outputId": "5895258b-218a-4f70-9e81-176faa344583"
   },
   "outputs": [],
   "source": [
    "# upload a dataset- you can find the default we provide for the course at\n",
    "# import google.colab.files;google.colab.files.upload();"
   ]
  },
  {
   "cell_type": "markdown",
   "metadata": {
    "id": "LsxFj-e1KMcW"
   },
   "source": [
    "\n",
    "\n"
   ]
  },
  {
   "cell_type": "code",
   "execution_count": null,
   "metadata": {
    "id": "94uy5DnPjw7x"
   },
   "outputs": [],
   "source": [
    "# read the .csv you uploaded with pandas. pandas has lots of options\n",
    "# to adjust to different formats of datafile: sep (separator), skiprows, index_col and encoding (try latin1)\n",
    "# are especially useful, as is `read_excel`\n",
    "\n",
    "# here we read in file directly from our github\n",
    "df = pd.read_csv(\"https://raw.githubusercontent.com/seasonsOfTheSun/convenient_data_storage/main/pbmc_processed.csv\", index_col=0)"
   ]
  },
  {
   "cell_type": "code",
   "execution_count": null,
   "metadata": {
    "colab": {
     "base_uri": "https://localhost:8080/",
     "height": 487
    },
    "executionInfo": {
     "elapsed": 4,
     "status": "ok",
     "timestamp": 1689429662730,
     "user": {
      "displayName": "Joel Hancock",
      "userId": "16189644458263281336"
     },
     "user_tz": -120
    },
    "id": "ApLicYCulwm7",
    "outputId": "d6c8b723-4d6f-486b-ee7c-01be7330fefc"
   },
   "outputs": [],
   "source": [
    "# examine the dataframe\n",
    "# check that features are on the columns\n",
    "# and samples/observations are along the rows/indices\n",
    "df"
   ]
  },
  {
   "cell_type": "markdown",
   "metadata": {
    "id": "N8ReSeJ-sheu"
   },
   "source": [
    "### Make Correlation Network\n",
    "\n",
    "Make network with:\n",
    "\n",
    "*   a node corresponding to each feature in your dataset\n",
    "*   a link between two nodes whenever their corresponding features are correlated.\n",
    "\n",
    "\n",
    "*Correlated* here means having their pearson correlation above a certain threshold value."
   ]
  },
  {
   "cell_type": "code",
   "execution_count": null,
   "metadata": {},
   "outputs": [],
   "source": []
  },
  {
   "cell_type": "code",
   "execution_count": null,
   "metadata": {
    "colab": {
     "base_uri": "https://localhost:8080/"
    },
    "executionInfo": {
     "elapsed": 40880,
     "status": "ok",
     "timestamp": 1689429705671,
     "user": {
      "displayName": "Joel Hancock",
      "userId": "16189644458263281336"
     },
     "user_tz": -120
    },
    "id": "RfS9Et9-sfbi",
    "outputId": "a3ede88a-740d-4971-d564-9f4227f7282c"
   },
   "outputs": [],
   "source": [
    "import itertools as it\n",
    "import networkx as nx\n",
    "import scipy.stats\n",
    "import tqdm\n",
    "threshold = 0.3\n",
    "df_corr = df.corr()\n",
    "G_unfiltered = nx.from_pandas_adjacency(df_corr*(df_corr> threshold))"
   ]
  },
  {
   "cell_type": "markdown",
   "metadata": {
    "id": "W8Pf4G3gtxe8"
   },
   "source": [
    "### Filter Edges\n",
    "\n",
    "The network is probably still not sparse.  \n",
    "To make a sparse network, we will fillter the edges based on their betweenness centrality.  \n",
    " This leaves a \"skeleton\" of important connections that preserves the overall shape of the orgiinal network, in terms of shortest paths."
   ]
  },
  {
   "cell_type": "code",
   "execution_count": null,
   "metadata": {
    "id": "kLYzT0bbtayk"
   },
   "outputs": [],
   "source": [
    "betweenness = nx.edge_betweenness_centrality(G_unfiltered)"
   ]
  },
  {
   "cell_type": "code",
   "execution_count": null,
   "metadata": {
    "id": "EwnXFHRV7iA6"
   },
   "outputs": [],
   "source": [
    "import matplotlib.pyplot as plt"
   ]
  },
  {
   "cell_type": "code",
   "execution_count": null,
   "metadata": {
    "colab": {
     "base_uri": "https://localhost:8080/",
     "height": 431
    },
    "executionInfo": {
     "elapsed": 320,
     "status": "ok",
     "timestamp": 1689429742529,
     "user": {
      "displayName": "Joel Hancock",
      "userId": "16189644458263281336"
     },
     "user_tz": -120
    },
    "id": "qPpJ8-Um7YLy",
    "outputId": "5523a261-e0c0-4709-b16d-4edd91000a6f"
   },
   "outputs": [],
   "source": [
    "plt.hist(betweenness.values(),bins=20);"
   ]
  },
  {
   "cell_type": "code",
   "execution_count": null,
   "metadata": {
    "id": "mRNNaShptK4Q"
   },
   "outputs": [],
   "source": [
    "betweenness_threshold = 0.0005\n",
    "G = G_unfiltered.copy()\n",
    "for edge, value in betweenness.items():\n",
    "  if value < betweenness_threshold:\n",
    "    G.remove_edge(edge[0], edge[1])"
   ]
  },
  {
   "cell_type": "markdown",
   "metadata": {
    "id": "7fWF2_XHXH3n"
   },
   "source": [
    "\n",
    "## Generic Network Layout\n",
    "\n"
   ]
  },
  {
   "cell_type": "code",
   "execution_count": null,
   "metadata": {
    "id": "lOZtYBDMXY7v"
   },
   "outputs": [],
   "source": [
    "# Spring layout again\n",
    "pos = nx.spring_layout(G, dim=3)"
   ]
  },
  {
   "cell_type": "markdown",
   "metadata": {
    "id": "eOOkSpm7XJk2"
   },
   "source": [
    "\n",
    "## Plotly Preview\n"
   ]
  },
  {
   "cell_type": "markdown",
   "metadata": {
    "id": "ND8yDgAyYvtM"
   },
   "source": [
    "### Define The Function `plotly_preview`"
   ]
  },
  {
   "cell_type": "code",
   "execution_count": null,
   "metadata": {
    "id": "2vuVEKW0X90a"
   },
   "outputs": [],
   "source": [
    "\n",
    "import plotly.offline\n",
    "def plotly_preview(G, pos, node_colors=None, edge_colors=None):\n",
    "\n",
    "    \"\"\"\n",
    "    Generate a 3D network visualization using Plotly.\n",
    "\n",
    "    Parameters:\n",
    "        - G (networkx.Graph): The graph object representing the network.\n",
    "        - pos3D (dict): A dictionary mapping each node to its 3D coordinates (x, y, z).\n",
    "        - node_colors (dict, optional): A dictionary mapping nodes to custom hex colors.\n",
    "                                        If not provided, the default color is '#40b9d4'.\n",
    "        - edge_colors (dict, optional): A dictionary mapping edges to custom hex colors.\n",
    "                                        If not provided, the default color is 'gray'.\n",
    "\n",
    "    Output:\n",
    "        - An HTML file named 'network_visualization.html' is generated, which opens in a web browser.\n",
    "\n",
    "    Example usage:\n",
    "        node_colors = {1: '#ff0000', 2: '#00ff00', 3: '#0000ff'}\n",
    "        edge_colors = {(1, 2): '#ff00ff', (2, 3): '#ffff00'}\n",
    "        pos = nx.spring_layout(G,dim=3)\n",
    "        plotly_review_2(G, pos, node_colors, edge_colors)\n",
    "    \"\"\"\n",
    "\n",
    "    # Create a Plotly figure\n",
    "    fig = go.Figure()\n",
    "\n",
    "    # Add nodes to the figure\n",
    "    for node in G.nodes():\n",
    "        x, y, z = pos[node]\n",
    "        color = node_colors[node] if node_colors and node in node_colors else '#40b9d4'\n",
    "        fig.add_trace(go.Scatter3d(\n",
    "            x=[x],\n",
    "            y=[y],\n",
    "            z=[z],\n",
    "            mode='markers',\n",
    "            marker=dict(\n",
    "                size=5,\n",
    "                color=color,\n",
    "            ),\n",
    "            name=str(node),\n",
    "            text=str(node),\n",
    "            hovertemplate=None,\n",
    "        ))\n",
    "\n",
    "    # Add edges to the figure\n",
    "    for edge in G.edges():\n",
    "        x0, y0, z0 = pos[edge[0]]\n",
    "        x1, y1, z1 = pos[edge[1]]\n",
    "        edge_color = edge_colors[edge] if edge_colors and edge in edge_colors else 'gray'\n",
    "        fig.add_trace(go.Scatter3d(\n",
    "            x=[x0, x1],\n",
    "            y=[y0, y1],\n",
    "            z=[z0, z1],\n",
    "            mode='lines',\n",
    "            line=dict(\n",
    "                color=edge_color,\n",
    "                width=1,\n",
    "            ),\n",
    "            hoverinfo='none',\n",
    "        ))\n",
    "\n",
    "    # Set layout options\n",
    "    fig.update_layout(\n",
    "        scene=dict(\n",
    "            xaxis=dict(visible=False),\n",
    "            yaxis=dict(visible=False),\n",
    "            zaxis=dict(visible=False),\n",
    "        ),\n",
    "        showlegend=False,\n",
    "        hovermode='closest',\n",
    "        margin=dict(l=0, r=0, b=0, t=0),\n",
    "    )\n",
    "\n",
    "    # Display the plot inline in the notebook\n",
    "    iplot(fig)\n",
    "    plotly.offline.plot(fig, filename='plotly_plot.html')\n"
   ]
  },
  {
   "cell_type": "markdown",
   "metadata": {
    "id": "X4AATgPxY0by"
   },
   "source": [
    "### Use the Function"
   ]
  },
  {
   "cell_type": "code",
   "execution_count": null,
   "metadata": {
    "colab": {
     "base_uri": "https://localhost:8080/",
     "height": 542
    },
    "executionInfo": {
     "elapsed": 3933,
     "status": "ok",
     "timestamp": 1689429823438,
     "user": {
      "displayName": "Joel Hancock",
      "userId": "16189644458263281336"
     },
     "user_tz": -120
    },
    "id": "Le6JM40dY5sp",
    "outputId": "9bbf18a2-af30-44f1-b60e-16795256dd19"
   },
   "outputs": [],
   "source": [
    "plotly_preview(G, pos)"
   ]
  },
  {
   "cell_type": "markdown",
   "metadata": {
    "id": "bIM_x9bwXOE0"
   },
   "source": [
    "\n",
    "## Export JSON\n",
    "\n",
    "\n"
   ]
  },
  {
   "cell_type": "markdown",
   "metadata": {
    "id": "OjGVCiUhJOj_"
   },
   "source": [
    "## Add GO Term Annotations to Genes"
   ]
  },
  {
   "cell_type": "code",
   "execution_count": null,
   "metadata": {
    "colab": {
     "base_uri": "https://localhost:8080/"
    },
    "executionInfo": {
     "elapsed": 31570,
     "status": "ok",
     "timestamp": 1689429793416,
     "user": {
      "displayName": "Joel Hancock",
      "userId": "16189644458263281336"
     },
     "user_tz": -120
    },
    "id": "le27Blc0JLT9",
    "outputId": "b3c15d1a-383e-4cb6-93d5-bdfb09fc267d"
   },
   "outputs": [],
   "source": [
    "# Alternatively, you can download GO annotations so\n",
    "# you can select genes annotated with a particular GO term\n",
    "!wget http://geneontology.org/gene-associations/goa_human.gaf.gz\n",
    "!gunzip goa_human.gaf.gz\n",
    "\n",
    "# you can uuse this code to convert e.g. gene symbols to entrez\n",
    "!wget https://ftp.ebi.ac.uk/pub/databases/genenames/hgnc/json/locus_groups/protein-coding_gene.json\n",
    "# use the name mapper to convert whatever naming system we have\n",
    "# in the gene list can be converted to entrez\n",
    "import json\n",
    "name_mapper = json.load(open(\"protein-coding_gene.json\"))['response']['docs']\n",
    "symbol_entrez = {i['symbol']:i['entrez_id'] for i in name_mapper}"
   ]
  },
  {
   "cell_type": "code",
   "execution_count": null,
   "metadata": {
    "colab": {
     "base_uri": "https://localhost:8080/"
    },
    "executionInfo": {
     "elapsed": 17131,
     "status": "ok",
     "timestamp": 1689429810533,
     "user": {
      "displayName": "Joel Hancock",
      "userId": "16189644458263281336"
     },
     "user_tz": -120
    },
    "id": "I6zaLX1dKQHE",
    "outputId": "a90e713a-8bd0-4891-d2f2-cd08cad98a79"
   },
   "outputs": [],
   "source": [
    "import pandas as pd\n",
    "import json\n",
    "\n",
    "# Read the gene annotations from the file\n",
    "go_annotations = pd.read_csv(\"goa_human.gaf\", skiprows=41, sep=\"\\t\", header=None)\n",
    "# Specify the column indices for gene and GO terms\n",
    "gene_column = 2\n",
    "go_column = 4\n",
    "\n",
    "# Download the GO ontology file\n",
    "!wget http://current.geneontology.org/ontology/go-basic.json\n",
    "# Load the GO ontology file\n",
    "go_info = json.load(open(\"go-basic.json\"))\n",
    "# Create a dictionary mapping GO IDs to their corresponding names\n",
    "go_id_to_name = {i[\"id\"].split(\"/\")[-1].replace(\"_\", \":\"): i['lbl'] for i in go_info['graphs'][0]['nodes'] if 'lbl' in i.keys()}\n",
    "\n",
    "\n",
    "# Create a dictionary to store gene annotations\n",
    "annotations = {}\n",
    "# Process each gene column in the dataframe\n",
    "for gene in df.columns:\n",
    "    # Select rows where the gene column matches the current gene\n",
    "    # NB: if you have different gene identifiers in your own dataset\n",
    "    # you will have to adjust this line to select the right GO terms\n",
    "    selected_rows = go_annotations[gene_column] == gene\n",
    "\n",
    "    # Get unique GO IDs associated with the current gene\n",
    "    go_ids = set(go_annotations[selected_rows][go_column])\n",
    "\n",
    "    # Map GO IDs to their corresponding names and store them in the annotations dictionary\n",
    "    annotations[gene] = [go_id_to_name[go_id] for go_id in go_ids]\n",
    "\n"
   ]
  },
  {
   "cell_type": "markdown",
   "metadata": {
    "id": "rC0PuutWYTA8"
   },
   "source": [
    "### Define Function `make_json`"
   ]
  },
  {
   "cell_type": "code",
   "execution_count": null,
   "metadata": {
    "id": "kXzJbyopXB2H"
   },
   "outputs": [],
   "source": [
    "\n",
    "def make_json(name, network, positions, node_color = '#40b9d4', link_color = '#999999', annotations = 'None', communities = 'None'):\n",
    "    \"\"\"\n",
    "    Generates a JSON file from a given network graph using the specified parameters.\n",
    "\n",
    "    Args:\n",
    "        name (str, optional): Name of the graph.\n",
    "        network (networkx.Graph): Network graph object.\n",
    "        positions (dict): Dictionary mapping node IDs to their positions.\n",
    "        node_color (dict): Dictionary mapping node IDs to their (hex-)colors.\n",
    "        link_color (str or dict): (Hex-)color value for all links in the graph or dict with node tuple as key and hex color as value.\n",
    "        communities (dict): 'None' for no communities (default) or dictionary mapping node IDs to their corresponding community ID.\n",
    "        annotations (dict): Dictionary mapping node IDs to a list of annotations.\n",
    "\n",
    "    Returns:\n",
    "        None\n",
    "\n",
    "    \"\"\"\n",
    "\n",
    "    # --------------------------\n",
    "    # Generate VR GRAPH\n",
    "    # --------------------------\n",
    "    GVR = nx.Graph()\n",
    "    GVR.graph['name'] = name\n",
    "\n",
    "    # --------------------------------------\n",
    "    # LOOKUP FOR NODE NAMES INTO IDs and vv\n",
    "    # --------------------------------------\n",
    "    d_idx_node = {}\n",
    "    d_node_idx = {}\n",
    "    for i, node in enumerate(sorted(network.nodes())):\n",
    "        d_idx_node[i] = node\n",
    "        d_node_idx[node] = i\n",
    "    GVR.add_nodes_from(d_idx_node.keys())\n",
    "\n",
    "    for edge in network.edges()(data=True):\n",
    "        GVR.add_edge(d_node_idx[edge[0]],d_node_idx[edge[1]])\n",
    "\n",
    "    # --------------------------\n",
    "    # POS\n",
    "    # --------------------------\n",
    "    if isinstance(positions[next(iter(positions))], list):\n",
    "        pass\n",
    "    else:\n",
    "        for key in positions:\n",
    "            positions[key] = positions[key].tolist()\n",
    "\n",
    "    posG = {d_node_idx[node]: list(xyz) for node, xyz in positions.items()}\n",
    "    nx.set_node_attributes(GVR, posG, name=\"pos\")\n",
    "\n",
    "    # # --------------------------\n",
    "    # # CLUSTER\n",
    "    # # --------------------------\n",
    "    if communities == 'None':\n",
    "        dict_for_cluster = dict(zip(d_idx_node.keys(), [0 for _ in d_idx_node.keys()]))\n",
    "    else:\n",
    "        d_VRids_cluster = {d_node_idx[node]: str(cl_id) for node, cl_id in communities.items()}\n",
    "        nx.set_node_attributes(GVR, d_VRids_cluster, name=\"cluster\")\n",
    "\n",
    "\n",
    "    # --------------------------\n",
    "    # NODE COLOR\n",
    "    # --------------------------\n",
    "    d_node_colors={}\n",
    "\n",
    "    if isinstance(node_color, dict):\n",
    "        for nodeid in GVR.nodes():\n",
    "            d_node_colors[nodeid] = node_color[d_idx_node[nodeid]]\n",
    "    else:\n",
    "        for nodeid in GVR.nodes():\n",
    "            d_node_colors[nodeid] = node_color\n",
    "\n",
    "    nx.set_node_attributes(GVR, d_node_colors, name=\"nodecolor\")\n",
    "\n",
    "    # --------------------------\n",
    "    # LINK COLOR\n",
    "    # --------------------------\n",
    "    if isinstance(link_color, dict):\n",
    "        # for different link colors\n",
    "        d_edge_color = {}\n",
    "        for a,b in GVR.edges():\n",
    "            try:\n",
    "                color = link_color[(d_idx_node[a],d_idx_node[b])]\n",
    "            except KeyError:\n",
    "                color = link_color[(d_idx_node[b],d_idx_node[a])]\n",
    "            d_edge_color[(a,b)] = color\n",
    "    else:\n",
    "        # for unique link colors\n",
    "        d_edge_color = {}\n",
    "        for a,b in GVR.edges():\n",
    "            d_edge_color[(a,b)] = link_color\n",
    "\n",
    "    nx.set_edge_attributes(GVR, d_edge_color, name=\"linkcolor\")\n",
    "\n",
    "    # --------------------------\n",
    "    # NODE ANNOTATION\n",
    "    # --------------------------\n",
    "    if isinstance(annotations, dict):\n",
    "\n",
    "        l_annotations = [[str(d_idx_node[nodeid])] + [ annotation for annotation in annotations[d_idx_node[nodeid]]] for nodeid in sorted(GVR.nodes())]\n",
    "        d_annotations = dict(zip(sorted(GVR.nodes()), l_annotations))\n",
    "    else:\n",
    "        d_annotations = {nodeid: [str(d_idx_node[nodeid])] for nodeid in GVR.nodes()}\n",
    "\n",
    "    nx.set_node_attributes(GVR, d_annotations, name=\"annotation\")\n",
    "\n",
    "    # --------------------------\n",
    "    # MAKE JSON fo uploader\n",
    "    # --------------------------\n",
    "\n",
    "    G_json = json.dumps(nx.node_link_data(GVR))\n",
    "\n",
    "    with open(GVR.name, \"w\") as outfile:\n",
    "        outfile.write(G_json)\n"
   ]
  },
  {
   "cell_type": "markdown",
   "metadata": {
    "id": "e_-V-xmjYalO"
   },
   "source": [
    "### Run the Function\n",
    "\n"
   ]
  },
  {
   "cell_type": "code",
   "execution_count": null,
   "metadata": {
    "id": "68Jv0wy-YY2R"
   },
   "outputs": [],
   "source": [
    "make_json(\"feature_network.json\", G, pos)"
   ]
  },
  {
   "cell_type": "code",
   "execution_count": null,
   "metadata": {
    "colab": {
     "base_uri": "https://localhost:8080/",
     "height": 17
    },
    "executionInfo": {
     "elapsed": 4,
     "status": "ok",
     "timestamp": 1689432683980,
     "user": {
      "displayName": "Joel Hancock",
      "userId": "16189644458263281336"
     },
     "user_tz": -120
    },
    "id": "aG_fvHr5Z3Z_",
    "outputId": "9f52d725-9256-4b15-9578-9ad5bf68c7c6"
   },
   "outputs": [],
   "source": [
    "import google.colab.files\n",
    "google.colab.files.download(\"feature_network.json\")"
   ]
  },
  {
   "cell_type": "code",
   "execution_count": null,
   "metadata": {
    "id": "j_N0lO6i8Iu0"
   },
   "outputs": [],
   "source": []
  }
 ],
 "metadata": {
  "@webio": {
   "lastCommId": null,
   "lastKernelId": null
  },
  "colab": {
   "authorship_tag": "ABX9TyPFjZScvOtLLPX+Tr9bhoP4",
   "provenance": [
    {
     "file_id": "1RK7Cog5tMO1Czlyn57LkLVGeCfgkWvTt",
     "timestamp": 1689088132574
    }
   ]
  },
  "kernelspec": {
   "display_name": "Python 3 (ipykernel)",
   "language": "python",
   "name": "python3"
  },
  "language_info": {
   "codemirror_mode": {
    "name": "ipython",
    "version": 3
   },
   "file_extension": ".py",
   "mimetype": "text/x-python",
   "name": "python",
   "nbconvert_exporter": "python",
   "pygments_lexer": "ipython3",
   "version": "3.10.8"
  }
 },
 "nbformat": 4,
 "nbformat_minor": 1
}
