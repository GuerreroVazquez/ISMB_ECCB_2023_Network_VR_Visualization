{
 "cells": [
  {
   "cell_type": "code",
   "execution_count": 1,
   "metadata": {
    "id": "r1Uax4xUW0Is"
   },
   "outputs": [],
   "source": [
    "from collections import defaultdict, Counter\n",
    "import itertools\n",
    "import numpy as np\n",
    "import json\n",
    "import random as rd\n",
    "import networkx as nx\n",
    "import pandas as pd\n",
    "import matplotlib.pyplot as plt\n",
    "import plotly.graph_objects as go\n",
    "from plotly.offline import init_notebook_mode, iplot"
   ]
  },
  {
   "cell_type": "markdown",
   "metadata": {
    "id": "oFn3J7DUW01H"
   },
   "source": [
    "## Make a dataframe\n"
   ]
  },
  {
   "cell_type": "code",
   "execution_count": null,
   "metadata": {
    "colab": {
     "base_uri": "https://localhost:8080/",
     "height": 73
    },
    "executionInfo": {
     "elapsed": 77054,
     "status": "ok",
     "timestamp": 1689429624161,
     "user": {
      "displayName": "Joel Hancock",
      "userId": "16189644458263281336"
     },
     "user_tz": -120
    },
    "id": "x5l4NHBIXPr3",
    "outputId": "5895258b-218a-4f70-9e81-176faa344583"
   },
   "outputs": [],
   "source": [
    "# upload a dataset- you can find the default we provide for the course at\n",
    "# import google.colab.files;google.colab.files.upload();"
   ]
  },
  {
   "cell_type": "markdown",
   "metadata": {
    "id": "LsxFj-e1KMcW"
   },
   "source": [
    "\n",
    "\n"
   ]
  },
  {
   "cell_type": "code",
   "execution_count": 2,
   "metadata": {
    "id": "94uy5DnPjw7x"
   },
   "outputs": [],
   "source": [
    "# read the .csv you uploaded with pandas. pandas has lots of options\n",
    "# to adjust to different formats of datafile: sep (separator), skiprows, index_col and encoding (try latin1)\n",
    "# are especially useful, as is `read_excel`\n",
    "\n",
    "# here we read in file directly from our github\n",
    "df = pd.read_csv(\"https://raw.githubusercontent.com/seasonsOfTheSun/convenient_data_storage/main/pbmc_processed.csv\", index_col=0)"
   ]
  },
  {
   "cell_type": "code",
   "execution_count": null,
   "metadata": {
    "colab": {
     "base_uri": "https://localhost:8080/",
     "height": 487
    },
    "executionInfo": {
     "elapsed": 4,
     "status": "ok",
     "timestamp": 1689429662730,
     "user": {
      "displayName": "Joel Hancock",
      "userId": "16189644458263281336"
     },
     "user_tz": -120
    },
    "id": "ApLicYCulwm7",
    "outputId": "d6c8b723-4d6f-486b-ee7c-01be7330fefc"
   },
   "outputs": [],
   "source": [
    "# examine the dataframe\n",
    "# check that features are on the columns\n",
    "# and samples/observations are along the rows/indices\n",
    "df"
   ]
  },
  {
   "cell_type": "markdown",
   "metadata": {
    "id": "N8ReSeJ-sheu"
   },
   "source": [
    "### Make Correlation Network\n",
    "\n",
    "Make network with:\n",
    "\n",
    "*   a node corresponding to each feature in your dataset\n",
    "*   a link between two nodes whenever their corresponding features are correlated.\n",
    "\n",
    "\n",
    "*Correlated* here means having their pearson correlation above a certain threshold value."
   ]
  },
  {
   "cell_type": "code",
   "execution_count": 5,
   "metadata": {},
   "outputs": [
    {
     "name": "stdout",
     "output_type": "stream",
     "text": [
      "Defaulting to user installation because normal site-packages is not writeable\n",
      "Collecting tqdm\n",
      "  Using cached tqdm-4.65.0-py3-none-any.whl (77 kB)\n",
      "Installing collected packages: tqdm\n",
      "\u001b[33m  WARNING: The script tqdm is installed in '/home/karen/.local/bin' which is not on PATH.\n",
      "  Consider adding this directory to PATH or, if you prefer to suppress this warning, use --no-warn-script-location.\u001b[0m\u001b[33m\n",
      "\u001b[0mSuccessfully installed tqdm-4.65.0\n",
      "Note: you may need to restart the kernel to use updated packages.\n"
     ]
    }
   ],
   "source": [
    "pip install tqdm"
   ]
  },
  {
   "cell_type": "code",
   "execution_count": 6,
   "metadata": {
    "colab": {
     "base_uri": "https://localhost:8080/"
    },
    "executionInfo": {
     "elapsed": 40880,
     "status": "ok",
     "timestamp": 1689429705671,
     "user": {
      "displayName": "Joel Hancock",
      "userId": "16189644458263281336"
     },
     "user_tz": -120
    },
    "id": "RfS9Et9-sfbi",
    "outputId": "a3ede88a-740d-4971-d564-9f4227f7282c"
   },
   "outputs": [],
   "source": [
    "import itertools as it\n",
    "import networkx as nx\n",
    "import scipy.stats\n",
    "import tqdm\n",
    "threshold = 0.3\n",
    "df_corr = df.corr()\n",
    "G_unfiltered = nx.from_pandas_adjacency(df_corr*(df_corr> threshold))"
   ]
  },
  {
   "cell_type": "markdown",
   "metadata": {
    "id": "W8Pf4G3gtxe8"
   },
   "source": [
    "### Filter Edges\n",
    "\n",
    "The network is probably still not sparse.  \n",
    "To make a sparse network, we will fillter the edges based on their betweenness centrality.  \n",
    " This leaves a \"skeleton\" of important connections that preserves the overall shape of the orgiinal network, in terms of shortest paths."
   ]
  },
  {
   "cell_type": "code",
   "execution_count": 7,
   "metadata": {
    "id": "kLYzT0bbtayk"
   },
   "outputs": [],
   "source": [
    "betweenness = nx.edge_betweenness_centrality(G_unfiltered)"
   ]
  },
  {
   "cell_type": "code",
   "execution_count": 8,
   "metadata": {
    "id": "EwnXFHRV7iA6"
   },
   "outputs": [],
   "source": [
    "import matplotlib.pyplot as plt"
   ]
  },
  {
   "cell_type": "code",
   "execution_count": 9,
   "metadata": {
    "colab": {
     "base_uri": "https://localhost:8080/",
     "height": 431
    },
    "executionInfo": {
     "elapsed": 320,
     "status": "ok",
     "timestamp": 1689429742529,
     "user": {
      "displayName": "Joel Hancock",
      "userId": "16189644458263281336"
     },
     "user_tz": -120
    },
    "id": "qPpJ8-Um7YLy",
    "outputId": "5523a261-e0c0-4709-b16d-4edd91000a6f"
   },
   "outputs": [
    {
     "data": {
      "image/png": "[encoded data removed]",
      "text/plain": [
       "<Figure size 640x480 with 1 Axes>"
      ]
     },
     "metadata": {},
     "output_type": "display_data"
    }
   ],
   "source": [
    "plt.hist(betweenness.values(),bins=20);"
   ]
  },
  {
   "cell_type": "code",
   "execution_count": 10,
   "metadata": {
    "id": "mRNNaShptK4Q"
   },
   "outputs": [],
   "source": [
    "betweenness_threshold = 0.0005\n",
    "G = G_unfiltered.copy()\n",
    "for edge, value in betweenness.items():\n",
    "  if value < betweenness_threshold:\n",
    "    G.remove_edge(edge[0], edge[1])"
   ]
  },
  {
   "cell_type": "markdown",
   "metadata": {
    "id": "7fWF2_XHXH3n"
   },
   "source": [
    "\n",
    "## Generic Network Layout\n",
    "\n"
   ]
  },
  {
   "cell_type": "code",
   "execution_count": 11,
   "metadata": {
    "id": "lOZtYBDMXY7v"
   },
   "outputs": [],
   "source": [
    "# Spring layout again\n",
    "pos = nx.spring_layout(G, dim=3)"
   ]
  },
  {
   "cell_type": "markdown",
   "metadata": {
    "id": "eOOkSpm7XJk2"
   },
   "source": [
    "\n",
    "## Plotly Preview\n"
   ]
  },
  {
   "cell_type": "markdown",
   "metadata": {
    "id": "ND8yDgAyYvtM"
   },
   "source": [
    "### Define The Function `plotly_preview`"
   ]
  },
  {
   "cell_type": "code",
   "execution_count": 14,
   "metadata": {
    "id": "2vuVEKW0X90a"
   },
   "outputs": [],
   "source": [
    "\n",
    "import plotly.offline\n",
    "def plotly_preview(G, pos, node_colors=None, edge_colors=None):\n",
    "\n",
    "    \"\"\"\n",
    "    Generate a 3D network visualization using Plotly.\n",
    "\n",
    "    Parameters:\n",
    "        - G (networkx.Graph): The graph object representing the network.\n",
    "        - pos3D (dict): A dictionary mapping each node to its 3D coordinates (x, y, z).\n",
    "        - node_colors (dict, optional): A dictionary mapping nodes to custom hex colors.\n",
    "                                        If not provided, the default color is '#40b9d4'.\n",
    "        - edge_colors (dict, optional): A dictionary mapping edges to custom hex colors.\n",
    "                                        If not provided, the default color is 'gray'.\n",
    "\n",
    "    Output:\n",
    "        - An HTML file named 'network_visualization.html' is generated, which opens in a web browser.\n",
    "\n",
    "    Example usage:\n",
    "        node_colors = {1: '#ff0000', 2: '#00ff00', 3: '#0000ff'}\n",
    "        edge_colors = {(1, 2): '#ff00ff', (2, 3): '#ffff00'}\n",
    "        pos = nx.spring_layout(G,dim=3)\n",
    "        plotly_review_2(G, pos, node_colors, edge_colors)\n",
    "    \"\"\"\n",
    "\n",
    "    # Create a Plotly figure\n",
    "    fig = go.Figure()\n",
    "\n",
    "    # Add nodes to the figure\n",
    "    for node in G.nodes():\n",
    "        x, y, z = pos[node]\n",
    "        color = node_colors[node] if node_colors and node in node_colors else '#40b9d4'\n",
    "        fig.add_trace(go.Scatter3d(\n",
    "            x=[x],\n",
    "            y=[y],\n",
    "            z=[z],\n",
    "            mode='markers',\n",
    "            marker=dict(\n",
    "                size=5,\n",
    "                color=color,\n",
    "            ),\n",
    "            name=str(node),\n",
    "            text=str(node),\n",
    "            hovertemplate=None,\n",
    "        ))\n",
    "\n",
    "    # Add edges to the figure\n",
    "    for edge in G.edges():\n",
    "        x0, y0, z0 = pos[edge[0]]\n",
    "        x1, y1, z1 = pos[edge[1]]\n",
    "        edge_color = edge_colors[edge] if edge_colors and edge in edge_colors else 'gray'\n",
    "        fig.add_trace(go.Scatter3d(\n",
    "            x=[x0, x1],\n",
    "            y=[y0, y1],\n",
    "            z=[z0, z1],\n",
    "            mode='lines',\n",
    "            line=dict(\n",
    "                color=edge_color,\n",
    "                width=1,\n",
    "            ),\n",
    "            hoverinfo='none',\n",
    "        ))\n",
    "\n",
    "    # Set layout options\n",
    "    fig.update_layout(\n",
    "        scene=dict(\n",
    "            xaxis=dict(visible=True),\n",
    "            yaxis=dict(visible=False),\n",
    "            zaxis=dict(visible=False),\n",
    "        ),\n",
    "        showlegend=False,\n",
    "        hovermode='closest',\n",
    "        margin=dict(l=0, r=0, b=0, t=0),\n",
    "    )\n",
    "\n",
    "    # Display the plot inline in the notebook\n",
    "    iplot(fig)\n",
    "    plotly.offline.plot(fig, filename='plotly_plot.html')\n"
   ]
  },
  {
   "cell_type": "markdown",
   "metadata": {
    "id": "X4AATgPxY0by"
   },
   "source": [
    "### Use the Function"
   ]
  },
  {
   "cell_type": "code",
   "execution_count": 15,
   "metadata": {
    "colab": {
     "base_uri": "https://localhost:8080/",
     "height": 542
    },
    "executionInfo": {
     "elapsed": 3933,
     "status": "ok",
     "timestamp": 1689429823438,
     "user": {
      "displayName": "Joel Hancock",
      "userId": "16189644458263281336"
     },
     "user_tz": -120
    },
    "id": "Le6JM40dY5sp",
    "outputId": "9bbf18a2-af30-44f1-b60e-16795256dd19"
   },
   "outputs": [
    {
     "data": {
      "application/vnd.plotly.v1+json": {
       "config": {
        "linkText": "Export to plot.ly",
        "plotlyServerURL": "https://plot.ly",
        "showLink": false
       },
       "data": [
        {
         "marker": {
          "color": "#40b9d4",
          "size": 5
         },
         "mode": "markers",
         "name": "RER1",
         "text": "RER1",
         "type": "scatter3d",
         "x": [
          0.041200254743428234
         ],
         "y": [
          -0.09441114304178877
         ],
         "z": [
          0.9164137313090918
         ]
        },
        {
         "marker": {
          "color": "#40b9d4",
          "size": 5
         },
         "mode": "markers",
         "name": "EFHD2",
         "text": "EFHD2",
         "type": "scatter3d",
         "x": [
          -0.02100020817109983
         ],
         "y": [
          -0.0030840874564664424
         ],
         "z": [
          0.006458155457373271
         ]
        },
        {
         "marker": {
          "color": "#40b9d4",
          "size": 5
         },
         "mode": "markers",
         "name": "SDHB",
         "text": "SDHB",
         "type": "scatter3d",
         "x": [
          0.7479434398610956
         ],
         "y": [
          -0.6901820308437918
         ],
         "z": [
          0.3086944312584791
         ]
        },
        {
         "marker": {
          "color": "#40b9d4",
          "size": 5
         },
         "mode": "markers",
         "name": "CAPZB",
         "text": "CAPZB",
         "type": "scatter3d",
         "x": [
          0.01290574728362407
         ],
         "y": [
          -0.17684717008372047
         ],
         "z": [
          1
         ]
        },
        {
         "marker": {
          "color": "#40b9d4",
          "size": 5
         },
         "mode": "markers",
         "name": "CDA",
         "text": "CDA",
         "type": "scatter3d",
         "x": [
          -0.08955455865958474
         ],
         "y": [
          -0.9259542369808648
         ],
         "z": [
          0.0027454630433119036
         ]
        },
        {
         "marker": {
          "color": "#40b9d4",
          "size": 5
         },
         "mode": "markers",
         "name": "TMEM50A",
         "text": "TMEM50A",
         "type": "scatter3d",
         "x": [
          0.8533201367228197
         ],
         "y": [
          -0.3009712593232357
         ],
         "z": [
          0.34884559906366075
         ]
        },
        {
         "marker": {
          "color": "#40b9d4",
          "size": 5
         },
         "mode": "markers",
         "name": "MARCKSL1",
         "text": "MARCKSL1",
         "type": "scatter3d",
         "x": [
          0.19131288773410307
         ],
         "y": [
          0.0415794673779933
         ],
         "z": [
          0.9593826943221774
         ]
        },
        {
         "marker": {
          "color": "#40b9d4",
          "size": 5
         },
         "mode": "markers",
         "name": "PPT1",
         "text": "PPT1",
         "type": "scatter3d",
         "x": [
          -0.34054232467926776
         ],
         "y": [
          -0.764162203359195
         ],
         "z": [
          -0.4938311789798608
         ]
        },
        {
         "marker": {
          "color": "#40b9d4",
          "size": 5
         },
         "mode": "markers",
         "name": "PRDX1",
         "text": "PRDX1",
         "type": "scatter3d",
         "x": [
          -0.38372240577381056
         ],
         "y": [
          0.6196827924133197
         ],
         "z": [
          -0.7748314719915597
         ]
        },
        {
         "marker": {
          "color": "#40b9d4",
          "size": 5
         },
         "mode": "markers",
         "name": "SCP2",
         "text": "SCP2",
         "type": "scatter3d",
         "x": [
          -0.6630079504891253
         ],
         "y": [
          0.14006818468617435
         ],
         "z": [
          0.8248774566009014
         ]
        },
        {
         "marker": {
          "color": "#40b9d4",
          "size": 5
         },
         "mode": "markers",
         "name": "LAMTOR5",
         "text": "LAMTOR5",
         "type": "scatter3d",
         "x": [
          0.21093314395288634
         ],
         "y": [
          -0.9855897453628244
         ],
         "z": [
          0.0005677498864650113
         ]
        },
        {
         "marker": {
          "color": "#40b9d4",
          "size": 5
         },
         "mode": "markers",
         "name": "C1orf162",
         "text": "C1orf162",
         "type": "scatter3d",
         "x": [
          -0.15901211555797948
         ],
         "y": [
          -0.7139661418923564
         ],
         "z": [
          0.6647850158179758
         ]
        },
        {
         "marker": {
          "color": "#40b9d4",
          "size": 5
         },
         "mode": "markers",
         "name": "CD2",
         "text": "CD2",
         "type": "scatter3d",
         "x": [
          -0.3197504540103644
         ],
         "y": [
          0.16972866153372107
         ],
         "z": [
          -0.21166592242386198
         ]
        },
        {
         "marker": {
          "color": "#40b9d4",
          "size": 5
         },
         "mode": "markers",
         "name": "CTSS",
         "text": "CTSS",
         "type": "scatter3d",
         "x": [
          0.15772071906954335
         ],
         "y": [
          0.0047426150462425406
         ],
         "z": [
          -0.029164499644509005
         ]
        },
        {
         "marker": {
          "color": "#40b9d4",
          "size": 5
         },
         "mode": "markers",
         "name": "S100A11",
         "text": "S100A11",
         "type": "scatter3d",
         "x": [
          0.05762362806811481
         ],
         "y": [
          0.20799318983261153
         ],
         "z": [
          -0.03045356814441996
         ]
        },
        {
         "marker": {
          "color": "#40b9d4",
          "size": 5
         },
         "mode": "markers",
         "name": "S100A8",
         "text": "S100A8",
         "type": "scatter3d",
         "x": [
          0.051761032547639904
         ],
         "y": [
          0.20652101311048995
         ],
         "z": [
          0.03448689501401758
         ]
        },
        {
         "marker": {
          "color": "#40b9d4",
          "size": 5
         },
         "mode": "markers",
         "name": "S100A6",
         "text": "S100A6",
         "type": "scatter3d",
         "x": [
          0.02343435184106975
         ],
         "y": [
          0.18730987166536295
         ],
         "z": [
          0.05647057558639553
         ]
        },
        {
         "marker": {
          "color": "#40b9d4",
          "size": 5
         },
         "mode": "markers",
         "name": "CD48",
         "text": "CD48",
         "type": "scatter3d",
         "x": [
          -0.6093878660045553
         ],
         "y": [
          -0.5484522881170718
         ],
         "z": [
          -0.7009546033071716
         ]
        },
        {
         "marker": {
          "color": "#40b9d4",
          "size": 5
         },
         "mode": "markers",
         "name": "FCER1G",
         "text": "FCER1G",
         "type": "scatter3d",
         "x": [
          0.0002812933700494894
         ],
         "y": [
          0.05613840295054213
         ],
         "z": [
          -0.0103894986793164
         ]
        },
        {
         "marker": {
          "color": "#40b9d4",
          "size": 5
         },
         "mode": "markers",
         "name": "FCGR3A",
         "text": "FCGR3A",
         "type": "scatter3d",
         "x": [
          -0.0869770390475698
         ],
         "y": [
          0.10058421818871423
         ],
         "z": [
          -0.06078714796977441
         ]
        },
        {
         "marker": {
          "color": "#40b9d4",
          "size": 5
         },
         "mode": "markers",
         "name": "CD247",
         "text": "CD247",
         "type": "scatter3d",
         "x": [
          -0.12680346865387482
         ],
         "y": [
          0.24174718295841063
         ],
         "z": [
          -0.1616064098173274
         ]
        },
        {
         "marker": {
          "color": "#40b9d4",
          "size": 5
         },
         "mode": "markers",
         "name": "SELL",
         "text": "SELL",
         "type": "scatter3d",
         "x": [
          0.14713931641698164
         ],
         "y": [
          -0.7457006300143402
         ],
         "z": [
          0.7275613037612862
         ]
        },
        {
         "marker": {
          "color": "#40b9d4",
          "size": 5
         },
         "mode": "markers",
         "name": "NCF2",
         "text": "NCF2",
         "type": "scatter3d",
         "x": [
          -0.9968814338732747
         ],
         "y": [
          0.13402208376595567
         ],
         "z": [
          0.003209441024259487
         ]
        },
        {
         "marker": {
          "color": "#40b9d4",
          "size": 5
         },
         "mode": "markers",
         "name": "TRAF3IP3",
         "text": "TRAF3IP3",
         "type": "scatter3d",
         "x": [
          -0.12028875220154149
         ],
         "y": [
          -0.532472439323428
         ],
         "z": [
          -0.7915253180434375
         ]
        },
        {
         "marker": {
          "color": "#40b9d4",
          "size": 5
         },
         "mode": "markers",
         "name": "SRP9",
         "text": "SRP9",
         "type": "scatter3d",
         "x": [
          -0.8984194256524398
         ],
         "y": [
          -0.2926986343460897
         ],
         "z": [
          -0.27132089867139636
         ]
        },
        {
         "marker": {
          "color": "#40b9d4",
          "size": 5
         },
         "mode": "markers",
         "name": "ACP1",
         "text": "ACP1",
         "type": "scatter3d",
         "x": [
          0.3740075852370326
         ],
         "y": [
          -0.6889185524980316
         ],
         "z": [
          -0.6894730230901036
         ]
        },
        {
         "marker": {
          "color": "#40b9d4",
          "size": 5
         },
         "mode": "markers",
         "name": "ID2",
         "text": "ID2",
         "type": "scatter3d",
         "x": [
          -0.1411041676241485
         ],
         "y": [
          0.282498533221215
         ],
         "z": [
          -0.12768433279830355
         ]
        },
        {
         "marker": {
          "color": "#40b9d4",
          "size": 5
         },
         "mode": "markers",
         "name": "SNX17",
         "text": "SNX17",
         "type": "scatter3d",
         "x": [
          0.4453282991720878
         ],
         "y": [
          0.4773802969285421
         ],
         "z": [
          0.6764218719691903
         ]
        },
        {
         "marker": {
          "color": "#40b9d4",
          "size": 5
         },
         "mode": "markers",
         "name": "CCT4",
         "text": "CCT4",
         "type": "scatter3d",
         "x": [
          0.49613702668565945
         ],
         "y": [
          -0.5953705453311864
         ],
         "z": [
          0.42972146081441825
         ]
        },
        {
         "marker": {
          "color": "#40b9d4",
          "size": 5
         },
         "mode": "markers",
         "name": "CCT7",
         "text": "CCT7",
         "type": "scatter3d",
         "x": [
          0.14030015780727503
         ],
         "y": [
          -0.9393582870601018
         ],
         "z": [
          -0.38654788442000876
         ]
        },
        {
         "marker": {
          "color": "#40b9d4",
          "size": 5
         },
         "mode": "markers",
         "name": "VAMP8",
         "text": "VAMP8",
         "type": "scatter3d",
         "x": [
          0.3282592412342514
         ],
         "y": [
          0.5061046422416671
         ],
         "z": [
          -0.8270053958739355
         ]
        },
        {
         "marker": {
          "color": "#40b9d4",
          "size": 5
         },
         "mode": "markers",
         "name": "VAMP5",
         "text": "VAMP5",
         "type": "scatter3d",
         "x": [
          -0.7577566248585329
         ],
         "y": [
          -0.5545747330234546
         ],
         "z": [
          0.17521616792701195
         ]
        },
        {
         "marker": {
          "color": "#40b9d4",
          "size": 5
         },
         "mode": "markers",
         "name": "GNLY",
         "text": "GNLY",
         "type": "scatter3d",
         "x": [
          -0.11898765456491778
         ],
         "y": [
          0.12080938076512475
         ],
         "z": [
          -0.11810185205441773
         ]
        },
        {
         "marker": {
          "color": "#40b9d4",
          "size": 5
         },
         "mode": "markers",
         "name": "UBXN4",
         "text": "UBXN4",
         "type": "scatter3d",
         "x": [
          -0.5425296382746575
         ],
         "y": [
          0.8335840559495269
         ],
         "z": [
          -0.4393475504649364
         ]
        },
        {
         "marker": {
          "color": "#40b9d4",
          "size": 5
         },
         "mode": "markers",
         "name": "ZC3H15",
         "text": "ZC3H15",
         "type": "scatter3d",
         "x": [
          0.7452247268197958
         ],
         "y": [
          0.5318065576357819
         ],
         "z": [
          -0.4288840421991725
         ]
        },
        {
         "marker": {
          "color": "#40b9d4",
          "size": 5
         },
         "mode": "markers",
         "name": "ARPC4",
         "text": "ARPC4",
         "type": "scatter3d",
         "x": [
          -0.504934896459592
         ],
         "y": [
          -0.788065467769602
         ],
         "z": [
          -0.4060422286172157
         ]
        },
        {
         "marker": {
          "color": "#40b9d4",
          "size": 5
         },
         "mode": "markers",
         "name": "CMTM7",
         "text": "CMTM7",
         "type": "scatter3d",
         "x": [
          -0.31402747257043145
         ],
         "y": [
          -0.9164167761741562
         ],
         "z": [
          -0.044744442262787884
         ]
        },
        {
         "marker": {
          "color": "#40b9d4",
          "size": 5
         },
         "mode": "markers",
         "name": "GPX1",
         "text": "GPX1",
         "type": "scatter3d",
         "x": [
          0.553402042332283
         ],
         "y": [
          -0.4414740173749422
         ],
         "z": [
          0.8280333483615946
         ]
        },
        {
         "marker": {
          "color": "#40b9d4",
          "size": 5
         },
         "mode": "markers",
         "name": "GNAI2",
         "text": "GNAI2",
         "type": "scatter3d",
         "x": [
          0.22934144347459623
         ],
         "y": [
          0.8489789114856182
         ],
         "z": [
          0.32497225051129097
         ]
        },
        {
         "marker": {
          "color": "#40b9d4",
          "size": 5
         },
         "mode": "markers",
         "name": "ARL6IP5",
         "text": "ARL6IP5",
         "type": "scatter3d",
         "x": [
          0.375402173552812
         ],
         "y": [
          0.9049538626554904
         ],
         "z": [
          -0.4223821696394573
         ]
        },
        {
         "marker": {
          "color": "#40b9d4",
          "size": 5
         },
         "mode": "markers",
         "name": "CD47",
         "text": "CD47",
         "type": "scatter3d",
         "x": [
          0.6329042971442347
         ],
         "y": [
          0.31786086365842386
         ],
         "z": [
          0.8120005255433442
         ]
        },
        {
         "marker": {
          "color": "#40b9d4",
          "size": 5
         },
         "mode": "markers",
         "name": "RAB7A",
         "text": "RAB7A",
         "type": "scatter3d",
         "x": [
          -0.49609631123223025
         ],
         "y": [
          0.7970675668074204
         ],
         "z": [
          0.12754267419560475
         ]
        },
        {
         "marker": {
          "color": "#40b9d4",
          "size": 5
         },
         "mode": "markers",
         "name": "RNF7",
         "text": "RNF7",
         "type": "scatter3d",
         "x": [
          0.5521203702566766
         ],
         "y": [
          -0.8499655498656117
         ],
         "z": [
          -0.015886605159791414
         ]
        },
        {
         "marker": {
          "color": "#40b9d4",
          "size": 5
         },
         "mode": "markers",
         "name": "RPL22L1",
         "text": "RPL22L1",
         "type": "scatter3d",
         "x": [
          0.9131539592493381
         ],
         "y": [
          0.26367746483733623
         ],
         "z": [
          0.20333079316037472
         ]
        },
        {
         "marker": {
          "color": "#40b9d4",
          "size": 5
         },
         "mode": "markers",
         "name": "TNFSF10",
         "text": "TNFSF10",
         "type": "scatter3d",
         "x": [
          -0.4342963378401018
         ],
         "y": [
          -0.7953209426339639
         ],
         "z": [
          0.528798722395957
         ]
        },
        {
         "marker": {
          "color": "#40b9d4",
          "size": 5
         },
         "mode": "markers",
         "name": "PPP1R2",
         "text": "PPP1R2",
         "type": "scatter3d",
         "x": [
          0.8016599373341623
         ],
         "y": [
          0.713567166999192
         ],
         "z": [
          0.1295728681022097
         ]
        },
        {
         "marker": {
          "color": "#40b9d4",
          "size": 5
         },
         "mode": "markers",
         "name": "LYAR",
         "text": "LYAR",
         "type": "scatter3d",
         "x": [
          -0.1671983681605074
         ],
         "y": [
          0.24563608402608947
         ],
         "z": [
          -0.15653741737268165
         ]
        },
        {
         "marker": {
          "color": "#40b9d4",
          "size": 5
         },
         "mode": "markers",
         "name": "FGFBP2",
         "text": "FGFBP2",
         "type": "scatter3d",
         "x": [
          -0.14251057758782779
         ],
         "y": [
          0.13131211657113112
         ],
         "z": [
          -0.0622134235037801
         ]
        },
        {
         "marker": {
          "color": "#40b9d4",
          "size": 5
         },
         "mode": "markers",
         "name": "HOPX",
         "text": "HOPX",
         "type": "scatter3d",
         "x": [
          -0.15312695144891236
         ],
         "y": [
          0.2589731362492906
         ],
         "z": [
          -0.08602627192111911
         ]
        },
        {
         "marker": {
          "color": "#40b9d4",
          "size": 5
         },
         "mode": "markers",
         "name": "UBE2D3",
         "text": "UBE2D3",
         "type": "scatter3d",
         "x": [
          -0.44905111467970116
         ],
         "y": [
          0.5149947264126419
         ],
         "z": [
          -0.7464790741909035
         ]
        },
        {
         "marker": {
          "color": "#40b9d4",
          "size": 5
         },
         "mode": "markers",
         "name": "SNHG8",
         "text": "SNHG8",
         "type": "scatter3d",
         "x": [
          -0.5706611638075065
         ],
         "y": [
          -0.5884230109261026
         ],
         "z": [
          0.29816428565664216
         ]
        },
        {
         "marker": {
          "color": "#40b9d4",
          "size": 5
         },
         "mode": "markers",
         "name": "C4orf3",
         "text": "C4orf3",
         "type": "scatter3d",
         "x": [
          -0.1518217765858505
         ],
         "y": [
          0.11151973717922932
         ],
         "z": [
          -0.8903729698135684
         ]
        },
        {
         "marker": {
          "color": "#40b9d4",
          "size": 5
         },
         "mode": "markers",
         "name": "FYB",
         "text": "FYB",
         "type": "scatter3d",
         "x": [
          -0.5351139152899833
         ],
         "y": [
          0.21218143427227007
         ],
         "z": [
          0.8013746483331132
         ]
        },
        {
         "marker": {
          "color": "#40b9d4",
          "size": 5
         },
         "mode": "markers",
         "name": "GZMK",
         "text": "GZMK",
         "type": "scatter3d",
         "x": [
          -0.25343575944085217
         ],
         "y": [
          0.05403563550545563
         ],
         "z": [
          -0.16099746264982465
         ]
        },
        {
         "marker": {
          "color": "#40b9d4",
          "size": 5
         },
         "mode": "markers",
         "name": "GZMA",
         "text": "GZMA",
         "type": "scatter3d",
         "x": [
          -0.19065607491556247
         ],
         "y": [
          0.08526214979876541
         ],
         "z": [
          -0.1228507989859067
         ]
        },
        {
         "marker": {
          "color": "#40b9d4",
          "size": 5
         },
         "mode": "markers",
         "name": "NSA2",
         "text": "NSA2",
         "type": "scatter3d",
         "x": [
          -0.8805165309771088
         ],
         "y": [
          -0.45614715761631086
         ],
         "z": [
          -0.3487362590680599
         ]
        },
        {
         "marker": {
          "color": "#40b9d4",
          "size": 5
         },
         "mode": "markers",
         "name": "HINT1",
         "text": "HINT1",
         "type": "scatter3d",
         "x": [
          -0.7775814214659122
         ],
         "y": [
          0.3029133425451046
         ],
         "z": [
          0.6232049978155633
         ]
        },
        {
         "marker": {
          "color": "#40b9d4",
          "size": 5
         },
         "mode": "markers",
         "name": "H2AFY",
         "text": "H2AFY",
         "type": "scatter3d",
         "x": [
          0.16236019789901346
         ],
         "y": [
          0.15609970343561852
         ],
         "z": [
          0.027358045134384446
         ]
        },
        {
         "marker": {
          "color": "#40b9d4",
          "size": 5
         },
         "mode": "markers",
         "name": "UBE2D2",
         "text": "UBE2D2",
         "type": "scatter3d",
         "x": [
          0.4921806796179285
         ],
         "y": [
          0.19615010566991828
         ],
         "z": [
          0.7801663760340503
         ]
        },
        {
         "marker": {
          "color": "#40b9d4",
          "size": 5
         },
         "mode": "markers",
         "name": "NDUFA2",
         "text": "NDUFA2",
         "type": "scatter3d",
         "x": [
          0.1549727752965074
         ],
         "y": [
          -0.8206402986895246
         ],
         "z": [
          -0.5121847936251902
         ]
        },
        {
         "marker": {
          "color": "#40b9d4",
          "size": 5
         },
         "mode": "markers",
         "name": "ATP6V0E1",
         "text": "ATP6V0E1",
         "type": "scatter3d",
         "x": [
          -0.15396776222537284
         ],
         "y": [
          -0.9576358288995725
         ],
         "z": [
          -0.1997879443192791
         ]
        },
        {
         "marker": {
          "color": "#40b9d4",
          "size": 5
         },
         "mode": "markers",
         "name": "LMAN2",
         "text": "LMAN2",
         "type": "scatter3d",
         "x": [
          -0.6681738093886259
         ],
         "y": [
          0.7724993348675053
         ],
         "z": [
          0.24084366752244346
         ]
        },
        {
         "marker": {
          "color": "#40b9d4",
          "size": 5
         },
         "mode": "markers",
         "name": "SERPINB1",
         "text": "SERPINB1",
         "type": "scatter3d",
         "x": [
          -0.022628075556178857
         ],
         "y": [
          -0.01720667629718181
         ],
         "z": [
          0.09130999354063925
         ]
        },
        {
         "marker": {
          "color": "#40b9d4",
          "size": 5
         },
         "mode": "markers",
         "name": "TMEM14B",
         "text": "TMEM14B",
         "type": "scatter3d",
         "x": [
          -0.43010318271889403
         ],
         "y": [
          -0.7541598354336891
         ],
         "z": [
          0.42334947031406883
         ]
        },
        {
         "marker": {
          "color": "#40b9d4",
          "size": 5
         },
         "mode": "markers",
         "name": "NOL7",
         "text": "NOL7",
         "type": "scatter3d",
         "x": [
          0.18218757198776242
         ],
         "y": [
          -0.6233855464048202
         ],
         "z": [
          -0.7881065422036441
         ]
        },
        {
         "marker": {
          "color": "#40b9d4",
          "size": 5
         },
         "mode": "markers",
         "name": "BTN3A2",
         "text": "BTN3A2",
         "type": "scatter3d",
         "x": [
          -0.7282380558482776
         ],
         "y": [
          -0.2326408086029892
         ],
         "z": [
          -0.732278183590938
         ]
        },
        {
         "marker": {
          "color": "#40b9d4",
          "size": 5
         },
         "mode": "markers",
         "name": "LTB",
         "text": "LTB",
         "type": "scatter3d",
         "x": [
          -0.9519213433218636
         ],
         "y": [
          0.013163628998236062
         ],
         "z": [
          0.17521248565856448
         ]
        },
        {
         "marker": {
          "color": "#40b9d4",
          "size": 5
         },
         "mode": "markers",
         "name": "LST1",
         "text": "LST1",
         "type": "scatter3d",
         "x": [
          0.07301553992430686
         ],
         "y": [
          0.0836800265919682
         ],
         "z": [
          -0.038428557730078076
         ]
        },
        {
         "marker": {
          "color": "#40b9d4",
          "size": 5
         },
         "mode": "markers",
         "name": "AIF1",
         "text": "AIF1",
         "type": "scatter3d",
         "x": [
          0.0764486320724051
         ],
         "y": [
          0.08448353713674073
         ],
         "z": [
          5.2292702454022176e-05
         ]
        },
        {
         "marker": {
          "color": "#40b9d4",
          "size": 5
         },
         "mode": "markers",
         "name": "CSNK2B",
         "text": "CSNK2B",
         "type": "scatter3d",
         "x": [
          -0.626417289236006
         ],
         "y": [
          -0.41449840423800355
         ],
         "z": [
          0.7845541400389389
         ]
        },
        {
         "marker": {
          "color": "#40b9d4",
          "size": 5
         },
         "mode": "markers",
         "name": "HLA-DRB1",
         "text": "HLA-DRB1",
         "type": "scatter3d",
         "x": [
          0.11877050731451994
         ],
         "y": [
          0.05368613919061708
         ],
         "z": [
          -0.018334373143696892
         ]
        },
        {
         "marker": {
          "color": "#40b9d4",
          "size": 5
         },
         "mode": "markers",
         "name": "HLA-DQA1",
         "text": "HLA-DQA1",
         "type": "scatter3d",
         "x": [
          0.12089125216469554
         ],
         "y": [
          0.03562847541900134
         ],
         "z": [
          -0.0625653722563526
         ]
        },
        {
         "marker": {
          "color": "#40b9d4",
          "size": 5
         },
         "mode": "markers",
         "name": "HLA-DQB1",
         "text": "HLA-DQB1",
         "type": "scatter3d",
         "x": [
          0.12114014259151036
         ],
         "y": [
          0.005073764470948257
         ],
         "z": [
          -0.016542074770977723
         ]
        },
        {
         "marker": {
          "color": "#40b9d4",
          "size": 5
         },
         "mode": "markers",
         "name": "PSMB8",
         "text": "PSMB8",
         "type": "scatter3d",
         "x": [
          -0.013880556627273359
         ],
         "y": [
          -0.9819244012831791
         ],
         "z": [
          0.057168679240148165
         ]
        },
        {
         "marker": {
          "color": "#40b9d4",
          "size": 5
         },
         "mode": "markers",
         "name": "HLA-DMB",
         "text": "HLA-DMB",
         "type": "scatter3d",
         "x": [
          0.1385575505205078
         ],
         "y": [
          0.014590375657903925
         ],
         "z": [
          -0.05826872008009704
         ]
        },
        {
         "marker": {
          "color": "#40b9d4",
          "size": 5
         },
         "mode": "markers",
         "name": "HLA-DMA",
         "text": "HLA-DMA",
         "type": "scatter3d",
         "x": [
          0.20205167198431906
         ],
         "y": [
          0.17510900487873546
         ],
         "z": [
          0.07606593062255441
         ]
        },
        {
         "marker": {
          "color": "#40b9d4",
          "size": 5
         },
         "mode": "markers",
         "name": "HLA-DPA1",
         "text": "HLA-DPA1",
         "type": "scatter3d",
         "x": [
          0.10130684881889998
         ],
         "y": [
          0.044789665350487964
         ],
         "z": [
          -0.026435860531913196
         ]
        },
        {
         "marker": {
          "color": "#40b9d4",
          "size": 5
         },
         "mode": "markers",
         "name": "HLA-DPB1",
         "text": "HLA-DPB1",
         "type": "scatter3d",
         "x": [
          0.2011323017341153
         ],
         "y": [
          0.17780863284221243
         ],
         "z": [
          -0.04531304200686532
         ]
        },
        {
         "marker": {
          "color": "#40b9d4",
          "size": 5
         },
         "mode": "markers",
         "name": "TAPBP",
         "text": "TAPBP",
         "type": "scatter3d",
         "x": [
          0.09589912440679657
         ],
         "y": [
          -0.5258482465362571
         ],
         "z": [
          0.7210748772443033
         ]
        },
        {
         "marker": {
          "color": "#40b9d4",
          "size": 5
         },
         "mode": "markers",
         "name": "SRSF3",
         "text": "SRSF3",
         "type": "scatter3d",
         "x": [
          0.07198556207870009
         ],
         "y": [
          -0.3363713082739796
         ],
         "z": [
          -0.9449431260722125
         ]
        },
        {
         "marker": {
          "color": "#40b9d4",
          "size": 5
         },
         "mode": "markers",
         "name": "CNPY3",
         "text": "CNPY3",
         "type": "scatter3d",
         "x": [
          0.06256548804305931
         ],
         "y": [
          0.07609684983976826
         ],
         "z": [
          0.08485730721598864
         ]
        },
        {
         "marker": {
          "color": "#40b9d4",
          "size": 5
         },
         "mode": "markers",
         "name": "PNRC1",
         "text": "PNRC1",
         "type": "scatter3d",
         "x": [
          -0.2137564048981869
         ],
         "y": [
          -0.15189298465165382
         ],
         "z": [
          0.9838630303765044
         ]
        },
        {
         "marker": {
          "color": "#40b9d4",
          "size": 5
         },
         "mode": "markers",
         "name": "SNX3",
         "text": "SNX3",
         "type": "scatter3d",
         "x": [
          -0.7193395173952372
         ],
         "y": [
          -0.43148646669905677
         ],
         "z": [
          -0.6432945360178248
         ]
        },
        {
         "marker": {
          "color": "#40b9d4",
          "size": 5
         },
         "mode": "markers",
         "name": "ABRACL",
         "text": "ABRACL",
         "type": "scatter3d",
         "x": [
          0.6919648492073737
         ],
         "y": [
          0.30366057542457686
         ],
         "z": [
          -0.7109856491172336
         ]
        },
        {
         "marker": {
          "color": "#40b9d4",
          "size": 5
         },
         "mode": "markers",
         "name": "SF3B5",
         "text": "SF3B5",
         "type": "scatter3d",
         "x": [
          0.7342111747329221
         ],
         "y": [
          -0.10857040382520702
         ],
         "z": [
          -0.624520648485187
         ]
        },
        {
         "marker": {
          "color": "#40b9d4",
          "size": 5
         },
         "mode": "markers",
         "name": "PCMT1",
         "text": "PCMT1",
         "type": "scatter3d",
         "x": [
          0.8557810051157073
         ],
         "y": [
          -0.5153126959903593
         ],
         "z": [
          -0.29639032039094015
         ]
        },
        {
         "marker": {
          "color": "#40b9d4",
          "size": 5
         },
         "mode": "markers",
         "name": "DYNLT1",
         "text": "DYNLT1",
         "type": "scatter3d",
         "x": [
          0.2679660049091271
         ],
         "y": [
          0.42231355188744085
         ],
         "z": [
          0.7500869971505995
         ]
        },
        {
         "marker": {
          "color": "#40b9d4",
          "size": 5
         },
         "mode": "markers",
         "name": "STK17A",
         "text": "STK17A",
         "type": "scatter3d",
         "x": [
          0.1477910056606357
         ],
         "y": [
          0.3867428984534489
         ],
         "z": [
          0.9207371237987676
         ]
        },
        {
         "marker": {
          "color": "#40b9d4",
          "size": 5
         },
         "mode": "markers",
         "name": "BLVRA",
         "text": "BLVRA",
         "type": "scatter3d",
         "x": [
          -0.0014976047881453205
         ],
         "y": [
          -0.0020231800880069093
         ],
         "z": [
          0.029577088679010512
         ]
        },
        {
         "marker": {
          "color": "#40b9d4",
          "size": 5
         },
         "mode": "markers",
         "name": "ARPC1B",
         "text": "ARPC1B",
         "type": "scatter3d",
         "x": [
          -0.03651661926771874
         ],
         "y": [
          0.01862304440746154
         ],
         "z": [
          0.03059882510520432
         ]
        },
        {
         "marker": {
          "color": "#40b9d4",
          "size": 5
         },
         "mode": "markers",
         "name": "CAPZA2",
         "text": "CAPZA2",
         "type": "scatter3d",
         "x": [
          0.5540526916528412
         ],
         "y": [
          0.6534732960110573
         ],
         "z": [
          0.4533675168595446
         ]
        },
        {
         "marker": {
          "color": "#40b9d4",
          "size": 5
         },
         "mode": "markers",
         "name": "ATP6V1F",
         "text": "ATP6V1F",
         "type": "scatter3d",
         "x": [
          -0.6578224156224067
         ],
         "y": [
          -0.6795088385494161
         ],
         "z": [
          0.48367910388491936
         ]
        },
        {
         "marker": {
          "color": "#40b9d4",
          "size": 5
         },
         "mode": "markers",
         "name": "SSBP1",
         "text": "SSBP1",
         "type": "scatter3d",
         "x": [
          0.7966739945544619
         ],
         "y": [
          0.2561963543888085
         ],
         "z": [
          0.6863904034886246
         ]
        },
        {
         "marker": {
          "color": "#40b9d4",
          "size": 5
         },
         "mode": "markers",
         "name": "GIMAP7",
         "text": "GIMAP7",
         "type": "scatter3d",
         "x": [
          -0.3373751255721825
         ],
         "y": [
          0.18136466865755774
         ],
         "z": [
          -0.18502297407701845
         ]
        },
        {
         "marker": {
          "color": "#40b9d4",
          "size": 5
         },
         "mode": "markers",
         "name": "GIMAP4",
         "text": "GIMAP4",
         "type": "scatter3d",
         "x": [
          -0.9710462920914003
         ],
         "y": [
          -0.08328045925846736
         ],
         "z": [
          -0.24414979333518882
         ]
        },
        {
         "marker": {
          "color": "#40b9d4",
          "size": 5
         },
         "mode": "markers",
         "name": "GIMAP2",
         "text": "GIMAP2",
         "type": "scatter3d",
         "x": [
          0.9138486197873764
         ],
         "y": [
          -0.29610382235828403
         ],
         "z": [
          -0.28135132618560826
         ]
        },
        {
         "marker": {
          "color": "#40b9d4",
          "size": 5
         },
         "mode": "markers",
         "name": "GIMAP5",
         "text": "GIMAP5",
         "type": "scatter3d",
         "x": [
          0.21359166151549103
         ],
         "y": [
          0.9317464982480476
         ],
         "z": [
          -0.0798641749977628
         ]
        },
        {
         "marker": {
          "color": "#40b9d4",
          "size": 5
         },
         "mode": "markers",
         "name": "SAT1",
         "text": "SAT1",
         "type": "scatter3d",
         "x": [
          0.09309994553611739
         ],
         "y": [
          0.10119784601908967
         ],
         "z": [
          -0.016504578671511377
         ]
        },
        {
         "marker": {
          "color": "#40b9d4",
          "size": 5
         },
         "mode": "markers",
         "name": "RBM3",
         "text": "RBM3",
         "type": "scatter3d",
         "x": [
          0.7553066558522171
         ],
         "y": [
          0.13019780656256963
         ],
         "z": [
          -0.6835930583544633
         ]
        },
        {
         "marker": {
          "color": "#40b9d4",
          "size": 5
         },
         "mode": "markers",
         "name": "IDH3G",
         "text": "IDH3G",
         "type": "scatter3d",
         "x": [
          0.5710072334168919
         ],
         "y": [
          -0.7809218514967957
         ],
         "z": [
          -0.218096777048461
         ]
        },
        {
         "marker": {
          "color": "#40b9d4",
          "size": 5
         },
         "mode": "markers",
         "name": "MAF1",
         "text": "MAF1",
         "type": "scatter3d",
         "x": [
          0.3241064788996902
         ],
         "y": [
          0.3367324629853304
         ],
         "z": [
          0.9296967162331176
         ]
        },
        {
         "marker": {
          "color": "#40b9d4",
          "size": 5
         },
         "mode": "markers",
         "name": "VPS28",
         "text": "VPS28",
         "type": "scatter3d",
         "x": [
          0.6334766871630633
         ],
         "y": [
          -0.6528863410570256
         ],
         "z": [
          0.6248423199766251
         ]
        },
        {
         "marker": {
          "color": "#40b9d4",
          "size": 5
         },
         "mode": "markers",
         "name": "DNAJA1",
         "text": "DNAJA1",
         "type": "scatter3d",
         "x": [
          -0.2678091277182709
         ],
         "y": [
          0.8603278264156636
         ],
         "z": [
          0.18873252064653237
         ]
        },
        {
         "marker": {
          "color": "#40b9d4",
          "size": 5
         },
         "mode": "markers",
         "name": "AQP3",
         "text": "AQP3",
         "type": "scatter3d",
         "x": [
          0.6859677585667397
         ],
         "y": [
          -0.03147386762931998
         ],
         "z": [
          -0.8184977571193816
         ]
        },
        {
         "marker": {
          "color": "#40b9d4",
          "size": 5
         },
         "mode": "markers",
         "name": "C9orf16",
         "text": "C9orf16",
         "type": "scatter3d",
         "x": [
          0.9806434187245703
         ],
         "y": [
          -0.154794353223249
         ],
         "z": [
          -0.04987593610563078
         ]
        },
        {
         "marker": {
          "color": "#40b9d4",
          "size": 5
         },
         "mode": "markers",
         "name": "FCN1",
         "text": "FCN1",
         "type": "scatter3d",
         "x": [
          0.09906903033829521
         ],
         "y": [
          0.11329105341193384
         ],
         "z": [
          0.03420059061074347
         ]
        },
        {
         "marker": {
          "color": "#40b9d4",
          "size": 5
         },
         "mode": "markers",
         "name": "C9orf142",
         "text": "C9orf142",
         "type": "scatter3d",
         "x": [
          0.7942576610201852
         ],
         "y": [
          -0.658361227763607
         ],
         "z": [
          -0.0448126492025338
         ]
        },
        {
         "marker": {
          "color": "#40b9d4",
          "size": 5
         },
         "mode": "markers",
         "name": "ATP5C1",
         "text": "ATP5C1",
         "type": "scatter3d",
         "x": [
          -0.4083904771657718
         ],
         "y": [
          0.6264975430493099
         ],
         "z": [
          0.5750314177026166
         ]
        },
        {
         "marker": {
          "color": "#40b9d4",
          "size": 5
         },
         "mode": "markers",
         "name": "KIF5B",
         "text": "KIF5B",
         "type": "scatter3d",
         "x": [
          -0.8812478388287077
         ],
         "y": [
          -0.20796469713756396
         ],
         "z": [
          0.30302244622083446
         ]
        },
        {
         "marker": {
          "color": "#40b9d4",
          "size": 5
         },
         "mode": "markers",
         "name": "SRGN",
         "text": "SRGN",
         "type": "scatter3d",
         "x": [
          0.02865901080140797
         ],
         "y": [
          0.13569359463664157
         ],
         "z": [
          -0.011693309145599774
         ]
        },
        {
         "marker": {
          "color": "#40b9d4",
          "size": 5
         },
         "mode": "markers",
         "name": "PRF1",
         "text": "PRF1",
         "type": "scatter3d",
         "x": [
          -0.16003016365703046
         ],
         "y": [
          0.10554815278448584
         ],
         "z": [
          -0.06261687715069435
         ]
        },
        {
         "marker": {
          "color": "#40b9d4",
          "size": 5
         },
         "mode": "markers",
         "name": "NDUFB8-1",
         "text": "NDUFB8-1",
         "type": "scatter3d",
         "x": [
          0.9121127423591623
         ],
         "y": [
          -0.3884883299972031
         ],
         "z": [
          -0.07523260330354145
         ]
        },
        {
         "marker": {
          "color": "#40b9d4",
          "size": 5
         },
         "mode": "markers",
         "name": "GSTO1",
         "text": "GSTO1",
         "type": "scatter3d",
         "x": [
          -0.4347665240963682
         ],
         "y": [
          -0.36944717062764276
         ],
         "z": [
          0.8380990664369865
         ]
        },
        {
         "marker": {
          "color": "#40b9d4",
          "size": 5
         },
         "mode": "markers",
         "name": "BUB3",
         "text": "BUB3",
         "type": "scatter3d",
         "x": [
          0.5662081786085117
         ],
         "y": [
          -0.38182432876162564
         ],
         "z": [
          -0.7910382228360109
         ]
        },
        {
         "marker": {
          "color": "#40b9d4",
          "size": 5
         },
         "mode": "markers",
         "name": "IFITM3",
         "text": "IFITM3",
         "type": "scatter3d",
         "x": [
          0.027447816786788294
         ],
         "y": [
          0.07908605856338172
         ],
         "z": [
          -0.042314670682017656
         ]
        },
        {
         "marker": {
          "color": "#40b9d4",
          "size": 5
         },
         "mode": "markers",
         "name": "TALDO1",
         "text": "TALDO1",
         "type": "scatter3d",
         "x": [
          -0.009646184414993202
         ],
         "y": [
          0.02912608224858093
         ],
         "z": [
          0.10640721194567551
         ]
        },
        {
         "marker": {
          "color": "#40b9d4",
          "size": 5
         },
         "mode": "markers",
         "name": "PSMA1",
         "text": "PSMA1",
         "type": "scatter3d",
         "x": [
          0.14260457516669764
         ],
         "y": [
          -0.9448385982637675
         ],
         "z": [
          0.3594879862068228
         ]
        },
        {
         "marker": {
          "color": "#40b9d4",
          "size": 5
         },
         "mode": "markers",
         "name": "UBE2L6",
         "text": "UBE2L6",
         "type": "scatter3d",
         "x": [
          0.723372456397057
         ],
         "y": [
          0.738816789138992
         ],
         "z": [
          -0.18631861370449196
         ]
        },
        {
         "marker": {
          "color": "#40b9d4",
          "size": 5
         },
         "mode": "markers",
         "name": "MS4A6A",
         "text": "MS4A6A",
         "type": "scatter3d",
         "x": [
          0.5961492487115024
         ],
         "y": [
          0.6181070062224623
         ],
         "z": [
          -0.6655227491829625
         ]
        },
        {
         "marker": {
          "color": "#40b9d4",
          "size": 5
         },
         "mode": "markers",
         "name": "MS4A1",
         "text": "MS4A1",
         "type": "scatter3d",
         "x": [
          0.15403453961936014
         ],
         "y": [
          0.03195415753009877
         ],
         "z": [
          0.003583078250799663
         ]
        },
        {
         "marker": {
          "color": "#40b9d4",
          "size": 5
         },
         "mode": "markers",
         "name": "UBXN1",
         "text": "UBXN1",
         "type": "scatter3d",
         "x": [
          -0.29935652918906935
         ],
         "y": [
          -0.8378808047270406
         ],
         "z": [
          0.26124545667226046
         ]
        },
        {
         "marker": {
          "color": "#40b9d4",
          "size": 5
         },
         "mode": "markers",
         "name": "FERMT3",
         "text": "FERMT3",
         "type": "scatter3d",
         "x": [
          -0.935001427428842
         ],
         "y": [
          0.14704749333364187
         ],
         "z": [
          0.41513226757088606
         ]
        },
        {
         "marker": {
          "color": "#40b9d4",
          "size": 5
         },
         "mode": "markers",
         "name": "RASGRP2",
         "text": "RASGRP2",
         "type": "scatter3d",
         "x": [
          0.9000228821144507
         ],
         "y": [
          0.11510866481855736
         ],
         "z": [
          0.1256841481291
         ]
        },
        {
         "marker": {
          "color": "#40b9d4",
          "size": 5
         },
         "mode": "markers",
         "name": "CTSW",
         "text": "CTSW",
         "type": "scatter3d",
         "x": [
          -0.12702419290243386
         ],
         "y": [
          0.2432825209846141
         ],
         "z": [
          -0.12100917405568243
         ]
        },
        {
         "marker": {
          "color": "#40b9d4",
          "size": 5
         },
         "mode": "markers",
         "name": "PTPRCAP",
         "text": "PTPRCAP",
         "type": "scatter3d",
         "x": [
          -0.20503139279837043
         ],
         "y": [
          0.15460498220371913
         ],
         "z": [
          -0.13011849051114932
         ]
        },
        {
         "marker": {
          "color": "#40b9d4",
          "size": 5
         },
         "mode": "markers",
         "name": "CORO1B",
         "text": "CORO1B",
         "type": "scatter3d",
         "x": [
          0.4830341970443732
         ],
         "y": [
          -0.7448088065462486
         ],
         "z": [
          -0.10037836123447806
         ]
        },
        {
         "marker": {
          "color": "#40b9d4",
          "size": 5
         },
         "mode": "markers",
         "name": "GSTP1",
         "text": "GSTP1",
         "type": "scatter3d",
         "x": [
          -0.00686344553516896
         ],
         "y": [
          0.19620971057088019
         ],
         "z": [
          0.037110899443853804
         ]
        },
        {
         "marker": {
          "color": "#40b9d4",
          "size": 5
         },
         "mode": "markers",
         "name": "LAMTOR1",
         "text": "LAMTOR1",
         "type": "scatter3d",
         "x": [
          -0.062514896319448
         ],
         "y": [
          -0.7574986676887879
         ],
         "z": [
          -0.6925219100421159
         ]
        },
        {
         "marker": {
          "color": "#40b9d4",
          "size": 5
         },
         "mode": "markers",
         "name": "CLNS1A",
         "text": "CLNS1A",
         "type": "scatter3d",
         "x": [
          0.37784556308196193
         ],
         "y": [
          0.9224017033282483
         ],
         "z": [
          -0.012060795450071703
         ]
        },
        {
         "marker": {
          "color": "#40b9d4",
          "size": 5
         },
         "mode": "markers",
         "name": "CASP4",
         "text": "CASP4",
         "type": "scatter3d",
         "x": [
          0.6764821545487207
         ],
         "y": [
          -0.5233071429068714
         ],
         "z": [
          -0.5562249219527539
         ]
        },
        {
         "marker": {
          "color": "#40b9d4",
          "size": 5
         },
         "mode": "markers",
         "name": "MRPL51",
         "text": "MRPL51",
         "type": "scatter3d",
         "x": [
          -0.7237889061455263
         ],
         "y": [
          0.7972026815003361
         ],
         "z": [
          -0.0375802858897804
         ]
        },
        {
         "marker": {
          "color": "#40b9d4",
          "size": 5
         },
         "mode": "markers",
         "name": "TMBIM6",
         "text": "TMBIM6",
         "type": "scatter3d",
         "x": [
          -0.6864025851816036
         ],
         "y": [
          -0.10676244919636194
         ],
         "z": [
          0.7900995314088385
         ]
        },
        {
         "marker": {
          "color": "#40b9d4",
          "size": 5
         },
         "mode": "markers",
         "name": "BLOC1S1",
         "text": "BLOC1S1",
         "type": "scatter3d",
         "x": [
          -0.8971784466906363
         ],
         "y": [
          0.5095627307848951
         ],
         "z": [
          -0.13968238885352532
         ]
        },
        {
         "marker": {
          "color": "#40b9d4",
          "size": 5
         },
         "mode": "markers",
         "name": "TMBIM4-1",
         "text": "TMBIM4-1",
         "type": "scatter3d",
         "x": [
          0.9079368288187777
         ],
         "y": [
          0.24735620473650577
         ],
         "z": [
          -0.3954949331773025
         ]
        },
        {
         "marker": {
          "color": "#40b9d4",
          "size": 5
         },
         "mode": "markers",
         "name": "LINC00936",
         "text": "LINC00936",
         "type": "scatter3d",
         "x": [
          0.01515367083300874
         ],
         "y": [
          -0.009149744219370464
         ],
         "z": [
          0.10593198164460398
         ]
        },
        {
         "marker": {
          "color": "#40b9d4",
          "size": 5
         },
         "mode": "markers",
         "name": "NDUFA12",
         "text": "NDUFA12",
         "type": "scatter3d",
         "x": [
          -0.678455649053569
         ],
         "y": [
          0.44791468828653985
         ],
         "z": [
          0.4901604835962238
         ]
        },
        {
         "marker": {
          "color": "#40b9d4",
          "size": 5
         },
         "mode": "markers",
         "name": "OAS1",
         "text": "OAS1",
         "type": "scatter3d",
         "x": [
          -0.8627659639087444
         ],
         "y": [
          -0.045447619977077684
         ],
         "z": [
          0.6061967235382909
         ]
        },
        {
         "marker": {
          "color": "#40b9d4",
          "size": 5
         },
         "mode": "markers",
         "name": "DYNLL1",
         "text": "DYNLL1",
         "type": "scatter3d",
         "x": [
          -0.6488266374270797
         ],
         "y": [
          0.49618129051514887
         ],
         "z": [
          -0.6796286306230651
         ]
        },
        {
         "marker": {
          "color": "#40b9d4",
          "size": 5
         },
         "mode": "markers",
         "name": "RILPL2",
         "text": "RILPL2",
         "type": "scatter3d",
         "x": [
          -0.3159088301459175
         ],
         "y": [
          0.8605786469298687
         ],
         "z": [
          0.412712851455443
         ]
        },
        {
         "marker": {
          "color": "#40b9d4",
          "size": 5
         },
         "mode": "markers",
         "name": "MRP63",
         "text": "MRP63",
         "type": "scatter3d",
         "x": [
          0.886928605309683
         ],
         "y": [
          -0.4774101109424853
         ],
         "z": [
          0.08870851150237749
         ]
        },
        {
         "marker": {
          "color": "#40b9d4",
          "size": 5
         },
         "mode": "markers",
         "name": "GTF3A",
         "text": "GTF3A",
         "type": "scatter3d",
         "x": [
          0.5253356293531002
         ],
         "y": [
          0.4652450637758927
         ],
         "z": [
          -0.792034147616745
         ]
        },
        {
         "marker": {
          "color": "#40b9d4",
          "size": 5
         },
         "mode": "markers",
         "name": "TNFSF13B",
         "text": "TNFSF13B",
         "type": "scatter3d",
         "x": [
          0.2642864646320495
         ],
         "y": [
          -0.12972625312265254
         ],
         "z": [
          -0.905611765024612
         ]
        },
        {
         "marker": {
          "color": "#40b9d4",
          "size": 5
         },
         "mode": "markers",
         "name": "PSME1",
         "text": "PSME1",
         "type": "scatter3d",
         "x": [
          -0.2508543716093619
         ],
         "y": [
          -0.5284338504912698
         ],
         "z": [
          -0.8663791222177865
         ]
        },
        {
         "marker": {
          "color": "#40b9d4",
          "size": 5
         },
         "mode": "markers",
         "name": "CHMP4A",
         "text": "CHMP4A",
         "type": "scatter3d",
         "x": [
          -0.4950236208052939
         ],
         "y": [
          -0.5998024572187616
         ],
         "z": [
          0.7086498373882235
         ]
        },
        {
         "marker": {
          "color": "#40b9d4",
          "size": 5
         },
         "mode": "markers",
         "name": "GZMH",
         "text": "GZMH",
         "type": "scatter3d",
         "x": [
          -0.1611267796672495
         ],
         "y": [
          0.09027544241926778
         ],
         "z": [
          -0.09226874399397815
         ]
        },
        {
         "marker": {
          "color": "#40b9d4",
          "size": 5
         },
         "mode": "markers",
         "name": "GZMB",
         "text": "GZMB",
         "type": "scatter3d",
         "x": [
          -0.13487317920162104
         ],
         "y": [
          0.09741823240255776
         ],
         "z": [
          -0.08663978041335776
         ]
        },
        {
         "marker": {
          "color": "#40b9d4",
          "size": 5
         },
         "mode": "markers",
         "name": "ARF6",
         "text": "ARF6",
         "type": "scatter3d",
         "x": [
          0.029045018270101156
         ],
         "y": [
          -0.784095242625121
         ],
         "z": [
          0.5177520222785418
         ]
        },
        {
         "marker": {
          "color": "#40b9d4",
          "size": 5
         },
         "mode": "markers",
         "name": "C14orf166",
         "text": "C14orf166",
         "type": "scatter3d",
         "x": [
          -0.749986832899273
         ],
         "y": [
          0.48511902063999024
         ],
         "z": [
          0.4984285181961538
         ]
        },
        {
         "marker": {
          "color": "#40b9d4",
          "size": 5
         },
         "mode": "markers",
         "name": "LGALS3",
         "text": "LGALS3",
         "type": "scatter3d",
         "x": [
          -0.48679762623977596
         ],
         "y": [
          0.6767134504649733
         ],
         "z": [
          -0.5332942267785081
         ]
        },
        {
         "marker": {
          "color": "#40b9d4",
          "size": 5
         },
         "mode": "markers",
         "name": "ERH",
         "text": "ERH",
         "type": "scatter3d",
         "x": [
          -0.736291248667161
         ],
         "y": [
          0.6772686923438449
         ],
         "z": [
          -0.5053255066151452
         ]
        },
        {
         "marker": {
          "color": "#40b9d4",
          "size": 5
         },
         "mode": "markers",
         "name": "SRSF5",
         "text": "SRSF5",
         "type": "scatter3d",
         "x": [
          0.7496878524281863
         ],
         "y": [
          0.7160393148635152
         ],
         "z": [
          0.35731583771586595
         ]
        },
        {
         "marker": {
          "color": "#40b9d4",
          "size": 5
         },
         "mode": "markers",
         "name": "NPC2",
         "text": "NPC2",
         "type": "scatter3d",
         "x": [
          0.21310127680504734
         ],
         "y": [
          0.05684542416750784
         ],
         "z": [
          -0.013027513167149151
         ]
        },
        {
         "marker": {
          "color": "#40b9d4",
          "size": 5
         },
         "mode": "markers",
         "name": "TCL1A",
         "text": "TCL1A",
         "type": "scatter3d",
         "x": [
          0.12040787387322034
         ],
         "y": [
          -0.0059124989563249
         ],
         "z": [
          -0.04421346700464587
         ]
        },
        {
         "marker": {
          "color": "#40b9d4",
          "size": 5
         },
         "mode": "markers",
         "name": "HSP90AA1",
         "text": "HSP90AA1",
         "type": "scatter3d",
         "x": [
          -0.09481331576445463
         ],
         "y": [
          -0.22710271890101189
         ],
         "z": [
          -0.9912254557176355
         ]
        },
        {
         "marker": {
          "color": "#40b9d4",
          "size": 5
         },
         "mode": "markers",
         "name": "EIF5",
         "text": "EIF5",
         "type": "scatter3d",
         "x": [
          -0.8766602469113176
         ],
         "y": [
          -0.25876014234303707
         ],
         "z": [
          0.06575280697629503
         ]
        },
        {
         "marker": {
          "color": "#40b9d4",
          "size": 5
         },
         "mode": "markers",
         "name": "SIVA1",
         "text": "SIVA1",
         "type": "scatter3d",
         "x": [
          -0.9049563656408892
         ],
         "y": [
          0.36968119384431347
         ],
         "z": [
          0.3784331621711768
         ]
        },
        {
         "marker": {
          "color": "#40b9d4",
          "size": 5
         },
         "mode": "markers",
         "name": "PDIA3",
         "text": "PDIA3",
         "type": "scatter3d",
         "x": [
          -0.8406307334079819
         ],
         "y": [
          0.0578693597624284
         ],
         "z": [
          0.5126194532324793
         ]
        },
        {
         "marker": {
          "color": "#40b9d4",
          "size": 5
         },
         "mode": "markers",
         "name": "IDH2",
         "text": "IDH2",
         "type": "scatter3d",
         "x": [
          0.8303589434644975
         ],
         "y": [
          -0.018883724620461638
         ],
         "z": [
          0.5258088242794983
         ]
        },
        {
         "marker": {
          "color": "#40b9d4",
          "size": 5
         },
         "mode": "markers",
         "name": "C16orf13",
         "text": "C16orf13",
         "type": "scatter3d",
         "x": [
          -0.37297093002022164
         ],
         "y": [
          0.0369873323723612
         ],
         "z": [
          -0.9138011377420365
         ]
        },
        {
         "marker": {
          "color": "#40b9d4",
          "size": 5
         },
         "mode": "markers",
         "name": "STUB1",
         "text": "STUB1",
         "type": "scatter3d",
         "x": [
          0.10835052684941522
         ],
         "y": [
          0.7831085297263919
         ],
         "z": [
          -0.6680893771093055
         ]
        },
        {
         "marker": {
          "color": "#40b9d4",
          "size": 5
         },
         "mode": "markers",
         "name": "NDUFB10",
         "text": "NDUFB10",
         "type": "scatter3d",
         "x": [
          0.11196736366324625
         ],
         "y": [
          0.5326351888796612
         ],
         "z": [
          0.9164762817684544
         ]
        },
        {
         "marker": {
          "color": "#40b9d4",
          "size": 5
         },
         "mode": "markers",
         "name": "IL32",
         "text": "IL32",
         "type": "scatter3d",
         "x": [
          -0.2652183744165517
         ],
         "y": [
          0.16079500185280818
         ],
         "z": [
          -0.16295445775555925
         ]
        },
        {
         "marker": {
          "color": "#40b9d4",
          "size": 5
         },
         "mode": "markers",
         "name": "LITAF",
         "text": "LITAF",
         "type": "scatter3d",
         "x": [
          -0.381344849961348
         ],
         "y": [
          0.367323820940191
         ],
         "z": [
          0.8975226826888839
         ]
        },
        {
         "marker": {
          "color": "#40b9d4",
          "size": 5
         },
         "mode": "markers",
         "name": "TMEM219",
         "text": "TMEM219",
         "type": "scatter3d",
         "x": [
          -0.11118358537658302
         ],
         "y": [
          0.4872862836720204
         ],
         "z": [
          -0.9062288607140484
         ]
        },
        {
         "marker": {
          "color": "#40b9d4",
          "size": 5
         },
         "mode": "markers",
         "name": "FUS",
         "text": "FUS",
         "type": "scatter3d",
         "x": [
          0.6643227503163581
         ],
         "y": [
          0.7738940620563678
         ],
         "z": [
          -0.4093689043569908
         ]
        },
        {
         "marker": {
          "color": "#40b9d4",
          "size": 5
         },
         "mode": "markers",
         "name": "PYCARD",
         "text": "PYCARD",
         "type": "scatter3d",
         "x": [
          0.2111476960115581
         ],
         "y": [
          0.036948648044249084
         ],
         "z": [
          -0.05754681688210982
         ]
        },
        {
         "marker": {
          "color": "#40b9d4",
          "size": 5
         },
         "mode": "markers",
         "name": "FAM96B",
         "text": "FAM96B",
         "type": "scatter3d",
         "x": [
          0.11279693677262527
         ],
         "y": [
          0.9092279581846022
         ],
         "z": [
          0.4351895401121156
         ]
        },
        {
         "marker": {
          "color": "#40b9d4",
          "size": 5
         },
         "mode": "markers",
         "name": "GABARAPL2",
         "text": "GABARAPL2",
         "type": "scatter3d",
         "x": [
          0.19565805036795092
         ],
         "y": [
          -0.4553758599956709
         ],
         "z": [
          -0.8664677347750411
         ]
        },
        {
         "marker": {
          "color": "#40b9d4",
          "size": 5
         },
         "mode": "markers",
         "name": "KARS",
         "text": "KARS",
         "type": "scatter3d",
         "x": [
          0.8890303945463457
         ],
         "y": [
          0.05855865414311957
         ],
         "z": [
          -0.40908775259713986
         ]
        },
        {
         "marker": {
          "color": "#40b9d4",
          "size": 5
         },
         "mode": "markers",
         "name": "TERF2IP",
         "text": "TERF2IP",
         "type": "scatter3d",
         "x": [
          0.31666028876383495
         ],
         "y": [
          -0.9318519627828
         ],
         "z": [
          -0.1306399528255789
         ]
        },
        {
         "marker": {
          "color": "#40b9d4",
          "size": 5
         },
         "mode": "markers",
         "name": "COTL1",
         "text": "COTL1",
         "type": "scatter3d",
         "x": [
          0.38290210779128453
         ],
         "y": [
          -0.8516405052824224
         ],
         "z": [
          0.4533815129552378
         ]
        },
        {
         "marker": {
          "color": "#40b9d4",
          "size": 5
         },
         "mode": "markers",
         "name": "CYBA",
         "text": "CYBA",
         "type": "scatter3d",
         "x": [
          0.03708852689139484
         ],
         "y": [
          0.22659093425689247
         ],
         "z": [
          0.0022846624704914186
         ]
        },
        {
         "marker": {
          "color": "#40b9d4",
          "size": 5
         },
         "mode": "markers",
         "name": "ARRB2",
         "text": "ARRB2",
         "type": "scatter3d",
         "x": [
          -0.5494432336498216
         ],
         "y": [
          0.8571413234020738
         ],
         "z": [
          -0.20992705374760173
         ]
        },
        {
         "marker": {
          "color": "#40b9d4",
          "size": 5
         },
         "mode": "markers",
         "name": "PSMB6",
         "text": "PSMB6",
         "type": "scatter3d",
         "x": [
          0.38557718688173986
         ],
         "y": [
          -0.16826419067673004
         ],
         "z": [
          0.9225878394158536
         ]
        },
        {
         "marker": {
          "color": "#40b9d4",
          "size": 5
         },
         "mode": "markers",
         "name": "ACAP1",
         "text": "ACAP1",
         "type": "scatter3d",
         "x": [
          0.1069075793000502
         ],
         "y": [
          0.6894830753011456
         ],
         "z": [
          0.7938450727506668
         ]
        },
        {
         "marker": {
          "color": "#40b9d4",
          "size": 5
         },
         "mode": "markers",
         "name": "UBB",
         "text": "UBB",
         "type": "scatter3d",
         "x": [
          -0.29950296765260576
         ],
         "y": [
          -0.6703928553433435
         ],
         "z": [
          0.7817786640077938
         ]
        },
        {
         "marker": {
          "color": "#40b9d4",
          "size": 5
         },
         "mode": "markers",
         "name": "CCL5",
         "text": "CCL5",
         "type": "scatter3d",
         "x": [
          -0.16724457082220195
         ],
         "y": [
          0.13741593182785639
         ],
         "z": [
          -0.1085865549195706
         ]
        },
        {
         "marker": {
          "color": "#40b9d4",
          "size": 5
         },
         "mode": "markers",
         "name": "CCL3",
         "text": "CCL3",
         "type": "scatter3d",
         "x": [
          -0.028048667578896503
         ],
         "y": [
          0.03983458579804452
         ],
         "z": [
          0.051966205178053455
         ]
        },
        {
         "marker": {
          "color": "#40b9d4",
          "size": 5
         },
         "mode": "markers",
         "name": "CCL4",
         "text": "CCL4",
         "type": "scatter3d",
         "x": [
          -0.13780829411703482
         ],
         "y": [
          0.09428978556397044
         ],
         "z": [
          -0.12372746337829771
         ]
        },
        {
         "marker": {
          "color": "#40b9d4",
          "size": 5
         },
         "mode": "markers",
         "name": "IFI35",
         "text": "IFI35",
         "type": "scatter3d",
         "x": [
          -0.05222104167526152
         ],
         "y": [
          0.7654098454040851
         ],
         "z": [
          -0.7562499822137904
         ]
        },
        {
         "marker": {
          "color": "#40b9d4",
          "size": 5
         },
         "mode": "markers",
         "name": "GRN",
         "text": "GRN",
         "type": "scatter3d",
         "x": [
          0.20514282160418104
         ],
         "y": [
          0.01796492296525532
         ],
         "z": [
          0.015450015136121192
         ]
        },
        {
         "marker": {
          "color": "#40b9d4",
          "size": 5
         },
         "mode": "markers",
         "name": "ABI3",
         "text": "ABI3",
         "type": "scatter3d",
         "x": [
          -0.06936015009073987
         ],
         "y": [
          0.05181479866928957
         ],
         "z": [
          -0.03777092835194996
         ]
        },
        {
         "marker": {
          "color": "#40b9d4",
          "size": 5
         },
         "mode": "markers",
         "name": "LIMD2",
         "text": "LIMD2",
         "type": "scatter3d",
         "x": [
          -0.12209663606371146
         ],
         "y": [
          -0.8680191211874301
         ],
         "z": [
          -0.5898699373284103
         ]
        },
        {
         "marker": {
          "color": "#40b9d4",
          "size": 5
         },
         "mode": "markers",
         "name": "PSMC5",
         "text": "PSMC5",
         "type": "scatter3d",
         "x": [
          0.8714341567409808
         ],
         "y": [
          0.1461012977843262
         ],
         "z": [
          0.39995169835494326
         ]
        },
        {
         "marker": {
          "color": "#40b9d4",
          "size": 5
         },
         "mode": "markers",
         "name": "CD79B",
         "text": "CD79B",
         "type": "scatter3d",
         "x": [
          0.13038293832626793
         ],
         "y": [
          0.010540906269999487
         ],
         "z": [
          0.00956748081962208
         ]
        },
        {
         "marker": {
          "color": "#40b9d4",
          "size": 5
         },
         "mode": "markers",
         "name": "ICAM2",
         "text": "ICAM2",
         "type": "scatter3d",
         "x": [
          0.7324570543180574
         ],
         "y": [
          -0.6448027831199595
         ],
         "z": [
          -0.26661979265192143
         ]
        },
        {
         "marker": {
          "color": "#40b9d4",
          "size": 5
         },
         "mode": "markers",
         "name": "ATP5H",
         "text": "ATP5H",
         "type": "scatter3d",
         "x": [
          0.980424025926332
         ],
         "y": [
          0.004452716086536877
         ],
         "z": [
          -0.18011695220336182
         ]
        },
        {
         "marker": {
          "color": "#40b9d4",
          "size": 5
         },
         "mode": "markers",
         "name": "RNF213",
         "text": "RNF213",
         "type": "scatter3d",
         "x": [
          -0.29806786399445095
         ],
         "y": [
          0.79468461563369
         ],
         "z": [
          0.6017519241456043
         ]
        },
        {
         "marker": {
          "color": "#40b9d4",
          "size": 5
         },
         "mode": "markers",
         "name": "ARHGDIA",
         "text": "ARHGDIA",
         "type": "scatter3d",
         "x": [
          0.42510693430837376
         ],
         "y": [
          0.7059672859965999
         ],
         "z": [
          -0.6333643826797782
         ]
        },
        {
         "marker": {
          "color": "#40b9d4",
          "size": 5
         },
         "mode": "markers",
         "name": "VAPA",
         "text": "VAPA",
         "type": "scatter3d",
         "x": [
          -0.7756627480259881
         ],
         "y": [
          0.20196548633891742
         ],
         "z": [
          -0.7120068135368872
         ]
        },
        {
         "marker": {
          "color": "#40b9d4",
          "size": 5
         },
         "mode": "markers",
         "name": "ATP5A1",
         "text": "ATP5A1",
         "type": "scatter3d",
         "x": [
          0.5141018004202071
         ],
         "y": [
          -0.7558711883697796
         ],
         "z": [
          -0.5589699437846782
         ]
        },
        {
         "marker": {
          "color": "#40b9d4",
          "size": 5
         },
         "mode": "markers",
         "name": "RBCK1",
         "text": "RBCK1",
         "type": "scatter3d",
         "x": [
          -0.8005784560004302
         ],
         "y": [
          0.6489094840808987
         ],
         "z": [
          -0.07744520536431337
         ]
        },
        {
         "marker": {
          "color": "#40b9d4",
          "size": 5
         },
         "mode": "markers",
         "name": "SNRPB",
         "text": "SNRPB",
         "type": "scatter3d",
         "x": [
          0.5072567595354217
         ],
         "y": [
          0.7158495648638707
         ],
         "z": [
          0.6970397335951901
         ]
        },
        {
         "marker": {
          "color": "#40b9d4",
          "size": 5
         },
         "mode": "markers",
         "name": "CST3",
         "text": "CST3",
         "type": "scatter3d",
         "x": [
          0.1262163839697803
         ],
         "y": [
          0.12282365465857938
         ],
         "z": [
          -0.02060168358417105
         ]
        },
        {
         "marker": {
          "color": "#40b9d4",
          "size": 5
         },
         "mode": "markers",
         "name": "CST7",
         "text": "CST7",
         "type": "scatter3d",
         "x": [
          -0.1695919413072687
         ],
         "y": [
          0.13422564690251915
         ],
         "z": [
          -0.08719144457207503
         ]
        },
        {
         "marker": {
          "color": "#40b9d4",
          "size": 5
         },
         "mode": "markers",
         "name": "RALY",
         "text": "RALY",
         "type": "scatter3d",
         "x": [
          0.12184318441885425
         ],
         "y": [
          0.9912618053001577
         ],
         "z": [
          0.07181390599484795
         ]
        },
        {
         "marker": {
          "color": "#40b9d4",
          "size": 5
         },
         "mode": "markers",
         "name": "RBM39",
         "text": "RBM39",
         "type": "scatter3d",
         "x": [
          -0.16665868248577806
         ],
         "y": [
          0.2054508167783014
         ],
         "z": [
          0.9801043745443274
         ]
        },
        {
         "marker": {
          "color": "#40b9d4",
          "size": 5
         },
         "mode": "markers",
         "name": "RPN2",
         "text": "RPN2",
         "type": "scatter3d",
         "x": [
          0.8088457379963625
         ],
         "y": [
          -0.06880174740213811
         ],
         "z": [
          0.38709827364211385
         ]
        },
        {
         "marker": {
          "color": "#40b9d4",
          "size": 5
         },
         "mode": "markers",
         "name": "YWHAB",
         "text": "YWHAB",
         "type": "scatter3d",
         "x": [
          0.8472685137208076
         ],
         "y": [
          -0.17333864171061145
         ],
         "z": [
          -0.5571665973824856
         ]
        },
        {
         "marker": {
          "color": "#40b9d4",
          "size": 5
         },
         "mode": "markers",
         "name": "CEBPB",
         "text": "CEBPB",
         "type": "scatter3d",
         "x": [
          0.7139054265819685
         ],
         "y": [
          -0.44408616928313127
         ],
         "z": [
          0.5962218654753401
         ]
        },
        {
         "marker": {
          "color": "#40b9d4",
          "size": 5
         },
         "mode": "markers",
         "name": "RTFDC1",
         "text": "RTFDC1",
         "type": "scatter3d",
         "x": [
          0.6624133136376873
         ],
         "y": [
          0.5641212352905606
         ],
         "z": [
          0.6025832416600394
         ]
        },
        {
         "marker": {
          "color": "#40b9d4",
          "size": 5
         },
         "mode": "markers",
         "name": "PSMA7",
         "text": "PSMA7",
         "type": "scatter3d",
         "x": [
          -0.5832965482625049
         ],
         "y": [
          -0.7809147699082776
         ],
         "z": [
          0.22975698056446858
         ]
        },
        {
         "marker": {
          "color": "#40b9d4",
          "size": 5
         },
         "mode": "markers",
         "name": "RGS19",
         "text": "RGS19",
         "type": "scatter3d",
         "x": [
          -0.4854699598795222
         ],
         "y": [
          -0.3346412752926221
         ],
         "z": [
          -0.8480773559843299
         ]
        },
        {
         "marker": {
          "color": "#40b9d4",
          "size": 5
         },
         "mode": "markers",
         "name": "ATP5D",
         "text": "ATP5D",
         "type": "scatter3d",
         "x": [
          0.1335485452809438
         ],
         "y": [
          0.5206758837651287
         ],
         "z": [
          -0.8409881856667699
         ]
        },
        {
         "marker": {
          "color": "#40b9d4",
          "size": 5
         },
         "mode": "markers",
         "name": "GADD45B",
         "text": "GADD45B",
         "type": "scatter3d",
         "x": [
          -0.5334906583867451
         ],
         "y": [
          0.7041039574504216
         ],
         "z": [
          0.6232550951767217
         ]
        },
        {
         "marker": {
          "color": "#40b9d4",
          "size": 5
         },
         "mode": "markers",
         "name": "ALKBH7",
         "text": "ALKBH7",
         "type": "scatter3d",
         "x": [
          0.2653662814841806
         ],
         "y": [
          -0.9525773894295241
         ],
         "z": [
          0.2265392367150904
         ]
        },
        {
         "marker": {
          "color": "#40b9d4",
          "size": 5
         },
         "mode": "markers",
         "name": "HNRNPM",
         "text": "HNRNPM",
         "type": "scatter3d",
         "x": [
          -0.8125252392279493
         ],
         "y": [
          -0.6433813624778741
         ],
         "z": [
          -0.2002414371052033
         ]
        },
        {
         "marker": {
          "color": "#40b9d4",
          "size": 5
         },
         "mode": "markers",
         "name": "CDC37",
         "text": "CDC37",
         "type": "scatter3d",
         "x": [
          -0.8664300936570141
         ],
         "y": [
          0.23957647236968105
         ],
         "z": [
          -0.4491561648916439
         ]
        },
        {
         "marker": {
          "color": "#40b9d4",
          "size": 5
         },
         "mode": "markers",
         "name": "IFI30",
         "text": "IFI30",
         "type": "scatter3d",
         "x": [
          0.2471587950788968
         ],
         "y": [
          0.8718192951196096
         ],
         "z": [
          0.5642167655485991
         ]
        },
        {
         "marker": {
          "color": "#40b9d4",
          "size": 5
         },
         "mode": "markers",
         "name": "TYROBP",
         "text": "TYROBP",
         "type": "scatter3d",
         "x": [
          0.011001000512443826
         ],
         "y": [
          0.04632370292651353
         ],
         "z": [
          0.02835835215462654
         ]
        },
        {
         "marker": {
          "color": "#40b9d4",
          "size": 5
         },
         "mode": "markers",
         "name": "TBCB",
         "text": "TBCB",
         "type": "scatter3d",
         "x": [
          -0.5669960872022498
         ],
         "y": [
          0.3683577084949977
         ],
         "z": [
          0.836264671635394
         ]
        },
        {
         "marker": {
          "color": "#40b9d4",
          "size": 5
         },
         "mode": "markers",
         "name": "CD79A",
         "text": "CD79A",
         "type": "scatter3d",
         "x": [
          0.158464381941158
         ],
         "y": [
          0.04838278573428305
         ],
         "z": [
          -0.0351805381983074
         ]
        },
        {
         "marker": {
          "color": "#40b9d4",
          "size": 5
         },
         "mode": "markers",
         "name": "CD37",
         "text": "CD37",
         "type": "scatter3d",
         "x": [
          0.1540466887074782
         ],
         "y": [
          0.046723083146598995
         ],
         "z": [
          -0.07320216562116626
         ]
        },
        {
         "marker": {
          "color": "#40b9d4",
          "size": 5
         },
         "mode": "markers",
         "name": "FCGRT",
         "text": "FCGRT",
         "type": "scatter3d",
         "x": [
          -0.45050558692414966
         ],
         "y": [
          -0.7375638340440781
         ],
         "z": [
          -0.6578908249387858
         ]
        },
        {
         "marker": {
          "color": "#40b9d4",
          "size": 5
         },
         "mode": "markers",
         "name": "NKG7",
         "text": "NKG7",
         "type": "scatter3d",
         "x": [
          -0.12148986019059015
         ],
         "y": [
          0.1955002426463685
         ],
         "z": [
          -0.09997517392508123
         ]
        },
        {
         "marker": {
          "color": "#40b9d4",
          "size": 5
         },
         "mode": "markers",
         "name": "MYADM",
         "text": "MYADM",
         "type": "scatter3d",
         "x": [
          0.43843332284646086
         ],
         "y": [
          -0.3920427068113326
         ],
         "z": [
          -0.8068793470946954
         ]
        },
        {
         "marker": {
          "color": "#40b9d4",
          "size": 5
         },
         "mode": "markers",
         "name": "IGLL5",
         "text": "IGLL5",
         "type": "scatter3d",
         "x": [
          -0.7495978959121418
         ],
         "y": [
          -0.33299769015191427
         ],
         "z": [
          0.6691443645337728
         ]
        },
        {
         "marker": {
          "color": "#40b9d4",
          "size": 5
         },
         "mode": "markers",
         "name": "DDT",
         "text": "DDT",
         "type": "scatter3d",
         "x": [
          0.003890609683101048
         ],
         "y": [
          0.29918963827795225
         ],
         "z": [
          -0.9691167985715167
         ]
        },
        {
         "marker": {
          "color": "#40b9d4",
          "size": 5
         },
         "mode": "markers",
         "name": "EWSR1",
         "text": "EWSR1",
         "type": "scatter3d",
         "x": [
          -0.06692446917576225
         ],
         "y": [
          -0.6890834879033915
         ],
         "z": [
          0.7701919631376667
         ]
        },
        {
         "marker": {
          "color": "#40b9d4",
          "size": 5
         },
         "mode": "markers",
         "name": "EIF3D",
         "text": "EIF3D",
         "type": "scatter3d",
         "x": [
          -0.8314989192910847
         ],
         "y": [
          -0.15329324860586066
         ],
         "z": [
          -0.597142864722728
         ]
        },
        {
         "marker": {
          "color": "#40b9d4",
          "size": 5
         },
         "mode": "markers",
         "name": "LGALS2",
         "text": "LGALS2",
         "type": "scatter3d",
         "x": [
          0.13114896965505574
         ],
         "y": [
          0.13232592882713537
         ],
         "z": [
          0.027159736909860458
         ]
        },
        {
         "marker": {
          "color": "#40b9d4",
          "size": 5
         },
         "mode": "markers",
         "name": "LGALS1",
         "text": "LGALS1",
         "type": "scatter3d",
         "x": [
          0.014873919892661944
         ],
         "y": [
          0.20195300811411315
         ],
         "z": [
          -0.022498680701271156
         ]
        },
        {
         "marker": {
          "color": "#40b9d4",
          "size": 5
         },
         "mode": "markers",
         "name": "APOBEC3A",
         "text": "APOBEC3A",
         "type": "scatter3d",
         "x": [
          0.52122956201712
         ],
         "y": [
          -0.34426369627503245
         ],
         "z": [
          0.7391327461657605
         ]
        },
        {
         "marker": {
          "color": "#40b9d4",
          "size": 5
         },
         "mode": "markers",
         "name": "APOBEC3G",
         "text": "APOBEC3G",
         "type": "scatter3d",
         "x": [
          -0.18123859219720018
         ],
         "y": [
          0.25085802361820575
         ],
         "z": [
          -0.11136570870863866
         ]
        },
        {
         "marker": {
          "color": "#40b9d4",
          "size": 5
         },
         "mode": "markers",
         "name": "RPS19BP1",
         "text": "RPS19BP1",
         "type": "scatter3d",
         "x": [
          -0.0986934569657364
         ],
         "y": [
          0.9002680117698552
         ],
         "z": [
          -0.5724529905340295
         ]
        },
        {
         "marker": {
          "color": "#40b9d4",
          "size": 5
         },
         "mode": "markers",
         "name": "SMDT1",
         "text": "SMDT1",
         "type": "scatter3d",
         "x": [
          -0.6621718980829846
         ],
         "y": [
          -0.7950279459734408
         ],
         "z": [
          -0.0625661920340339
         ]
        },
        {
         "marker": {
          "color": "#40b9d4",
          "size": 5
         },
         "mode": "markers",
         "name": "TYMP",
         "text": "TYMP",
         "type": "scatter3d",
         "x": [
          0.08986750121253315
         ],
         "y": [
          0.10000515478751154
         ],
         "z": [
          -0.04374113465328995
         ]
        },
        {
         "marker": {
          "color": "#40b9d4",
          "size": 5
         },
         "mode": "markers",
         "name": "ATP5O",
         "text": "ATP5O",
         "type": "scatter3d",
         "x": [
          -0.9170575068824469
         ],
         "y": [
          0.4143417506526553
         ],
         "z": [
          -0.35264100135964815
         ]
        },
        {
         "marker": {
          "color": "#40b9d4",
          "size": 5
         },
         "mode": "markers",
         "name": "SUMO3",
         "text": "SUMO3",
         "type": "scatter3d",
         "x": [
          0.5276752019364057
         ],
         "y": [
          -0.8439974227201463
         ],
         "z": [
          0.19598587872045112
         ]
        },
        {
         "marker": {
          "color": "#40b9d4",
          "size": 5
         },
         "mode": "markers",
         "name": "PRMT2",
         "text": "PRMT2",
         "type": "scatter3d",
         "x": [
          0.39962441605799043
         ],
         "y": [
          -0.03895810840859503
         ],
         "z": [
          -0.9272684662407623
         ]
        },
        {
         "hoverinfo": "none",
         "line": {
          "color": "gray",
          "width": 1
         },
         "mode": "lines",
         "type": "scatter3d",
         "x": [
          -0.02100020817109983,
          0.0002812933700494894
         ],
         "y": [
          -0.0030840874564664424,
          0.05613840295054213
         ],
         "z": [
          0.006458155457373271,
          -0.0103894986793164
         ]
        },
        {
         "hoverinfo": "none",
         "line": {
          "color": "gray",
          "width": 1
         },
         "mode": "lines",
         "type": "scatter3d",
         "x": [
          -0.02100020817109983,
          0.011001000512443826
         ],
         "y": [
          -0.0030840874564664424,
          0.04632370292651353
         ],
         "z": [
          0.006458155457373271,
          0.02835835215462654
         ]
        },
        {
         "hoverinfo": "none",
         "line": {
          "color": "gray",
          "width": 1
         },
         "mode": "lines",
         "type": "scatter3d",
         "x": [
          -0.3197504540103644,
          -0.2652183744165517
         ],
         "y": [
          0.16972866153372107,
          0.16079500185280818
         ],
         "z": [
          -0.21166592242386198,
          -0.16295445775555925
         ]
        },
        {
         "hoverinfo": "none",
         "line": {
          "color": "gray",
          "width": 1
         },
         "mode": "lines",
         "type": "scatter3d",
         "x": [
          0.15772071906954335,
          0.11877050731451994
         ],
         "y": [
          0.0047426150462425406,
          0.05368613919061708
         ],
         "z": [
          -0.029164499644509005,
          -0.018334373143696892
         ]
        },
        {
         "hoverinfo": "none",
         "line": {
          "color": "gray",
          "width": 1
         },
         "mode": "lines",
         "type": "scatter3d",
         "x": [
          0.15772071906954335,
          0.10130684881889998
         ],
         "y": [
          0.0047426150462425406,
          0.044789665350487964
         ],
         "z": [
          -0.029164499644509005,
          -0.026435860531913196
         ]
        },
        {
         "hoverinfo": "none",
         "line": {
          "color": "gray",
          "width": 1
         },
         "mode": "lines",
         "type": "scatter3d",
         "x": [
          0.05762362806811481,
          0.02865901080140797
         ],
         "y": [
          0.20799318983261153,
          0.13569359463664157
         ],
         "z": [
          -0.03045356814441996,
          -0.011693309145599774
         ]
        },
        {
         "hoverinfo": "none",
         "line": {
          "color": "gray",
          "width": 1
         },
         "mode": "lines",
         "type": "scatter3d",
         "x": [
          0.051761032547639904,
          0.02865901080140797
         ],
         "y": [
          0.20652101311048995,
          0.13569359463664157
         ],
         "z": [
          0.03448689501401758,
          -0.011693309145599774
         ]
        },
        {
         "hoverinfo": "none",
         "line": {
          "color": "gray",
          "width": 1
         },
         "mode": "lines",
         "type": "scatter3d",
         "x": [
          0.02343435184106975,
          0.02865901080140797
         ],
         "y": [
          0.18730987166536295,
          0.13569359463664157
         ],
         "z": [
          0.05647057558639553,
          -0.011693309145599774
         ]
        },
        {
         "hoverinfo": "none",
         "line": {
          "color": "gray",
          "width": 1
         },
         "mode": "lines",
         "type": "scatter3d",
         "x": [
          0.0002812933700494894,
          -0.0869770390475698
         ],
         "y": [
          0.05613840295054213,
          0.10058421818871423
         ],
         "z": [
          -0.0103894986793164,
          -0.06078714796977441
         ]
        },
        {
         "hoverinfo": "none",
         "line": {
          "color": "gray",
          "width": 1
         },
         "mode": "lines",
         "type": "scatter3d",
         "x": [
          0.0002812933700494894,
          0.11877050731451994
         ],
         "y": [
          0.05613840295054213,
          0.05368613919061708
         ],
         "z": [
          -0.0103894986793164,
          -0.018334373143696892
         ]
        },
        {
         "hoverinfo": "none",
         "line": {
          "color": "gray",
          "width": 1
         },
         "mode": "lines",
         "type": "scatter3d",
         "x": [
          0.0002812933700494894,
          0.10130684881889998
         ],
         "y": [
          0.05613840295054213,
          0.044789665350487964
         ],
         "z": [
          -0.0103894986793164,
          -0.026435860531913196
         ]
        },
        {
         "hoverinfo": "none",
         "line": {
          "color": "gray",
          "width": 1
         },
         "mode": "lines",
         "type": "scatter3d",
         "x": [
          0.0002812933700494894,
          -0.0014976047881453205
         ],
         "y": [
          0.05613840295054213,
          -0.0020231800880069093
         ],
         "z": [
          -0.0103894986793164,
          0.029577088679010512
         ]
        },
        {
         "hoverinfo": "none",
         "line": {
          "color": "gray",
          "width": 1
         },
         "mode": "lines",
         "type": "scatter3d",
         "x": [
          0.0002812933700494894,
          -0.03651661926771874
         ],
         "y": [
          0.05613840295054213,
          0.01862304440746154
         ],
         "z": [
          -0.0103894986793164,
          0.03059882510520432
         ]
        },
        {
         "hoverinfo": "none",
         "line": {
          "color": "gray",
          "width": 1
         },
         "mode": "lines",
         "type": "scatter3d",
         "x": [
          0.0002812933700494894,
          0.02865901080140797
         ],
         "y": [
          0.05613840295054213,
          0.13569359463664157
         ],
         "z": [
          -0.0103894986793164,
          -0.011693309145599774
         ]
        },
        {
         "hoverinfo": "none",
         "line": {
          "color": "gray",
          "width": 1
         },
         "mode": "lines",
         "type": "scatter3d",
         "x": [
          0.0002812933700494894,
          -0.028048667578896503
         ],
         "y": [
          0.05613840295054213,
          0.03983458579804452
         ],
         "z": [
          -0.0103894986793164,
          0.051966205178053455
         ]
        },
        {
         "hoverinfo": "none",
         "line": {
          "color": "gray",
          "width": 1
         },
         "mode": "lines",
         "type": "scatter3d",
         "x": [
          0.0002812933700494894,
          -0.06936015009073987
         ],
         "y": [
          0.05613840295054213,
          0.05181479866928957
         ],
         "z": [
          -0.0103894986793164,
          -0.03777092835194996
         ]
        },
        {
         "hoverinfo": "none",
         "line": {
          "color": "gray",
          "width": 1
         },
         "mode": "lines",
         "type": "scatter3d",
         "x": [
          -0.0869770390475698,
          -0.11898765456491778
         ],
         "y": [
          0.10058421818871423,
          0.12080938076512475
         ],
         "z": [
          -0.06078714796977441,
          -0.11810185205441773
         ]
        },
        {
         "hoverinfo": "none",
         "line": {
          "color": "gray",
          "width": 1
         },
         "mode": "lines",
         "type": "scatter3d",
         "x": [
          -0.0869770390475698,
          -0.14251057758782779
         ],
         "y": [
          0.10058421818871423,
          0.13131211657113112
         ],
         "z": [
          -0.06078714796977441,
          -0.0622134235037801
         ]
        },
        {
         "hoverinfo": "none",
         "line": {
          "color": "gray",
          "width": 1
         },
         "mode": "lines",
         "type": "scatter3d",
         "x": [
          -0.0869770390475698,
          -0.19065607491556247
         ],
         "y": [
          0.10058421818871423,
          0.08526214979876541
         ],
         "z": [
          -0.06078714796977441,
          -0.1228507989859067
         ]
        },
        {
         "hoverinfo": "none",
         "line": {
          "color": "gray",
          "width": 1
         },
         "mode": "lines",
         "type": "scatter3d",
         "x": [
          -0.0869770390475698,
          0.02865901080140797
         ],
         "y": [
          0.10058421818871423,
          0.13569359463664157
         ],
         "z": [
          -0.06078714796977441,
          -0.011693309145599774
         ]
        },
        {
         "hoverinfo": "none",
         "line": {
          "color": "gray",
          "width": 1
         },
         "mode": "lines",
         "type": "scatter3d",
         "x": [
          -0.0869770390475698,
          -0.16003016365703046
         ],
         "y": [
          0.10058421818871423,
          0.10554815278448584
         ],
         "z": [
          -0.06078714796977441,
          -0.06261687715069435
         ]
        },
        {
         "hoverinfo": "none",
         "line": {
          "color": "gray",
          "width": 1
         },
         "mode": "lines",
         "type": "scatter3d",
         "x": [
          -0.0869770390475698,
          0.027447816786788294
         ],
         "y": [
          0.10058421818871423,
          0.07908605856338172
         ],
         "z": [
          -0.06078714796977441,
          -0.042314670682017656
         ]
        },
        {
         "hoverinfo": "none",
         "line": {
          "color": "gray",
          "width": 1
         },
         "mode": "lines",
         "type": "scatter3d",
         "x": [
          -0.0869770390475698,
          -0.1611267796672495
         ],
         "y": [
          0.10058421818871423,
          0.09027544241926778
         ],
         "z": [
          -0.06078714796977441,
          -0.09226874399397815
         ]
        },
        {
         "hoverinfo": "none",
         "line": {
          "color": "gray",
          "width": 1
         },
         "mode": "lines",
         "type": "scatter3d",
         "x": [
          -0.0869770390475698,
          -0.13487317920162104
         ],
         "y": [
          0.10058421818871423,
          0.09741823240255776
         ],
         "z": [
          -0.06078714796977441,
          -0.08663978041335776
         ]
        },
        {
         "hoverinfo": "none",
         "line": {
          "color": "gray",
          "width": 1
         },
         "mode": "lines",
         "type": "scatter3d",
         "x": [
          -0.0869770390475698,
          -0.13780829411703482
         ],
         "y": [
          0.10058421818871423,
          0.09428978556397044
         ],
         "z": [
          -0.06078714796977441,
          -0.12372746337829771
         ]
        },
        {
         "hoverinfo": "none",
         "line": {
          "color": "gray",
          "width": 1
         },
         "mode": "lines",
         "type": "scatter3d",
         "x": [
          -0.0869770390475698,
          -0.06936015009073987
         ],
         "y": [
          0.10058421818871423,
          0.05181479866928957
         ],
         "z": [
          -0.06078714796977441,
          -0.03777092835194996
         ]
        },
        {
         "hoverinfo": "none",
         "line": {
          "color": "gray",
          "width": 1
         },
         "mode": "lines",
         "type": "scatter3d",
         "x": [
          -0.0869770390475698,
          -0.1695919413072687
         ],
         "y": [
          0.10058421818871423,
          0.13422564690251915
         ],
         "z": [
          -0.06078714796977441,
          -0.08719144457207503
         ]
        },
        {
         "hoverinfo": "none",
         "line": {
          "color": "gray",
          "width": 1
         },
         "mode": "lines",
         "type": "scatter3d",
         "x": [
          -0.0869770390475698,
          0.011001000512443826
         ],
         "y": [
          0.10058421818871423,
          0.04632370292651353
         ],
         "z": [
          -0.06078714796977441,
          0.02835835215462654
         ]
        },
        {
         "hoverinfo": "none",
         "line": {
          "color": "gray",
          "width": 1
         },
         "mode": "lines",
         "type": "scatter3d",
         "x": [
          -0.0869770390475698,
          -0.12148986019059015
         ],
         "y": [
          0.10058421818871423,
          0.1955002426463685
         ],
         "z": [
          -0.06078714796977441,
          -0.09997517392508123
         ]
        },
        {
         "hoverinfo": "none",
         "line": {
          "color": "gray",
          "width": 1
         },
         "mode": "lines",
         "type": "scatter3d",
         "x": [
          -0.12680346865387482,
          -0.12148986019059015
         ],
         "y": [
          0.24174718295841063,
          0.1955002426463685
         ],
         "z": [
          -0.1616064098173274,
          -0.09997517392508123
         ]
        },
        {
         "hoverinfo": "none",
         "line": {
          "color": "gray",
          "width": 1
         },
         "mode": "lines",
         "type": "scatter3d",
         "x": [
          -0.1411041676241485,
          -0.12148986019059015
         ],
         "y": [
          0.282498533221215,
          0.1955002426463685
         ],
         "z": [
          -0.12768433279830355,
          -0.09997517392508123
         ]
        },
        {
         "hoverinfo": "none",
         "line": {
          "color": "gray",
          "width": 1
         },
         "mode": "lines",
         "type": "scatter3d",
         "x": [
          -0.11898765456491778,
          -0.16724457082220195
         ],
         "y": [
          0.12080938076512475,
          0.13741593182785639
         ],
         "z": [
          -0.11810185205441773,
          -0.1085865549195706
         ]
        },
        {
         "hoverinfo": "none",
         "line": {
          "color": "gray",
          "width": 1
         },
         "mode": "lines",
         "type": "scatter3d",
         "x": [
          -0.1671983681605074,
          -0.12148986019059015
         ],
         "y": [
          0.24563608402608947,
          0.1955002426463685
         ],
         "z": [
          -0.15653741737268165,
          -0.09997517392508123
         ]
        },
        {
         "hoverinfo": "none",
         "line": {
          "color": "gray",
          "width": 1
         },
         "mode": "lines",
         "type": "scatter3d",
         "x": [
          -0.14251057758782779,
          -0.16724457082220195
         ],
         "y": [
          0.13131211657113112,
          0.13741593182785639
         ],
         "z": [
          -0.0622134235037801,
          -0.1085865549195706
         ]
        },
        {
         "hoverinfo": "none",
         "line": {
          "color": "gray",
          "width": 1
         },
         "mode": "lines",
         "type": "scatter3d",
         "x": [
          -0.15312695144891236,
          -0.12148986019059015
         ],
         "y": [
          0.2589731362492906,
          0.1955002426463685
         ],
         "z": [
          -0.08602627192111911,
          -0.09997517392508123
         ]
        },
        {
         "hoverinfo": "none",
         "line": {
          "color": "gray",
          "width": 1
         },
         "mode": "lines",
         "type": "scatter3d",
         "x": [
          -0.25343575944085217,
          -0.19065607491556247
         ],
         "y": [
          0.05403563550545563,
          0.08526214979876541
         ],
         "z": [
          -0.16099746264982465,
          -0.1228507989859067
         ]
        },
        {
         "hoverinfo": "none",
         "line": {
          "color": "gray",
          "width": 1
         },
         "mode": "lines",
         "type": "scatter3d",
         "x": [
          -0.19065607491556247,
          -0.20503139279837043
         ],
         "y": [
          0.08526214979876541,
          0.15460498220371913
         ],
         "z": [
          -0.1228507989859067,
          -0.13011849051114932
         ]
        },
        {
         "hoverinfo": "none",
         "line": {
          "color": "gray",
          "width": 1
         },
         "mode": "lines",
         "type": "scatter3d",
         "x": [
          0.16236019789901346,
          0.09906903033829521
         ],
         "y": [
          0.15609970343561852,
          0.11329105341193384
         ],
         "z": [
          0.027358045134384446,
          0.03420059061074347
         ]
        },
        {
         "hoverinfo": "none",
         "line": {
          "color": "gray",
          "width": 1
         },
         "mode": "lines",
         "type": "scatter3d",
         "x": [
          0.16236019789901346,
          0.1262163839697803
         ],
         "y": [
          0.15609970343561852,
          0.12282365465857938
         ],
         "z": [
          0.027358045134384446,
          -0.02060168358417105
         ]
        },
        {
         "hoverinfo": "none",
         "line": {
          "color": "gray",
          "width": 1
         },
         "mode": "lines",
         "type": "scatter3d",
         "x": [
          -0.022628075556178857,
          0.011001000512443826
         ],
         "y": [
          -0.01720667629718181,
          0.04632370292651353
         ],
         "z": [
          0.09130999354063925,
          0.02835835215462654
         ]
        },
        {
         "hoverinfo": "none",
         "line": {
          "color": "gray",
          "width": 1
         },
         "mode": "lines",
         "type": "scatter3d",
         "x": [
          0.07301553992430686,
          0.11877050731451994
         ],
         "y": [
          0.0836800265919682,
          0.05368613919061708
         ],
         "z": [
          -0.038428557730078076,
          -0.018334373143696892
         ]
        },
        {
         "hoverinfo": "none",
         "line": {
          "color": "gray",
          "width": 1
         },
         "mode": "lines",
         "type": "scatter3d",
         "x": [
          0.07301553992430686,
          0.10130684881889998
         ],
         "y": [
          0.0836800265919682,
          0.044789665350487964
         ],
         "z": [
          -0.038428557730078076,
          -0.026435860531913196
         ]
        },
        {
         "hoverinfo": "none",
         "line": {
          "color": "gray",
          "width": 1
         },
         "mode": "lines",
         "type": "scatter3d",
         "x": [
          0.07301553992430686,
          0.02865901080140797
         ],
         "y": [
          0.0836800265919682,
          0.13569359463664157
         ],
         "z": [
          -0.038428557730078076,
          -0.011693309145599774
         ]
        },
        {
         "hoverinfo": "none",
         "line": {
          "color": "gray",
          "width": 1
         },
         "mode": "lines",
         "type": "scatter3d",
         "x": [
          0.0764486320724051,
          0.11877050731451994
         ],
         "y": [
          0.08448353713674073,
          0.05368613919061708
         ],
         "z": [
          5.2292702454022176e-05,
          -0.018334373143696892
         ]
        },
        {
         "hoverinfo": "none",
         "line": {
          "color": "gray",
          "width": 1
         },
         "mode": "lines",
         "type": "scatter3d",
         "x": [
          0.0764486320724051,
          0.10130684881889998
         ],
         "y": [
          0.08448353713674073,
          0.044789665350487964
         ],
         "z": [
          5.2292702454022176e-05,
          -0.026435860531913196
         ]
        },
        {
         "hoverinfo": "none",
         "line": {
          "color": "gray",
          "width": 1
         },
         "mode": "lines",
         "type": "scatter3d",
         "x": [
          0.0764486320724051,
          0.02865901080140797
         ],
         "y": [
          0.08448353713674073,
          0.13569359463664157
         ],
         "z": [
          5.2292702454022176e-05,
          -0.011693309145599774
         ]
        },
        {
         "hoverinfo": "none",
         "line": {
          "color": "gray",
          "width": 1
         },
         "mode": "lines",
         "type": "scatter3d",
         "x": [
          0.11877050731451994,
          0.12089125216469554
         ],
         "y": [
          0.05368613919061708,
          0.03562847541900134
         ],
         "z": [
          -0.018334373143696892,
          -0.0625653722563526
         ]
        },
        {
         "hoverinfo": "none",
         "line": {
          "color": "gray",
          "width": 1
         },
         "mode": "lines",
         "type": "scatter3d",
         "x": [
          0.11877050731451994,
          0.12114014259151036
         ],
         "y": [
          0.05368613919061708,
          0.005073764470948257
         ],
         "z": [
          -0.018334373143696892,
          -0.016542074770977723
         ]
        },
        {
         "hoverinfo": "none",
         "line": {
          "color": "gray",
          "width": 1
         },
         "mode": "lines",
         "type": "scatter3d",
         "x": [
          0.11877050731451994,
          0.1385575505205078
         ],
         "y": [
          0.05368613919061708,
          0.014590375657903925
         ],
         "z": [
          -0.018334373143696892,
          -0.05826872008009704
         ]
        },
        {
         "hoverinfo": "none",
         "line": {
          "color": "gray",
          "width": 1
         },
         "mode": "lines",
         "type": "scatter3d",
         "x": [
          0.11877050731451994,
          0.09309994553611739
         ],
         "y": [
          0.05368613919061708,
          0.10119784601908967
         ],
         "z": [
          -0.018334373143696892,
          -0.016504578671511377
         ]
        },
        {
         "hoverinfo": "none",
         "line": {
          "color": "gray",
          "width": 1
         },
         "mode": "lines",
         "type": "scatter3d",
         "x": [
          0.11877050731451994,
          0.09906903033829521
         ],
         "y": [
          0.05368613919061708,
          0.11329105341193384
         ],
         "z": [
          -0.018334373143696892,
          0.03420059061074347
         ]
        },
        {
         "hoverinfo": "none",
         "line": {
          "color": "gray",
          "width": 1
         },
         "mode": "lines",
         "type": "scatter3d",
         "x": [
          0.11877050731451994,
          0.027447816786788294
         ],
         "y": [
          0.05368613919061708,
          0.07908605856338172
         ],
         "z": [
          -0.018334373143696892,
          -0.042314670682017656
         ]
        },
        {
         "hoverinfo": "none",
         "line": {
          "color": "gray",
          "width": 1
         },
         "mode": "lines",
         "type": "scatter3d",
         "x": [
          0.11877050731451994,
          0.15403453961936014
         ],
         "y": [
          0.05368613919061708,
          0.03195415753009877
         ],
         "z": [
          -0.018334373143696892,
          0.003583078250799663
         ]
        },
        {
         "hoverinfo": "none",
         "line": {
          "color": "gray",
          "width": 1
         },
         "mode": "lines",
         "type": "scatter3d",
         "x": [
          0.11877050731451994,
          0.21310127680504734
         ],
         "y": [
          0.05368613919061708,
          0.05684542416750784
         ],
         "z": [
          -0.018334373143696892,
          -0.013027513167149151
         ]
        },
        {
         "hoverinfo": "none",
         "line": {
          "color": "gray",
          "width": 1
         },
         "mode": "lines",
         "type": "scatter3d",
         "x": [
          0.11877050731451994,
          0.12040787387322034
         ],
         "y": [
          0.05368613919061708,
          -0.0059124989563249
         ],
         "z": [
          -0.018334373143696892,
          -0.04421346700464587
         ]
        },
        {
         "hoverinfo": "none",
         "line": {
          "color": "gray",
          "width": 1
         },
         "mode": "lines",
         "type": "scatter3d",
         "x": [
          0.11877050731451994,
          0.2111476960115581
         ],
         "y": [
          0.05368613919061708,
          0.036948648044249084
         ],
         "z": [
          -0.018334373143696892,
          -0.05754681688210982
         ]
        },
        {
         "hoverinfo": "none",
         "line": {
          "color": "gray",
          "width": 1
         },
         "mode": "lines",
         "type": "scatter3d",
         "x": [
          0.11877050731451994,
          0.20514282160418104
         ],
         "y": [
          0.05368613919061708,
          0.01796492296525532
         ],
         "z": [
          -0.018334373143696892,
          0.015450015136121192
         ]
        },
        {
         "hoverinfo": "none",
         "line": {
          "color": "gray",
          "width": 1
         },
         "mode": "lines",
         "type": "scatter3d",
         "x": [
          0.11877050731451994,
          0.13038293832626793
         ],
         "y": [
          0.05368613919061708,
          0.010540906269999487
         ],
         "z": [
          -0.018334373143696892,
          0.00956748081962208
         ]
        },
        {
         "hoverinfo": "none",
         "line": {
          "color": "gray",
          "width": 1
         },
         "mode": "lines",
         "type": "scatter3d",
         "x": [
          0.11877050731451994,
          0.1262163839697803
         ],
         "y": [
          0.05368613919061708,
          0.12282365465857938
         ],
         "z": [
          -0.018334373143696892,
          -0.02060168358417105
         ]
        },
        {
         "hoverinfo": "none",
         "line": {
          "color": "gray",
          "width": 1
         },
         "mode": "lines",
         "type": "scatter3d",
         "x": [
          0.11877050731451994,
          0.011001000512443826
         ],
         "y": [
          0.05368613919061708,
          0.04632370292651353
         ],
         "z": [
          -0.018334373143696892,
          0.02835835215462654
         ]
        },
        {
         "hoverinfo": "none",
         "line": {
          "color": "gray",
          "width": 1
         },
         "mode": "lines",
         "type": "scatter3d",
         "x": [
          0.11877050731451994,
          0.158464381941158
         ],
         "y": [
          0.05368613919061708,
          0.04838278573428305
         ],
         "z": [
          -0.018334373143696892,
          -0.0351805381983074
         ]
        },
        {
         "hoverinfo": "none",
         "line": {
          "color": "gray",
          "width": 1
         },
         "mode": "lines",
         "type": "scatter3d",
         "x": [
          0.11877050731451994,
          0.1540466887074782
         ],
         "y": [
          0.05368613919061708,
          0.046723083146598995
         ],
         "z": [
          -0.018334373143696892,
          -0.07320216562116626
         ]
        },
        {
         "hoverinfo": "none",
         "line": {
          "color": "gray",
          "width": 1
         },
         "mode": "lines",
         "type": "scatter3d",
         "x": [
          0.11877050731451994,
          0.13114896965505574
         ],
         "y": [
          0.05368613919061708,
          0.13232592882713537
         ],
         "z": [
          -0.018334373143696892,
          0.027159736909860458
         ]
        },
        {
         "hoverinfo": "none",
         "line": {
          "color": "gray",
          "width": 1
         },
         "mode": "lines",
         "type": "scatter3d",
         "x": [
          0.11877050731451994,
          0.08986750121253315
         ],
         "y": [
          0.05368613919061708,
          0.10000515478751154
         ],
         "z": [
          -0.018334373143696892,
          -0.04374113465328995
         ]
        },
        {
         "hoverinfo": "none",
         "line": {
          "color": "gray",
          "width": 1
         },
         "mode": "lines",
         "type": "scatter3d",
         "x": [
          0.12089125216469554,
          0.10130684881889998
         ],
         "y": [
          0.03562847541900134,
          0.044789665350487964
         ],
         "z": [
          -0.0625653722563526,
          -0.026435860531913196
         ]
        },
        {
         "hoverinfo": "none",
         "line": {
          "color": "gray",
          "width": 1
         },
         "mode": "lines",
         "type": "scatter3d",
         "x": [
          0.12114014259151036,
          0.10130684881889998
         ],
         "y": [
          0.005073764470948257,
          0.044789665350487964
         ],
         "z": [
          -0.016542074770977723,
          -0.026435860531913196
         ]
        },
        {
         "hoverinfo": "none",
         "line": {
          "color": "gray",
          "width": 1
         },
         "mode": "lines",
         "type": "scatter3d",
         "x": [
          0.1385575505205078,
          0.10130684881889998
         ],
         "y": [
          0.014590375657903925,
          0.044789665350487964
         ],
         "z": [
          -0.05826872008009704,
          -0.026435860531913196
         ]
        },
        {
         "hoverinfo": "none",
         "line": {
          "color": "gray",
          "width": 1
         },
         "mode": "lines",
         "type": "scatter3d",
         "x": [
          0.20205167198431906,
          0.13114896965505574
         ],
         "y": [
          0.17510900487873546,
          0.13232592882713537
         ],
         "z": [
          0.07606593062255441,
          0.027159736909860458
         ]
        },
        {
         "hoverinfo": "none",
         "line": {
          "color": "gray",
          "width": 1
         },
         "mode": "lines",
         "type": "scatter3d",
         "x": [
          0.10130684881889998,
          0.09309994553611739
         ],
         "y": [
          0.044789665350487964,
          0.10119784601908967
         ],
         "z": [
          -0.026435860531913196,
          -0.016504578671511377
         ]
        },
        {
         "hoverinfo": "none",
         "line": {
          "color": "gray",
          "width": 1
         },
         "mode": "lines",
         "type": "scatter3d",
         "x": [
          0.10130684881889998,
          0.027447816786788294
         ],
         "y": [
          0.044789665350487964,
          0.07908605856338172
         ],
         "z": [
          -0.026435860531913196,
          -0.042314670682017656
         ]
        },
        {
         "hoverinfo": "none",
         "line": {
          "color": "gray",
          "width": 1
         },
         "mode": "lines",
         "type": "scatter3d",
         "x": [
          0.10130684881889998,
          0.15403453961936014
         ],
         "y": [
          0.044789665350487964,
          0.03195415753009877
         ],
         "z": [
          -0.026435860531913196,
          0.003583078250799663
         ]
        },
        {
         "hoverinfo": "none",
         "line": {
          "color": "gray",
          "width": 1
         },
         "mode": "lines",
         "type": "scatter3d",
         "x": [
          0.10130684881889998,
          0.12040787387322034
         ],
         "y": [
          0.044789665350487964,
          -0.0059124989563249
         ],
         "z": [
          -0.026435860531913196,
          -0.04421346700464587
         ]
        },
        {
         "hoverinfo": "none",
         "line": {
          "color": "gray",
          "width": 1
         },
         "mode": "lines",
         "type": "scatter3d",
         "x": [
          0.10130684881889998,
          0.13038293832626793
         ],
         "y": [
          0.044789665350487964,
          0.010540906269999487
         ],
         "z": [
          -0.026435860531913196,
          0.00956748081962208
         ]
        },
        {
         "hoverinfo": "none",
         "line": {
          "color": "gray",
          "width": 1
         },
         "mode": "lines",
         "type": "scatter3d",
         "x": [
          0.10130684881889998,
          0.1262163839697803
         ],
         "y": [
          0.044789665350487964,
          0.12282365465857938
         ],
         "z": [
          -0.026435860531913196,
          -0.02060168358417105
         ]
        },
        {
         "hoverinfo": "none",
         "line": {
          "color": "gray",
          "width": 1
         },
         "mode": "lines",
         "type": "scatter3d",
         "x": [
          0.10130684881889998,
          0.011001000512443826
         ],
         "y": [
          0.044789665350487964,
          0.04632370292651353
         ],
         "z": [
          -0.026435860531913196,
          0.02835835215462654
         ]
        },
        {
         "hoverinfo": "none",
         "line": {
          "color": "gray",
          "width": 1
         },
         "mode": "lines",
         "type": "scatter3d",
         "x": [
          0.10130684881889998,
          0.158464381941158
         ],
         "y": [
          0.044789665350487964,
          0.04838278573428305
         ],
         "z": [
          -0.026435860531913196,
          -0.0351805381983074
         ]
        },
        {
         "hoverinfo": "none",
         "line": {
          "color": "gray",
          "width": 1
         },
         "mode": "lines",
         "type": "scatter3d",
         "x": [
          0.10130684881889998,
          0.1540466887074782
         ],
         "y": [
          0.044789665350487964,
          0.046723083146598995
         ],
         "z": [
          -0.026435860531913196,
          -0.07320216562116626
         ]
        },
        {
         "hoverinfo": "none",
         "line": {
          "color": "gray",
          "width": 1
         },
         "mode": "lines",
         "type": "scatter3d",
         "x": [
          0.10130684881889998,
          0.08986750121253315
         ],
         "y": [
          0.044789665350487964,
          0.10000515478751154
         ],
         "z": [
          -0.026435860531913196,
          -0.04374113465328995
         ]
        },
        {
         "hoverinfo": "none",
         "line": {
          "color": "gray",
          "width": 1
         },
         "mode": "lines",
         "type": "scatter3d",
         "x": [
          0.2011323017341153,
          0.1262163839697803
         ],
         "y": [
          0.17780863284221243,
          0.12282365465857938
         ],
         "z": [
          -0.04531304200686532,
          -0.02060168358417105
         ]
        },
        {
         "hoverinfo": "none",
         "line": {
          "color": "gray",
          "width": 1
         },
         "mode": "lines",
         "type": "scatter3d",
         "x": [
          0.06256548804305931,
          0.09906903033829521
         ],
         "y": [
          0.07609684983976826,
          0.11329105341193384
         ],
         "z": [
          0.08485730721598864,
          0.03420059061074347
         ]
        },
        {
         "hoverinfo": "none",
         "line": {
          "color": "gray",
          "width": 1
         },
         "mode": "lines",
         "type": "scatter3d",
         "x": [
          0.06256548804305931,
          0.011001000512443826
         ],
         "y": [
          0.07609684983976826,
          0.04632370292651353
         ],
         "z": [
          0.08485730721598864,
          0.02835835215462654
         ]
        },
        {
         "hoverinfo": "none",
         "line": {
          "color": "gray",
          "width": 1
         },
         "mode": "lines",
         "type": "scatter3d",
         "x": [
          -0.0014976047881453205,
          0.011001000512443826
         ],
         "y": [
          -0.0020231800880069093,
          0.04632370292651353
         ],
         "z": [
          0.029577088679010512,
          0.02835835215462654
         ]
        },
        {
         "hoverinfo": "none",
         "line": {
          "color": "gray",
          "width": 1
         },
         "mode": "lines",
         "type": "scatter3d",
         "x": [
          -0.03651661926771874,
          0.011001000512443826
         ],
         "y": [
          0.01862304440746154,
          0.04632370292651353
         ],
         "z": [
          0.03059882510520432,
          0.02835835215462654
         ]
        },
        {
         "hoverinfo": "none",
         "line": {
          "color": "gray",
          "width": 1
         },
         "mode": "lines",
         "type": "scatter3d",
         "x": [
          -0.3373751255721825,
          -0.2652183744165517
         ],
         "y": [
          0.18136466865755774,
          0.16079500185280818
         ],
         "z": [
          -0.18502297407701845,
          -0.16295445775555925
         ]
        },
        {
         "hoverinfo": "none",
         "line": {
          "color": "gray",
          "width": 1
         },
         "mode": "lines",
         "type": "scatter3d",
         "x": [
          0.09309994553611739,
          0.02865901080140797
         ],
         "y": [
          0.10119784601908967,
          0.13569359463664157
         ],
         "z": [
          -0.016504578671511377,
          -0.011693309145599774
         ]
        },
        {
         "hoverinfo": "none",
         "line": {
          "color": "gray",
          "width": 1
         },
         "mode": "lines",
         "type": "scatter3d",
         "x": [
          0.09906903033829521,
          0.02865901080140797
         ],
         "y": [
          0.11329105341193384,
          0.13569359463664157
         ],
         "z": [
          0.03420059061074347,
          -0.011693309145599774
         ]
        },
        {
         "hoverinfo": "none",
         "line": {
          "color": "gray",
          "width": 1
         },
         "mode": "lines",
         "type": "scatter3d",
         "x": [
          0.02865901080140797,
          0.027447816786788294
         ],
         "y": [
          0.13569359463664157,
          0.07908605856338172
         ],
         "z": [
          -0.011693309145599774,
          -0.042314670682017656
         ]
        },
        {
         "hoverinfo": "none",
         "line": {
          "color": "gray",
          "width": 1
         },
         "mode": "lines",
         "type": "scatter3d",
         "x": [
          0.02865901080140797,
          -0.00686344553516896
         ],
         "y": [
          0.13569359463664157,
          0.19620971057088019
         ],
         "z": [
          -0.011693309145599774,
          0.037110899443853804
         ]
        },
        {
         "hoverinfo": "none",
         "line": {
          "color": "gray",
          "width": 1
         },
         "mode": "lines",
         "type": "scatter3d",
         "x": [
          0.02865901080140797,
          0.03708852689139484
         ],
         "y": [
          0.13569359463664157,
          0.22659093425689247
         ],
         "z": [
          -0.011693309145599774,
          0.0022846624704914186
         ]
        },
        {
         "hoverinfo": "none",
         "line": {
          "color": "gray",
          "width": 1
         },
         "mode": "lines",
         "type": "scatter3d",
         "x": [
          0.02865901080140797,
          0.1262163839697803
         ],
         "y": [
          0.13569359463664157,
          0.12282365465857938
         ],
         "z": [
          -0.011693309145599774,
          -0.02060168358417105
         ]
        },
        {
         "hoverinfo": "none",
         "line": {
          "color": "gray",
          "width": 1
         },
         "mode": "lines",
         "type": "scatter3d",
         "x": [
          0.02865901080140797,
          0.011001000512443826
         ],
         "y": [
          0.13569359463664157,
          0.04632370292651353
         ],
         "z": [
          -0.011693309145599774,
          0.02835835215462654
         ]
        },
        {
         "hoverinfo": "none",
         "line": {
          "color": "gray",
          "width": 1
         },
         "mode": "lines",
         "type": "scatter3d",
         "x": [
          0.02865901080140797,
          -0.12148986019059015
         ],
         "y": [
          0.13569359463664157,
          0.1955002426463685
         ],
         "z": [
          -0.011693309145599774,
          -0.09997517392508123
         ]
        },
        {
         "hoverinfo": "none",
         "line": {
          "color": "gray",
          "width": 1
         },
         "mode": "lines",
         "type": "scatter3d",
         "x": [
          0.02865901080140797,
          0.13114896965505574
         ],
         "y": [
          0.13569359463664157,
          0.13232592882713537
         ],
         "z": [
          -0.011693309145599774,
          0.027159736909860458
         ]
        },
        {
         "hoverinfo": "none",
         "line": {
          "color": "gray",
          "width": 1
         },
         "mode": "lines",
         "type": "scatter3d",
         "x": [
          0.02865901080140797,
          0.014873919892661944
         ],
         "y": [
          0.13569359463664157,
          0.20195300811411315
         ],
         "z": [
          -0.011693309145599774,
          -0.022498680701271156
         ]
        },
        {
         "hoverinfo": "none",
         "line": {
          "color": "gray",
          "width": 1
         },
         "mode": "lines",
         "type": "scatter3d",
         "x": [
          0.02865901080140797,
          0.08986750121253315
         ],
         "y": [
          0.13569359463664157,
          0.10000515478751154
         ],
         "z": [
          -0.011693309145599774,
          -0.04374113465328995
         ]
        },
        {
         "hoverinfo": "none",
         "line": {
          "color": "gray",
          "width": 1
         },
         "mode": "lines",
         "type": "scatter3d",
         "x": [
          -0.16003016365703046,
          -0.16724457082220195
         ],
         "y": [
          0.10554815278448584,
          0.13741593182785639
         ],
         "z": [
          -0.06261687715069435,
          -0.1085865549195706
         ]
        },
        {
         "hoverinfo": "none",
         "line": {
          "color": "gray",
          "width": 1
         },
         "mode": "lines",
         "type": "scatter3d",
         "x": [
          -0.009646184414993202,
          0.011001000512443826
         ],
         "y": [
          0.02912608224858093,
          0.04632370292651353
         ],
         "z": [
          0.10640721194567551,
          0.02835835215462654
         ]
        },
        {
         "hoverinfo": "none",
         "line": {
          "color": "gray",
          "width": 1
         },
         "mode": "lines",
         "type": "scatter3d",
         "x": [
          -0.12702419290243386,
          -0.12148986019059015
         ],
         "y": [
          0.2432825209846141,
          0.1955002426463685
         ],
         "z": [
          -0.12100917405568243,
          -0.09997517392508123
         ]
        },
        {
         "hoverinfo": "none",
         "line": {
          "color": "gray",
          "width": 1
         },
         "mode": "lines",
         "type": "scatter3d",
         "x": [
          -0.20503139279837043,
          -0.2652183744165517
         ],
         "y": [
          0.15460498220371913,
          0.16079500185280818
         ],
         "z": [
          -0.13011849051114932,
          -0.16295445775555925
         ]
        },
        {
         "hoverinfo": "none",
         "line": {
          "color": "gray",
          "width": 1
         },
         "mode": "lines",
         "type": "scatter3d",
         "x": [
          -0.20503139279837043,
          -0.1695919413072687
         ],
         "y": [
          0.15460498220371913,
          0.13422564690251915
         ],
         "z": [
          -0.13011849051114932,
          -0.08719144457207503
         ]
        },
        {
         "hoverinfo": "none",
         "line": {
          "color": "gray",
          "width": 1
         },
         "mode": "lines",
         "type": "scatter3d",
         "x": [
          -0.20503139279837043,
          -0.12148986019059015
         ],
         "y": [
          0.15460498220371913,
          0.1955002426463685
         ],
         "z": [
          -0.13011849051114932,
          -0.09997517392508123
         ]
        },
        {
         "hoverinfo": "none",
         "line": {
          "color": "gray",
          "width": 1
         },
         "mode": "lines",
         "type": "scatter3d",
         "x": [
          0.01515367083300874,
          0.011001000512443826
         ],
         "y": [
          -0.009149744219370464,
          0.04632370292651353
         ],
         "z": [
          0.10593198164460398,
          0.02835835215462654
         ]
        },
        {
         "hoverinfo": "none",
         "line": {
          "color": "gray",
          "width": 1
         },
         "mode": "lines",
         "type": "scatter3d",
         "x": [
          -0.1611267796672495,
          -0.16724457082220195
         ],
         "y": [
          0.09027544241926778,
          0.13741593182785639
         ],
         "z": [
          -0.09226874399397815,
          -0.1085865549195706
         ]
        },
        {
         "hoverinfo": "none",
         "line": {
          "color": "gray",
          "width": 1
         },
         "mode": "lines",
         "type": "scatter3d",
         "x": [
          -0.13487317920162104,
          -0.16724457082220195
         ],
         "y": [
          0.09741823240255776,
          0.13741593182785639
         ],
         "z": [
          -0.08663978041335776,
          -0.1085865549195706
         ]
        },
        {
         "hoverinfo": "none",
         "line": {
          "color": "gray",
          "width": 1
         },
         "mode": "lines",
         "type": "scatter3d",
         "x": [
          -0.2652183744165517,
          -0.16724457082220195
         ],
         "y": [
          0.16079500185280818,
          0.13741593182785639
         ],
         "z": [
          -0.16295445775555925,
          -0.1085865549195706
         ]
        },
        {
         "hoverinfo": "none",
         "line": {
          "color": "gray",
          "width": 1
         },
         "mode": "lines",
         "type": "scatter3d",
         "x": [
          -0.16724457082220195,
          -0.13780829411703482
         ],
         "y": [
          0.13741593182785639,
          0.09428978556397044
         ],
         "z": [
          -0.1085865549195706,
          -0.12372746337829771
         ]
        },
        {
         "hoverinfo": "none",
         "line": {
          "color": "gray",
          "width": 1
         },
         "mode": "lines",
         "type": "scatter3d",
         "x": [
          -0.16724457082220195,
          -0.1695919413072687
         ],
         "y": [
          0.13741593182785639,
          0.13422564690251915
         ],
         "z": [
          -0.1085865549195706,
          -0.08719144457207503
         ]
        },
        {
         "hoverinfo": "none",
         "line": {
          "color": "gray",
          "width": 1
         },
         "mode": "lines",
         "type": "scatter3d",
         "x": [
          -0.16724457082220195,
          -0.12148986019059015
         ],
         "y": [
          0.13741593182785639,
          0.1955002426463685
         ],
         "z": [
          -0.1085865549195706,
          -0.09997517392508123
         ]
        },
        {
         "hoverinfo": "none",
         "line": {
          "color": "gray",
          "width": 1
         },
         "mode": "lines",
         "type": "scatter3d",
         "x": [
          -0.028048667578896503,
          0.011001000512443826
         ],
         "y": [
          0.03983458579804452,
          0.04632370292651353
         ],
         "z": [
          0.051966205178053455,
          0.02835835215462654
         ]
        },
        {
         "hoverinfo": "none",
         "line": {
          "color": "gray",
          "width": 1
         },
         "mode": "lines",
         "type": "scatter3d",
         "x": [
          -0.12148986019059015,
          -0.18123859219720018
         ],
         "y": [
          0.1955002426463685,
          0.25085802361820575
         ],
         "z": [
          -0.09997517392508123,
          -0.11136570870863866
         ]
        }
       ],
       "layout": {
        "hovermode": "closest",
        "margin": {
         "b": 0,
         "l": 0,
         "r": 0,
         "t": 0
        },
        "scene": {
         "xaxis": {
          "visible": true
         },
         "yaxis": {
          "visible": false
         },
         "zaxis": {
          "visible": false
         }
        },
        "showlegend": false,
        "template": {
         "data": {
          "bar": [
           {
            "error_x": {
             "color": "#2a3f5f"
            },
            "error_y": {
             "color": "#2a3f5f"
            },
            "marker": {
             "line": {
              "color": "#E5ECF6",
              "width": 0.5
             },
             "pattern": {
              "fillmode": "overlay",
              "size": 10,
              "solidity": 0.2
             }
            },
            "type": "bar"
           }
          ],
          "barpolar": [
           {
            "marker": {
             "line": {
              "color": "#E5ECF6",
              "width": 0.5
             },
             "pattern": {
              "fillmode": "overlay",
              "size": 10,
              "solidity": 0.2
             }
            },
            "type": "barpolar"
           }
          ],
          "carpet": [
           {
            "aaxis": {
             "endlinecolor": "#2a3f5f",
             "gridcolor": "white",
             "linecolor": "white",
             "minorgridcolor": "white",
             "startlinecolor": "#2a3f5f"
            },
            "baxis": {
             "endlinecolor": "#2a3f5f",
             "gridcolor": "white",
             "linecolor": "white",
             "minorgridcolor": "white",
             "startlinecolor": "#2a3f5f"
            },
            "type": "carpet"
           }
          ],
          "choropleth": [
           {
            "colorbar": {
             "outlinewidth": 0,
             "ticks": ""
            },
            "type": "choropleth"
           }
          ],
          "contour": [
           {
            "colorbar": {
             "outlinewidth": 0,
             "ticks": ""
            },
            "colorscale": [
             [
              0,
              "#0d0887"
             ],
             [
              0.1111111111111111,
              "#46039f"
             ],
             [
              0.2222222222222222,
              "#7201a8"
             ],
             [
              0.3333333333333333,
              "#9c179e"
             ],
             [
              0.4444444444444444,
              "#bd3786"
             ],
             [
              0.5555555555555556,
              "#d8576b"
             ],
             [
              0.6666666666666666,
              "#ed7953"
             ],
             [
              0.7777777777777778,
              "#fb9f3a"
             ],
             [
              0.8888888888888888,
              "#fdca26"
             ],
             [
              1,
              "#f0f921"
             ]
            ],
            "type": "contour"
           }
          ],
          "contourcarpet": [
           {
            "colorbar": {
             "outlinewidth": 0,
             "ticks": ""
            },
            "type": "contourcarpet"
           }
          ],
          "heatmap": [
           {
            "colorbar": {
             "outlinewidth": 0,
             "ticks": ""
            },
            "colorscale": [
             [
              0,
              "#0d0887"
             ],
             [
              0.1111111111111111,
              "#46039f"
             ],
             [
              0.2222222222222222,
              "#7201a8"
             ],
             [
              0.3333333333333333,
              "#9c179e"
             ],
             [
              0.4444444444444444,
              "#bd3786"
             ],
             [
              0.5555555555555556,
              "#d8576b"
             ],
             [
              0.6666666666666666,
              "#ed7953"
             ],
             [
              0.7777777777777778,
              "#fb9f3a"
             ],
             [
              0.8888888888888888,
              "#fdca26"
             ],
             [
              1,
              "#f0f921"
             ]
            ],
            "type": "heatmap"
           }
          ],
          "heatmapgl": [
           {
            "colorbar": {
             "outlinewidth": 0,
             "ticks": ""
            },
            "colorscale": [
             [
              0,
              "#0d0887"
             ],
             [
              0.1111111111111111,
              "#46039f"
             ],
             [
              0.2222222222222222,
              "#7201a8"
             ],
             [
              0.3333333333333333,
              "#9c179e"
             ],
             [
              0.4444444444444444,
              "#bd3786"
             ],
             [
              0.5555555555555556,
              "#d8576b"
             ],
             [
              0.6666666666666666,
              "#ed7953"
             ],
             [
              0.7777777777777778,
              "#fb9f3a"
             ],
             [
              0.8888888888888888,
              "#fdca26"
             ],
             [
              1,
              "#f0f921"
             ]
            ],
            "type": "heatmapgl"
           }
          ],
          "histogram": [
           {
            "marker": {
             "pattern": {
              "fillmode": "overlay",
              "size": 10,
              "solidity": 0.2
             }
            },
            "type": "histogram"
           }
          ],
          "histogram2d": [
           {
            "colorbar": {
             "outlinewidth": 0,
             "ticks": ""
            },
            "colorscale": [
             [
              0,
              "#0d0887"
             ],
             [
              0.1111111111111111,
              "#46039f"
             ],
             [
              0.2222222222222222,
              "#7201a8"
             ],
             [
              0.3333333333333333,
              "#9c179e"
             ],
             [
              0.4444444444444444,
              "#bd3786"
             ],
             [
              0.5555555555555556,
              "#d8576b"
             ],
             [
              0.6666666666666666,
              "#ed7953"
             ],
             [
              0.7777777777777778,
              "#fb9f3a"
             ],
             [
              0.8888888888888888,
              "#fdca26"
             ],
             [
              1,
              "#f0f921"
             ]
            ],
            "type": "histogram2d"
           }
          ],
          "histogram2dcontour": [
           {
            "colorbar": {
             "outlinewidth": 0,
             "ticks": ""
            },
            "colorscale": [
             [
              0,
              "#0d0887"
             ],
             [
              0.1111111111111111,
              "#46039f"
             ],
             [
              0.2222222222222222,
              "#7201a8"
             ],
             [
              0.3333333333333333,
              "#9c179e"
             ],
             [
              0.4444444444444444,
              "#bd3786"
             ],
             [
              0.5555555555555556,
              "#d8576b"
             ],
             [
              0.6666666666666666,
              "#ed7953"
             ],
             [
              0.7777777777777778,
              "#fb9f3a"
             ],
             [
              0.8888888888888888,
              "#fdca26"
             ],
             [
              1,
              "#f0f921"
             ]
            ],
            "type": "histogram2dcontour"
           }
          ],
          "mesh3d": [
           {
            "colorbar": {
             "outlinewidth": 0,
             "ticks": ""
            },
            "type": "mesh3d"
           }
          ],
          "parcoords": [
           {
            "line": {
             "colorbar": {
              "outlinewidth": 0,
              "ticks": ""
             }
            },
            "type": "parcoords"
           }
          ],
          "pie": [
           {
            "automargin": true,
            "type": "pie"
           }
          ],
          "scatter": [
           {
            "fillpattern": {
             "fillmode": "overlay",
             "size": 10,
             "solidity": 0.2
            },
            "type": "scatter"
           }
          ],
          "scatter3d": [
           {
            "line": {
             "colorbar": {
              "outlinewidth": 0,
              "ticks": ""
             }
            },
            "marker": {
             "colorbar": {
              "outlinewidth": 0,
              "ticks": ""
             }
            },
            "type": "scatter3d"
           }
          ],
          "scattercarpet": [
           {
            "marker": {
             "colorbar": {
              "outlinewidth": 0,
              "ticks": ""
             }
            },
            "type": "scattercarpet"
           }
          ],
          "scattergeo": [
           {
            "marker": {
             "colorbar": {
              "outlinewidth": 0,
              "ticks": ""
             }
            },
            "type": "scattergeo"
           }
          ],
          "scattergl": [
           {
            "marker": {
             "colorbar": {
              "outlinewidth": 0,
              "ticks": ""
             }
            },
            "type": "scattergl"
           }
          ],
          "scattermapbox": [
           {
            "marker": {
             "colorbar": {
              "outlinewidth": 0,
              "ticks": ""
             }
            },
            "type": "scattermapbox"
           }
          ],
          "scatterpolar": [
           {
            "marker": {
             "colorbar": {
              "outlinewidth": 0,
              "ticks": ""
             }
            },
            "type": "scatterpolar"
           }
          ],
          "scatterpolargl": [
           {
            "marker": {
             "colorbar": {
              "outlinewidth": 0,
              "ticks": ""
             }
            },
            "type": "scatterpolargl"
           }
          ],
          "scatterternary": [
           {
            "marker": {
             "colorbar": {
              "outlinewidth": 0,
              "ticks": ""
             }
            },
            "type": "scatterternary"
           }
          ],
          "surface": [
           {
            "colorbar": {
             "outlinewidth": 0,
             "ticks": ""
            },
            "colorscale": [
             [
              0,
              "#0d0887"
             ],
             [
              0.1111111111111111,
              "#46039f"
             ],
             [
              0.2222222222222222,
              "#7201a8"
             ],
             [
              0.3333333333333333,
              "#9c179e"
             ],
             [
              0.4444444444444444,
              "#bd3786"
             ],
             [
              0.5555555555555556,
              "#d8576b"
             ],
             [
              0.6666666666666666,
              "#ed7953"
             ],
             [
              0.7777777777777778,
              "#fb9f3a"
             ],
             [
              0.8888888888888888,
              "#fdca26"
             ],
             [
              1,
              "#f0f921"
             ]
            ],
            "type": "surface"
           }
          ],
          "table": [
           {
            "cells": {
             "fill": {
              "color": "#EBF0F8"
             },
             "line": {
              "color": "white"
             }
            },
            "header": {
             "fill": {
              "color": "#C8D4E3"
             },
             "line": {
              "color": "white"
             }
            },
            "type": "table"
           }
          ]
         },
         "layout": {
          "annotationdefaults": {
           "arrowcolor": "#2a3f5f",
           "arrowhead": 0,
           "arrowwidth": 1
          },
          "autotypenumbers": "strict",
          "coloraxis": {
           "colorbar": {
            "outlinewidth": 0,
            "ticks": ""
           }
          },
          "colorscale": {
           "diverging": [
            [
             0,
             "#8e0152"
            ],
            [
             0.1,
             "#c51b7d"
            ],
            [
             0.2,
             "#de77ae"
            ],
            [
             0.3,
             "#f1b6da"
            ],
            [
             0.4,
             "#fde0ef"
            ],
            [
             0.5,
             "#f7f7f7"
            ],
            [
             0.6,
             "#e6f5d0"
            ],
            [
             0.7,
             "#b8e186"
            ],
            [
             0.8,
             "#7fbc41"
            ],
            [
             0.9,
             "#4d9221"
            ],
            [
             1,
             "#276419"
            ]
           ],
           "sequential": [
            [
             0,
             "#0d0887"
            ],
            [
             0.1111111111111111,
             "#46039f"
            ],
            [
             0.2222222222222222,
             "#7201a8"
            ],
            [
             0.3333333333333333,
             "#9c179e"
            ],
            [
             0.4444444444444444,
             "#bd3786"
            ],
            [
             0.5555555555555556,
             "#d8576b"
            ],
            [
             0.6666666666666666,
             "#ed7953"
            ],
            [
             0.7777777777777778,
             "#fb9f3a"
            ],
            [
             0.8888888888888888,
             "#fdca26"
            ],
            [
             1,
             "#f0f921"
            ]
           ],
           "sequentialminus": [
            [
             0,
             "#0d0887"
            ],
            [
             0.1111111111111111,
             "#46039f"
            ],
            [
             0.2222222222222222,
             "#7201a8"
            ],
            [
             0.3333333333333333,
             "#9c179e"
            ],
            [
             0.4444444444444444,
             "#bd3786"
            ],
            [
             0.5555555555555556,
             "#d8576b"
            ],
            [
             0.6666666666666666,
             "#ed7953"
            ],
            [
             0.7777777777777778,
             "#fb9f3a"
            ],
            [
             0.8888888888888888,
             "#fdca26"
            ],
            [
             1,
             "#f0f921"
            ]
           ]
          },
          "colorway": [
           "#636efa",
           "#EF553B",
           "#00cc96",
           "#ab63fa",
           "#FFA15A",
           "#19d3f3",
           "#FF6692",
           "#B6E880",
           "#FF97FF",
           "#FECB52"
          ],
          "font": {
           "color": "#2a3f5f"
          },
          "geo": {
           "bgcolor": "white",
           "lakecolor": "white",
           "landcolor": "#E5ECF6",
           "showlakes": true,
           "showland": true,
           "subunitcolor": "white"
          },
          "hoverlabel": {
           "align": "left"
          },
          "hovermode": "closest",
          "mapbox": {
           "style": "light"
          },
          "paper_bgcolor": "white",
          "plot_bgcolor": "#E5ECF6",
          "polar": {
           "angularaxis": {
            "gridcolor": "white",
            "linecolor": "white",
            "ticks": ""
           },
           "bgcolor": "#E5ECF6",
           "radialaxis": {
            "gridcolor": "white",
            "linecolor": "white",
            "ticks": ""
           }
          },
          "scene": {
           "xaxis": {
            "backgroundcolor": "#E5ECF6",
            "gridcolor": "white",
            "gridwidth": 2,
            "linecolor": "white",
            "showbackground": true,
            "ticks": "",
            "zerolinecolor": "white"
           },
           "yaxis": {
            "backgroundcolor": "#E5ECF6",
            "gridcolor": "white",
            "gridwidth": 2,
            "linecolor": "white",
            "showbackground": true,
            "ticks": "",
            "zerolinecolor": "white"
           },
           "zaxis": {
            "backgroundcolor": "#E5ECF6",
            "gridcolor": "white",
            "gridwidth": 2,
            "linecolor": "white",
            "showbackground": true,
            "ticks": "",
            "zerolinecolor": "white"
           }
          },
          "shapedefaults": {
           "line": {
            "color": "#2a3f5f"
           }
          },
          "ternary": {
           "aaxis": {
            "gridcolor": "white",
            "linecolor": "white",
            "ticks": ""
           },
           "baxis": {
            "gridcolor": "white",
            "linecolor": "white",
            "ticks": ""
           },
           "bgcolor": "#E5ECF6",
           "caxis": {
            "gridcolor": "white",
            "linecolor": "white",
            "ticks": ""
           }
          },
          "title": {
           "x": 0.05
          },
          "xaxis": {
           "automargin": true,
           "gridcolor": "white",
           "linecolor": "white",
           "ticks": "",
           "title": {
            "standoff": 15
           },
           "zerolinecolor": "white",
           "zerolinewidth": 2
          },
          "yaxis": {
           "automargin": true,
           "gridcolor": "white",
           "linecolor": "white",
           "ticks": "",
           "title": {
            "standoff": 15
           },
           "zerolinecolor": "white",
           "zerolinewidth": 2
          }
         }
        }
       }
      },
      "text/html": [
       "<div>                            <div id=\"2a8cb9ef-c7e2-4fcd-94a5-5faaa3d8cfe7\" class=\"plotly-graph-div\" style=\"height:525px; width:100%;\"></div>            <script type=\"text/javascript\">                require([\"plotly\"], function(Plotly) {                    window.PLOTLYENV=window.PLOTLYENV || {};                                    if (document.getElementById(\"2a8cb9ef-c7e2-4fcd-94a5-5faaa3d8cfe7\")) {                    Plotly.newPlot(                        \"2a8cb9ef-c7e2-4fcd-94a5-5faaa3d8cfe7\",                        [{\"marker\":{\"color\":\"#40b9d4\",\"size\":5},\"mode\":\"markers\",\"name\":\"RER1\",\"text\":\"RER1\",\"x\":[0.041200254743428234],\"y\":[-0.09441114304178877],\"z\":[0.9164137313090918],\"type\":\"scatter3d\"},{\"marker\":{\"color\":\"#40b9d4\",\"size\":5},\"mode\":\"markers\",\"name\":\"EFHD2\",\"text\":\"EFHD2\",\"x\":[-0.02100020817109983],\"y\":[-0.0030840874564664424],\"z\":[0.006458155457373271],\"type\":\"scatter3d\"},{\"marker\":{\"color\":\"#40b9d4\",\"size\":5},\"mode\":\"markers\",\"name\":\"SDHB\",\"text\":\"SDHB\",\"x\":[0.7479434398610956],\"y\":[-0.6901820308437918],\"z\":[0.3086944312584791],\"type\":\"scatter3d\"},{\"marker\":{\"color\":\"#40b9d4\",\"size\":5},\"mode\":\"markers\",\"name\":\"CAPZB\",\"text\":\"CAPZB\",\"x\":[0.01290574728362407],\"y\":[-0.17684717008372047],\"z\":[1.0],\"type\":\"scatter3d\"},{\"marker\":{\"color\":\"#40b9d4\",\"size\":5},\"mode\":\"markers\",\"name\":\"CDA\",\"text\":\"CDA\",\"x\":[-0.08955455865958474],\"y\":[-0.9259542369808648],\"z\":[0.0027454630433119036],\"type\":\"scatter3d\"},{\"marker\":{\"color\":\"#40b9d4\",\"size\":5},\"mode\":\"markers\",\"name\":\"TMEM50A\",\"text\":\"TMEM50A\",\"x\":[0.8533201367228197],\"y\":[-0.3009712593232357],\"z\":[0.34884559906366075],\"type\":\"scatter3d\"},{\"marker\":{\"color\":\"#40b9d4\",\"size\":5},\"mode\":\"markers\",\"name\":\"MARCKSL1\",\"text\":\"MARCKSL1\",\"x\":[0.19131288773410307],\"y\":[0.0415794673779933],\"z\":[0.9593826943221774],\"type\":\"scatter3d\"},{\"marker\":{\"color\":\"#40b9d4\",\"size\":5},\"mode\":\"markers\",\"name\":\"PPT1\",\"text\":\"PPT1\",\"x\":[-0.34054232467926776],\"y\":[-0.764162203359195],\"z\":[-0.4938311789798608],\"type\":\"scatter3d\"},{\"marker\":{\"color\":\"#40b9d4\",\"size\":5},\"mode\":\"markers\",\"name\":\"PRDX1\",\"text\":\"PRDX1\",\"x\":[-0.38372240577381056],\"y\":[0.6196827924133197],\"z\":[-0.7748314719915597],\"type\":\"scatter3d\"},{\"marker\":{\"color\":\"#40b9d4\",\"size\":5},\"mode\":\"markers\",\"name\":\"SCP2\",\"text\":\"SCP2\",\"x\":[-0.6630079504891253],\"y\":[0.14006818468617435],\"z\":[0.8248774566009014],\"type\":\"scatter3d\"},{\"marker\":{\"color\":\"#40b9d4\",\"size\":5},\"mode\":\"markers\",\"name\":\"LAMTOR5\",\"text\":\"LAMTOR5\",\"x\":[0.21093314395288634],\"y\":[-0.9855897453628244],\"z\":[0.0005677498864650113],\"type\":\"scatter3d\"},{\"marker\":{\"color\":\"#40b9d4\",\"size\":5},\"mode\":\"markers\",\"name\":\"C1orf162\",\"text\":\"C1orf162\",\"x\":[-0.15901211555797948],\"y\":[-0.7139661418923564],\"z\":[0.6647850158179758],\"type\":\"scatter3d\"},{\"marker\":{\"color\":\"#40b9d4\",\"size\":5},\"mode\":\"markers\",\"name\":\"CD2\",\"text\":\"CD2\",\"x\":[-0.3197504540103644],\"y\":[0.16972866153372107],\"z\":[-0.21166592242386198],\"type\":\"scatter3d\"},{\"marker\":{\"color\":\"#40b9d4\",\"size\":5},\"mode\":\"markers\",\"name\":\"CTSS\",\"text\":\"CTSS\",\"x\":[0.15772071906954335],\"y\":[0.0047426150462425406],\"z\":[-0.029164499644509005],\"type\":\"scatter3d\"},{\"marker\":{\"color\":\"#40b9d4\",\"size\":5},\"mode\":\"markers\",\"name\":\"S100A11\",\"text\":\"S100A11\",\"x\":[0.05762362806811481],\"y\":[0.20799318983261153],\"z\":[-0.03045356814441996],\"type\":\"scatter3d\"},{\"marker\":{\"color\":\"#40b9d4\",\"size\":5},\"mode\":\"markers\",\"name\":\"S100A8\",\"text\":\"S100A8\",\"x\":[0.051761032547639904],\"y\":[0.20652101311048995],\"z\":[0.03448689501401758],\"type\":\"scatter3d\"},{\"marker\":{\"color\":\"#40b9d4\",\"size\":5},\"mode\":\"markers\",\"name\":\"S100A6\",\"text\":\"S100A6\",\"x\":[0.02343435184106975],\"y\":[0.18730987166536295],\"z\":[0.05647057558639553],\"type\":\"scatter3d\"},{\"marker\":{\"color\":\"#40b9d4\",\"size\":5},\"mode\":\"markers\",\"name\":\"CD48\",\"text\":\"CD48\",\"x\":[-0.6093878660045553],\"y\":[-0.5484522881170718],\"z\":[-0.7009546033071716],\"type\":\"scatter3d\"},{\"marker\":{\"color\":\"#40b9d4\",\"size\":5},\"mode\":\"markers\",\"name\":\"FCER1G\",\"text\":\"FCER1G\",\"x\":[0.0002812933700494894],\"y\":[0.05613840295054213],\"z\":[-0.0103894986793164],\"type\":\"scatter3d\"},{\"marker\":{\"color\":\"#40b9d4\",\"size\":5},\"mode\":\"markers\",\"name\":\"FCGR3A\",\"text\":\"FCGR3A\",\"x\":[-0.0869770390475698],\"y\":[0.10058421818871423],\"z\":[-0.06078714796977441],\"type\":\"scatter3d\"},{\"marker\":{\"color\":\"#40b9d4\",\"size\":5},\"mode\":\"markers\",\"name\":\"CD247\",\"text\":\"CD247\",\"x\":[-0.12680346865387482],\"y\":[0.24174718295841063],\"z\":[-0.1616064098173274],\"type\":\"scatter3d\"},{\"marker\":{\"color\":\"#40b9d4\",\"size\":5},\"mode\":\"markers\",\"name\":\"SELL\",\"text\":\"SELL\",\"x\":[0.14713931641698164],\"y\":[-0.7457006300143402],\"z\":[0.7275613037612862],\"type\":\"scatter3d\"},{\"marker\":{\"color\":\"#40b9d4\",\"size\":5},\"mode\":\"markers\",\"name\":\"NCF2\",\"text\":\"NCF2\",\"x\":[-0.9968814338732747],\"y\":[0.13402208376595567],\"z\":[0.003209441024259487],\"type\":\"scatter3d\"},{\"marker\":{\"color\":\"#40b9d4\",\"size\":5},\"mode\":\"markers\",\"name\":\"TRAF3IP3\",\"text\":\"TRAF3IP3\",\"x\":[-0.12028875220154149],\"y\":[-0.532472439323428],\"z\":[-0.7915253180434375],\"type\":\"scatter3d\"},{\"marker\":{\"color\":\"#40b9d4\",\"size\":5},\"mode\":\"markers\",\"name\":\"SRP9\",\"text\":\"SRP9\",\"x\":[-0.8984194256524398],\"y\":[-0.2926986343460897],\"z\":[-0.27132089867139636],\"type\":\"scatter3d\"},{\"marker\":{\"color\":\"#40b9d4\",\"size\":5},\"mode\":\"markers\",\"name\":\"ACP1\",\"text\":\"ACP1\",\"x\":[0.3740075852370326],\"y\":[-0.6889185524980316],\"z\":[-0.6894730230901036],\"type\":\"scatter3d\"},{\"marker\":{\"color\":\"#40b9d4\",\"size\":5},\"mode\":\"markers\",\"name\":\"ID2\",\"text\":\"ID2\",\"x\":[-0.1411041676241485],\"y\":[0.282498533221215],\"z\":[-0.12768433279830355],\"type\":\"scatter3d\"},{\"marker\":{\"color\":\"#40b9d4\",\"size\":5},\"mode\":\"markers\",\"name\":\"SNX17\",\"text\":\"SNX17\",\"x\":[0.4453282991720878],\"y\":[0.4773802969285421],\"z\":[0.6764218719691903],\"type\":\"scatter3d\"},{\"marker\":{\"color\":\"#40b9d4\",\"size\":5},\"mode\":\"markers\",\"name\":\"CCT4\",\"text\":\"CCT4\",\"x\":[0.49613702668565945],\"y\":[-0.5953705453311864],\"z\":[0.42972146081441825],\"type\":\"scatter3d\"},{\"marker\":{\"color\":\"#40b9d4\",\"size\":5},\"mode\":\"markers\",\"name\":\"CCT7\",\"text\":\"CCT7\",\"x\":[0.14030015780727503],\"y\":[-0.9393582870601018],\"z\":[-0.38654788442000876],\"type\":\"scatter3d\"},{\"marker\":{\"color\":\"#40b9d4\",\"size\":5},\"mode\":\"markers\",\"name\":\"VAMP8\",\"text\":\"VAMP8\",\"x\":[0.3282592412342514],\"y\":[0.5061046422416671],\"z\":[-0.8270053958739355],\"type\":\"scatter3d\"},{\"marker\":{\"color\":\"#40b9d4\",\"size\":5},\"mode\":\"markers\",\"name\":\"VAMP5\",\"text\":\"VAMP5\",\"x\":[-0.7577566248585329],\"y\":[-0.5545747330234546],\"z\":[0.17521616792701195],\"type\":\"scatter3d\"},{\"marker\":{\"color\":\"#40b9d4\",\"size\":5},\"mode\":\"markers\",\"name\":\"GNLY\",\"text\":\"GNLY\",\"x\":[-0.11898765456491778],\"y\":[0.12080938076512475],\"z\":[-0.11810185205441773],\"type\":\"scatter3d\"},{\"marker\":{\"color\":\"#40b9d4\",\"size\":5},\"mode\":\"markers\",\"name\":\"UBXN4\",\"text\":\"UBXN4\",\"x\":[-0.5425296382746575],\"y\":[0.8335840559495269],\"z\":[-0.4393475504649364],\"type\":\"scatter3d\"},{\"marker\":{\"color\":\"#40b9d4\",\"size\":5},\"mode\":\"markers\",\"name\":\"ZC3H15\",\"text\":\"ZC3H15\",\"x\":[0.7452247268197958],\"y\":[0.5318065576357819],\"z\":[-0.4288840421991725],\"type\":\"scatter3d\"},{\"marker\":{\"color\":\"#40b9d4\",\"size\":5},\"mode\":\"markers\",\"name\":\"ARPC4\",\"text\":\"ARPC4\",\"x\":[-0.504934896459592],\"y\":[-0.788065467769602],\"z\":[-0.4060422286172157],\"type\":\"scatter3d\"},{\"marker\":{\"color\":\"#40b9d4\",\"size\":5},\"mode\":\"markers\",\"name\":\"CMTM7\",\"text\":\"CMTM7\",\"x\":[-0.31402747257043145],\"y\":[-0.9164167761741562],\"z\":[-0.044744442262787884],\"type\":\"scatter3d\"},{\"marker\":{\"color\":\"#40b9d4\",\"size\":5},\"mode\":\"markers\",\"name\":\"GPX1\",\"text\":\"GPX1\",\"x\":[0.553402042332283],\"y\":[-0.4414740173749422],\"z\":[0.8280333483615946],\"type\":\"scatter3d\"},{\"marker\":{\"color\":\"#40b9d4\",\"size\":5},\"mode\":\"markers\",\"name\":\"GNAI2\",\"text\":\"GNAI2\",\"x\":[0.22934144347459623],\"y\":[0.8489789114856182],\"z\":[0.32497225051129097],\"type\":\"scatter3d\"},{\"marker\":{\"color\":\"#40b9d4\",\"size\":5},\"mode\":\"markers\",\"name\":\"ARL6IP5\",\"text\":\"ARL6IP5\",\"x\":[0.375402173552812],\"y\":[0.9049538626554904],\"z\":[-0.4223821696394573],\"type\":\"scatter3d\"},{\"marker\":{\"color\":\"#40b9d4\",\"size\":5},\"mode\":\"markers\",\"name\":\"CD47\",\"text\":\"CD47\",\"x\":[0.6329042971442347],\"y\":[0.31786086365842386],\"z\":[0.8120005255433442],\"type\":\"scatter3d\"},{\"marker\":{\"color\":\"#40b9d4\",\"size\":5},\"mode\":\"markers\",\"name\":\"RAB7A\",\"text\":\"RAB7A\",\"x\":[-0.49609631123223025],\"y\":[0.7970675668074204],\"z\":[0.12754267419560475],\"type\":\"scatter3d\"},{\"marker\":{\"color\":\"#40b9d4\",\"size\":5},\"mode\":\"markers\",\"name\":\"RNF7\",\"text\":\"RNF7\",\"x\":[0.5521203702566766],\"y\":[-0.8499655498656117],\"z\":[-0.015886605159791414],\"type\":\"scatter3d\"},{\"marker\":{\"color\":\"#40b9d4\",\"size\":5},\"mode\":\"markers\",\"name\":\"RPL22L1\",\"text\":\"RPL22L1\",\"x\":[0.9131539592493381],\"y\":[0.26367746483733623],\"z\":[0.20333079316037472],\"type\":\"scatter3d\"},{\"marker\":{\"color\":\"#40b9d4\",\"size\":5},\"mode\":\"markers\",\"name\":\"TNFSF10\",\"text\":\"TNFSF10\",\"x\":[-0.4342963378401018],\"y\":[-0.7953209426339639],\"z\":[0.528798722395957],\"type\":\"scatter3d\"},{\"marker\":{\"color\":\"#40b9d4\",\"size\":5},\"mode\":\"markers\",\"name\":\"PPP1R2\",\"text\":\"PPP1R2\",\"x\":[0.8016599373341623],\"y\":[0.713567166999192],\"z\":[0.1295728681022097],\"type\":\"scatter3d\"},{\"marker\":{\"color\":\"#40b9d4\",\"size\":5},\"mode\":\"markers\",\"name\":\"LYAR\",\"text\":\"LYAR\",\"x\":[-0.1671983681605074],\"y\":[0.24563608402608947],\"z\":[-0.15653741737268165],\"type\":\"scatter3d\"},{\"marker\":{\"color\":\"#40b9d4\",\"size\":5},\"mode\":\"markers\",\"name\":\"FGFBP2\",\"text\":\"FGFBP2\",\"x\":[-0.14251057758782779],\"y\":[0.13131211657113112],\"z\":[-0.0622134235037801],\"type\":\"scatter3d\"},{\"marker\":{\"color\":\"#40b9d4\",\"size\":5},\"mode\":\"markers\",\"name\":\"HOPX\",\"text\":\"HOPX\",\"x\":[-0.15312695144891236],\"y\":[0.2589731362492906],\"z\":[-0.08602627192111911],\"type\":\"scatter3d\"},{\"marker\":{\"color\":\"#40b9d4\",\"size\":5},\"mode\":\"markers\",\"name\":\"UBE2D3\",\"text\":\"UBE2D3\",\"x\":[-0.44905111467970116],\"y\":[0.5149947264126419],\"z\":[-0.7464790741909035],\"type\":\"scatter3d\"},{\"marker\":{\"color\":\"#40b9d4\",\"size\":5},\"mode\":\"markers\",\"name\":\"SNHG8\",\"text\":\"SNHG8\",\"x\":[-0.5706611638075065],\"y\":[-0.5884230109261026],\"z\":[0.29816428565664216],\"type\":\"scatter3d\"},{\"marker\":{\"color\":\"#40b9d4\",\"size\":5},\"mode\":\"markers\",\"name\":\"C4orf3\",\"text\":\"C4orf3\",\"x\":[-0.1518217765858505],\"y\":[0.11151973717922932],\"z\":[-0.8903729698135684],\"type\":\"scatter3d\"},{\"marker\":{\"color\":\"#40b9d4\",\"size\":5},\"mode\":\"markers\",\"name\":\"FYB\",\"text\":\"FYB\",\"x\":[-0.5351139152899833],\"y\":[0.21218143427227007],\"z\":[0.8013746483331132],\"type\":\"scatter3d\"},{\"marker\":{\"color\":\"#40b9d4\",\"size\":5},\"mode\":\"markers\",\"name\":\"GZMK\",\"text\":\"GZMK\",\"x\":[-0.25343575944085217],\"y\":[0.05403563550545563],\"z\":[-0.16099746264982465],\"type\":\"scatter3d\"},{\"marker\":{\"color\":\"#40b9d4\",\"size\":5},\"mode\":\"markers\",\"name\":\"GZMA\",\"text\":\"GZMA\",\"x\":[-0.19065607491556247],\"y\":[0.08526214979876541],\"z\":[-0.1228507989859067],\"type\":\"scatter3d\"},{\"marker\":{\"color\":\"#40b9d4\",\"size\":5},\"mode\":\"markers\",\"name\":\"NSA2\",\"text\":\"NSA2\",\"x\":[-0.8805165309771088],\"y\":[-0.45614715761631086],\"z\":[-0.3487362590680599],\"type\":\"scatter3d\"},{\"marker\":{\"color\":\"#40b9d4\",\"size\":5},\"mode\":\"markers\",\"name\":\"HINT1\",\"text\":\"HINT1\",\"x\":[-0.7775814214659122],\"y\":[0.3029133425451046],\"z\":[0.6232049978155633],\"type\":\"scatter3d\"},{\"marker\":{\"color\":\"#40b9d4\",\"size\":5},\"mode\":\"markers\",\"name\":\"H2AFY\",\"text\":\"H2AFY\",\"x\":[0.16236019789901346],\"y\":[0.15609970343561852],\"z\":[0.027358045134384446],\"type\":\"scatter3d\"},{\"marker\":{\"color\":\"#40b9d4\",\"size\":5},\"mode\":\"markers\",\"name\":\"UBE2D2\",\"text\":\"UBE2D2\",\"x\":[0.4921806796179285],\"y\":[0.19615010566991828],\"z\":[0.7801663760340503],\"type\":\"scatter3d\"},{\"marker\":{\"color\":\"#40b9d4\",\"size\":5},\"mode\":\"markers\",\"name\":\"NDUFA2\",\"text\":\"NDUFA2\",\"x\":[0.1549727752965074],\"y\":[-0.8206402986895246],\"z\":[-0.5121847936251902],\"type\":\"scatter3d\"},{\"marker\":{\"color\":\"#40b9d4\",\"size\":5},\"mode\":\"markers\",\"name\":\"ATP6V0E1\",\"text\":\"ATP6V0E1\",\"x\":[-0.15396776222537284],\"y\":[-0.9576358288995725],\"z\":[-0.1997879443192791],\"type\":\"scatter3d\"},{\"marker\":{\"color\":\"#40b9d4\",\"size\":5},\"mode\":\"markers\",\"name\":\"LMAN2\",\"text\":\"LMAN2\",\"x\":[-0.6681738093886259],\"y\":[0.7724993348675053],\"z\":[0.24084366752244346],\"type\":\"scatter3d\"},{\"marker\":{\"color\":\"#40b9d4\",\"size\":5},\"mode\":\"markers\",\"name\":\"SERPINB1\",\"text\":\"SERPINB1\",\"x\":[-0.022628075556178857],\"y\":[-0.01720667629718181],\"z\":[0.09130999354063925],\"type\":\"scatter3d\"},{\"marker\":{\"color\":\"#40b9d4\",\"size\":5},\"mode\":\"markers\",\"name\":\"TMEM14B\",\"text\":\"TMEM14B\",\"x\":[-0.43010318271889403],\"y\":[-0.7541598354336891],\"z\":[0.42334947031406883],\"type\":\"scatter3d\"},{\"marker\":{\"color\":\"#40b9d4\",\"size\":5},\"mode\":\"markers\",\"name\":\"NOL7\",\"text\":\"NOL7\",\"x\":[0.18218757198776242],\"y\":[-0.6233855464048202],\"z\":[-0.7881065422036441],\"type\":\"scatter3d\"},{\"marker\":{\"color\":\"#40b9d4\",\"size\":5},\"mode\":\"markers\",\"name\":\"BTN3A2\",\"text\":\"BTN3A2\",\"x\":[-0.7282380558482776],\"y\":[-0.2326408086029892],\"z\":[-0.732278183590938],\"type\":\"scatter3d\"},{\"marker\":{\"color\":\"#40b9d4\",\"size\":5},\"mode\":\"markers\",\"name\":\"LTB\",\"text\":\"LTB\",\"x\":[-0.9519213433218636],\"y\":[0.013163628998236062],\"z\":[0.17521248565856448],\"type\":\"scatter3d\"},{\"marker\":{\"color\":\"#40b9d4\",\"size\":5},\"mode\":\"markers\",\"name\":\"LST1\",\"text\":\"LST1\",\"x\":[0.07301553992430686],\"y\":[0.0836800265919682],\"z\":[-0.038428557730078076],\"type\":\"scatter3d\"},{\"marker\":{\"color\":\"#40b9d4\",\"size\":5},\"mode\":\"markers\",\"name\":\"AIF1\",\"text\":\"AIF1\",\"x\":[0.0764486320724051],\"y\":[0.08448353713674073],\"z\":[5.2292702454022176e-05],\"type\":\"scatter3d\"},{\"marker\":{\"color\":\"#40b9d4\",\"size\":5},\"mode\":\"markers\",\"name\":\"CSNK2B\",\"text\":\"CSNK2B\",\"x\":[-0.626417289236006],\"y\":[-0.41449840423800355],\"z\":[0.7845541400389389],\"type\":\"scatter3d\"},{\"marker\":{\"color\":\"#40b9d4\",\"size\":5},\"mode\":\"markers\",\"name\":\"HLA-DRB1\",\"text\":\"HLA-DRB1\",\"x\":[0.11877050731451994],\"y\":[0.05368613919061708],\"z\":[-0.018334373143696892],\"type\":\"scatter3d\"},{\"marker\":{\"color\":\"#40b9d4\",\"size\":5},\"mode\":\"markers\",\"name\":\"HLA-DQA1\",\"text\":\"HLA-DQA1\",\"x\":[0.12089125216469554],\"y\":[0.03562847541900134],\"z\":[-0.0625653722563526],\"type\":\"scatter3d\"},{\"marker\":{\"color\":\"#40b9d4\",\"size\":5},\"mode\":\"markers\",\"name\":\"HLA-DQB1\",\"text\":\"HLA-DQB1\",\"x\":[0.12114014259151036],\"y\":[0.005073764470948257],\"z\":[-0.016542074770977723],\"type\":\"scatter3d\"},{\"marker\":{\"color\":\"#40b9d4\",\"size\":5},\"mode\":\"markers\",\"name\":\"PSMB8\",\"text\":\"PSMB8\",\"x\":[-0.013880556627273359],\"y\":[-0.9819244012831791],\"z\":[0.057168679240148165],\"type\":\"scatter3d\"},{\"marker\":{\"color\":\"#40b9d4\",\"size\":5},\"mode\":\"markers\",\"name\":\"HLA-DMB\",\"text\":\"HLA-DMB\",\"x\":[0.1385575505205078],\"y\":[0.014590375657903925],\"z\":[-0.05826872008009704],\"type\":\"scatter3d\"},{\"marker\":{\"color\":\"#40b9d4\",\"size\":5},\"mode\":\"markers\",\"name\":\"HLA-DMA\",\"text\":\"HLA-DMA\",\"x\":[0.20205167198431906],\"y\":[0.17510900487873546],\"z\":[0.07606593062255441],\"type\":\"scatter3d\"},{\"marker\":{\"color\":\"#40b9d4\",\"size\":5},\"mode\":\"markers\",\"name\":\"HLA-DPA1\",\"text\":\"HLA-DPA1\",\"x\":[0.10130684881889998],\"y\":[0.044789665350487964],\"z\":[-0.026435860531913196],\"type\":\"scatter3d\"},{\"marker\":{\"color\":\"#40b9d4\",\"size\":5},\"mode\":\"markers\",\"name\":\"HLA-DPB1\",\"text\":\"HLA-DPB1\",\"x\":[0.2011323017341153],\"y\":[0.17780863284221243],\"z\":[-0.04531304200686532],\"type\":\"scatter3d\"},{\"marker\":{\"color\":\"#40b9d4\",\"size\":5},\"mode\":\"markers\",\"name\":\"TAPBP\",\"text\":\"TAPBP\",\"x\":[0.09589912440679657],\"y\":[-0.5258482465362571],\"z\":[0.7210748772443033],\"type\":\"scatter3d\"},{\"marker\":{\"color\":\"#40b9d4\",\"size\":5},\"mode\":\"markers\",\"name\":\"SRSF3\",\"text\":\"SRSF3\",\"x\":[0.07198556207870009],\"y\":[-0.3363713082739796],\"z\":[-0.9449431260722125],\"type\":\"scatter3d\"},{\"marker\":{\"color\":\"#40b9d4\",\"size\":5},\"mode\":\"markers\",\"name\":\"CNPY3\",\"text\":\"CNPY3\",\"x\":[0.06256548804305931],\"y\":[0.07609684983976826],\"z\":[0.08485730721598864],\"type\":\"scatter3d\"},{\"marker\":{\"color\":\"#40b9d4\",\"size\":5},\"mode\":\"markers\",\"name\":\"PNRC1\",\"text\":\"PNRC1\",\"x\":[-0.2137564048981869],\"y\":[-0.15189298465165382],\"z\":[0.9838630303765044],\"type\":\"scatter3d\"},{\"marker\":{\"color\":\"#40b9d4\",\"size\":5},\"mode\":\"markers\",\"name\":\"SNX3\",\"text\":\"SNX3\",\"x\":[-0.7193395173952372],\"y\":[-0.43148646669905677],\"z\":[-0.6432945360178248],\"type\":\"scatter3d\"},{\"marker\":{\"color\":\"#40b9d4\",\"size\":5},\"mode\":\"markers\",\"name\":\"ABRACL\",\"text\":\"ABRACL\",\"x\":[0.6919648492073737],\"y\":[0.30366057542457686],\"z\":[-0.7109856491172336],\"type\":\"scatter3d\"},{\"marker\":{\"color\":\"#40b9d4\",\"size\":5},\"mode\":\"markers\",\"name\":\"SF3B5\",\"text\":\"SF3B5\",\"x\":[0.7342111747329221],\"y\":[-0.10857040382520702],\"z\":[-0.624520648485187],\"type\":\"scatter3d\"},{\"marker\":{\"color\":\"#40b9d4\",\"size\":5},\"mode\":\"markers\",\"name\":\"PCMT1\",\"text\":\"PCMT1\",\"x\":[0.8557810051157073],\"y\":[-0.5153126959903593],\"z\":[-0.29639032039094015],\"type\":\"scatter3d\"},{\"marker\":{\"color\":\"#40b9d4\",\"size\":5},\"mode\":\"markers\",\"name\":\"DYNLT1\",\"text\":\"DYNLT1\",\"x\":[0.2679660049091271],\"y\":[0.42231355188744085],\"z\":[0.7500869971505995],\"type\":\"scatter3d\"},{\"marker\":{\"color\":\"#40b9d4\",\"size\":5},\"mode\":\"markers\",\"name\":\"STK17A\",\"text\":\"STK17A\",\"x\":[0.1477910056606357],\"y\":[0.3867428984534489],\"z\":[0.9207371237987676],\"type\":\"scatter3d\"},{\"marker\":{\"color\":\"#40b9d4\",\"size\":5},\"mode\":\"markers\",\"name\":\"BLVRA\",\"text\":\"BLVRA\",\"x\":[-0.0014976047881453205],\"y\":[-0.0020231800880069093],\"z\":[0.029577088679010512],\"type\":\"scatter3d\"},{\"marker\":{\"color\":\"#40b9d4\",\"size\":5},\"mode\":\"markers\",\"name\":\"ARPC1B\",\"text\":\"ARPC1B\",\"x\":[-0.03651661926771874],\"y\":[0.01862304440746154],\"z\":[0.03059882510520432],\"type\":\"scatter3d\"},{\"marker\":{\"color\":\"#40b9d4\",\"size\":5},\"mode\":\"markers\",\"name\":\"CAPZA2\",\"text\":\"CAPZA2\",\"x\":[0.5540526916528412],\"y\":[0.6534732960110573],\"z\":[0.4533675168595446],\"type\":\"scatter3d\"},{\"marker\":{\"color\":\"#40b9d4\",\"size\":5},\"mode\":\"markers\",\"name\":\"ATP6V1F\",\"text\":\"ATP6V1F\",\"x\":[-0.6578224156224067],\"y\":[-0.6795088385494161],\"z\":[0.48367910388491936],\"type\":\"scatter3d\"},{\"marker\":{\"color\":\"#40b9d4\",\"size\":5},\"mode\":\"markers\",\"name\":\"SSBP1\",\"text\":\"SSBP1\",\"x\":[0.7966739945544619],\"y\":[0.2561963543888085],\"z\":[0.6863904034886246],\"type\":\"scatter3d\"},{\"marker\":{\"color\":\"#40b9d4\",\"size\":5},\"mode\":\"markers\",\"name\":\"GIMAP7\",\"text\":\"GIMAP7\",\"x\":[-0.3373751255721825],\"y\":[0.18136466865755774],\"z\":[-0.18502297407701845],\"type\":\"scatter3d\"},{\"marker\":{\"color\":\"#40b9d4\",\"size\":5},\"mode\":\"markers\",\"name\":\"GIMAP4\",\"text\":\"GIMAP4\",\"x\":[-0.9710462920914003],\"y\":[-0.08328045925846736],\"z\":[-0.24414979333518882],\"type\":\"scatter3d\"},{\"marker\":{\"color\":\"#40b9d4\",\"size\":5},\"mode\":\"markers\",\"name\":\"GIMAP2\",\"text\":\"GIMAP2\",\"x\":[0.9138486197873764],\"y\":[-0.29610382235828403],\"z\":[-0.28135132618560826],\"type\":\"scatter3d\"},{\"marker\":{\"color\":\"#40b9d4\",\"size\":5},\"mode\":\"markers\",\"name\":\"GIMAP5\",\"text\":\"GIMAP5\",\"x\":[0.21359166151549103],\"y\":[0.9317464982480476],\"z\":[-0.0798641749977628],\"type\":\"scatter3d\"},{\"marker\":{\"color\":\"#40b9d4\",\"size\":5},\"mode\":\"markers\",\"name\":\"SAT1\",\"text\":\"SAT1\",\"x\":[0.09309994553611739],\"y\":[0.10119784601908967],\"z\":[-0.016504578671511377],\"type\":\"scatter3d\"},{\"marker\":{\"color\":\"#40b9d4\",\"size\":5},\"mode\":\"markers\",\"name\":\"RBM3\",\"text\":\"RBM3\",\"x\":[0.7553066558522171],\"y\":[0.13019780656256963],\"z\":[-0.6835930583544633],\"type\":\"scatter3d\"},{\"marker\":{\"color\":\"#40b9d4\",\"size\":5},\"mode\":\"markers\",\"name\":\"IDH3G\",\"text\":\"IDH3G\",\"x\":[0.5710072334168919],\"y\":[-0.7809218514967957],\"z\":[-0.218096777048461],\"type\":\"scatter3d\"},{\"marker\":{\"color\":\"#40b9d4\",\"size\":5},\"mode\":\"markers\",\"name\":\"MAF1\",\"text\":\"MAF1\",\"x\":[0.3241064788996902],\"y\":[0.3367324629853304],\"z\":[0.9296967162331176],\"type\":\"scatter3d\"},{\"marker\":{\"color\":\"#40b9d4\",\"size\":5},\"mode\":\"markers\",\"name\":\"VPS28\",\"text\":\"VPS28\",\"x\":[0.6334766871630633],\"y\":[-0.6528863410570256],\"z\":[0.6248423199766251],\"type\":\"scatter3d\"},{\"marker\":{\"color\":\"#40b9d4\",\"size\":5},\"mode\":\"markers\",\"name\":\"DNAJA1\",\"text\":\"DNAJA1\",\"x\":[-0.2678091277182709],\"y\":[0.8603278264156636],\"z\":[0.18873252064653237],\"type\":\"scatter3d\"},{\"marker\":{\"color\":\"#40b9d4\",\"size\":5},\"mode\":\"markers\",\"name\":\"AQP3\",\"text\":\"AQP3\",\"x\":[0.6859677585667397],\"y\":[-0.03147386762931998],\"z\":[-0.8184977571193816],\"type\":\"scatter3d\"},{\"marker\":{\"color\":\"#40b9d4\",\"size\":5},\"mode\":\"markers\",\"name\":\"C9orf16\",\"text\":\"C9orf16\",\"x\":[0.9806434187245703],\"y\":[-0.154794353223249],\"z\":[-0.04987593610563078],\"type\":\"scatter3d\"},{\"marker\":{\"color\":\"#40b9d4\",\"size\":5},\"mode\":\"markers\",\"name\":\"FCN1\",\"text\":\"FCN1\",\"x\":[0.09906903033829521],\"y\":[0.11329105341193384],\"z\":[0.03420059061074347],\"type\":\"scatter3d\"},{\"marker\":{\"color\":\"#40b9d4\",\"size\":5},\"mode\":\"markers\",\"name\":\"C9orf142\",\"text\":\"C9orf142\",\"x\":[0.7942576610201852],\"y\":[-0.658361227763607],\"z\":[-0.0448126492025338],\"type\":\"scatter3d\"},{\"marker\":{\"color\":\"#40b9d4\",\"size\":5},\"mode\":\"markers\",\"name\":\"ATP5C1\",\"text\":\"ATP5C1\",\"x\":[-0.4083904771657718],\"y\":[0.6264975430493099],\"z\":[0.5750314177026166],\"type\":\"scatter3d\"},{\"marker\":{\"color\":\"#40b9d4\",\"size\":5},\"mode\":\"markers\",\"name\":\"KIF5B\",\"text\":\"KIF5B\",\"x\":[-0.8812478388287077],\"y\":[-0.20796469713756396],\"z\":[0.30302244622083446],\"type\":\"scatter3d\"},{\"marker\":{\"color\":\"#40b9d4\",\"size\":5},\"mode\":\"markers\",\"name\":\"SRGN\",\"text\":\"SRGN\",\"x\":[0.02865901080140797],\"y\":[0.13569359463664157],\"z\":[-0.011693309145599774],\"type\":\"scatter3d\"},{\"marker\":{\"color\":\"#40b9d4\",\"size\":5},\"mode\":\"markers\",\"name\":\"PRF1\",\"text\":\"PRF1\",\"x\":[-0.16003016365703046],\"y\":[0.10554815278448584],\"z\":[-0.06261687715069435],\"type\":\"scatter3d\"},{\"marker\":{\"color\":\"#40b9d4\",\"size\":5},\"mode\":\"markers\",\"name\":\"NDUFB8-1\",\"text\":\"NDUFB8-1\",\"x\":[0.9121127423591623],\"y\":[-0.3884883299972031],\"z\":[-0.07523260330354145],\"type\":\"scatter3d\"},{\"marker\":{\"color\":\"#40b9d4\",\"size\":5},\"mode\":\"markers\",\"name\":\"GSTO1\",\"text\":\"GSTO1\",\"x\":[-0.4347665240963682],\"y\":[-0.36944717062764276],\"z\":[0.8380990664369865],\"type\":\"scatter3d\"},{\"marker\":{\"color\":\"#40b9d4\",\"size\":5},\"mode\":\"markers\",\"name\":\"BUB3\",\"text\":\"BUB3\",\"x\":[0.5662081786085117],\"y\":[-0.38182432876162564],\"z\":[-0.7910382228360109],\"type\":\"scatter3d\"},{\"marker\":{\"color\":\"#40b9d4\",\"size\":5},\"mode\":\"markers\",\"name\":\"IFITM3\",\"text\":\"IFITM3\",\"x\":[0.027447816786788294],\"y\":[0.07908605856338172],\"z\":[-0.042314670682017656],\"type\":\"scatter3d\"},{\"marker\":{\"color\":\"#40b9d4\",\"size\":5},\"mode\":\"markers\",\"name\":\"TALDO1\",\"text\":\"TALDO1\",\"x\":[-0.009646184414993202],\"y\":[0.02912608224858093],\"z\":[0.10640721194567551],\"type\":\"scatter3d\"},{\"marker\":{\"color\":\"#40b9d4\",\"size\":5},\"mode\":\"markers\",\"name\":\"PSMA1\",\"text\":\"PSMA1\",\"x\":[0.14260457516669764],\"y\":[-0.9448385982637675],\"z\":[0.3594879862068228],\"type\":\"scatter3d\"},{\"marker\":{\"color\":\"#40b9d4\",\"size\":5},\"mode\":\"markers\",\"name\":\"UBE2L6\",\"text\":\"UBE2L6\",\"x\":[0.723372456397057],\"y\":[0.738816789138992],\"z\":[-0.18631861370449196],\"type\":\"scatter3d\"},{\"marker\":{\"color\":\"#40b9d4\",\"size\":5},\"mode\":\"markers\",\"name\":\"MS4A6A\",\"text\":\"MS4A6A\",\"x\":[0.5961492487115024],\"y\":[0.6181070062224623],\"z\":[-0.6655227491829625],\"type\":\"scatter3d\"},{\"marker\":{\"color\":\"#40b9d4\",\"size\":5},\"mode\":\"markers\",\"name\":\"MS4A1\",\"text\":\"MS4A1\",\"x\":[0.15403453961936014],\"y\":[0.03195415753009877],\"z\":[0.003583078250799663],\"type\":\"scatter3d\"},{\"marker\":{\"color\":\"#40b9d4\",\"size\":5},\"mode\":\"markers\",\"name\":\"UBXN1\",\"text\":\"UBXN1\",\"x\":[-0.29935652918906935],\"y\":[-0.8378808047270406],\"z\":[0.26124545667226046],\"type\":\"scatter3d\"},{\"marker\":{\"color\":\"#40b9d4\",\"size\":5},\"mode\":\"markers\",\"name\":\"FERMT3\",\"text\":\"FERMT3\",\"x\":[-0.935001427428842],\"y\":[0.14704749333364187],\"z\":[0.41513226757088606],\"type\":\"scatter3d\"},{\"marker\":{\"color\":\"#40b9d4\",\"size\":5},\"mode\":\"markers\",\"name\":\"RASGRP2\",\"text\":\"RASGRP2\",\"x\":[0.9000228821144507],\"y\":[0.11510866481855736],\"z\":[0.1256841481291],\"type\":\"scatter3d\"},{\"marker\":{\"color\":\"#40b9d4\",\"size\":5},\"mode\":\"markers\",\"name\":\"CTSW\",\"text\":\"CTSW\",\"x\":[-0.12702419290243386],\"y\":[0.2432825209846141],\"z\":[-0.12100917405568243],\"type\":\"scatter3d\"},{\"marker\":{\"color\":\"#40b9d4\",\"size\":5},\"mode\":\"markers\",\"name\":\"PTPRCAP\",\"text\":\"PTPRCAP\",\"x\":[-0.20503139279837043],\"y\":[0.15460498220371913],\"z\":[-0.13011849051114932],\"type\":\"scatter3d\"},{\"marker\":{\"color\":\"#40b9d4\",\"size\":5},\"mode\":\"markers\",\"name\":\"CORO1B\",\"text\":\"CORO1B\",\"x\":[0.4830341970443732],\"y\":[-0.7448088065462486],\"z\":[-0.10037836123447806],\"type\":\"scatter3d\"},{\"marker\":{\"color\":\"#40b9d4\",\"size\":5},\"mode\":\"markers\",\"name\":\"GSTP1\",\"text\":\"GSTP1\",\"x\":[-0.00686344553516896],\"y\":[0.19620971057088019],\"z\":[0.037110899443853804],\"type\":\"scatter3d\"},{\"marker\":{\"color\":\"#40b9d4\",\"size\":5},\"mode\":\"markers\",\"name\":\"LAMTOR1\",\"text\":\"LAMTOR1\",\"x\":[-0.062514896319448],\"y\":[-0.7574986676887879],\"z\":[-0.6925219100421159],\"type\":\"scatter3d\"},{\"marker\":{\"color\":\"#40b9d4\",\"size\":5},\"mode\":\"markers\",\"name\":\"CLNS1A\",\"text\":\"CLNS1A\",\"x\":[0.37784556308196193],\"y\":[0.9224017033282483],\"z\":[-0.012060795450071703],\"type\":\"scatter3d\"},{\"marker\":{\"color\":\"#40b9d4\",\"size\":5},\"mode\":\"markers\",\"name\":\"CASP4\",\"text\":\"CASP4\",\"x\":[0.6764821545487207],\"y\":[-0.5233071429068714],\"z\":[-0.5562249219527539],\"type\":\"scatter3d\"},{\"marker\":{\"color\":\"#40b9d4\",\"size\":5},\"mode\":\"markers\",\"name\":\"MRPL51\",\"text\":\"MRPL51\",\"x\":[-0.7237889061455263],\"y\":[0.7972026815003361],\"z\":[-0.0375802858897804],\"type\":\"scatter3d\"},{\"marker\":{\"color\":\"#40b9d4\",\"size\":5},\"mode\":\"markers\",\"name\":\"TMBIM6\",\"text\":\"TMBIM6\",\"x\":[-0.6864025851816036],\"y\":[-0.10676244919636194],\"z\":[0.7900995314088385],\"type\":\"scatter3d\"},{\"marker\":{\"color\":\"#40b9d4\",\"size\":5},\"mode\":\"markers\",\"name\":\"BLOC1S1\",\"text\":\"BLOC1S1\",\"x\":[-0.8971784466906363],\"y\":[0.5095627307848951],\"z\":[-0.13968238885352532],\"type\":\"scatter3d\"},{\"marker\":{\"color\":\"#40b9d4\",\"size\":5},\"mode\":\"markers\",\"name\":\"TMBIM4-1\",\"text\":\"TMBIM4-1\",\"x\":[0.9079368288187777],\"y\":[0.24735620473650577],\"z\":[-0.3954949331773025],\"type\":\"scatter3d\"},{\"marker\":{\"color\":\"#40b9d4\",\"size\":5},\"mode\":\"markers\",\"name\":\"LINC00936\",\"text\":\"LINC00936\",\"x\":[0.01515367083300874],\"y\":[-0.009149744219370464],\"z\":[0.10593198164460398],\"type\":\"scatter3d\"},{\"marker\":{\"color\":\"#40b9d4\",\"size\":5},\"mode\":\"markers\",\"name\":\"NDUFA12\",\"text\":\"NDUFA12\",\"x\":[-0.678455649053569],\"y\":[0.44791468828653985],\"z\":[0.4901604835962238],\"type\":\"scatter3d\"},{\"marker\":{\"color\":\"#40b9d4\",\"size\":5},\"mode\":\"markers\",\"name\":\"OAS1\",\"text\":\"OAS1\",\"x\":[-0.8627659639087444],\"y\":[-0.045447619977077684],\"z\":[0.6061967235382909],\"type\":\"scatter3d\"},{\"marker\":{\"color\":\"#40b9d4\",\"size\":5},\"mode\":\"markers\",\"name\":\"DYNLL1\",\"text\":\"DYNLL1\",\"x\":[-0.6488266374270797],\"y\":[0.49618129051514887],\"z\":[-0.6796286306230651],\"type\":\"scatter3d\"},{\"marker\":{\"color\":\"#40b9d4\",\"size\":5},\"mode\":\"markers\",\"name\":\"RILPL2\",\"text\":\"RILPL2\",\"x\":[-0.3159088301459175],\"y\":[0.8605786469298687],\"z\":[0.412712851455443],\"type\":\"scatter3d\"},{\"marker\":{\"color\":\"#40b9d4\",\"size\":5},\"mode\":\"markers\",\"name\":\"MRP63\",\"text\":\"MRP63\",\"x\":[0.886928605309683],\"y\":[-0.4774101109424853],\"z\":[0.08870851150237749],\"type\":\"scatter3d\"},{\"marker\":{\"color\":\"#40b9d4\",\"size\":5},\"mode\":\"markers\",\"name\":\"GTF3A\",\"text\":\"GTF3A\",\"x\":[0.5253356293531002],\"y\":[0.4652450637758927],\"z\":[-0.792034147616745],\"type\":\"scatter3d\"},{\"marker\":{\"color\":\"#40b9d4\",\"size\":5},\"mode\":\"markers\",\"name\":\"TNFSF13B\",\"text\":\"TNFSF13B\",\"x\":[0.2642864646320495],\"y\":[-0.12972625312265254],\"z\":[-0.905611765024612],\"type\":\"scatter3d\"},{\"marker\":{\"color\":\"#40b9d4\",\"size\":5},\"mode\":\"markers\",\"name\":\"PSME1\",\"text\":\"PSME1\",\"x\":[-0.2508543716093619],\"y\":[-0.5284338504912698],\"z\":[-0.8663791222177865],\"type\":\"scatter3d\"},{\"marker\":{\"color\":\"#40b9d4\",\"size\":5},\"mode\":\"markers\",\"name\":\"CHMP4A\",\"text\":\"CHMP4A\",\"x\":[-0.4950236208052939],\"y\":[-0.5998024572187616],\"z\":[0.7086498373882235],\"type\":\"scatter3d\"},{\"marker\":{\"color\":\"#40b9d4\",\"size\":5},\"mode\":\"markers\",\"name\":\"GZMH\",\"text\":\"GZMH\",\"x\":[-0.1611267796672495],\"y\":[0.09027544241926778],\"z\":[-0.09226874399397815],\"type\":\"scatter3d\"},{\"marker\":{\"color\":\"#40b9d4\",\"size\":5},\"mode\":\"markers\",\"name\":\"GZMB\",\"text\":\"GZMB\",\"x\":[-0.13487317920162104],\"y\":[0.09741823240255776],\"z\":[-0.08663978041335776],\"type\":\"scatter3d\"},{\"marker\":{\"color\":\"#40b9d4\",\"size\":5},\"mode\":\"markers\",\"name\":\"ARF6\",\"text\":\"ARF6\",\"x\":[0.029045018270101156],\"y\":[-0.784095242625121],\"z\":[0.5177520222785418],\"type\":\"scatter3d\"},{\"marker\":{\"color\":\"#40b9d4\",\"size\":5},\"mode\":\"markers\",\"name\":\"C14orf166\",\"text\":\"C14orf166\",\"x\":[-0.749986832899273],\"y\":[0.48511902063999024],\"z\":[0.4984285181961538],\"type\":\"scatter3d\"},{\"marker\":{\"color\":\"#40b9d4\",\"size\":5},\"mode\":\"markers\",\"name\":\"LGALS3\",\"text\":\"LGALS3\",\"x\":[-0.48679762623977596],\"y\":[0.6767134504649733],\"z\":[-0.5332942267785081],\"type\":\"scatter3d\"},{\"marker\":{\"color\":\"#40b9d4\",\"size\":5},\"mode\":\"markers\",\"name\":\"ERH\",\"text\":\"ERH\",\"x\":[-0.736291248667161],\"y\":[0.6772686923438449],\"z\":[-0.5053255066151452],\"type\":\"scatter3d\"},{\"marker\":{\"color\":\"#40b9d4\",\"size\":5},\"mode\":\"markers\",\"name\":\"SRSF5\",\"text\":\"SRSF5\",\"x\":[0.7496878524281863],\"y\":[0.7160393148635152],\"z\":[0.35731583771586595],\"type\":\"scatter3d\"},{\"marker\":{\"color\":\"#40b9d4\",\"size\":5},\"mode\":\"markers\",\"name\":\"NPC2\",\"text\":\"NPC2\",\"x\":[0.21310127680504734],\"y\":[0.05684542416750784],\"z\":[-0.013027513167149151],\"type\":\"scatter3d\"},{\"marker\":{\"color\":\"#40b9d4\",\"size\":5},\"mode\":\"markers\",\"name\":\"TCL1A\",\"text\":\"TCL1A\",\"x\":[0.12040787387322034],\"y\":[-0.0059124989563249],\"z\":[-0.04421346700464587],\"type\":\"scatter3d\"},{\"marker\":{\"color\":\"#40b9d4\",\"size\":5},\"mode\":\"markers\",\"name\":\"HSP90AA1\",\"text\":\"HSP90AA1\",\"x\":[-0.09481331576445463],\"y\":[-0.22710271890101189],\"z\":[-0.9912254557176355],\"type\":\"scatter3d\"},{\"marker\":{\"color\":\"#40b9d4\",\"size\":5},\"mode\":\"markers\",\"name\":\"EIF5\",\"text\":\"EIF5\",\"x\":[-0.8766602469113176],\"y\":[-0.25876014234303707],\"z\":[0.06575280697629503],\"type\":\"scatter3d\"},{\"marker\":{\"color\":\"#40b9d4\",\"size\":5},\"mode\":\"markers\",\"name\":\"SIVA1\",\"text\":\"SIVA1\",\"x\":[-0.9049563656408892],\"y\":[0.36968119384431347],\"z\":[0.3784331621711768],\"type\":\"scatter3d\"},{\"marker\":{\"color\":\"#40b9d4\",\"size\":5},\"mode\":\"markers\",\"name\":\"PDIA3\",\"text\":\"PDIA3\",\"x\":[-0.8406307334079819],\"y\":[0.0578693597624284],\"z\":[0.5126194532324793],\"type\":\"scatter3d\"},{\"marker\":{\"color\":\"#40b9d4\",\"size\":5},\"mode\":\"markers\",\"name\":\"IDH2\",\"text\":\"IDH2\",\"x\":[0.8303589434644975],\"y\":[-0.018883724620461638],\"z\":[0.5258088242794983],\"type\":\"scatter3d\"},{\"marker\":{\"color\":\"#40b9d4\",\"size\":5},\"mode\":\"markers\",\"name\":\"C16orf13\",\"text\":\"C16orf13\",\"x\":[-0.37297093002022164],\"y\":[0.0369873323723612],\"z\":[-0.9138011377420365],\"type\":\"scatter3d\"},{\"marker\":{\"color\":\"#40b9d4\",\"size\":5},\"mode\":\"markers\",\"name\":\"STUB1\",\"text\":\"STUB1\",\"x\":[0.10835052684941522],\"y\":[0.7831085297263919],\"z\":[-0.6680893771093055],\"type\":\"scatter3d\"},{\"marker\":{\"color\":\"#40b9d4\",\"size\":5},\"mode\":\"markers\",\"name\":\"NDUFB10\",\"text\":\"NDUFB10\",\"x\":[0.11196736366324625],\"y\":[0.5326351888796612],\"z\":[0.9164762817684544],\"type\":\"scatter3d\"},{\"marker\":{\"color\":\"#40b9d4\",\"size\":5},\"mode\":\"markers\",\"name\":\"IL32\",\"text\":\"IL32\",\"x\":[-0.2652183744165517],\"y\":[0.16079500185280818],\"z\":[-0.16295445775555925],\"type\":\"scatter3d\"},{\"marker\":{\"color\":\"#40b9d4\",\"size\":5},\"mode\":\"markers\",\"name\":\"LITAF\",\"text\":\"LITAF\",\"x\":[-0.381344849961348],\"y\":[0.367323820940191],\"z\":[0.8975226826888839],\"type\":\"scatter3d\"},{\"marker\":{\"color\":\"#40b9d4\",\"size\":5},\"mode\":\"markers\",\"name\":\"TMEM219\",\"text\":\"TMEM219\",\"x\":[-0.11118358537658302],\"y\":[0.4872862836720204],\"z\":[-0.9062288607140484],\"type\":\"scatter3d\"},{\"marker\":{\"color\":\"#40b9d4\",\"size\":5},\"mode\":\"markers\",\"name\":\"FUS\",\"text\":\"FUS\",\"x\":[0.6643227503163581],\"y\":[0.7738940620563678],\"z\":[-0.4093689043569908],\"type\":\"scatter3d\"},{\"marker\":{\"color\":\"#40b9d4\",\"size\":5},\"mode\":\"markers\",\"name\":\"PYCARD\",\"text\":\"PYCARD\",\"x\":[0.2111476960115581],\"y\":[0.036948648044249084],\"z\":[-0.05754681688210982],\"type\":\"scatter3d\"},{\"marker\":{\"color\":\"#40b9d4\",\"size\":5},\"mode\":\"markers\",\"name\":\"FAM96B\",\"text\":\"FAM96B\",\"x\":[0.11279693677262527],\"y\":[0.9092279581846022],\"z\":[0.4351895401121156],\"type\":\"scatter3d\"},{\"marker\":{\"color\":\"#40b9d4\",\"size\":5},\"mode\":\"markers\",\"name\":\"GABARAPL2\",\"text\":\"GABARAPL2\",\"x\":[0.19565805036795092],\"y\":[-0.4553758599956709],\"z\":[-0.8664677347750411],\"type\":\"scatter3d\"},{\"marker\":{\"color\":\"#40b9d4\",\"size\":5},\"mode\":\"markers\",\"name\":\"KARS\",\"text\":\"KARS\",\"x\":[0.8890303945463457],\"y\":[0.05855865414311957],\"z\":[-0.40908775259713986],\"type\":\"scatter3d\"},{\"marker\":{\"color\":\"#40b9d4\",\"size\":5},\"mode\":\"markers\",\"name\":\"TERF2IP\",\"text\":\"TERF2IP\",\"x\":[0.31666028876383495],\"y\":[-0.9318519627828],\"z\":[-0.1306399528255789],\"type\":\"scatter3d\"},{\"marker\":{\"color\":\"#40b9d4\",\"size\":5},\"mode\":\"markers\",\"name\":\"COTL1\",\"text\":\"COTL1\",\"x\":[0.38290210779128453],\"y\":[-0.8516405052824224],\"z\":[0.4533815129552378],\"type\":\"scatter3d\"},{\"marker\":{\"color\":\"#40b9d4\",\"size\":5},\"mode\":\"markers\",\"name\":\"CYBA\",\"text\":\"CYBA\",\"x\":[0.03708852689139484],\"y\":[0.22659093425689247],\"z\":[0.0022846624704914186],\"type\":\"scatter3d\"},{\"marker\":{\"color\":\"#40b9d4\",\"size\":5},\"mode\":\"markers\",\"name\":\"ARRB2\",\"text\":\"ARRB2\",\"x\":[-0.5494432336498216],\"y\":[0.8571413234020738],\"z\":[-0.20992705374760173],\"type\":\"scatter3d\"},{\"marker\":{\"color\":\"#40b9d4\",\"size\":5},\"mode\":\"markers\",\"name\":\"PSMB6\",\"text\":\"PSMB6\",\"x\":[0.38557718688173986],\"y\":[-0.16826419067673004],\"z\":[0.9225878394158536],\"type\":\"scatter3d\"},{\"marker\":{\"color\":\"#40b9d4\",\"size\":5},\"mode\":\"markers\",\"name\":\"ACAP1\",\"text\":\"ACAP1\",\"x\":[0.1069075793000502],\"y\":[0.6894830753011456],\"z\":[0.7938450727506668],\"type\":\"scatter3d\"},{\"marker\":{\"color\":\"#40b9d4\",\"size\":5},\"mode\":\"markers\",\"name\":\"UBB\",\"text\":\"UBB\",\"x\":[-0.29950296765260576],\"y\":[-0.6703928553433435],\"z\":[0.7817786640077938],\"type\":\"scatter3d\"},{\"marker\":{\"color\":\"#40b9d4\",\"size\":5},\"mode\":\"markers\",\"name\":\"CCL5\",\"text\":\"CCL5\",\"x\":[-0.16724457082220195],\"y\":[0.13741593182785639],\"z\":[-0.1085865549195706],\"type\":\"scatter3d\"},{\"marker\":{\"color\":\"#40b9d4\",\"size\":5},\"mode\":\"markers\",\"name\":\"CCL3\",\"text\":\"CCL3\",\"x\":[-0.028048667578896503],\"y\":[0.03983458579804452],\"z\":[0.051966205178053455],\"type\":\"scatter3d\"},{\"marker\":{\"color\":\"#40b9d4\",\"size\":5},\"mode\":\"markers\",\"name\":\"CCL4\",\"text\":\"CCL4\",\"x\":[-0.13780829411703482],\"y\":[0.09428978556397044],\"z\":[-0.12372746337829771],\"type\":\"scatter3d\"},{\"marker\":{\"color\":\"#40b9d4\",\"size\":5},\"mode\":\"markers\",\"name\":\"IFI35\",\"text\":\"IFI35\",\"x\":[-0.05222104167526152],\"y\":[0.7654098454040851],\"z\":[-0.7562499822137904],\"type\":\"scatter3d\"},{\"marker\":{\"color\":\"#40b9d4\",\"size\":5},\"mode\":\"markers\",\"name\":\"GRN\",\"text\":\"GRN\",\"x\":[0.20514282160418104],\"y\":[0.01796492296525532],\"z\":[0.015450015136121192],\"type\":\"scatter3d\"},{\"marker\":{\"color\":\"#40b9d4\",\"size\":5},\"mode\":\"markers\",\"name\":\"ABI3\",\"text\":\"ABI3\",\"x\":[-0.06936015009073987],\"y\":[0.05181479866928957],\"z\":[-0.03777092835194996],\"type\":\"scatter3d\"},{\"marker\":{\"color\":\"#40b9d4\",\"size\":5},\"mode\":\"markers\",\"name\":\"LIMD2\",\"text\":\"LIMD2\",\"x\":[-0.12209663606371146],\"y\":[-0.8680191211874301],\"z\":[-0.5898699373284103],\"type\":\"scatter3d\"},{\"marker\":{\"color\":\"#40b9d4\",\"size\":5},\"mode\":\"markers\",\"name\":\"PSMC5\",\"text\":\"PSMC5\",\"x\":[0.8714341567409808],\"y\":[0.1461012977843262],\"z\":[0.39995169835494326],\"type\":\"scatter3d\"},{\"marker\":{\"color\":\"#40b9d4\",\"size\":5},\"mode\":\"markers\",\"name\":\"CD79B\",\"text\":\"CD79B\",\"x\":[0.13038293832626793],\"y\":[0.010540906269999487],\"z\":[0.00956748081962208],\"type\":\"scatter3d\"},{\"marker\":{\"color\":\"#40b9d4\",\"size\":5},\"mode\":\"markers\",\"name\":\"ICAM2\",\"text\":\"ICAM2\",\"x\":[0.7324570543180574],\"y\":[-0.6448027831199595],\"z\":[-0.26661979265192143],\"type\":\"scatter3d\"},{\"marker\":{\"color\":\"#40b9d4\",\"size\":5},\"mode\":\"markers\",\"name\":\"ATP5H\",\"text\":\"ATP5H\",\"x\":[0.980424025926332],\"y\":[0.004452716086536877],\"z\":[-0.18011695220336182],\"type\":\"scatter3d\"},{\"marker\":{\"color\":\"#40b9d4\",\"size\":5},\"mode\":\"markers\",\"name\":\"RNF213\",\"text\":\"RNF213\",\"x\":[-0.29806786399445095],\"y\":[0.79468461563369],\"z\":[0.6017519241456043],\"type\":\"scatter3d\"},{\"marker\":{\"color\":\"#40b9d4\",\"size\":5},\"mode\":\"markers\",\"name\":\"ARHGDIA\",\"text\":\"ARHGDIA\",\"x\":[0.42510693430837376],\"y\":[0.7059672859965999],\"z\":[-0.6333643826797782],\"type\":\"scatter3d\"},{\"marker\":{\"color\":\"#40b9d4\",\"size\":5},\"mode\":\"markers\",\"name\":\"VAPA\",\"text\":\"VAPA\",\"x\":[-0.7756627480259881],\"y\":[0.20196548633891742],\"z\":[-0.7120068135368872],\"type\":\"scatter3d\"},{\"marker\":{\"color\":\"#40b9d4\",\"size\":5},\"mode\":\"markers\",\"name\":\"ATP5A1\",\"text\":\"ATP5A1\",\"x\":[0.5141018004202071],\"y\":[-0.7558711883697796],\"z\":[-0.5589699437846782],\"type\":\"scatter3d\"},{\"marker\":{\"color\":\"#40b9d4\",\"size\":5},\"mode\":\"markers\",\"name\":\"RBCK1\",\"text\":\"RBCK1\",\"x\":[-0.8005784560004302],\"y\":[0.6489094840808987],\"z\":[-0.07744520536431337],\"type\":\"scatter3d\"},{\"marker\":{\"color\":\"#40b9d4\",\"size\":5},\"mode\":\"markers\",\"name\":\"SNRPB\",\"text\":\"SNRPB\",\"x\":[0.5072567595354217],\"y\":[0.7158495648638707],\"z\":[0.6970397335951901],\"type\":\"scatter3d\"},{\"marker\":{\"color\":\"#40b9d4\",\"size\":5},\"mode\":\"markers\",\"name\":\"CST3\",\"text\":\"CST3\",\"x\":[0.1262163839697803],\"y\":[0.12282365465857938],\"z\":[-0.02060168358417105],\"type\":\"scatter3d\"},{\"marker\":{\"color\":\"#40b9d4\",\"size\":5},\"mode\":\"markers\",\"name\":\"CST7\",\"text\":\"CST7\",\"x\":[-0.1695919413072687],\"y\":[0.13422564690251915],\"z\":[-0.08719144457207503],\"type\":\"scatter3d\"},{\"marker\":{\"color\":\"#40b9d4\",\"size\":5},\"mode\":\"markers\",\"name\":\"RALY\",\"text\":\"RALY\",\"x\":[0.12184318441885425],\"y\":[0.9912618053001577],\"z\":[0.07181390599484795],\"type\":\"scatter3d\"},{\"marker\":{\"color\":\"#40b9d4\",\"size\":5},\"mode\":\"markers\",\"name\":\"RBM39\",\"text\":\"RBM39\",\"x\":[-0.16665868248577806],\"y\":[0.2054508167783014],\"z\":[0.9801043745443274],\"type\":\"scatter3d\"},{\"marker\":{\"color\":\"#40b9d4\",\"size\":5},\"mode\":\"markers\",\"name\":\"RPN2\",\"text\":\"RPN2\",\"x\":[0.8088457379963625],\"y\":[-0.06880174740213811],\"z\":[0.38709827364211385],\"type\":\"scatter3d\"},{\"marker\":{\"color\":\"#40b9d4\",\"size\":5},\"mode\":\"markers\",\"name\":\"YWHAB\",\"text\":\"YWHAB\",\"x\":[0.8472685137208076],\"y\":[-0.17333864171061145],\"z\":[-0.5571665973824856],\"type\":\"scatter3d\"},{\"marker\":{\"color\":\"#40b9d4\",\"size\":5},\"mode\":\"markers\",\"name\":\"CEBPB\",\"text\":\"CEBPB\",\"x\":[0.7139054265819685],\"y\":[-0.44408616928313127],\"z\":[0.5962218654753401],\"type\":\"scatter3d\"},{\"marker\":{\"color\":\"#40b9d4\",\"size\":5},\"mode\":\"markers\",\"name\":\"RTFDC1\",\"text\":\"RTFDC1\",\"x\":[0.6624133136376873],\"y\":[0.5641212352905606],\"z\":[0.6025832416600394],\"type\":\"scatter3d\"},{\"marker\":{\"color\":\"#40b9d4\",\"size\":5},\"mode\":\"markers\",\"name\":\"PSMA7\",\"text\":\"PSMA7\",\"x\":[-0.5832965482625049],\"y\":[-0.7809147699082776],\"z\":[0.22975698056446858],\"type\":\"scatter3d\"},{\"marker\":{\"color\":\"#40b9d4\",\"size\":5},\"mode\":\"markers\",\"name\":\"RGS19\",\"text\":\"RGS19\",\"x\":[-0.4854699598795222],\"y\":[-0.3346412752926221],\"z\":[-0.8480773559843299],\"type\":\"scatter3d\"},{\"marker\":{\"color\":\"#40b9d4\",\"size\":5},\"mode\":\"markers\",\"name\":\"ATP5D\",\"text\":\"ATP5D\",\"x\":[0.1335485452809438],\"y\":[0.5206758837651287],\"z\":[-0.8409881856667699],\"type\":\"scatter3d\"},{\"marker\":{\"color\":\"#40b9d4\",\"size\":5},\"mode\":\"markers\",\"name\":\"GADD45B\",\"text\":\"GADD45B\",\"x\":[-0.5334906583867451],\"y\":[0.7041039574504216],\"z\":[0.6232550951767217],\"type\":\"scatter3d\"},{\"marker\":{\"color\":\"#40b9d4\",\"size\":5},\"mode\":\"markers\",\"name\":\"ALKBH7\",\"text\":\"ALKBH7\",\"x\":[0.2653662814841806],\"y\":[-0.9525773894295241],\"z\":[0.2265392367150904],\"type\":\"scatter3d\"},{\"marker\":{\"color\":\"#40b9d4\",\"size\":5},\"mode\":\"markers\",\"name\":\"HNRNPM\",\"text\":\"HNRNPM\",\"x\":[-0.8125252392279493],\"y\":[-0.6433813624778741],\"z\":[-0.2002414371052033],\"type\":\"scatter3d\"},{\"marker\":{\"color\":\"#40b9d4\",\"size\":5},\"mode\":\"markers\",\"name\":\"CDC37\",\"text\":\"CDC37\",\"x\":[-0.8664300936570141],\"y\":[0.23957647236968105],\"z\":[-0.4491561648916439],\"type\":\"scatter3d\"},{\"marker\":{\"color\":\"#40b9d4\",\"size\":5},\"mode\":\"markers\",\"name\":\"IFI30\",\"text\":\"IFI30\",\"x\":[0.2471587950788968],\"y\":[0.8718192951196096],\"z\":[0.5642167655485991],\"type\":\"scatter3d\"},{\"marker\":{\"color\":\"#40b9d4\",\"size\":5},\"mode\":\"markers\",\"name\":\"TYROBP\",\"text\":\"TYROBP\",\"x\":[0.011001000512443826],\"y\":[0.04632370292651353],\"z\":[0.02835835215462654],\"type\":\"scatter3d\"},{\"marker\":{\"color\":\"#40b9d4\",\"size\":5},\"mode\":\"markers\",\"name\":\"TBCB\",\"text\":\"TBCB\",\"x\":[-0.5669960872022498],\"y\":[0.3683577084949977],\"z\":[0.836264671635394],\"type\":\"scatter3d\"},{\"marker\":{\"color\":\"#40b9d4\",\"size\":5},\"mode\":\"markers\",\"name\":\"CD79A\",\"text\":\"CD79A\",\"x\":[0.158464381941158],\"y\":[0.04838278573428305],\"z\":[-0.0351805381983074],\"type\":\"scatter3d\"},{\"marker\":{\"color\":\"#40b9d4\",\"size\":5},\"mode\":\"markers\",\"name\":\"CD37\",\"text\":\"CD37\",\"x\":[0.1540466887074782],\"y\":[0.046723083146598995],\"z\":[-0.07320216562116626],\"type\":\"scatter3d\"},{\"marker\":{\"color\":\"#40b9d4\",\"size\":5},\"mode\":\"markers\",\"name\":\"FCGRT\",\"text\":\"FCGRT\",\"x\":[-0.45050558692414966],\"y\":[-0.7375638340440781],\"z\":[-0.6578908249387858],\"type\":\"scatter3d\"},{\"marker\":{\"color\":\"#40b9d4\",\"size\":5},\"mode\":\"markers\",\"name\":\"NKG7\",\"text\":\"NKG7\",\"x\":[-0.12148986019059015],\"y\":[0.1955002426463685],\"z\":[-0.09997517392508123],\"type\":\"scatter3d\"},{\"marker\":{\"color\":\"#40b9d4\",\"size\":5},\"mode\":\"markers\",\"name\":\"MYADM\",\"text\":\"MYADM\",\"x\":[0.43843332284646086],\"y\":[-0.3920427068113326],\"z\":[-0.8068793470946954],\"type\":\"scatter3d\"},{\"marker\":{\"color\":\"#40b9d4\",\"size\":5},\"mode\":\"markers\",\"name\":\"IGLL5\",\"text\":\"IGLL5\",\"x\":[-0.7495978959121418],\"y\":[-0.33299769015191427],\"z\":[0.6691443645337728],\"type\":\"scatter3d\"},{\"marker\":{\"color\":\"#40b9d4\",\"size\":5},\"mode\":\"markers\",\"name\":\"DDT\",\"text\":\"DDT\",\"x\":[0.003890609683101048],\"y\":[0.29918963827795225],\"z\":[-0.9691167985715167],\"type\":\"scatter3d\"},{\"marker\":{\"color\":\"#40b9d4\",\"size\":5},\"mode\":\"markers\",\"name\":\"EWSR1\",\"text\":\"EWSR1\",\"x\":[-0.06692446917576225],\"y\":[-0.6890834879033915],\"z\":[0.7701919631376667],\"type\":\"scatter3d\"},{\"marker\":{\"color\":\"#40b9d4\",\"size\":5},\"mode\":\"markers\",\"name\":\"EIF3D\",\"text\":\"EIF3D\",\"x\":[-0.8314989192910847],\"y\":[-0.15329324860586066],\"z\":[-0.597142864722728],\"type\":\"scatter3d\"},{\"marker\":{\"color\":\"#40b9d4\",\"size\":5},\"mode\":\"markers\",\"name\":\"LGALS2\",\"text\":\"LGALS2\",\"x\":[0.13114896965505574],\"y\":[0.13232592882713537],\"z\":[0.027159736909860458],\"type\":\"scatter3d\"},{\"marker\":{\"color\":\"#40b9d4\",\"size\":5},\"mode\":\"markers\",\"name\":\"LGALS1\",\"text\":\"LGALS1\",\"x\":[0.014873919892661944],\"y\":[0.20195300811411315],\"z\":[-0.022498680701271156],\"type\":\"scatter3d\"},{\"marker\":{\"color\":\"#40b9d4\",\"size\":5},\"mode\":\"markers\",\"name\":\"APOBEC3A\",\"text\":\"APOBEC3A\",\"x\":[0.52122956201712],\"y\":[-0.34426369627503245],\"z\":[0.7391327461657605],\"type\":\"scatter3d\"},{\"marker\":{\"color\":\"#40b9d4\",\"size\":5},\"mode\":\"markers\",\"name\":\"APOBEC3G\",\"text\":\"APOBEC3G\",\"x\":[-0.18123859219720018],\"y\":[0.25085802361820575],\"z\":[-0.11136570870863866],\"type\":\"scatter3d\"},{\"marker\":{\"color\":\"#40b9d4\",\"size\":5},\"mode\":\"markers\",\"name\":\"RPS19BP1\",\"text\":\"RPS19BP1\",\"x\":[-0.0986934569657364],\"y\":[0.9002680117698552],\"z\":[-0.5724529905340295],\"type\":\"scatter3d\"},{\"marker\":{\"color\":\"#40b9d4\",\"size\":5},\"mode\":\"markers\",\"name\":\"SMDT1\",\"text\":\"SMDT1\",\"x\":[-0.6621718980829846],\"y\":[-0.7950279459734408],\"z\":[-0.0625661920340339],\"type\":\"scatter3d\"},{\"marker\":{\"color\":\"#40b9d4\",\"size\":5},\"mode\":\"markers\",\"name\":\"TYMP\",\"text\":\"TYMP\",\"x\":[0.08986750121253315],\"y\":[0.10000515478751154],\"z\":[-0.04374113465328995],\"type\":\"scatter3d\"},{\"marker\":{\"color\":\"#40b9d4\",\"size\":5},\"mode\":\"markers\",\"name\":\"ATP5O\",\"text\":\"ATP5O\",\"x\":[-0.9170575068824469],\"y\":[0.4143417506526553],\"z\":[-0.35264100135964815],\"type\":\"scatter3d\"},{\"marker\":{\"color\":\"#40b9d4\",\"size\":5},\"mode\":\"markers\",\"name\":\"SUMO3\",\"text\":\"SUMO3\",\"x\":[0.5276752019364057],\"y\":[-0.8439974227201463],\"z\":[0.19598587872045112],\"type\":\"scatter3d\"},{\"marker\":{\"color\":\"#40b9d4\",\"size\":5},\"mode\":\"markers\",\"name\":\"PRMT2\",\"text\":\"PRMT2\",\"x\":[0.39962441605799043],\"y\":[-0.03895810840859503],\"z\":[-0.9272684662407623],\"type\":\"scatter3d\"},{\"hoverinfo\":\"none\",\"line\":{\"color\":\"gray\",\"width\":1},\"mode\":\"lines\",\"x\":[-0.02100020817109983,0.0002812933700494894],\"y\":[-0.0030840874564664424,0.05613840295054213],\"z\":[0.006458155457373271,-0.0103894986793164],\"type\":\"scatter3d\"},{\"hoverinfo\":\"none\",\"line\":{\"color\":\"gray\",\"width\":1},\"mode\":\"lines\",\"x\":[-0.02100020817109983,0.011001000512443826],\"y\":[-0.0030840874564664424,0.04632370292651353],\"z\":[0.006458155457373271,0.02835835215462654],\"type\":\"scatter3d\"},{\"hoverinfo\":\"none\",\"line\":{\"color\":\"gray\",\"width\":1},\"mode\":\"lines\",\"x\":[-0.3197504540103644,-0.2652183744165517],\"y\":[0.16972866153372107,0.16079500185280818],\"z\":[-0.21166592242386198,-0.16295445775555925],\"type\":\"scatter3d\"},{\"hoverinfo\":\"none\",\"line\":{\"color\":\"gray\",\"width\":1},\"mode\":\"lines\",\"x\":[0.15772071906954335,0.11877050731451994],\"y\":[0.0047426150462425406,0.05368613919061708],\"z\":[-0.029164499644509005,-0.018334373143696892],\"type\":\"scatter3d\"},{\"hoverinfo\":\"none\",\"line\":{\"color\":\"gray\",\"width\":1},\"mode\":\"lines\",\"x\":[0.15772071906954335,0.10130684881889998],\"y\":[0.0047426150462425406,0.044789665350487964],\"z\":[-0.029164499644509005,-0.026435860531913196],\"type\":\"scatter3d\"},{\"hoverinfo\":\"none\",\"line\":{\"color\":\"gray\",\"width\":1},\"mode\":\"lines\",\"x\":[0.05762362806811481,0.02865901080140797],\"y\":[0.20799318983261153,0.13569359463664157],\"z\":[-0.03045356814441996,-0.011693309145599774],\"type\":\"scatter3d\"},{\"hoverinfo\":\"none\",\"line\":{\"color\":\"gray\",\"width\":1},\"mode\":\"lines\",\"x\":[0.051761032547639904,0.02865901080140797],\"y\":[0.20652101311048995,0.13569359463664157],\"z\":[0.03448689501401758,-0.011693309145599774],\"type\":\"scatter3d\"},{\"hoverinfo\":\"none\",\"line\":{\"color\":\"gray\",\"width\":1},\"mode\":\"lines\",\"x\":[0.02343435184106975,0.02865901080140797],\"y\":[0.18730987166536295,0.13569359463664157],\"z\":[0.05647057558639553,-0.011693309145599774],\"type\":\"scatter3d\"},{\"hoverinfo\":\"none\",\"line\":{\"color\":\"gray\",\"width\":1},\"mode\":\"lines\",\"x\":[0.0002812933700494894,-0.0869770390475698],\"y\":[0.05613840295054213,0.10058421818871423],\"z\":[-0.0103894986793164,-0.06078714796977441],\"type\":\"scatter3d\"},{\"hoverinfo\":\"none\",\"line\":{\"color\":\"gray\",\"width\":1},\"mode\":\"lines\",\"x\":[0.0002812933700494894,0.11877050731451994],\"y\":[0.05613840295054213,0.05368613919061708],\"z\":[-0.0103894986793164,-0.018334373143696892],\"type\":\"scatter3d\"},{\"hoverinfo\":\"none\",\"line\":{\"color\":\"gray\",\"width\":1},\"mode\":\"lines\",\"x\":[0.0002812933700494894,0.10130684881889998],\"y\":[0.05613840295054213,0.044789665350487964],\"z\":[-0.0103894986793164,-0.026435860531913196],\"type\":\"scatter3d\"},{\"hoverinfo\":\"none\",\"line\":{\"color\":\"gray\",\"width\":1},\"mode\":\"lines\",\"x\":[0.0002812933700494894,-0.0014976047881453205],\"y\":[0.05613840295054213,-0.0020231800880069093],\"z\":[-0.0103894986793164,0.029577088679010512],\"type\":\"scatter3d\"},{\"hoverinfo\":\"none\",\"line\":{\"color\":\"gray\",\"width\":1},\"mode\":\"lines\",\"x\":[0.0002812933700494894,-0.03651661926771874],\"y\":[0.05613840295054213,0.01862304440746154],\"z\":[-0.0103894986793164,0.03059882510520432],\"type\":\"scatter3d\"},{\"hoverinfo\":\"none\",\"line\":{\"color\":\"gray\",\"width\":1},\"mode\":\"lines\",\"x\":[0.0002812933700494894,0.02865901080140797],\"y\":[0.05613840295054213,0.13569359463664157],\"z\":[-0.0103894986793164,-0.011693309145599774],\"type\":\"scatter3d\"},{\"hoverinfo\":\"none\",\"line\":{\"color\":\"gray\",\"width\":1},\"mode\":\"lines\",\"x\":[0.0002812933700494894,-0.028048667578896503],\"y\":[0.05613840295054213,0.03983458579804452],\"z\":[-0.0103894986793164,0.051966205178053455],\"type\":\"scatter3d\"},{\"hoverinfo\":\"none\",\"line\":{\"color\":\"gray\",\"width\":1},\"mode\":\"lines\",\"x\":[0.0002812933700494894,-0.06936015009073987],\"y\":[0.05613840295054213,0.05181479866928957],\"z\":[-0.0103894986793164,-0.03777092835194996],\"type\":\"scatter3d\"},{\"hoverinfo\":\"none\",\"line\":{\"color\":\"gray\",\"width\":1},\"mode\":\"lines\",\"x\":[-0.0869770390475698,-0.11898765456491778],\"y\":[0.10058421818871423,0.12080938076512475],\"z\":[-0.06078714796977441,-0.11810185205441773],\"type\":\"scatter3d\"},{\"hoverinfo\":\"none\",\"line\":{\"color\":\"gray\",\"width\":1},\"mode\":\"lines\",\"x\":[-0.0869770390475698,-0.14251057758782779],\"y\":[0.10058421818871423,0.13131211657113112],\"z\":[-0.06078714796977441,-0.0622134235037801],\"type\":\"scatter3d\"},{\"hoverinfo\":\"none\",\"line\":{\"color\":\"gray\",\"width\":1},\"mode\":\"lines\",\"x\":[-0.0869770390475698,-0.19065607491556247],\"y\":[0.10058421818871423,0.08526214979876541],\"z\":[-0.06078714796977441,-0.1228507989859067],\"type\":\"scatter3d\"},{\"hoverinfo\":\"none\",\"line\":{\"color\":\"gray\",\"width\":1},\"mode\":\"lines\",\"x\":[-0.0869770390475698,0.02865901080140797],\"y\":[0.10058421818871423,0.13569359463664157],\"z\":[-0.06078714796977441,-0.011693309145599774],\"type\":\"scatter3d\"},{\"hoverinfo\":\"none\",\"line\":{\"color\":\"gray\",\"width\":1},\"mode\":\"lines\",\"x\":[-0.0869770390475698,-0.16003016365703046],\"y\":[0.10058421818871423,0.10554815278448584],\"z\":[-0.06078714796977441,-0.06261687715069435],\"type\":\"scatter3d\"},{\"hoverinfo\":\"none\",\"line\":{\"color\":\"gray\",\"width\":1},\"mode\":\"lines\",\"x\":[-0.0869770390475698,0.027447816786788294],\"y\":[0.10058421818871423,0.07908605856338172],\"z\":[-0.06078714796977441,-0.042314670682017656],\"type\":\"scatter3d\"},{\"hoverinfo\":\"none\",\"line\":{\"color\":\"gray\",\"width\":1},\"mode\":\"lines\",\"x\":[-0.0869770390475698,-0.1611267796672495],\"y\":[0.10058421818871423,0.09027544241926778],\"z\":[-0.06078714796977441,-0.09226874399397815],\"type\":\"scatter3d\"},{\"hoverinfo\":\"none\",\"line\":{\"color\":\"gray\",\"width\":1},\"mode\":\"lines\",\"x\":[-0.0869770390475698,-0.13487317920162104],\"y\":[0.10058421818871423,0.09741823240255776],\"z\":[-0.06078714796977441,-0.08663978041335776],\"type\":\"scatter3d\"},{\"hoverinfo\":\"none\",\"line\":{\"color\":\"gray\",\"width\":1},\"mode\":\"lines\",\"x\":[-0.0869770390475698,-0.13780829411703482],\"y\":[0.10058421818871423,0.09428978556397044],\"z\":[-0.06078714796977441,-0.12372746337829771],\"type\":\"scatter3d\"},{\"hoverinfo\":\"none\",\"line\":{\"color\":\"gray\",\"width\":1},\"mode\":\"lines\",\"x\":[-0.0869770390475698,-0.06936015009073987],\"y\":[0.10058421818871423,0.05181479866928957],\"z\":[-0.06078714796977441,-0.03777092835194996],\"type\":\"scatter3d\"},{\"hoverinfo\":\"none\",\"line\":{\"color\":\"gray\",\"width\":1},\"mode\":\"lines\",\"x\":[-0.0869770390475698,-0.1695919413072687],\"y\":[0.10058421818871423,0.13422564690251915],\"z\":[-0.06078714796977441,-0.08719144457207503],\"type\":\"scatter3d\"},{\"hoverinfo\":\"none\",\"line\":{\"color\":\"gray\",\"width\":1},\"mode\":\"lines\",\"x\":[-0.0869770390475698,0.011001000512443826],\"y\":[0.10058421818871423,0.04632370292651353],\"z\":[-0.06078714796977441,0.02835835215462654],\"type\":\"scatter3d\"},{\"hoverinfo\":\"none\",\"line\":{\"color\":\"gray\",\"width\":1},\"mode\":\"lines\",\"x\":[-0.0869770390475698,-0.12148986019059015],\"y\":[0.10058421818871423,0.1955002426463685],\"z\":[-0.06078714796977441,-0.09997517392508123],\"type\":\"scatter3d\"},{\"hoverinfo\":\"none\",\"line\":{\"color\":\"gray\",\"width\":1},\"mode\":\"lines\",\"x\":[-0.12680346865387482,-0.12148986019059015],\"y\":[0.24174718295841063,0.1955002426463685],\"z\":[-0.1616064098173274,-0.09997517392508123],\"type\":\"scatter3d\"},{\"hoverinfo\":\"none\",\"line\":{\"color\":\"gray\",\"width\":1},\"mode\":\"lines\",\"x\":[-0.1411041676241485,-0.12148986019059015],\"y\":[0.282498533221215,0.1955002426463685],\"z\":[-0.12768433279830355,-0.09997517392508123],\"type\":\"scatter3d\"},{\"hoverinfo\":\"none\",\"line\":{\"color\":\"gray\",\"width\":1},\"mode\":\"lines\",\"x\":[-0.11898765456491778,-0.16724457082220195],\"y\":[0.12080938076512475,0.13741593182785639],\"z\":[-0.11810185205441773,-0.1085865549195706],\"type\":\"scatter3d\"},{\"hoverinfo\":\"none\",\"line\":{\"color\":\"gray\",\"width\":1},\"mode\":\"lines\",\"x\":[-0.1671983681605074,-0.12148986019059015],\"y\":[0.24563608402608947,0.1955002426463685],\"z\":[-0.15653741737268165,-0.09997517392508123],\"type\":\"scatter3d\"},{\"hoverinfo\":\"none\",\"line\":{\"color\":\"gray\",\"width\":1},\"mode\":\"lines\",\"x\":[-0.14251057758782779,-0.16724457082220195],\"y\":[0.13131211657113112,0.13741593182785639],\"z\":[-0.0622134235037801,-0.1085865549195706],\"type\":\"scatter3d\"},{\"hoverinfo\":\"none\",\"line\":{\"color\":\"gray\",\"width\":1},\"mode\":\"lines\",\"x\":[-0.15312695144891236,-0.12148986019059015],\"y\":[0.2589731362492906,0.1955002426463685],\"z\":[-0.08602627192111911,-0.09997517392508123],\"type\":\"scatter3d\"},{\"hoverinfo\":\"none\",\"line\":{\"color\":\"gray\",\"width\":1},\"mode\":\"lines\",\"x\":[-0.25343575944085217,-0.19065607491556247],\"y\":[0.05403563550545563,0.08526214979876541],\"z\":[-0.16099746264982465,-0.1228507989859067],\"type\":\"scatter3d\"},{\"hoverinfo\":\"none\",\"line\":{\"color\":\"gray\",\"width\":1},\"mode\":\"lines\",\"x\":[-0.19065607491556247,-0.20503139279837043],\"y\":[0.08526214979876541,0.15460498220371913],\"z\":[-0.1228507989859067,-0.13011849051114932],\"type\":\"scatter3d\"},{\"hoverinfo\":\"none\",\"line\":{\"color\":\"gray\",\"width\":1},\"mode\":\"lines\",\"x\":[0.16236019789901346,0.09906903033829521],\"y\":[0.15609970343561852,0.11329105341193384],\"z\":[0.027358045134384446,0.03420059061074347],\"type\":\"scatter3d\"},{\"hoverinfo\":\"none\",\"line\":{\"color\":\"gray\",\"width\":1},\"mode\":\"lines\",\"x\":[0.16236019789901346,0.1262163839697803],\"y\":[0.15609970343561852,0.12282365465857938],\"z\":[0.027358045134384446,-0.02060168358417105],\"type\":\"scatter3d\"},{\"hoverinfo\":\"none\",\"line\":{\"color\":\"gray\",\"width\":1},\"mode\":\"lines\",\"x\":[-0.022628075556178857,0.011001000512443826],\"y\":[-0.01720667629718181,0.04632370292651353],\"z\":[0.09130999354063925,0.02835835215462654],\"type\":\"scatter3d\"},{\"hoverinfo\":\"none\",\"line\":{\"color\":\"gray\",\"width\":1},\"mode\":\"lines\",\"x\":[0.07301553992430686,0.11877050731451994],\"y\":[0.0836800265919682,0.05368613919061708],\"z\":[-0.038428557730078076,-0.018334373143696892],\"type\":\"scatter3d\"},{\"hoverinfo\":\"none\",\"line\":{\"color\":\"gray\",\"width\":1},\"mode\":\"lines\",\"x\":[0.07301553992430686,0.10130684881889998],\"y\":[0.0836800265919682,0.044789665350487964],\"z\":[-0.038428557730078076,-0.026435860531913196],\"type\":\"scatter3d\"},{\"hoverinfo\":\"none\",\"line\":{\"color\":\"gray\",\"width\":1},\"mode\":\"lines\",\"x\":[0.07301553992430686,0.02865901080140797],\"y\":[0.0836800265919682,0.13569359463664157],\"z\":[-0.038428557730078076,-0.011693309145599774],\"type\":\"scatter3d\"},{\"hoverinfo\":\"none\",\"line\":{\"color\":\"gray\",\"width\":1},\"mode\":\"lines\",\"x\":[0.0764486320724051,0.11877050731451994],\"y\":[0.08448353713674073,0.05368613919061708],\"z\":[5.2292702454022176e-05,-0.018334373143696892],\"type\":\"scatter3d\"},{\"hoverinfo\":\"none\",\"line\":{\"color\":\"gray\",\"width\":1},\"mode\":\"lines\",\"x\":[0.0764486320724051,0.10130684881889998],\"y\":[0.08448353713674073,0.044789665350487964],\"z\":[5.2292702454022176e-05,-0.026435860531913196],\"type\":\"scatter3d\"},{\"hoverinfo\":\"none\",\"line\":{\"color\":\"gray\",\"width\":1},\"mode\":\"lines\",\"x\":[0.0764486320724051,0.02865901080140797],\"y\":[0.08448353713674073,0.13569359463664157],\"z\":[5.2292702454022176e-05,-0.011693309145599774],\"type\":\"scatter3d\"},{\"hoverinfo\":\"none\",\"line\":{\"color\":\"gray\",\"width\":1},\"mode\":\"lines\",\"x\":[0.11877050731451994,0.12089125216469554],\"y\":[0.05368613919061708,0.03562847541900134],\"z\":[-0.018334373143696892,-0.0625653722563526],\"type\":\"scatter3d\"},{\"hoverinfo\":\"none\",\"line\":{\"color\":\"gray\",\"width\":1},\"mode\":\"lines\",\"x\":[0.11877050731451994,0.12114014259151036],\"y\":[0.05368613919061708,0.005073764470948257],\"z\":[-0.018334373143696892,-0.016542074770977723],\"type\":\"scatter3d\"},{\"hoverinfo\":\"none\",\"line\":{\"color\":\"gray\",\"width\":1},\"mode\":\"lines\",\"x\":[0.11877050731451994,0.1385575505205078],\"y\":[0.05368613919061708,0.014590375657903925],\"z\":[-0.018334373143696892,-0.05826872008009704],\"type\":\"scatter3d\"},{\"hoverinfo\":\"none\",\"line\":{\"color\":\"gray\",\"width\":1},\"mode\":\"lines\",\"x\":[0.11877050731451994,0.09309994553611739],\"y\":[0.05368613919061708,0.10119784601908967],\"z\":[-0.018334373143696892,-0.016504578671511377],\"type\":\"scatter3d\"},{\"hoverinfo\":\"none\",\"line\":{\"color\":\"gray\",\"width\":1},\"mode\":\"lines\",\"x\":[0.11877050731451994,0.09906903033829521],\"y\":[0.05368613919061708,0.11329105341193384],\"z\":[-0.018334373143696892,0.03420059061074347],\"type\":\"scatter3d\"},{\"hoverinfo\":\"none\",\"line\":{\"color\":\"gray\",\"width\":1},\"mode\":\"lines\",\"x\":[0.11877050731451994,0.027447816786788294],\"y\":[0.05368613919061708,0.07908605856338172],\"z\":[-0.018334373143696892,-0.042314670682017656],\"type\":\"scatter3d\"},{\"hoverinfo\":\"none\",\"line\":{\"color\":\"gray\",\"width\":1},\"mode\":\"lines\",\"x\":[0.11877050731451994,0.15403453961936014],\"y\":[0.05368613919061708,0.03195415753009877],\"z\":[-0.018334373143696892,0.003583078250799663],\"type\":\"scatter3d\"},{\"hoverinfo\":\"none\",\"line\":{\"color\":\"gray\",\"width\":1},\"mode\":\"lines\",\"x\":[0.11877050731451994,0.21310127680504734],\"y\":[0.05368613919061708,0.05684542416750784],\"z\":[-0.018334373143696892,-0.013027513167149151],\"type\":\"scatter3d\"},{\"hoverinfo\":\"none\",\"line\":{\"color\":\"gray\",\"width\":1},\"mode\":\"lines\",\"x\":[0.11877050731451994,0.12040787387322034],\"y\":[0.05368613919061708,-0.0059124989563249],\"z\":[-0.018334373143696892,-0.04421346700464587],\"type\":\"scatter3d\"},{\"hoverinfo\":\"none\",\"line\":{\"color\":\"gray\",\"width\":1},\"mode\":\"lines\",\"x\":[0.11877050731451994,0.2111476960115581],\"y\":[0.05368613919061708,0.036948648044249084],\"z\":[-0.018334373143696892,-0.05754681688210982],\"type\":\"scatter3d\"},{\"hoverinfo\":\"none\",\"line\":{\"color\":\"gray\",\"width\":1},\"mode\":\"lines\",\"x\":[0.11877050731451994,0.20514282160418104],\"y\":[0.05368613919061708,0.01796492296525532],\"z\":[-0.018334373143696892,0.015450015136121192],\"type\":\"scatter3d\"},{\"hoverinfo\":\"none\",\"line\":{\"color\":\"gray\",\"width\":1},\"mode\":\"lines\",\"x\":[0.11877050731451994,0.13038293832626793],\"y\":[0.05368613919061708,0.010540906269999487],\"z\":[-0.018334373143696892,0.00956748081962208],\"type\":\"scatter3d\"},{\"hoverinfo\":\"none\",\"line\":{\"color\":\"gray\",\"width\":1},\"mode\":\"lines\",\"x\":[0.11877050731451994,0.1262163839697803],\"y\":[0.05368613919061708,0.12282365465857938],\"z\":[-0.018334373143696892,-0.02060168358417105],\"type\":\"scatter3d\"},{\"hoverinfo\":\"none\",\"line\":{\"color\":\"gray\",\"width\":1},\"mode\":\"lines\",\"x\":[0.11877050731451994,0.011001000512443826],\"y\":[0.05368613919061708,0.04632370292651353],\"z\":[-0.018334373143696892,0.02835835215462654],\"type\":\"scatter3d\"},{\"hoverinfo\":\"none\",\"line\":{\"color\":\"gray\",\"width\":1},\"mode\":\"lines\",\"x\":[0.11877050731451994,0.158464381941158],\"y\":[0.05368613919061708,0.04838278573428305],\"z\":[-0.018334373143696892,-0.0351805381983074],\"type\":\"scatter3d\"},{\"hoverinfo\":\"none\",\"line\":{\"color\":\"gray\",\"width\":1},\"mode\":\"lines\",\"x\":[0.11877050731451994,0.1540466887074782],\"y\":[0.05368613919061708,0.046723083146598995],\"z\":[-0.018334373143696892,-0.07320216562116626],\"type\":\"scatter3d\"},{\"hoverinfo\":\"none\",\"line\":{\"color\":\"gray\",\"width\":1},\"mode\":\"lines\",\"x\":[0.11877050731451994,0.13114896965505574],\"y\":[0.05368613919061708,0.13232592882713537],\"z\":[-0.018334373143696892,0.027159736909860458],\"type\":\"scatter3d\"},{\"hoverinfo\":\"none\",\"line\":{\"color\":\"gray\",\"width\":1},\"mode\":\"lines\",\"x\":[0.11877050731451994,0.08986750121253315],\"y\":[0.05368613919061708,0.10000515478751154],\"z\":[-0.018334373143696892,-0.04374113465328995],\"type\":\"scatter3d\"},{\"hoverinfo\":\"none\",\"line\":{\"color\":\"gray\",\"width\":1},\"mode\":\"lines\",\"x\":[0.12089125216469554,0.10130684881889998],\"y\":[0.03562847541900134,0.044789665350487964],\"z\":[-0.0625653722563526,-0.026435860531913196],\"type\":\"scatter3d\"},{\"hoverinfo\":\"none\",\"line\":{\"color\":\"gray\",\"width\":1},\"mode\":\"lines\",\"x\":[0.12114014259151036,0.10130684881889998],\"y\":[0.005073764470948257,0.044789665350487964],\"z\":[-0.016542074770977723,-0.026435860531913196],\"type\":\"scatter3d\"},{\"hoverinfo\":\"none\",\"line\":{\"color\":\"gray\",\"width\":1},\"mode\":\"lines\",\"x\":[0.1385575505205078,0.10130684881889998],\"y\":[0.014590375657903925,0.044789665350487964],\"z\":[-0.05826872008009704,-0.026435860531913196],\"type\":\"scatter3d\"},{\"hoverinfo\":\"none\",\"line\":{\"color\":\"gray\",\"width\":1},\"mode\":\"lines\",\"x\":[0.20205167198431906,0.13114896965505574],\"y\":[0.17510900487873546,0.13232592882713537],\"z\":[0.07606593062255441,0.027159736909860458],\"type\":\"scatter3d\"},{\"hoverinfo\":\"none\",\"line\":{\"color\":\"gray\",\"width\":1},\"mode\":\"lines\",\"x\":[0.10130684881889998,0.09309994553611739],\"y\":[0.044789665350487964,0.10119784601908967],\"z\":[-0.026435860531913196,-0.016504578671511377],\"type\":\"scatter3d\"},{\"hoverinfo\":\"none\",\"line\":{\"color\":\"gray\",\"width\":1},\"mode\":\"lines\",\"x\":[0.10130684881889998,0.027447816786788294],\"y\":[0.044789665350487964,0.07908605856338172],\"z\":[-0.026435860531913196,-0.042314670682017656],\"type\":\"scatter3d\"},{\"hoverinfo\":\"none\",\"line\":{\"color\":\"gray\",\"width\":1},\"mode\":\"lines\",\"x\":[0.10130684881889998,0.15403453961936014],\"y\":[0.044789665350487964,0.03195415753009877],\"z\":[-0.026435860531913196,0.003583078250799663],\"type\":\"scatter3d\"},{\"hoverinfo\":\"none\",\"line\":{\"color\":\"gray\",\"width\":1},\"mode\":\"lines\",\"x\":[0.10130684881889998,0.12040787387322034],\"y\":[0.044789665350487964,-0.0059124989563249],\"z\":[-0.026435860531913196,-0.04421346700464587],\"type\":\"scatter3d\"},{\"hoverinfo\":\"none\",\"line\":{\"color\":\"gray\",\"width\":1},\"mode\":\"lines\",\"x\":[0.10130684881889998,0.13038293832626793],\"y\":[0.044789665350487964,0.010540906269999487],\"z\":[-0.026435860531913196,0.00956748081962208],\"type\":\"scatter3d\"},{\"hoverinfo\":\"none\",\"line\":{\"color\":\"gray\",\"width\":1},\"mode\":\"lines\",\"x\":[0.10130684881889998,0.1262163839697803],\"y\":[0.044789665350487964,0.12282365465857938],\"z\":[-0.026435860531913196,-0.02060168358417105],\"type\":\"scatter3d\"},{\"hoverinfo\":\"none\",\"line\":{\"color\":\"gray\",\"width\":1},\"mode\":\"lines\",\"x\":[0.10130684881889998,0.011001000512443826],\"y\":[0.044789665350487964,0.04632370292651353],\"z\":[-0.026435860531913196,0.02835835215462654],\"type\":\"scatter3d\"},{\"hoverinfo\":\"none\",\"line\":{\"color\":\"gray\",\"width\":1},\"mode\":\"lines\",\"x\":[0.10130684881889998,0.158464381941158],\"y\":[0.044789665350487964,0.04838278573428305],\"z\":[-0.026435860531913196,-0.0351805381983074],\"type\":\"scatter3d\"},{\"hoverinfo\":\"none\",\"line\":{\"color\":\"gray\",\"width\":1},\"mode\":\"lines\",\"x\":[0.10130684881889998,0.1540466887074782],\"y\":[0.044789665350487964,0.046723083146598995],\"z\":[-0.026435860531913196,-0.07320216562116626],\"type\":\"scatter3d\"},{\"hoverinfo\":\"none\",\"line\":{\"color\":\"gray\",\"width\":1},\"mode\":\"lines\",\"x\":[0.10130684881889998,0.08986750121253315],\"y\":[0.044789665350487964,0.10000515478751154],\"z\":[-0.026435860531913196,-0.04374113465328995],\"type\":\"scatter3d\"},{\"hoverinfo\":\"none\",\"line\":{\"color\":\"gray\",\"width\":1},\"mode\":\"lines\",\"x\":[0.2011323017341153,0.1262163839697803],\"y\":[0.17780863284221243,0.12282365465857938],\"z\":[-0.04531304200686532,-0.02060168358417105],\"type\":\"scatter3d\"},{\"hoverinfo\":\"none\",\"line\":{\"color\":\"gray\",\"width\":1},\"mode\":\"lines\",\"x\":[0.06256548804305931,0.09906903033829521],\"y\":[0.07609684983976826,0.11329105341193384],\"z\":[0.08485730721598864,0.03420059061074347],\"type\":\"scatter3d\"},{\"hoverinfo\":\"none\",\"line\":{\"color\":\"gray\",\"width\":1},\"mode\":\"lines\",\"x\":[0.06256548804305931,0.011001000512443826],\"y\":[0.07609684983976826,0.04632370292651353],\"z\":[0.08485730721598864,0.02835835215462654],\"type\":\"scatter3d\"},{\"hoverinfo\":\"none\",\"line\":{\"color\":\"gray\",\"width\":1},\"mode\":\"lines\",\"x\":[-0.0014976047881453205,0.011001000512443826],\"y\":[-0.0020231800880069093,0.04632370292651353],\"z\":[0.029577088679010512,0.02835835215462654],\"type\":\"scatter3d\"},{\"hoverinfo\":\"none\",\"line\":{\"color\":\"gray\",\"width\":1},\"mode\":\"lines\",\"x\":[-0.03651661926771874,0.011001000512443826],\"y\":[0.01862304440746154,0.04632370292651353],\"z\":[0.03059882510520432,0.02835835215462654],\"type\":\"scatter3d\"},{\"hoverinfo\":\"none\",\"line\":{\"color\":\"gray\",\"width\":1},\"mode\":\"lines\",\"x\":[-0.3373751255721825,-0.2652183744165517],\"y\":[0.18136466865755774,0.16079500185280818],\"z\":[-0.18502297407701845,-0.16295445775555925],\"type\":\"scatter3d\"},{\"hoverinfo\":\"none\",\"line\":{\"color\":\"gray\",\"width\":1},\"mode\":\"lines\",\"x\":[0.09309994553611739,0.02865901080140797],\"y\":[0.10119784601908967,0.13569359463664157],\"z\":[-0.016504578671511377,-0.011693309145599774],\"type\":\"scatter3d\"},{\"hoverinfo\":\"none\",\"line\":{\"color\":\"gray\",\"width\":1},\"mode\":\"lines\",\"x\":[0.09906903033829521,0.02865901080140797],\"y\":[0.11329105341193384,0.13569359463664157],\"z\":[0.03420059061074347,-0.011693309145599774],\"type\":\"scatter3d\"},{\"hoverinfo\":\"none\",\"line\":{\"color\":\"gray\",\"width\":1},\"mode\":\"lines\",\"x\":[0.02865901080140797,0.027447816786788294],\"y\":[0.13569359463664157,0.07908605856338172],\"z\":[-0.011693309145599774,-0.042314670682017656],\"type\":\"scatter3d\"},{\"hoverinfo\":\"none\",\"line\":{\"color\":\"gray\",\"width\":1},\"mode\":\"lines\",\"x\":[0.02865901080140797,-0.00686344553516896],\"y\":[0.13569359463664157,0.19620971057088019],\"z\":[-0.011693309145599774,0.037110899443853804],\"type\":\"scatter3d\"},{\"hoverinfo\":\"none\",\"line\":{\"color\":\"gray\",\"width\":1},\"mode\":\"lines\",\"x\":[0.02865901080140797,0.03708852689139484],\"y\":[0.13569359463664157,0.22659093425689247],\"z\":[-0.011693309145599774,0.0022846624704914186],\"type\":\"scatter3d\"},{\"hoverinfo\":\"none\",\"line\":{\"color\":\"gray\",\"width\":1},\"mode\":\"lines\",\"x\":[0.02865901080140797,0.1262163839697803],\"y\":[0.13569359463664157,0.12282365465857938],\"z\":[-0.011693309145599774,-0.02060168358417105],\"type\":\"scatter3d\"},{\"hoverinfo\":\"none\",\"line\":{\"color\":\"gray\",\"width\":1},\"mode\":\"lines\",\"x\":[0.02865901080140797,0.011001000512443826],\"y\":[0.13569359463664157,0.04632370292651353],\"z\":[-0.011693309145599774,0.02835835215462654],\"type\":\"scatter3d\"},{\"hoverinfo\":\"none\",\"line\":{\"color\":\"gray\",\"width\":1},\"mode\":\"lines\",\"x\":[0.02865901080140797,-0.12148986019059015],\"y\":[0.13569359463664157,0.1955002426463685],\"z\":[-0.011693309145599774,-0.09997517392508123],\"type\":\"scatter3d\"},{\"hoverinfo\":\"none\",\"line\":{\"color\":\"gray\",\"width\":1},\"mode\":\"lines\",\"x\":[0.02865901080140797,0.13114896965505574],\"y\":[0.13569359463664157,0.13232592882713537],\"z\":[-0.011693309145599774,0.027159736909860458],\"type\":\"scatter3d\"},{\"hoverinfo\":\"none\",\"line\":{\"color\":\"gray\",\"width\":1},\"mode\":\"lines\",\"x\":[0.02865901080140797,0.014873919892661944],\"y\":[0.13569359463664157,0.20195300811411315],\"z\":[-0.011693309145599774,-0.022498680701271156],\"type\":\"scatter3d\"},{\"hoverinfo\":\"none\",\"line\":{\"color\":\"gray\",\"width\":1},\"mode\":\"lines\",\"x\":[0.02865901080140797,0.08986750121253315],\"y\":[0.13569359463664157,0.10000515478751154],\"z\":[-0.011693309145599774,-0.04374113465328995],\"type\":\"scatter3d\"},{\"hoverinfo\":\"none\",\"line\":{\"color\":\"gray\",\"width\":1},\"mode\":\"lines\",\"x\":[-0.16003016365703046,-0.16724457082220195],\"y\":[0.10554815278448584,0.13741593182785639],\"z\":[-0.06261687715069435,-0.1085865549195706],\"type\":\"scatter3d\"},{\"hoverinfo\":\"none\",\"line\":{\"color\":\"gray\",\"width\":1},\"mode\":\"lines\",\"x\":[-0.009646184414993202,0.011001000512443826],\"y\":[0.02912608224858093,0.04632370292651353],\"z\":[0.10640721194567551,0.02835835215462654],\"type\":\"scatter3d\"},{\"hoverinfo\":\"none\",\"line\":{\"color\":\"gray\",\"width\":1},\"mode\":\"lines\",\"x\":[-0.12702419290243386,-0.12148986019059015],\"y\":[0.2432825209846141,0.1955002426463685],\"z\":[-0.12100917405568243,-0.09997517392508123],\"type\":\"scatter3d\"},{\"hoverinfo\":\"none\",\"line\":{\"color\":\"gray\",\"width\":1},\"mode\":\"lines\",\"x\":[-0.20503139279837043,-0.2652183744165517],\"y\":[0.15460498220371913,0.16079500185280818],\"z\":[-0.13011849051114932,-0.16295445775555925],\"type\":\"scatter3d\"},{\"hoverinfo\":\"none\",\"line\":{\"color\":\"gray\",\"width\":1},\"mode\":\"lines\",\"x\":[-0.20503139279837043,-0.1695919413072687],\"y\":[0.15460498220371913,0.13422564690251915],\"z\":[-0.13011849051114932,-0.08719144457207503],\"type\":\"scatter3d\"},{\"hoverinfo\":\"none\",\"line\":{\"color\":\"gray\",\"width\":1},\"mode\":\"lines\",\"x\":[-0.20503139279837043,-0.12148986019059015],\"y\":[0.15460498220371913,0.1955002426463685],\"z\":[-0.13011849051114932,-0.09997517392508123],\"type\":\"scatter3d\"},{\"hoverinfo\":\"none\",\"line\":{\"color\":\"gray\",\"width\":1},\"mode\":\"lines\",\"x\":[0.01515367083300874,0.011001000512443826],\"y\":[-0.009149744219370464,0.04632370292651353],\"z\":[0.10593198164460398,0.02835835215462654],\"type\":\"scatter3d\"},{\"hoverinfo\":\"none\",\"line\":{\"color\":\"gray\",\"width\":1},\"mode\":\"lines\",\"x\":[-0.1611267796672495,-0.16724457082220195],\"y\":[0.09027544241926778,0.13741593182785639],\"z\":[-0.09226874399397815,-0.1085865549195706],\"type\":\"scatter3d\"},{\"hoverinfo\":\"none\",\"line\":{\"color\":\"gray\",\"width\":1},\"mode\":\"lines\",\"x\":[-0.13487317920162104,-0.16724457082220195],\"y\":[0.09741823240255776,0.13741593182785639],\"z\":[-0.08663978041335776,-0.1085865549195706],\"type\":\"scatter3d\"},{\"hoverinfo\":\"none\",\"line\":{\"color\":\"gray\",\"width\":1},\"mode\":\"lines\",\"x\":[-0.2652183744165517,-0.16724457082220195],\"y\":[0.16079500185280818,0.13741593182785639],\"z\":[-0.16295445775555925,-0.1085865549195706],\"type\":\"scatter3d\"},{\"hoverinfo\":\"none\",\"line\":{\"color\":\"gray\",\"width\":1},\"mode\":\"lines\",\"x\":[-0.16724457082220195,-0.13780829411703482],\"y\":[0.13741593182785639,0.09428978556397044],\"z\":[-0.1085865549195706,-0.12372746337829771],\"type\":\"scatter3d\"},{\"hoverinfo\":\"none\",\"line\":{\"color\":\"gray\",\"width\":1},\"mode\":\"lines\",\"x\":[-0.16724457082220195,-0.1695919413072687],\"y\":[0.13741593182785639,0.13422564690251915],\"z\":[-0.1085865549195706,-0.08719144457207503],\"type\":\"scatter3d\"},{\"hoverinfo\":\"none\",\"line\":{\"color\":\"gray\",\"width\":1},\"mode\":\"lines\",\"x\":[-0.16724457082220195,-0.12148986019059015],\"y\":[0.13741593182785639,0.1955002426463685],\"z\":[-0.1085865549195706,-0.09997517392508123],\"type\":\"scatter3d\"},{\"hoverinfo\":\"none\",\"line\":{\"color\":\"gray\",\"width\":1},\"mode\":\"lines\",\"x\":[-0.028048667578896503,0.011001000512443826],\"y\":[0.03983458579804452,0.04632370292651353],\"z\":[0.051966205178053455,0.02835835215462654],\"type\":\"scatter3d\"},{\"hoverinfo\":\"none\",\"line\":{\"color\":\"gray\",\"width\":1},\"mode\":\"lines\",\"x\":[-0.12148986019059015,-0.18123859219720018],\"y\":[0.1955002426463685,0.25085802361820575],\"z\":[-0.09997517392508123,-0.11136570870863866],\"type\":\"scatter3d\"}],                        {\"hovermode\":\"closest\",\"margin\":{\"b\":0,\"l\":0,\"r\":0,\"t\":0},\"scene\":{\"xaxis\":{\"visible\":true},\"yaxis\":{\"visible\":false},\"zaxis\":{\"visible\":false}},\"showlegend\":false,\"template\":{\"data\":{\"barpolar\":[{\"marker\":{\"line\":{\"color\":\"#E5ECF6\",\"width\":0.5},\"pattern\":{\"fillmode\":\"overlay\",\"size\":10,\"solidity\":0.2}},\"type\":\"barpolar\"}],\"bar\":[{\"error_x\":{\"color\":\"#2a3f5f\"},\"error_y\":{\"color\":\"#2a3f5f\"},\"marker\":{\"line\":{\"color\":\"#E5ECF6\",\"width\":0.5},\"pattern\":{\"fillmode\":\"overlay\",\"size\":10,\"solidity\":0.2}},\"type\":\"bar\"}],\"carpet\":[{\"aaxis\":{\"endlinecolor\":\"#2a3f5f\",\"gridcolor\":\"white\",\"linecolor\":\"white\",\"minorgridcolor\":\"white\",\"startlinecolor\":\"#2a3f5f\"},\"baxis\":{\"endlinecolor\":\"#2a3f5f\",\"gridcolor\":\"white\",\"linecolor\":\"white\",\"minorgridcolor\":\"white\",\"startlinecolor\":\"#2a3f5f\"},\"type\":\"carpet\"}],\"choropleth\":[{\"colorbar\":{\"outlinewidth\":0,\"ticks\":\"\"},\"type\":\"choropleth\"}],\"contourcarpet\":[{\"colorbar\":{\"outlinewidth\":0,\"ticks\":\"\"},\"type\":\"contourcarpet\"}],\"contour\":[{\"colorbar\":{\"outlinewidth\":0,\"ticks\":\"\"},\"colorscale\":[[0.0,\"#0d0887\"],[0.1111111111111111,\"#46039f\"],[0.2222222222222222,\"#7201a8\"],[0.3333333333333333,\"#9c179e\"],[0.4444444444444444,\"#bd3786\"],[0.5555555555555556,\"#d8576b\"],[0.6666666666666666,\"#ed7953\"],[0.7777777777777778,\"#fb9f3a\"],[0.8888888888888888,\"#fdca26\"],[1.0,\"#f0f921\"]],\"type\":\"contour\"}],\"heatmapgl\":[{\"colorbar\":{\"outlinewidth\":0,\"ticks\":\"\"},\"colorscale\":[[0.0,\"#0d0887\"],[0.1111111111111111,\"#46039f\"],[0.2222222222222222,\"#7201a8\"],[0.3333333333333333,\"#9c179e\"],[0.4444444444444444,\"#bd3786\"],[0.5555555555555556,\"#d8576b\"],[0.6666666666666666,\"#ed7953\"],[0.7777777777777778,\"#fb9f3a\"],[0.8888888888888888,\"#fdca26\"],[1.0,\"#f0f921\"]],\"type\":\"heatmapgl\"}],\"heatmap\":[{\"colorbar\":{\"outlinewidth\":0,\"ticks\":\"\"},\"colorscale\":[[0.0,\"#0d0887\"],[0.1111111111111111,\"#46039f\"],[0.2222222222222222,\"#7201a8\"],[0.3333333333333333,\"#9c179e\"],[0.4444444444444444,\"#bd3786\"],[0.5555555555555556,\"#d8576b\"],[0.6666666666666666,\"#ed7953\"],[0.7777777777777778,\"#fb9f3a\"],[0.8888888888888888,\"#fdca26\"],[1.0,\"#f0f921\"]],\"type\":\"heatmap\"}],\"histogram2dcontour\":[{\"colorbar\":{\"outlinewidth\":0,\"ticks\":\"\"},\"colorscale\":[[0.0,\"#0d0887\"],[0.1111111111111111,\"#46039f\"],[0.2222222222222222,\"#7201a8\"],[0.3333333333333333,\"#9c179e\"],[0.4444444444444444,\"#bd3786\"],[0.5555555555555556,\"#d8576b\"],[0.6666666666666666,\"#ed7953\"],[0.7777777777777778,\"#fb9f3a\"],[0.8888888888888888,\"#fdca26\"],[1.0,\"#f0f921\"]],\"type\":\"histogram2dcontour\"}],\"histogram2d\":[{\"colorbar\":{\"outlinewidth\":0,\"ticks\":\"\"},\"colorscale\":[[0.0,\"#0d0887\"],[0.1111111111111111,\"#46039f\"],[0.2222222222222222,\"#7201a8\"],[0.3333333333333333,\"#9c179e\"],[0.4444444444444444,\"#bd3786\"],[0.5555555555555556,\"#d8576b\"],[0.6666666666666666,\"#ed7953\"],[0.7777777777777778,\"#fb9f3a\"],[0.8888888888888888,\"#fdca26\"],[1.0,\"#f0f921\"]],\"type\":\"histogram2d\"}],\"histogram\":[{\"marker\":{\"pattern\":{\"fillmode\":\"overlay\",\"size\":10,\"solidity\":0.2}},\"type\":\"histogram\"}],\"mesh3d\":[{\"colorbar\":{\"outlinewidth\":0,\"ticks\":\"\"},\"type\":\"mesh3d\"}],\"parcoords\":[{\"line\":{\"colorbar\":{\"outlinewidth\":0,\"ticks\":\"\"}},\"type\":\"parcoords\"}],\"pie\":[{\"automargin\":true,\"type\":\"pie\"}],\"scatter3d\":[{\"line\":{\"colorbar\":{\"outlinewidth\":0,\"ticks\":\"\"}},\"marker\":{\"colorbar\":{\"outlinewidth\":0,\"ticks\":\"\"}},\"type\":\"scatter3d\"}],\"scattercarpet\":[{\"marker\":{\"colorbar\":{\"outlinewidth\":0,\"ticks\":\"\"}},\"type\":\"scattercarpet\"}],\"scattergeo\":[{\"marker\":{\"colorbar\":{\"outlinewidth\":0,\"ticks\":\"\"}},\"type\":\"scattergeo\"}],\"scattergl\":[{\"marker\":{\"colorbar\":{\"outlinewidth\":0,\"ticks\":\"\"}},\"type\":\"scattergl\"}],\"scattermapbox\":[{\"marker\":{\"colorbar\":{\"outlinewidth\":0,\"ticks\":\"\"}},\"type\":\"scattermapbox\"}],\"scatterpolargl\":[{\"marker\":{\"colorbar\":{\"outlinewidth\":0,\"ticks\":\"\"}},\"type\":\"scatterpolargl\"}],\"scatterpolar\":[{\"marker\":{\"colorbar\":{\"outlinewidth\":0,\"ticks\":\"\"}},\"type\":\"scatterpolar\"}],\"scatter\":[{\"fillpattern\":{\"fillmode\":\"overlay\",\"size\":10,\"solidity\":0.2},\"type\":\"scatter\"}],\"scatterternary\":[{\"marker\":{\"colorbar\":{\"outlinewidth\":0,\"ticks\":\"\"}},\"type\":\"scatterternary\"}],\"surface\":[{\"colorbar\":{\"outlinewidth\":0,\"ticks\":\"\"},\"colorscale\":[[0.0,\"#0d0887\"],[0.1111111111111111,\"#46039f\"],[0.2222222222222222,\"#7201a8\"],[0.3333333333333333,\"#9c179e\"],[0.4444444444444444,\"#bd3786\"],[0.5555555555555556,\"#d8576b\"],[0.6666666666666666,\"#ed7953\"],[0.7777777777777778,\"#fb9f3a\"],[0.8888888888888888,\"#fdca26\"],[1.0,\"#f0f921\"]],\"type\":\"surface\"}],\"table\":[{\"cells\":{\"fill\":{\"color\":\"#EBF0F8\"},\"line\":{\"color\":\"white\"}},\"header\":{\"fill\":{\"color\":\"#C8D4E3\"},\"line\":{\"color\":\"white\"}},\"type\":\"table\"}]},\"layout\":{\"annotationdefaults\":{\"arrowcolor\":\"#2a3f5f\",\"arrowhead\":0,\"arrowwidth\":1},\"autotypenumbers\":\"strict\",\"coloraxis\":{\"colorbar\":{\"outlinewidth\":0,\"ticks\":\"\"}},\"colorscale\":{\"diverging\":[[0,\"#8e0152\"],[0.1,\"#c51b7d\"],[0.2,\"#de77ae\"],[0.3,\"#f1b6da\"],[0.4,\"#fde0ef\"],[0.5,\"#f7f7f7\"],[0.6,\"#e6f5d0\"],[0.7,\"#b8e186\"],[0.8,\"#7fbc41\"],[0.9,\"#4d9221\"],[1,\"#276419\"]],\"sequential\":[[0.0,\"#0d0887\"],[0.1111111111111111,\"#46039f\"],[0.2222222222222222,\"#7201a8\"],[0.3333333333333333,\"#9c179e\"],[0.4444444444444444,\"#bd3786\"],[0.5555555555555556,\"#d8576b\"],[0.6666666666666666,\"#ed7953\"],[0.7777777777777778,\"#fb9f3a\"],[0.8888888888888888,\"#fdca26\"],[1.0,\"#f0f921\"]],\"sequentialminus\":[[0.0,\"#0d0887\"],[0.1111111111111111,\"#46039f\"],[0.2222222222222222,\"#7201a8\"],[0.3333333333333333,\"#9c179e\"],[0.4444444444444444,\"#bd3786\"],[0.5555555555555556,\"#d8576b\"],[0.6666666666666666,\"#ed7953\"],[0.7777777777777778,\"#fb9f3a\"],[0.8888888888888888,\"#fdca26\"],[1.0,\"#f0f921\"]]},\"colorway\":[\"#636efa\",\"#EF553B\",\"#00cc96\",\"#ab63fa\",\"#FFA15A\",\"#19d3f3\",\"#FF6692\",\"#B6E880\",\"#FF97FF\",\"#FECB52\"],\"font\":{\"color\":\"#2a3f5f\"},\"geo\":{\"bgcolor\":\"white\",\"lakecolor\":\"white\",\"landcolor\":\"#E5ECF6\",\"showlakes\":true,\"showland\":true,\"subunitcolor\":\"white\"},\"hoverlabel\":{\"align\":\"left\"},\"hovermode\":\"closest\",\"mapbox\":{\"style\":\"light\"},\"paper_bgcolor\":\"white\",\"plot_bgcolor\":\"#E5ECF6\",\"polar\":{\"angularaxis\":{\"gridcolor\":\"white\",\"linecolor\":\"white\",\"ticks\":\"\"},\"bgcolor\":\"#E5ECF6\",\"radialaxis\":{\"gridcolor\":\"white\",\"linecolor\":\"white\",\"ticks\":\"\"}},\"scene\":{\"xaxis\":{\"backgroundcolor\":\"#E5ECF6\",\"gridcolor\":\"white\",\"gridwidth\":2,\"linecolor\":\"white\",\"showbackground\":true,\"ticks\":\"\",\"zerolinecolor\":\"white\"},\"yaxis\":{\"backgroundcolor\":\"#E5ECF6\",\"gridcolor\":\"white\",\"gridwidth\":2,\"linecolor\":\"white\",\"showbackground\":true,\"ticks\":\"\",\"zerolinecolor\":\"white\"},\"zaxis\":{\"backgroundcolor\":\"#E5ECF6\",\"gridcolor\":\"white\",\"gridwidth\":2,\"linecolor\":\"white\",\"showbackground\":true,\"ticks\":\"\",\"zerolinecolor\":\"white\"}},\"shapedefaults\":{\"line\":{\"color\":\"#2a3f5f\"}},\"ternary\":{\"aaxis\":{\"gridcolor\":\"white\",\"linecolor\":\"white\",\"ticks\":\"\"},\"baxis\":{\"gridcolor\":\"white\",\"linecolor\":\"white\",\"ticks\":\"\"},\"bgcolor\":\"#E5ECF6\",\"caxis\":{\"gridcolor\":\"white\",\"linecolor\":\"white\",\"ticks\":\"\"}},\"title\":{\"x\":0.05},\"xaxis\":{\"automargin\":true,\"gridcolor\":\"white\",\"linecolor\":\"white\",\"ticks\":\"\",\"title\":{\"standoff\":15},\"zerolinecolor\":\"white\",\"zerolinewidth\":2},\"yaxis\":{\"automargin\":true,\"gridcolor\":\"white\",\"linecolor\":\"white\",\"ticks\":\"\",\"title\":{\"standoff\":15},\"zerolinecolor\":\"white\",\"zerolinewidth\":2}}}},                        {\"responsive\": true}                    ).then(function(){\n",
       "                            \n",
       "var gd = document.getElementById('2a8cb9ef-c7e2-4fcd-94a5-5faaa3d8cfe7');\n",
       "var x = new MutationObserver(function (mutations, observer) {{\n",
       "        var display = window.getComputedStyle(gd).display;\n",
       "        if (!display || display === 'none') {{\n",
       "            console.log([gd, 'removed!']);\n",
       "            Plotly.purge(gd);\n",
       "            observer.disconnect();\n",
       "        }}\n",
       "}});\n",
       "\n",
       "// Listen for the removal of the full notebook cells\n",
       "var notebookContainer = gd.closest('#notebook-container');\n",
       "if (notebookContainer) {{\n",
       "    x.observe(notebookContainer, {childList: true});\n",
       "}}\n",
       "\n",
       "// Listen for the clearing of the current output cell\n",
       "var outputEl = gd.closest('.output');\n",
       "if (outputEl) {{\n",
       "    x.observe(outputEl, {childList: true});\n",
       "}}\n",
       "\n",
       "                        })                };                });            </script>        </div>"
      ]
     },
     "metadata": {},
     "output_type": "display_data"
    }
   ],
   "source": [
    "plotly_preview(G, pos)"
   ]
  },
  {
   "cell_type": "markdown",
   "metadata": {
    "id": "bIM_x9bwXOE0"
   },
   "source": [
    "\n",
    "## Export JSON\n",
    "\n",
    "\n"
   ]
  },
  {
   "cell_type": "markdown",
   "metadata": {
    "id": "OjGVCiUhJOj_"
   },
   "source": [
    "## Add GO Term Annotations to Genes"
   ]
  },
  {
   "cell_type": "code",
   "execution_count": null,
   "metadata": {
    "colab": {
     "base_uri": "https://localhost:8080/"
    },
    "executionInfo": {
     "elapsed": 31570,
     "status": "ok",
     "timestamp": 1689429793416,
     "user": {
      "displayName": "Joel Hancock",
      "userId": "16189644458263281336"
     },
     "user_tz": -120
    },
    "id": "le27Blc0JLT9",
    "outputId": "b3c15d1a-383e-4cb6-93d5-bdfb09fc267d"
   },
   "outputs": [],
   "source": [
    "# Alternatively, you can download GO annotations so\n",
    "# you can select genes annotated with a particular GO term\n",
    "!wget http://geneontology.org/gene-associations/goa_human.gaf.gz\n",
    "!gunzip goa_human.gaf.gz\n",
    "\n",
    "# you can uuse this code to convert e.g. gene symbols to entrez\n",
    "!wget https://ftp.ebi.ac.uk/pub/databases/genenames/hgnc/json/locus_groups/protein-coding_gene.json\n",
    "# use the name mapper to convert whatever naming system we have\n",
    "# in the gene list can be converted to entrez\n",
    "import json\n",
    "name_mapper = json.load(open(\"protein-coding_gene.json\"))['response']['docs']\n",
    "symbol_entrez = {i['symbol']:i['entrez_id'] for i in name_mapper}"
   ]
  },
  {
   "cell_type": "code",
   "execution_count": null,
   "metadata": {
    "colab": {
     "base_uri": "https://localhost:8080/"
    },
    "executionInfo": {
     "elapsed": 17131,
     "status": "ok",
     "timestamp": 1689429810533,
     "user": {
      "displayName": "Joel Hancock",
      "userId": "16189644458263281336"
     },
     "user_tz": -120
    },
    "id": "I6zaLX1dKQHE",
    "outputId": "a90e713a-8bd0-4891-d2f2-cd08cad98a79"
   },
   "outputs": [],
   "source": [
    "import pandas as pd\n",
    "import json\n",
    "\n",
    "# Read the gene annotations from the file\n",
    "go_annotations = pd.read_csv(\"goa_human.gaf\", skiprows=41, sep=\"\\t\", header=None)\n",
    "# Specify the column indices for gene and GO terms\n",
    "gene_column = 2\n",
    "go_column = 4\n",
    "\n",
    "# Download the GO ontology file\n",
    "!wget http://current.geneontology.org/ontology/go-basic.json\n",
    "# Load the GO ontology file\n",
    "go_info = json.load(open(\"go-basic.json\"))\n",
    "# Create a dictionary mapping GO IDs to their corresponding names\n",
    "go_id_to_name = {i[\"id\"].split(\"/\")[-1].replace(\"_\", \":\"): i['lbl'] for i in go_info['graphs'][0]['nodes'] if 'lbl' in i.keys()}\n",
    "\n",
    "\n",
    "# Create a dictionary to store gene annotations\n",
    "annotations = {}\n",
    "# Process each gene column in the dataframe\n",
    "for gene in df.columns:\n",
    "    # Select rows where the gene column matches the current gene\n",
    "    # NB: if you have different gene identifiers in your own dataset\n",
    "    # you will have to adjust this line to select the right GO terms\n",
    "    selected_rows = go_annotations[gene_column] == gene\n",
    "\n",
    "    # Get unique GO IDs associated with the current gene\n",
    "    go_ids = set(go_annotations[selected_rows][go_column])\n",
    "\n",
    "    # Map GO IDs to their corresponding names and store them in the annotations dictionary\n",
    "    annotations[gene] = [go_id_to_name[go_id] for go_id in go_ids]\n",
    "\n"
   ]
  },
  {
   "cell_type": "markdown",
   "metadata": {
    "id": "rC0PuutWYTA8"
   },
   "source": [
    "### Define Function `make_json`"
   ]
  },
  {
   "cell_type": "code",
   "execution_count": null,
   "metadata": {
    "id": "kXzJbyopXB2H"
   },
   "outputs": [],
   "source": [
    "\n",
    "def make_json(name, network, positions, node_color = '#40b9d4', link_color = '#999999', annotations = 'None', communities = 'None'):\n",
    "    \"\"\"\n",
    "    Generates a JSON file from a given network graph using the specified parameters.\n",
    "\n",
    "    Args:\n",
    "        name (str, optional): Name of the graph.\n",
    "        network (networkx.Graph): Network graph object.\n",
    "        positions (dict): Dictionary mapping node IDs to their positions.\n",
    "        node_color (dict): Dictionary mapping node IDs to their (hex-)colors.\n",
    "        link_color (str or dict): (Hex-)color value for all links in the graph or dict with node tuple as key and hex color as value.\n",
    "        communities (dict): 'None' for no communities (default) or dictionary mapping node IDs to their corresponding community ID.\n",
    "        annotations (dict): Dictionary mapping node IDs to a list of annotations.\n",
    "\n",
    "    Returns:\n",
    "        None\n",
    "\n",
    "    \"\"\"\n",
    "\n",
    "    # --------------------------\n",
    "    # Generate VR GRAPH\n",
    "    # --------------------------\n",
    "    GVR = nx.Graph()\n",
    "    GVR.graph['name'] = name\n",
    "\n",
    "    # --------------------------------------\n",
    "    # LOOKUP FOR NODE NAMES INTO IDs and vv\n",
    "    # --------------------------------------\n",
    "    d_idx_node = {}\n",
    "    d_node_idx = {}\n",
    "    for i, node in enumerate(sorted(network.nodes())):\n",
    "        d_idx_node[i] = node\n",
    "        d_node_idx[node] = i\n",
    "    GVR.add_nodes_from(d_idx_node.keys())\n",
    "\n",
    "    for edge in network.edges()(data=True):\n",
    "        GVR.add_edge(d_node_idx[edge[0]],d_node_idx[edge[1]])\n",
    "\n",
    "    # --------------------------\n",
    "    # POS\n",
    "    # --------------------------\n",
    "    if isinstance(positions[next(iter(positions))], list):\n",
    "        pass\n",
    "    else:\n",
    "        for key in positions:\n",
    "            positions[key] = positions[key].tolist()\n",
    "\n",
    "    posG = {d_node_idx[node]: list(xyz) for node, xyz in positions.items()}\n",
    "    nx.set_node_attributes(GVR, posG, name=\"pos\")\n",
    "\n",
    "    # # --------------------------\n",
    "    # # CLUSTER\n",
    "    # # --------------------------\n",
    "    if communities == 'None':\n",
    "        dict_for_cluster = dict(zip(d_idx_node.keys(), [0 for _ in d_idx_node.keys()]))\n",
    "    else:\n",
    "        d_VRids_cluster = {d_node_idx[node]: str(cl_id) for node, cl_id in communities.items()}\n",
    "        nx.set_node_attributes(GVR, d_VRids_cluster, name=\"cluster\")\n",
    "\n",
    "\n",
    "    # --------------------------\n",
    "    # NODE COLOR\n",
    "    # --------------------------\n",
    "    d_node_colors={}\n",
    "\n",
    "    if isinstance(node_color, dict):\n",
    "        for nodeid in GVR.nodes():\n",
    "            d_node_colors[nodeid] = node_color[d_idx_node[nodeid]]\n",
    "    else:\n",
    "        for nodeid in GVR.nodes():\n",
    "            d_node_colors[nodeid] = node_color\n",
    "\n",
    "    nx.set_node_attributes(GVR, d_node_colors, name=\"nodecolor\")\n",
    "\n",
    "    # --------------------------\n",
    "    # LINK COLOR\n",
    "    # --------------------------\n",
    "    if isinstance(link_color, dict):\n",
    "        # for different link colors\n",
    "        d_edge_color = {}\n",
    "        for a,b in GVR.edges():\n",
    "            try:\n",
    "                color = link_color[(d_idx_node[a],d_idx_node[b])]\n",
    "            except KeyError:\n",
    "                color = link_color[(d_idx_node[b],d_idx_node[a])]\n",
    "            d_edge_color[(a,b)] = color\n",
    "    else:\n",
    "        # for unique link colors\n",
    "        d_edge_color = {}\n",
    "        for a,b in GVR.edges():\n",
    "            d_edge_color[(a,b)] = link_color\n",
    "\n",
    "    nx.set_edge_attributes(GVR, d_edge_color, name=\"linkcolor\")\n",
    "\n",
    "    # --------------------------\n",
    "    # NODE ANNOTATION\n",
    "    # --------------------------\n",
    "    if isinstance(annotations, dict):\n",
    "\n",
    "        l_annotations = [[str(d_idx_node[nodeid])] + [ annotation for annotation in annotations[d_idx_node[nodeid]]] for nodeid in sorted(GVR.nodes())]\n",
    "        d_annotations = dict(zip(sorted(GVR.nodes()), l_annotations))\n",
    "    else:\n",
    "        d_annotations = {nodeid: [str(d_idx_node[nodeid])] for nodeid in GVR.nodes()}\n",
    "\n",
    "    nx.set_node_attributes(GVR, d_annotations, name=\"annotation\")\n",
    "\n",
    "    # --------------------------\n",
    "    # MAKE JSON fo uploader\n",
    "    # --------------------------\n",
    "\n",
    "    G_json = json.dumps(nx.node_link_data(GVR))\n",
    "\n",
    "    with open(GVR.name, \"w\") as outfile:\n",
    "        outfile.write(G_json)\n"
   ]
  },
  {
   "cell_type": "markdown",
   "metadata": {
    "id": "e_-V-xmjYalO"
   },
   "source": [
    "### Run the Function\n",
    "\n"
   ]
  },
  {
   "cell_type": "code",
   "execution_count": null,
   "metadata": {
    "id": "68Jv0wy-YY2R"
   },
   "outputs": [],
   "source": [
    "make_json(\"feature_network.json\", G, pos)"
   ]
  },
  {
   "cell_type": "code",
   "execution_count": null,
   "metadata": {
    "colab": {
     "base_uri": "https://localhost:8080/",
     "height": 17
    },
    "executionInfo": {
     "elapsed": 4,
     "status": "ok",
     "timestamp": 1689432683980,
     "user": {
      "displayName": "Joel Hancock",
      "userId": "16189644458263281336"
     },
     "user_tz": -120
    },
    "id": "aG_fvHr5Z3Z_",
    "outputId": "9f52d725-9256-4b15-9578-9ad5bf68c7c6"
   },
   "outputs": [],
   "source": [
    "import google.colab.files\n",
    "google.colab.files.download(\"feature_network.json\")"
   ]
  },
  {
   "cell_type": "code",
   "execution_count": null,
   "metadata": {
    "id": "j_N0lO6i8Iu0"
   },
   "outputs": [],
   "source": []
  }
 ],
 "metadata": {
  "@webio": {
   "lastCommId": null,
   "lastKernelId": null
  },
  "colab": {
   "authorship_tag": "ABX9TyPFjZScvOtLLPX+Tr9bhoP4",
   "provenance": [
    {
     "file_id": "1RK7Cog5tMO1Czlyn57LkLVGeCfgkWvTt",
     "timestamp": 1689088132574
    }
   ]
  },
  "kernelspec": {
   "display_name": "Python 3 (ipykernel)",
   "language": "python",
   "name": "python3"
  },
  "language_info": {
   "codemirror_mode": {
    "name": "ipython",
    "version": 3
   },
   "file_extension": ".py",
   "mimetype": "text/x-python",
   "name": "python",
   "nbconvert_exporter": "python",
   "pygments_lexer": "ipython3",
   "version": "3.10.6"
  }
 },
 "nbformat": 4,
 "nbformat_minor": 4
}
