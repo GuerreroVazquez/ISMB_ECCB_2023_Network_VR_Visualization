{
 "cells": [
  {
   "cell_type": "code",
   "execution_count": null,
   "metadata": {
    "id": "ayLk8sHwJxMq"
   },
   "outputs": [],
   "source": [
    "import networkx as nx\n",
    "import matplotlib.pyplot as plt\n",
    "from collections import defaultdict, Counter\n",
    "import itertools\n",
    "import numpy as np\n",
    "import json\n",
    "import random as rd\n",
    "from plotly.offline import init_notebook_mode, iplot\n",
    "import plotly.graph_objects as go"
   ]
  },
  {
   "cell_type": "markdown",
   "metadata": {
    "id": "owSo4vQIJxMs"
   },
   "source": [
    "### Basic upload preparation\n",
    "\n",
    "Generate a PPI network, restrict to a subgraph, view the results.\n",
    "\n",
    "    1. Creating the PPI from publicly available data\n",
    "\n",
    "    2. Selecting a subgraph of the PPI\n",
    "    \n",
    "    3. Previewing the Graph: Ensure the accuracy of our preprocessing steps with a plotly-based preview function.\n",
    "\n",
    "    4. Data Preprocessing: We will explore the necessary preprocessing steps to transform the graph data into a format suitable for the VR platform. This includes converting the node and edge structure into a JSON file format.\n",
    "\n"
   ]
  },
  {
   "cell_type": "markdown",
   "metadata": {
    "id": "9dEBTz8mzroK"
   },
   "source": [
    "# Download the info to create the PPI"
   ]
  },
  {
   "cell_type": "code",
   "execution_count": null,
   "metadata": {
    "colab": {
     "base_uri": "https://localhost:8080/"
    },
    "executionInfo": {
     "elapsed": 3097,
     "status": "ok",
     "timestamp": 1689801955344,
     "user": {
      "displayName": "Joel Hancock",
      "userId": "16189644458263281336"
     },
     "user_tz": -120
    },
    "id": "Amke_xU-zraZ",
    "outputId": "bdcfc847-7a44-48ba-94b5-22df0346b68e"
   },
   "outputs": [],
   "source": [
    "# Download the STRING PPI\n",
    "!wget https://stringdb-static.org/download/protein.physical.links.v11.5/9606.protein.physical.links.v11.5.txt.gz\n",
    "!gunzip 9606.protein.physical.links.v11.5.txt.gz"
   ]
  },
  {
   "cell_type": "code",
   "execution_count": null,
   "metadata": {
    "id": "wdO_MgDs33Wf"
   },
   "outputs": [],
   "source": []
  },
  {
   "cell_type": "code",
   "execution_count": null,
   "metadata": {
    "id": "ucpzV5iLz133"
   },
   "outputs": [],
   "source": [
    "import pandas as pd\n",
    "import matplotlib.pyplot as plt\n",
    "import networkx as nx\n",
    "# load the edge list\n",
    "df = pd.read_csv(\"9606.protein.physical.links.v11.5.txt\", sep=\" \")"
   ]
  },
  {
   "cell_type": "code",
   "execution_count": null,
   "metadata": {
    "colab": {
     "base_uri": "https://localhost:8080/",
     "height": 423
    },
    "executionInfo": {
     "elapsed": 7,
     "status": "ok",
     "timestamp": 1689801961180,
     "user": {
      "displayName": "Joel Hancock",
      "userId": "16189644458263281336"
     },
     "user_tz": -120
    },
    "id": "hOefAPsV4mLc",
    "outputId": "7b2ca143-cd9e-4e03-9e2b-66c56a4b10e4"
   },
   "outputs": [],
   "source": [
    "df"
   ]
  },
  {
   "cell_type": "code",
   "execution_count": null,
   "metadata": {
    "colab": {
     "base_uri": "https://localhost:8080/",
     "height": 466
    },
    "executionInfo": {
     "elapsed": 1615,
     "status": "ok",
     "timestamp": 1689801962791,
     "user": {
      "displayName": "Joel Hancock",
      "userId": "16189644458263281336"
     },
     "user_tz": -120
    },
    "id": "Zt36h1MKz6Xd",
    "outputId": "a6cf19d9-805e-4906-a2ef-02cd86d5a633"
   },
   "outputs": [],
   "source": [
    "# set a cutoff for evidence score\n",
    "cutoff_score = 600\n",
    "\n",
    "# check how many links are left by a given cutoff score\n",
    "fig,ax = plt.subplots()\n",
    "ax.hist(df[\"combined_score\"][df[\"combined_score\"] < cutoff_score],bins=25);\n",
    "ax.hist(df[\"combined_score\"][df[\"combined_score\"] > cutoff_score],bins=25);\n",
    "ax.set_xlabel(\"Score for link\")\n",
    "ax.set_ylabel(\"Count\")"
   ]
  },
  {
   "cell_type": "code",
   "execution_count": null,
   "metadata": {
    "id": "MwK6Ek4P3VKA"
   },
   "outputs": [],
   "source": [
    "# remove interactions below the specified score\n",
    "df = df[df[\"combined_score\"] > 600].dropna()"
   ]
  },
  {
   "cell_type": "markdown",
   "metadata": {
    "id": "REGz8Dd8W7YI"
   },
   "source": [
    "### Identifier Translation"
   ]
  },
  {
   "cell_type": "code",
   "execution_count": null,
   "metadata": {
    "colab": {
     "base_uri": "https://localhost:8080/"
    },
    "executionInfo": {
     "elapsed": 3949,
     "status": "ok",
     "timestamp": 1689801971483,
     "user": {
      "displayName": "Joel Hancock",
      "userId": "16189644458263281336"
     },
     "user_tz": -120
    },
    "id": "qukvvF593GaS",
    "outputId": "fe7d2239-e067-44d6-8dd2-58bf1ec68eb6"
   },
   "outputs": [],
   "source": [
    "# Download info to translate ensembl to entrsz ids.\n",
    "!wget https://ftp.ensembl.org/pub/current_tsv/homo_sapiens/Homo_sapiens.GRCh38.110.entrez.tsv.gz\n",
    "!gunzip Homo_sapiens.GRCh38.110.entrez.tsv.gz"
   ]
  },
  {
   "cell_type": "code",
   "execution_count": null,
   "metadata": {
    "id": "IPFFd_Pa79nl"
   },
   "outputs": [],
   "source": [
    "# dictionary that maps ensembl protein ids to entrez gene ids\n",
    "ensembl_entrez = pd.read_csv(\"Homo_sapiens.GRCh38.110.entrez.tsv\", sep=\"\\t\").set_index(\"protein_stable_id\")[\"xref\"].to_dict()\n",
    "del ensembl_entrez['-']\n",
    "import numpy as np\n",
    "def try_ensembl_entrez(ensembl):\n",
    "  try:\n",
    "    return ensembl_entrez[ensembl]\n",
    "  except KeyError:\n",
    "    return np.nan"
   ]
  },
  {
   "cell_type": "markdown",
   "metadata": {
    "id": "lSrdeHzv4LkA"
   },
   "source": [
    "### Build a networkx representation of the PPI"
   ]
  },
  {
   "cell_type": "code",
   "execution_count": null,
   "metadata": {
    "id": "W9WXnXYN0RKT"
   },
   "outputs": [],
   "source": [
    "# map the ensembl protein id to a an entrex id for each edge in the PPI\n",
    "df[\"protein1_entrez\"] = df.protein1.map(lambda x:try_ensembl_entrez(x.split(\".\")[1]))\n",
    "df[\"protein2_entrez\"] = df.protein2.map(lambda x:try_ensembl_entrez(x.split(\".\")[1]))"
   ]
  },
  {
   "cell_type": "code",
   "execution_count": null,
   "metadata": {
    "id": "syAuzPkYPg_t"
   },
   "outputs": [],
   "source": [
    "# drop all nodes without a valid entrez id\n",
    "df = df.dropna(subset=[\"protein1_entrez\",\"protein2_entrez\"])"
   ]
  },
  {
   "cell_type": "code",
   "execution_count": null,
   "metadata": {
    "id": "ZwjqD8kG3gbH"
   },
   "outputs": [],
   "source": [
    "# build a networkx graph representation of the PPI\n",
    "ppi = nx.Graph()\n",
    "for i,v in df.iterrows():\n",
    "    ppi.add_edge(v[\"protein1_entrez\"],v[\"protein2_entrez\"])"
   ]
  },
  {
   "cell_type": "code",
   "execution_count": null,
   "metadata": {
    "colab": {
     "base_uri": "https://localhost:8080/"
    },
    "executionInfo": {
     "elapsed": 41512,
     "status": "ok",
     "timestamp": 1689707242867,
     "user": {
      "displayName": "Joel Hancock",
      "userId": "16189644458263281336"
     },
     "user_tz": -120
    },
    "id": "6T7zaVLZZDv7",
    "outputId": "1b6ae344-9a0f-446b-c1dd-fc89e6d66cac"
   },
   "outputs": [],
   "source": [
    "\n",
    "# you can uuse this code to convert e.g. gene symbols to entrez and vice versa\n",
    "!wget https://ftp.ebi.ac.uk/pub/databases/genenames/hgnc/json/locus_groups/protein-coding_gene.json\n",
    "# use the name mapper to convert whatever naming system we have\n",
    "# in the gene list can be converted to entrez\n",
    "import json\n",
    "name_mapper = json.load(open(\"protein-coding_gene.json\"))['response']['docs']"
   ]
  },
  {
   "cell_type": "markdown",
   "metadata": {
    "id": "lUySOucm4Pj_"
   },
   "source": [
    "### Select a subgraph using a gene list"
   ]
  },
  {
   "cell_type": "code",
   "execution_count": null,
   "metadata": {
    "id": "azHI4ney3vvm"
   },
   "outputs": [],
   "source": [
    "# Entrez ID's for p53, Tubulin alpha and Tubulin beta\n",
    "gene_list = ['7157', '7277', '203068']"
   ]
  },
  {
   "cell_type": "code",
   "execution_count": null,
   "metadata": {
    "id": "5bQ4ExCILyre"
   },
   "outputs": [],
   "source": [
    "# Uncomment if you have your own gene list you want to view.\n",
    "# you will need to convert them to entrez ids\n",
    "\n",
    "# import google.colab.files\n",
    "# google.colab.files.upload"
   ]
  },
  {
   "cell_type": "code",
   "execution_count": null,
   "metadata": {
    "colab": {
     "base_uri": "https://localhost:8080/",
     "height": 236
    },
    "executionInfo": {
     "elapsed": 8,
     "status": "error",
     "timestamp": 1689707242868,
     "user": {
      "displayName": "Joel Hancock",
      "userId": "16189644458263281336"
     },
     "user_tz": -120
    },
    "id": "HYb_ztt43sS6",
    "outputId": "19e19be4-64f4-4eac-e154-c42b8a7dc8b2"
   },
   "outputs": [],
   "source": [
    "import itertools as it\n",
    "import collections\n",
    "# Select only those nodes which are in the gene set OR are attached to at least two nodes in the gene set.\n",
    "\n",
    "# Count the neighbors of each node in the gene list in the ppi network.\n",
    "neighbors_of_gene_list = set(it.chain(*[set(ppi.neighbors(i)) for i in gene_list]))\n",
    "gene_list = set(gene_list)\n",
    "# Create a subgraph (G_unfilltered) of the ppi network that includes the nodes from the gene list and their neighbors.\n",
    "G_unfiltered = ppi.subgraph(gene_list.union(neighbors_of_gene_list))"
   ]
  },
  {
   "cell_type": "code",
   "execution_count": null,
   "metadata": {
    "colab": {
     "base_uri": "https://localhost:8080/",
     "height": 236
    },
    "executionInfo": {
     "elapsed": 9,
     "status": "error",
     "timestamp": 1689801940010,
     "user": {
      "displayName": "Joel Hancock",
      "userId": "16189644458263281336"
     },
     "user_tz": -120
    },
    "id": "v7F2zcKeSsSR",
    "outputId": "69db6da2-bc2c-444e-9822-cbf1d4b0d474"
   },
   "outputs": [],
   "source": [
    "# Calculate the degrees of nodes in the graph G_unfiltered\n",
    "node_degrees = [(node, degree) for node, degree in nx.degree(G_unfiltered)]\n",
    "\n",
    "# Filter nodes that have a degree greater than or equal to 2\n",
    "nodes_with_degree_at_least_2 = [node for node, degree in node_degrees if degree >= 2]\n",
    "\n",
    "G_entrez = G_unfiltered.subgraph(nodes_with_degree_at_least_2)"
   ]
  },
  {
   "cell_type": "code",
   "execution_count": null,
   "metadata": {
    "id": "0-BoWd4iZqxk"
   },
   "outputs": [],
   "source": [
    "# Here we use the capacity of networkx to store attributes in of the nodes in the network\n",
    "# which is very helpful when we want to relabel node names (which we will do later)\n",
    "for i in G_entrez.nodes():\n",
    "  G_entrez.nodes()[i][\"in_gene_list\"] = (i in gene_list)"
   ]
  },
  {
   "cell_type": "code",
   "execution_count": null,
   "metadata": {
    "id": "dosw9_EjZTLX"
   },
   "outputs": [],
   "source": [
    "# full list of different identifiers you\n",
    "# can map between with the name_mapper\n",
    "for i in name_mapper[0].keys():\n",
    "  print(i)"
   ]
  },
  {
   "cell_type": "code",
   "execution_count": null,
   "metadata": {},
   "outputs": [],
   "source": [
    "G_entrez.nodes()"
   ]
  },
  {
   "cell_type": "code",
   "execution_count": null,
   "metadata": {
    "id": "LSDTy99ZZ5wj"
   },
   "outputs": [],
   "source": [
    "# Gene symbols are more recognizable than entrez ids, so we\n",
    "# relabel the network nodes with the corresponnding symbols\n",
    "entrez_symbol = {i['entrez_id']:i['symbol'] for i in name_mapper}\n",
    "# default to unknown if the entrez id of the node has no corresponding symbol\n",
    "G = nx.relabel_nodes(G_entrez, lambda x : entrez_symbol.get(x, \"Unknown\"))"
   ]
  },
  {
   "cell_type": "code",
   "execution_count": null,
   "metadata": {},
   "outputs": [],
   "source": []
  },
  {
   "cell_type": "markdown",
   "metadata": {
    "id": "Ie3UXZIdJxMv"
   },
   "source": [
    "### Function for plotly preview"
   ]
  },
  {
   "cell_type": "code",
   "execution_count": null,
   "metadata": {
    "id": "SPr2lb_tJxMv"
   },
   "outputs": [],
   "source": [
    "\n",
    "def plotly_preview(network,positions,node_colors = 'blue',outfile = 'my_preview.html'):\n",
    "    \"\"\"\n",
    "    Generates a 3D network visualization using Plotly library and saves it as an HTML file.\n",
    "\n",
    "    Args:\n",
    "        network (networkx.Graph): The network graph.\n",
    "        positions (dict): A dictionary containing the positions of nodes in 3D space.\n",
    "        node_colors (str or dict, optional): The color of nodes in the visualization. It can be a string representing a single color for all nodes or a dictionary mapping node IDs to colors.\n",
    "        outfile (str, optional): The name of the output HTML file.\n",
    "\n",
    "    Example:\n",
    "        import networkx as nx\n",
    "        # Create a network graph\n",
    "        network = nx.Graph()\n",
    "        network.add_edges_from([(1, 2), (2, 3), (3, 4), (4, 1)])\n",
    "        # Define positions of nodes\n",
    "        positions = {1: (0, 0, 0), 2: (1, 0, 0), 3: (0, 1, 0), 4: (1, 1, 0)}\n",
    "        # Generate and save the 3D network visualization\n",
    "        plotly_preview(network, positions, node_colors='red', outfile='network_preview.html')\n",
    "    \"\"\"\n",
    "\n",
    "\n",
    "    if isinstance(node_colors, dict):\n",
    "        node_colors = list(node_colors.values())\n",
    "\n",
    "    # Prepare node and edge traces for Plotly\n",
    "    node_trace = go.Scatter3d(\n",
    "        x=[positions[node][0] for node in network.nodes()],\n",
    "        y=[positions[node][1] for node in network.nodes()],\n",
    "        z=[positions[node][2] for node in network.nodes()],\n",
    "        mode='markers',\n",
    "        marker=dict(\n",
    "            size=3,\n",
    "            color=node_colors,\n",
    "        ),\n",
    "        text=[str(node) for node in network.nodes()],\n",
    "        hoverinfo='text'\n",
    "    )\n",
    "    x_edge = []\n",
    "    y_edge = []\n",
    "    z_edge = []\n",
    "\n",
    "    for a, b in network.edges():\n",
    "        x_edge.append(positions[a][0])\n",
    "        x_edge.append(positions[b][0])\n",
    "        y_edge.append(positions[a][1])\n",
    "        y_edge.append(positions[b][1])\n",
    "        z_edge.append(positions[a][2])\n",
    "        z_edge.append(positions[b][2])\n",
    "\n",
    "    edge_trace = go.Scatter3d(\n",
    "        x=x_edge,\n",
    "        y=y_edge,\n",
    "        z=z_edge,\n",
    "        mode='lines',\n",
    "        line=dict(\n",
    "            color='#aaaaaa',\n",
    "            width=1,\n",
    "        ),\n",
    "        hoverinfo='none'\n",
    "    )\n",
    "\n",
    "    # Step 3: Create layout and add traces\n",
    "    layout = go.Layout(\n",
    "        title='3D Network Visualization',\n",
    "        showlegend=False,\n",
    "        scene=dict(\n",
    "            xaxis=dict(title='X'),\n",
    "            yaxis=dict(title='Y'),\n",
    "            zaxis=dict(title='Z')\n",
    "        ),\n",
    "        hovermode='closest'\n",
    "    )\n",
    "\n",
    "    fig = go.Figure(data=[edge_trace, node_trace], layout=layout)\n",
    "\n",
    "    # Display the plot inline in the notebook\n",
    "    iplot(fig)\n",
    "\n",
    "    fig.write_html(outfile, auto_open=True)\n",
    "\n"
   ]
  },
  {
   "cell_type": "code",
   "execution_count": null,
   "metadata": {},
   "outputs": [],
   "source": []
  },
  {
   "cell_type": "markdown",
   "metadata": {
    "id": "zZORvwP7JxMw"
   },
   "source": [
    "### layout\n",
    "\n",
    "For positioning the nodes in 3D space, we use the spring layout, which is considered the most popular method.\n",
    "\n",
    "However, for larger networks, this approach has certain drawbacks. It often results in a somewhat pointless layout known as \"hairball,\" which is difficult for the human eye to comprehend and tends to obscure structural patterns.\n",
    "\n",
    "Therefore, we will offer some alternative network layouts later."
   ]
  },
  {
   "cell_type": "code",
   "execution_count": null,
   "metadata": {
    "id": "_pGRgoiUcIW3"
   },
   "outputs": [],
   "source": [
    "# use networkx's node annotations to get a colromapping for the relabeled network\n",
    "node_colors = {i:(\"#E15554\" if G.nodes()[i][\"in_gene_list\"] else \"#3F7CAC\") for i in G.nodes()}"
   ]
  },
  {
   "cell_type": "code",
   "execution_count": null,
   "metadata": {
    "colab": {
     "base_uri": "https://localhost:8080/",
     "height": 542
    },
    "executionInfo": {
     "elapsed": 4,
     "status": "ok",
     "timestamp": 1689424529328,
     "user": {
      "displayName": "Joel Hancock",
      "userId": "16189644458263281336"
     },
     "user_tz": -120
    },
    "id": "6EZ3ifP1JxMw",
    "outputId": "c8d0cdb8-e328-4222-b499-00e52f505348"
   },
   "outputs": [],
   "source": [
    "# Generate three-dimensional coordinates\n",
    "# spring- (organic-) layout\n",
    "pos3D_spg = nx.spring_layout(G, dim=3)\n",
    "plotly_preview(G,pos3D_spg,node_colors = node_colors,outfile = 'PPI_subnetwork.html')\n"
   ]
  },
  {
   "cell_type": "code",
   "execution_count": null,
   "metadata": {
    "colab": {
     "base_uri": "https://localhost:8080/",
     "height": 17
    },
    "executionInfo": {
     "elapsed": 10,
     "status": "ok",
     "timestamp": 1689421462234,
     "user": {
      "displayName": "Joel Hancock",
      "userId": "16189644458263281336"
     },
     "user_tz": -120
    },
    "id": "eUIuX9Dw4bME",
    "outputId": "6ba98240-8fee-4f41-e5e2-b54298f7ef08"
   },
   "outputs": [],
   "source": [
    "# uncomment for quick download on google colab\n",
    "import google.colab\n",
    "google.colab.files.download('PPI_subnetwork.html')"
   ]
  },
  {
   "cell_type": "markdown",
   "metadata": {
    "id": "DBloR_6KJxMw"
   },
   "source": [
    "### prepare VR upload\n",
    "\n",
    "To prepare for the VR upload, several properties of the network need to be stored as Graph attributes with specific keys. These properties include:\n",
    "\n",
    "\n",
    "* Node positions\n",
    "* Node colors\n",
    "* Edge colors\n",
    "* Node annotations\n",
    "* Communities of nodes (optional)\n",
    "\n",
    "\n",
    "The following cell provides a step-by-step walkthrough to fulfill these requirements.\n",
    "\n",
    "Finally, the resulting Graph object is converted into a JSON file, which can be directly used with the VR uploader.\n"
   ]
  },
  {
   "cell_type": "code",
   "execution_count": null,
   "metadata": {
    "id": "J6PrEYlBJxMx"
   },
   "outputs": [],
   "source": [
    "def make_json(name, network, positions, node_color = '#40b9d4', link_color = '#999999', annotations = 'None', communities = 'None'):\n",
    "    \"\"\"\n",
    "    Generates a JSON file from a given network graph using the specified parameters.\n",
    "\n",
    "    Args:\n",
    "        name (str, optional): Name of the graph.\n",
    "        network (networkx.Graph): Network graph object.\n",
    "        positions (dict): Dictionary mapping node IDs to their positions.\n",
    "        node_color (dict): Dictionary mapping node IDs to their (hex-)colors.\n",
    "        link_color (str or dict): (Hex-)color value for all links in the graph or dict with node tuple as key and hex color as value.\n",
    "        communities (dict): 'None' for no communities (default) or dictionary mapping node IDs to their corresponding community ID.\n",
    "        annotations (dict): Dictionary mapping node IDs to a list of annotations.\n",
    "\n",
    "    Returns:\n",
    "        None\n",
    "\n",
    "    \"\"\"\n",
    "\n",
    "    # --------------------------\n",
    "    # Generate VR GRAPH\n",
    "    # --------------------------\n",
    "    GVR = nx.Graph()\n",
    "    GVR.graph['name'] = name\n",
    "\n",
    "    # --------------------------------------\n",
    "    # LOOKUP FOR NODE NAMES INTO IDs and vv\n",
    "    # --------------------------------------\n",
    "    d_idx_node = {}\n",
    "    d_node_idx = {}\n",
    "    for i, node in enumerate(sorted(network.nodes())):\n",
    "        d_idx_node[i] = node\n",
    "        d_node_idx[node] = i\n",
    "    GVR.add_nodes_from(d_idx_node.keys())\n",
    "\n",
    "    for edge in network.edges()(data=True):\n",
    "        GVR.add_edge(d_node_idx[edge[0]],d_node_idx[edge[1]])\n",
    "\n",
    "    # --------------------------\n",
    "    # POS\n",
    "    # --------------------------\n",
    "    if isinstance(positions[next(iter(positions))], list):\n",
    "        pass\n",
    "    else:\n",
    "        for key in positions:\n",
    "            positions[key] = positions[key].tolist()\n",
    "\n",
    "    posG = {d_node_idx[node]: list(xyz) for node, xyz in positions.items()}\n",
    "    nx.set_node_attributes(GVR, posG, name=\"pos\")\n",
    "\n",
    "    # # --------------------------\n",
    "    # # CLUSTER\n",
    "    # # --------------------------\n",
    "    if communities == 'None':\n",
    "        dict_for_cluster = dict(zip(d_idx_node.keys(), [0 for _ in d_idx_node.keys()]))\n",
    "    else:\n",
    "        d_VRids_cluster = {d_node_idx[node]: str(cl_id) for node, cl_id in communities.items()}\n",
    "        nx.set_node_attributes(GVR, d_VRids_cluster, name=\"cluster\")\n",
    "\n",
    "\n",
    "    # --------------------------\n",
    "    # NODE COLOR\n",
    "    # --------------------------\n",
    "    d_node_colors={}\n",
    "\n",
    "    if isinstance(node_color, dict):\n",
    "        for nodeid in GVR.nodes():\n",
    "            d_node_colors[nodeid] = node_color[d_idx_node[nodeid]]\n",
    "    else:\n",
    "        for nodeid in GVR.nodes():\n",
    "            d_node_colors[nodeid] = node_color\n",
    "\n",
    "    nx.set_node_attributes(GVR, d_node_colors, name=\"nodecolor\")\n",
    "\n",
    "    # --------------------------\n",
    "    # LINK COLOR\n",
    "    # --------------------------\n",
    "    if isinstance(link_color, dict):\n",
    "        # for different link colors\n",
    "        d_edge_color = {}\n",
    "        for a,b in GVR.edges():\n",
    "            try:\n",
    "                color = link_color[(d_idx_node[a],d_idx_node[b])]\n",
    "            except KeyError:\n",
    "                color = link_color[(d_idx_node[b],d_idx_node[a])]\n",
    "            d_edge_color[(a,b)] = color\n",
    "    else:\n",
    "        # for unique link colors\n",
    "        d_edge_color = {}\n",
    "        for a,b in GVR.edges():\n",
    "            d_edge_color[(a,b)] = link_color\n",
    "\n",
    "    nx.set_edge_attributes(GVR, d_edge_color, name=\"linkcolor\")\n",
    "\n",
    "    # --------------------------\n",
    "    # NODE ANNOTATION\n",
    "    # --------------------------\n",
    "    if isinstance(annotations, dict):\n",
    "\n",
    "        l_annotations = [[str(d_idx_node[nodeid])] + [ annotation for annotation in annotations[d_idx_node[nodeid]]] for nodeid in sorted(GVR.nodes())]\n",
    "        d_annotations = dict(zip(sorted(GVR.nodes()), l_annotations))\n",
    "    else:\n",
    "        d_annotations = {nodeid: [str(d_idx_node[nodeid])] for nodeid in GVR.nodes()}\n",
    "\n",
    "    nx.set_node_attributes(GVR, d_annotations, name=\"annotation\")\n",
    "\n",
    "    # --------------------------\n",
    "    # MAKE JSON fo uploader\n",
    "    # --------------------------\n",
    "\n",
    "    G_json = json.dumps(nx.node_link_data(GVR))\n",
    "\n",
    "    with open(GVR.name, \"w\") as outfile:\n",
    "        outfile.write(G_json)\n"
   ]
  },
  {
   "cell_type": "markdown",
   "metadata": {
    "id": "H8yxjM0QJxMx"
   },
   "source": [
    "Make JSON files required for the VR uploader"
   ]
  },
  {
   "cell_type": "code",
   "execution_count": null,
   "metadata": {
    "id": "USPl9PojJxMx"
   },
   "outputs": [],
   "source": [
    "\n",
    "make_json(name = 'PPI_subnetwork.json', network=G, positions=pos3D_spg)\n"
   ]
  },
  {
   "cell_type": "code",
   "execution_count": null,
   "metadata": {
    "colab": {
     "base_uri": "https://localhost:8080/",
     "height": 17
    },
    "executionInfo": {
     "elapsed": 4,
     "status": "ok",
     "timestamp": 1689422467718,
     "user": {
      "displayName": "Joel Hancock",
      "userId": "16189644458263281336"
     },
     "user_tz": -120
    },
    "id": "cH5KC4tFJxMx",
    "outputId": "b13c6ac6-a348-4de0-e16c-2a2868d086da"
   },
   "outputs": [],
   "source": [
    "# uncomment for quick download on google colab\n",
    "import google.colab\n",
    "google.colab.files.download('PPI_subnetwork.json')"
   ]
  }
 ],
 "metadata": {
  "@webio": {
   "lastCommId": null,
   "lastKernelId": null
  },
  "colab": {
   "provenance": [
    {
     "file_id": "1sbZRyStagxfOD9Y6cLH-Pt2Ro_3bUbOX",
     "timestamp": 1687273358578
    }
   ]
  },
  "interpreter": {
   "hash": "aee8b7b246df8f9039afb4144a1f6fd8d2ca17a180786b69acc140d282b71a49"
  },
  "kernelspec": {
   "display_name": "Python 3 (ipykernel)",
   "language": "python",
   "name": "python3"
  },
  "language_info": {
   "codemirror_mode": {
    "name": "ipython",
    "version": 3
   },
   "file_extension": ".py",
   "mimetype": "text/x-python",
   "name": "python",
   "nbconvert_exporter": "python",
   "pygments_lexer": "ipython3",
   "version": "3.10.8"
  }
 },
 "nbformat": 4,
 "nbformat_minor": 1
}
