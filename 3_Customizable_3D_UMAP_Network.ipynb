{
 "cells": [
  {
   "cell_type": "code",
   "execution_count": null,
   "metadata": {
    "executionInfo": {
     "elapsed": 1133,
     "status": "ok",
     "timestamp": 1689861024421,
     "user": {
      "displayName": "Joel Hancock",
      "userId": "16189644458263281336"
     },
     "user_tz": -120
    },
    "id": "r1Uax4xUW0Is"
   },
   "outputs": [],
   "source": [
    "from collections import defaultdict, Counter\n",
    "import itertools\n",
    "import numpy as np\n",
    "import json\n",
    "import random as rd\n",
    "import networkx as nx\n",
    "import pandas as pd\n",
    "import matplotlib.pyplot as plt\n",
    "import plotly.graph_objects as go\n",
    "from plotly.offline import init_notebook_mode, iplot"
   ]
  },
  {
   "cell_type": "markdown",
   "metadata": {
    "id": "oFn3J7DUW01H"
   },
   "source": [
    "## Make a dataframe\n"
   ]
  },
  {
   "cell_type": "code",
   "execution_count": null,
   "metadata": {
    "executionInfo": {
     "elapsed": 3,
     "status": "ok",
     "timestamp": 1689861024421,
     "user": {
      "displayName": "Joel Hancock",
      "userId": "16189644458263281336"
     },
     "user_tz": -120
    },
    "id": "x5l4NHBIXPr3"
   },
   "outputs": [],
   "source": [
    "# Uncomment to upload a dataset of your own\n",
    "# import google.colab.files;google.colab.files.upload();"
   ]
  },
  {
   "cell_type": "code",
   "execution_count": null,
   "metadata": {
    "executionInfo": {
     "elapsed": 1045,
     "status": "ok",
     "timestamp": 1689861226011,
     "user": {
      "displayName": "Joel Hancock",
      "userId": "16189644458263281336"
     },
     "user_tz": -120
    },
    "id": "94uy5DnPjw7x"
   },
   "outputs": [],
   "source": [
    "# read the .csv you uploaded with pandas. pandas has lots of options\n",
    "# to adjust to different formats of datafile: sep (separator), skiprows, index_col and encoding (try latin1)\n",
    "# are especially useful, as is `read_excel`\n",
    "\n",
    "# here we read in file directly from our github\n",
    "df = pd.read_csv(\"https://raw.githubusercontent.com/seasonsOfTheSun/convenient_data_storage/main/pbmc_processed.csv\", index_col=0)"
   ]
  },
  {
   "cell_type": "code",
   "execution_count": null,
   "metadata": {
    "colab": {
     "base_uri": "https://localhost:8080/",
     "height": 423
    },
    "executionInfo": {
     "elapsed": 320,
     "status": "ok",
     "timestamp": 1689861234060,
     "user": {
      "displayName": "Joel Hancock",
      "userId": "16189644458263281336"
     },
     "user_tz": -120
    },
    "id": "ApLicYCulwm7",
    "outputId": "ff624bb4-e118-48fc-a0fb-40879d2913ad"
   },
   "outputs": [],
   "source": [
    "# examine the dataframe\n",
    "# check that features are on the columns\n",
    "# and samples/observations are along the rows/indices\n",
    "df"
   ]
  },
  {
   "cell_type": "markdown",
   "metadata": {
    "id": "RqUYKyYyDtBP"
   },
   "source": [
    "### Make a Network using UMAP"
   ]
  },
  {
   "cell_type": "code",
   "execution_count": null,
   "metadata": {
    "colab": {
     "base_uri": "https://localhost:8080/"
    },
    "executionInfo": {
     "elapsed": 8818,
     "status": "ok",
     "timestamp": 1689861247751,
     "user": {
      "displayName": "Joel Hancock",
      "userId": "16189644458263281336"
     },
     "user_tz": -120
    },
    "id": "jEY7cjbgFYo8",
    "outputId": "954c61c7-e33a-4cc3-a3f0-a5602594ae6b"
   },
   "outputs": [],
   "source": [
    "!pip install umap-learn==0.5.3"
   ]
  },
  {
   "cell_type": "code",
   "execution_count": null,
   "metadata": {
    "executionInfo": {
     "elapsed": 83580,
     "status": "ok",
     "timestamp": 1689861331328,
     "user": {
      "displayName": "Joel Hancock",
      "userId": "16189644458263281336"
     },
     "user_tz": -120
    },
    "id": "Zkb5ql0GFxN-"
   },
   "outputs": [],
   "source": [
    "# creates the underlying network that is always generated (but usually hidden)\n",
    "# whenever UMAP is called.\n",
    "import umap.umap_\n",
    "rndstate = np.random.RandomState(108)\n",
    "umap_spmat,_,_ = umap.umap_.fuzzy_simplicial_set(df, 5, rndstate, \"euclidean\")\n",
    "G = nx.from_scipy_sparse_array(umap_spmat)"
   ]
  },
  {
   "cell_type": "markdown",
   "metadata": {
    "id": "dviDXCP3JUdV"
   },
   "source": [
    "## Generic Network Layout\n",
    "\n",
    "The spring layout is the most generic possible layout, but can improved somwhat by initialising with a spectral layout."
   ]
  },
  {
   "cell_type": "code",
   "execution_count": null,
   "metadata": {
    "executionInfo": {
     "elapsed": 59894,
     "status": "ok",
     "timestamp": 1689861391218,
     "user": {
      "displayName": "Joel Hancock",
      "userId": "16189644458263281336"
     },
     "user_tz": -120
    },
    "id": "mai7HnbEHMn_"
   },
   "outputs": [],
   "source": [
    "# Intialise a spring layout with a spectral layout\n",
    "# to improve convergence speed and make better layout\n",
    "init_pos = nx.spectral_layout(G, dim=3)\n",
    "pos = nx.spring_layout(G, pos=init_pos, dim=3)"
   ]
  },
  {
   "cell_type": "markdown",
   "metadata": {
    "id": "tsuqG0l2XBdy"
   },
   "source": [
    "### Detect and Color Communities"
   ]
  },
  {
   "cell_type": "code",
   "execution_count": null,
   "metadata": {
    "executionInfo": {
     "elapsed": 4003,
     "status": "ok",
     "timestamp": 1689861395218,
     "user": {
      "displayName": "Joel Hancock",
      "userId": "16189644458263281336"
     },
     "user_tz": -120
    },
    "id": "VEx_TS92YgKx"
   },
   "outputs": [],
   "source": [
    "# Creating an empty dictionary to store node-community mapping\n",
    "node_community = {}\n",
    "# Iterating over the communities generated using Louvain algorithm\n",
    "for i, v in enumerate(nx.community.louvain_communities(G)):\n",
    "  # Iterating over the nodes in each community\n",
    "  for j in v:\n",
    "    # Assigning the community index 'i' to the node 'j'\n",
    "    node_community[j] = i\n",
    "# At this point, the 'node_community' dictionary contains\n",
    "# the mapping of each node to its corresponding community's index."
   ]
  },
  {
   "cell_type": "code",
   "execution_count": null,
   "metadata": {
    "executionInfo": {
     "elapsed": 4,
     "status": "ok",
     "timestamp": 1689861395219,
     "user": {
      "displayName": "Joel Hancock",
      "userId": "16189644458263281336"
     },
     "user_tz": -120
    },
    "id": "05sEbuXaXFIZ"
   },
   "outputs": [],
   "source": [
    "import numpy as np  # Importing the numpy library for generating random numbers\n",
    "\n",
    "# Generate a color map dictionary where each specified key is mapped to a random hexadecimal color\n",
    "# Format the RGB values into a hexadecimal color code and return it in uppercase\n",
    "def generate_random_hex():\n",
    "  rgb = np.random.randint(0, 255, size=(3,))\n",
    "  return '#{:02x}{:02x}{:02x}'.format(*rgb).upper()\n",
    "\n",
    "# Generate a color map dictionary where each specified key is mapped to a random hexadecimal color\n",
    "def generate_cmap(key):\n",
    "  return {i: generate_random_hex() for i in key}\n",
    "\n",
    "# Generate a color map using the node_community values\n",
    "cmap = generate_cmap(node_community)\n",
    "# Assign colors to each node based on their corresponding community value using the color map\n",
    "node_colors = {i: cmap[v] for i, v in node_community.items()}\n"
   ]
  },
  {
   "cell_type": "markdown",
   "metadata": {
    "id": "eOOkSpm7XJk2"
   },
   "source": [
    "\n",
    "## Plotly Preview, and Select Eigenvectors\n"
   ]
  },
  {
   "cell_type": "markdown",
   "metadata": {
    "id": "ND8yDgAyYvtM"
   },
   "source": [
    "### Define The Function `plotly_preview`"
   ]
  },
  {
   "cell_type": "code",
   "execution_count": null,
   "metadata": {
    "executionInfo": {
     "elapsed": 3,
     "status": "ok",
     "timestamp": 1689861395219,
     "user": {
      "displayName": "Joel Hancock",
      "userId": "16189644458263281336"
     },
     "user_tz": -120
    },
    "id": "2vuVEKW0X90a"
   },
   "outputs": [],
   "source": [
    "\n",
    "import plotly.offline\n",
    "def plotly_preview(G, pos, node_colors=None, edge_colors=None):\n",
    "\n",
    "    \"\"\"\n",
    "    Generate a 3D network visualization using Plotly.\n",
    "\n",
    "    Parameters:\n",
    "        - G (networkx.Graph): The graph object representing the network.\n",
    "        - pos3D (dict): A dictionary mapping each node to its 3D coordinates (x, y, z).\n",
    "        - node_colors (dict, optional): A dictionary mapping nodes to custom hex colors.\n",
    "                                        If not provided, the default color is '#40b9d4'.\n",
    "        - edge_colors (dict, optional): A dictionary mapping edges to custom hex colors.\n",
    "                                        If not provided, the default color is 'gray'.\n",
    "\n",
    "    Output:\n",
    "        - An HTML file named 'network_visualization.html' is generated, which opens in a web browser.\n",
    "\n",
    "    Example usage:\n",
    "        node_colors = {1: '#ff0000', 2: '#00ff00', 3: '#0000ff'}\n",
    "        edge_colors = {(1, 2): '#ff00ff', (2, 3): '#ffff00'}\n",
    "        pos = nx.spring_layout(G,dim=3)\n",
    "        plotly_review_2(G, pos, node_colors, edge_colors)\n",
    "    \"\"\"\n",
    "\n",
    "    # Create a Plotly figure\n",
    "    fig = go.Figure()\n",
    "\n",
    "    # Add nodes to the figure\n",
    "    for node in G.nodes():\n",
    "        x, y, z = pos[node]\n",
    "        color = node_colors[node] if node_colors and node in node_colors else '#40b9d4'\n",
    "        fig.add_trace(go.Scatter3d(\n",
    "            x=[x],\n",
    "            y=[y],\n",
    "            z=[z],\n",
    "            mode='markers',\n",
    "            marker=dict(\n",
    "                size=5,\n",
    "                color=color,\n",
    "            ),\n",
    "            name=str(node),\n",
    "            text=str(node),\n",
    "            hovertemplate=None,\n",
    "        ))\n",
    "\n",
    "    # Add edges to the figure\n",
    "    for edge in G.edges():\n",
    "        x0, y0, z0 = pos[edge[0]]\n",
    "        x1, y1, z1 = pos[edge[1]]\n",
    "        edge_color = edge_colors[edge] if edge_colors and edge in edge_colors else 'gray'\n",
    "        fig.add_trace(go.Scatter3d(\n",
    "            x=[x0, x1],\n",
    "            y=[y0, y1],\n",
    "            z=[z0, z1],\n",
    "            mode='lines',\n",
    "            line=dict(\n",
    "                color=edge_color,\n",
    "                width=1,\n",
    "            ),\n",
    "            hoverinfo='none',\n",
    "        ))\n",
    "\n",
    "    # Set layout options\n",
    "    fig.update_layout(\n",
    "        scene=dict(\n",
    "            xaxis=dict(visible=False),\n",
    "            yaxis=dict(visible=False),\n",
    "            zaxis=dict(visible=False),\n",
    "        ),\n",
    "        showlegend=False,\n",
    "        hovermode='closest',\n",
    "        margin=dict(l=0, r=0, b=0, t=0),\n",
    "    )\n",
    "\n",
    "    # Display the plot inline in the notebook\n",
    "    iplot(fig)\n",
    "    plotly.offline.plot(fig, filename='plotly_plot.html')\n"
   ]
  },
  {
   "cell_type": "markdown",
   "metadata": {
    "id": "X4AATgPxY0by"
   },
   "source": [
    "### Use the Function"
   ]
  },
  {
   "cell_type": "code",
   "execution_count": null,
   "metadata": {
    "executionInfo": {
     "elapsed": 366,
     "status": "ok",
     "timestamp": 1689861395582,
     "user": {
      "displayName": "Joel Hancock",
      "userId": "16189644458263281336"
     },
     "user_tz": -120
    },
    "id": "LNHohfeFzD-M"
   },
   "outputs": [],
   "source": [
    "# Uncomment to see a preview of the full network = you may  is too big for preview to properly handle!\n",
    "# plotly_preview(G,pos,node_colors=node_colors)"
   ]
  },
  {
   "cell_type": "code",
   "execution_count": null,
   "metadata": {
    "colab": {
     "base_uri": "https://localhost:8080/",
     "height": 542,
     "output_embedded_package_id": "1WcsLI1JBktxFV5q1x-VzkeEUGzykNua1"
    },
    "executionInfo": {
     "elapsed": 26387,
     "status": "ok",
     "timestamp": 1689861421966,
     "user": {
      "displayName": "Joel Hancock",
      "userId": "16189644458263281336"
     },
     "user_tz": -120
    },
    "id": "Le6JM40dY5sp",
    "outputId": "c5fb5ef5-bc6e-4577-d4ab-e6cfc75093ac"
   },
   "outputs": [],
   "source": [
    "plotly_preview(G,pos,node_colors=node_colors)"
   ]
  },
  {
   "cell_type": "code",
   "execution_count": null,
   "metadata": {
    "colab": {
     "base_uri": "https://localhost:8080/"
    },
    "executionInfo": {
     "elapsed": 6,
     "status": "ok",
     "timestamp": 1689861421967,
     "user": {
      "displayName": "Joel Hancock",
      "userId": "16189644458263281336"
     },
     "user_tz": -120
    },
    "id": "tYx4M0ygaDSx",
    "outputId": "b7aed5c2-0699-4cb0-9be1-30ec3c380282"
   },
   "outputs": [],
   "source": [
    "import google.colab.files\n",
    "google.colab.files.download(\"plotly_plot.html\")"
   ]
  },
  {
   "cell_type": "markdown",
   "metadata": {
    "id": "bIM_x9bwXOE0"
   },
   "source": [
    "\n",
    "## Export JSON\n",
    "\n",
    "\n"
   ]
  },
  {
   "cell_type": "markdown",
   "metadata": {
    "id": "rC0PuutWYTA8"
   },
   "source": [
    "### Define Function `make_json`"
   ]
  },
  {
   "cell_type": "code",
   "execution_count": null,
   "metadata": {
    "executionInfo": {
     "elapsed": 5,
     "status": "ok",
     "timestamp": 1689861421968,
     "user": {
      "displayName": "Joel Hancock",
      "userId": "16189644458263281336"
     },
     "user_tz": -120
    },
    "id": "kXzJbyopXB2H"
   },
   "outputs": [],
   "source": [
    "\n",
    "def make_json(name, network, positions, node_color = '#40b9d4', link_color = '#999999', annotations = 'None', communities = 'None'):\n",
    "    \"\"\"\n",
    "    Generates a JSON file from a given network graph using the specified parameters.\n",
    "\n",
    "    Args:\n",
    "        name (str, optional): Name of the graph.\n",
    "        network (networkx.Graph): Network graph object.\n",
    "        positions (dict): Dictionary mapping node IDs to their positions.\n",
    "        node_color (dict): Dictionary mapping node IDs to their (hex-)colors.\n",
    "        link_color (str or dict): (Hex-)color value for all links in the graph or dict with node tuple as key and hex color as value.\n",
    "        communities (dict): 'None' for no communities (default) or dictionary mapping node IDs to their corresponding community ID.\n",
    "        annotations (dict): Dictionary mapping node IDs to a list of annotations.\n",
    "\n",
    "    Returns:\n",
    "        None\n",
    "\n",
    "    \"\"\"\n",
    "\n",
    "    # --------------------------\n",
    "    # Generate VR GRAPH\n",
    "    # --------------------------\n",
    "    GVR = nx.Graph()\n",
    "    GVR.graph['name'] = name\n",
    "\n",
    "    # --------------------------------------\n",
    "    # LOOKUP FOR NODE NAMES INTO IDs and vv\n",
    "    # --------------------------------------\n",
    "    d_idx_node = {}\n",
    "    d_node_idx = {}\n",
    "    for i, node in enumerate(sorted(network.nodes())):\n",
    "        d_idx_node[i] = node\n",
    "        d_node_idx[node] = i\n",
    "    GVR.add_nodes_from(d_idx_node.keys())\n",
    "\n",
    "    for edge in network.edges()(data=True):\n",
    "        GVR.add_edge(d_node_idx[edge[0]],d_node_idx[edge[1]])\n",
    "\n",
    "    # --------------------------\n",
    "    # POS\n",
    "    # --------------------------\n",
    "    if isinstance(positions[next(iter(positions))], list):\n",
    "        pass\n",
    "    else:\n",
    "        for key in positions:\n",
    "            positions[key] = positions[key].tolist()\n",
    "\n",
    "    posG = {d_node_idx[node]: list(xyz) for node, xyz in positions.items()}\n",
    "    nx.set_node_attributes(GVR, posG, name=\"pos\")\n",
    "\n",
    "    # # --------------------------\n",
    "    # # CLUSTER\n",
    "    # # --------------------------\n",
    "    if communities == 'None':\n",
    "        dict_for_cluster = dict(zip(d_idx_node.keys(), [0 for _ in d_idx_node.keys()]))\n",
    "    else:\n",
    "        d_VRids_cluster = {d_node_idx[node]: str(cl_id) for node, cl_id in communities.items()}\n",
    "        nx.set_node_attributes(GVR, d_VRids_cluster, name=\"cluster\")\n",
    "\n",
    "\n",
    "    # --------------------------\n",
    "    # NODE COLOR\n",
    "    # --------------------------\n",
    "    d_node_colors={}\n",
    "\n",
    "    if isinstance(node_color, dict):\n",
    "        for nodeid in GVR.nodes():\n",
    "            d_node_colors[nodeid] = node_color[d_idx_node[nodeid]]\n",
    "    else:\n",
    "        for nodeid in GVR.nodes():\n",
    "            d_node_colors[nodeid] = node_color\n",
    "\n",
    "    nx.set_node_attributes(GVR, d_node_colors, name=\"nodecolor\")\n",
    "\n",
    "    # --------------------------\n",
    "    # LINK COLOR\n",
    "    # --------------------------\n",
    "    if isinstance(link_color, dict):\n",
    "        # for different link colors\n",
    "        d_edge_color = {}\n",
    "        for a,b in GVR.edges():\n",
    "            try:\n",
    "                color = link_color[(d_idx_node[a],d_idx_node[b])]\n",
    "            except KeyError:\n",
    "                color = link_color[(d_idx_node[b],d_idx_node[a])]\n",
    "            d_edge_color[(a,b)] = color\n",
    "    else:\n",
    "        # for unique link colors\n",
    "        d_edge_color = {}\n",
    "        for a,b in GVR.edges():\n",
    "            d_edge_color[(a,b)] = link_color\n",
    "\n",
    "    nx.set_edge_attributes(GVR, d_edge_color, name=\"linkcolor\")\n",
    "\n",
    "    # --------------------------\n",
    "    # NODE ANNOTATION\n",
    "    # --------------------------\n",
    "    if isinstance(annotations, dict):\n",
    "\n",
    "        l_annotations = [[str(d_idx_node[nodeid])] + [ annotation for annotation in annotations[d_idx_node[nodeid]]] for nodeid in sorted(GVR.nodes())]\n",
    "        d_annotations = dict(zip(sorted(GVR.nodes()), l_annotations))\n",
    "    else:\n",
    "        d_annotations = {nodeid: [str(d_idx_node[nodeid])] for nodeid in GVR.nodes()}\n",
    "\n",
    "    nx.set_node_attributes(GVR, d_annotations, name=\"annotation\")\n",
    "\n",
    "    # --------------------------\n",
    "    # MAKE JSON for uploader\n",
    "    # --------------------------\n",
    "\n",
    "    G_json = json.dumps(nx.node_link_data(GVR))\n",
    "\n",
    "    with open(GVR.name, \"w\") as outfile:\n",
    "        outfile.write(G_json)\n"
   ]
  },
  {
   "cell_type": "markdown",
   "metadata": {
    "id": "e_-V-xmjYalO"
   },
   "source": [
    "### Run the Function\n",
    "\n"
   ]
  },
  {
   "cell_type": "code",
   "execution_count": null,
   "metadata": {
    "executionInfo": {
     "elapsed": 418,
     "status": "ok",
     "timestamp": 1689861422381,
     "user": {
      "displayName": "Joel Hancock",
      "userId": "16189644458263281336"
     },
     "user_tz": -120
    },
    "id": "68Jv0wy-YY2R"
   },
   "outputs": [],
   "source": [
    "make_json(\"feature_network.json\", G, pos,node_color=node_colors,communities=node_community)"
   ]
  },
  {
   "cell_type": "code",
   "execution_count": null,
   "metadata": {
    "colab": {
     "base_uri": "https://localhost:8080/"
    },
    "executionInfo": {
     "elapsed": 6,
     "status": "ok",
     "timestamp": 1689861422381,
     "user": {
      "displayName": "Joel Hancock",
      "userId": "16189644458263281336"
     },
     "user_tz": -120
    },
    "id": "aG_fvHr5Z3Z_",
    "outputId": "189eeb98-370c-4fd9-f8c9-eae6e78ba93c"
   },
   "outputs": [],
   "source": [
    "import google.colab.files\n",
    "google.colab.files.download(\"feature_network.json\")"
   ]
  },
  {
   "cell_type": "code",
   "execution_count": null,
   "metadata": {
    "executionInfo": {
     "elapsed": 6,
     "status": "ok",
     "timestamp": 1689861422382,
     "user": {
      "displayName": "Joel Hancock",
      "userId": "16189644458263281336"
     },
     "user_tz": -120
    },
    "id": "j_N0lO6i8Iu0"
   },
   "outputs": [],
   "source": []
  }
 ],
 "metadata": {
  "@webio": {
   "lastCommId": null,
   "lastKernelId": null
  },
  "colab": {
   "authorship_tag": "ABX9TyM071+2aCceYGh57ibA5hYJ",
   "provenance": [
    {
     "file_id": "1wKWMuITbaimp0UrI0bFHP8uQTwyxcBiF",
     "timestamp": 1689097411451
    },
    {
     "file_id": "1RK7Cog5tMO1Czlyn57LkLVGeCfgkWvTt",
     "timestamp": 1689088132574
    }
   ]
  },
  "kernelspec": {
   "display_name": "Python 3 (ipykernel)",
   "language": "python",
   "name": "python3"
  },
  "language_info": {
   "codemirror_mode": {
    "name": "ipython",
    "version": 3
   },
   "file_extension": ".py",
   "mimetype": "text/x-python",
   "name": "python",
   "nbconvert_exporter": "python",
   "pygments_lexer": "ipython3",
   "version": "3.10.8"
  }
 },
 "nbformat": 4,
 "nbformat_minor": 1
}
